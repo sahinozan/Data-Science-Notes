{
  "nbformat": 4,
  "nbformat_minor": 0,
  "metadata": {
    "colab": {
      "name": "DeepDive.ipynb",
      "provenance": [],
      "collapsed_sections": [
        "QmGn6AYslGwF",
        "EiRhhXXflE1N",
        "yRKOaTBrcLsl",
        "CRBdlTZxNgud",
        "tgtmT8-UBKC9",
        "4e9AiUv1SISW",
        "epUac825KSfH",
        "xmvJmZ2hf8Qb",
        "s1ZOVQnZnga5",
        "aUFwDmga_Zv3",
        "jgCUmaqfHi_h"
      ],
      "authorship_tag": "ABX9TyOMURZej+ZkQ6zyXY4AW/Ml",
      "include_colab_link": true
    },
    "kernelspec": {
      "name": "python3",
      "display_name": "Python 3"
    },
    "language_info": {
      "name": "python"
    }
  },
  "cells": [
    {
      "cell_type": "markdown",
      "metadata": {
        "id": "view-in-github",
        "colab_type": "text"
      },
      "source": [
        "<a href=\"https://colab.research.google.com/github/sahinozan/Data-Science-Notes/blob/main/DeepDive.ipynb\" target=\"_parent\"><img src=\"https://colab.research.google.com/assets/colab-badge.svg\" alt=\"Open In Colab\"/></a>"
      ]
    },
    {
      "cell_type": "markdown",
      "source": [
        "## Colab Python Configuration"
      ],
      "metadata": {
        "id": "Gl1ZFTPaKEvX"
      }
    },
    {
      "cell_type": "code",
      "source": [
        "#install python 3.9\n",
        "!sudo apt-get update -y\n",
        "!sudo apt-get install python3.9\n",
        "\n",
        "#change alternatives\n",
        "!sudo update-alternatives --install /usr/bin/python3 python3 /usr/bin/python3.7 1\n",
        "!sudo update-alternatives --install /usr/bin/python3 python3 /usr/bin/python3.9 2\n",
        "\n",
        "#check python version\n",
        "!python --version"
      ],
      "metadata": {
        "id": "xldGh2GUKEC7",
        "outputId": "ecd9d2d1-fc9e-4ca8-8093-074ab22fccfc",
        "colab": {
          "base_uri": "https://localhost:8080/"
        }
      },
      "execution_count": 2,
      "outputs": [
        {
          "output_type": "stream",
          "name": "stdout",
          "text": [
            "Get:1 https://cloud.r-project.org/bin/linux/ubuntu bionic-cran40/ InRelease [3,626 B]\n",
            "Ign:2 https://developer.download.nvidia.com/compute/cuda/repos/ubuntu1804/x86_64  InRelease\n",
            "Get:3 http://security.ubuntu.com/ubuntu bionic-security InRelease [88.7 kB]\n",
            "Get:4 http://ppa.launchpad.net/c2d4u.team/c2d4u4.0+/ubuntu bionic InRelease [15.9 kB]\n",
            "Ign:5 https://developer.download.nvidia.com/compute/machine-learning/repos/ubuntu1804/x86_64  InRelease\n",
            "Get:6 https://developer.download.nvidia.com/compute/cuda/repos/ubuntu1804/x86_64  Release [696 B]\n",
            "Hit:7 https://developer.download.nvidia.com/compute/machine-learning/repos/ubuntu1804/x86_64  Release\n",
            "Hit:8 http://archive.ubuntu.com/ubuntu bionic InRelease\n",
            "Get:9 https://developer.download.nvidia.com/compute/cuda/repos/ubuntu1804/x86_64  Release.gpg [836 B]\n",
            "Get:10 http://archive.ubuntu.com/ubuntu bionic-updates InRelease [88.7 kB]\n",
            "Hit:11 http://ppa.launchpad.net/cran/libgit2/ubuntu bionic InRelease\n",
            "Hit:12 http://ppa.launchpad.net/deadsnakes/ppa/ubuntu bionic InRelease\n",
            "Get:13 http://archive.ubuntu.com/ubuntu bionic-backports InRelease [74.6 kB]\n",
            "Get:15 http://ppa.launchpad.net/graphics-drivers/ppa/ubuntu bionic InRelease [21.3 kB]\n",
            "Get:16 https://developer.download.nvidia.com/compute/cuda/repos/ubuntu1804/x86_64  Packages [929 kB]\n",
            "Get:17 http://ppa.launchpad.net/c2d4u.team/c2d4u4.0+/ubuntu bionic/main Sources [1,827 kB]\n",
            "Get:18 http://security.ubuntu.com/ubuntu bionic-security/main amd64 Packages [2,594 kB]\n",
            "Get:19 http://archive.ubuntu.com/ubuntu bionic-updates/main amd64 Packages [3,035 kB]\n",
            "Get:20 http://security.ubuntu.com/ubuntu bionic-security/universe amd64 Packages [1,474 kB]\n",
            "Get:21 http://security.ubuntu.com/ubuntu bionic-security/restricted amd64 Packages [806 kB]\n",
            "Get:22 http://archive.ubuntu.com/ubuntu bionic-updates/restricted amd64 Packages [840 kB]\n",
            "Get:23 http://archive.ubuntu.com/ubuntu bionic-updates/universe amd64 Packages [2,252 kB]\n",
            "Get:24 http://ppa.launchpad.net/c2d4u.team/c2d4u4.0+/ubuntu bionic/main amd64 Packages [937 kB]\n",
            "Get:25 http://ppa.launchpad.net/graphics-drivers/ppa/ubuntu bionic/main amd64 Packages [42.8 kB]\n",
            "Fetched 15.0 MB in 4s (4,198 kB/s)\n",
            "Reading package lists... Done\n",
            "Reading package lists... Done\n",
            "Building dependency tree       \n",
            "Reading state information... Done\n",
            "The following package was automatically installed and is no longer required:\n",
            "  libnvidia-common-470\n",
            "Use 'sudo apt autoremove' to remove it.\n",
            "The following additional packages will be installed:\n",
            "  libpython3.9-minimal libpython3.9-stdlib python3.9-minimal\n",
            "Suggested packages:\n",
            "  python3.9-venv binfmt-support\n",
            "The following NEW packages will be installed:\n",
            "  libpython3.9-minimal libpython3.9-stdlib python3.9 python3.9-minimal\n",
            "0 upgraded, 4 newly installed, 0 to remove and 66 not upgraded.\n",
            "Need to get 4,890 kB of archives.\n",
            "After this operation, 19.1 MB of additional disk space will be used.\n",
            "Get:1 http://ppa.launchpad.net/deadsnakes/ppa/ubuntu bionic/main amd64 libpython3.9-minimal amd64 3.9.10-1+bionic1 [789 kB]\n",
            "Get:2 http://ppa.launchpad.net/deadsnakes/ppa/ubuntu bionic/main amd64 python3.9-minimal amd64 3.9.10-1+bionic1 [1,925 kB]\n",
            "Get:3 http://ppa.launchpad.net/deadsnakes/ppa/ubuntu bionic/main amd64 libpython3.9-stdlib amd64 3.9.10-1+bionic1 [1,691 kB]\n",
            "Get:4 http://ppa.launchpad.net/deadsnakes/ppa/ubuntu bionic/main amd64 python3.9 amd64 3.9.10-1+bionic1 [484 kB]\n",
            "Fetched 4,890 kB in 4s (1,344 kB/s)\n",
            "debconf: unable to initialize frontend: Dialog\n",
            "debconf: (No usable dialog-like program is installed, so the dialog based frontend cannot be used. at /usr/share/perl5/Debconf/FrontEnd/Dialog.pm line 76, <> line 4.)\n",
            "debconf: falling back to frontend: Readline\n",
            "debconf: unable to initialize frontend: Readline\n",
            "debconf: (This frontend requires a controlling tty.)\n",
            "debconf: falling back to frontend: Teletype\n",
            "dpkg-preconfigure: unable to re-open stdin: \n",
            "Selecting previously unselected package libpython3.9-minimal:amd64.\n",
            "(Reading database ... 155320 files and directories currently installed.)\n",
            "Preparing to unpack .../libpython3.9-minimal_3.9.10-1+bionic1_amd64.deb ...\n",
            "Unpacking libpython3.9-minimal:amd64 (3.9.10-1+bionic1) ...\n",
            "Selecting previously unselected package python3.9-minimal.\n",
            "Preparing to unpack .../python3.9-minimal_3.9.10-1+bionic1_amd64.deb ...\n",
            "Unpacking python3.9-minimal (3.9.10-1+bionic1) ...\n",
            "Selecting previously unselected package libpython3.9-stdlib:amd64.\n",
            "Preparing to unpack .../libpython3.9-stdlib_3.9.10-1+bionic1_amd64.deb ...\n",
            "Unpacking libpython3.9-stdlib:amd64 (3.9.10-1+bionic1) ...\n",
            "Selecting previously unselected package python3.9.\n",
            "Preparing to unpack .../python3.9_3.9.10-1+bionic1_amd64.deb ...\n",
            "Unpacking python3.9 (3.9.10-1+bionic1) ...\n",
            "Setting up libpython3.9-minimal:amd64 (3.9.10-1+bionic1) ...\n",
            "Setting up libpython3.9-stdlib:amd64 (3.9.10-1+bionic1) ...\n",
            "Setting up python3.9-minimal (3.9.10-1+bionic1) ...\n",
            "Setting up python3.9 (3.9.10-1+bionic1) ...\n",
            "Processing triggers for mime-support (3.60ubuntu1) ...\n",
            "Processing triggers for man-db (2.8.3-2ubuntu0.1) ...\n",
            "update-alternatives: using /usr/bin/python3.9 to provide /usr/bin/python3 (python3) in auto mode\n",
            "Python 3.9.10\n"
          ]
        }
      ]
    },
    {
      "cell_type": "markdown",
      "source": [
        "## Numpy"
      ],
      "metadata": {
        "id": "QmGn6AYslGwF"
      }
    },
    {
      "cell_type": "code",
      "source": [
        "import numpy as np"
      ],
      "metadata": {
        "id": "QWPxarvtJNS7"
      },
      "execution_count": 3,
      "outputs": []
    },
    {
      "cell_type": "code",
      "source": [
        "height = np.round(np.random.normal(1.75, 0.20, 5000), 2)\n",
        "weight = np.round(np.random.normal(60.32, 15, 5000), 2)\n",
        "\n",
        "np_city = np.column_stack((height, weight))\n",
        "print(np_city.shape)"
      ],
      "metadata": {
        "id": "1cUqCGHxdwuy",
        "colab": {
          "base_uri": "https://localhost:8080/"
        },
        "outputId": "0483dce7-ea8a-4c13-e1f9-40220caed414"
      },
      "execution_count": 4,
      "outputs": [
        {
          "output_type": "stream",
          "name": "stdout",
          "text": [
            "(5000, 2)\n"
          ]
        }
      ]
    },
    {
      "cell_type": "code",
      "source": [
        "x = [[50, 3],[21, 15],[32, 80]]\n",
        "y = [10,10]\n",
        "np_x = np.array(x)\n",
        "np_y = np.array(y)\n",
        "print((np_x + np_y))"
      ],
      "metadata": {
        "id": "nN-JnQdXWxSJ",
        "colab": {
          "base_uri": "https://localhost:8080/"
        },
        "outputId": "a278a24e-758b-4186-e3b1-1502a53b0f06"
      },
      "execution_count": 5,
      "outputs": [
        {
          "output_type": "stream",
          "name": "stdout",
          "text": [
            "[[60 13]\n",
            " [31 25]\n",
            " [42 90]]\n"
          ]
        }
      ]
    },
    {
      "cell_type": "code",
      "source": [
        "print(np_city)\n",
        "print(np.mean(np_city[:, 0]))\n",
        "print(np.median(np_city[:, 0]))\n",
        "print(np.std(np_city[:, 0]))\n",
        "print(np.corrcoef(np_city[:, 0], np_city[:, 1]))\n",
        "print(np.sum(np_city))\n",
        "print(np.max(np_city))\n",
        "print(np.min(np_city))"
      ],
      "metadata": {
        "id": "I2lEE3ejYuem",
        "colab": {
          "base_uri": "https://localhost:8080/"
        },
        "outputId": "9b1d6b4a-c81d-4e6b-ed39-492d4e064308"
      },
      "execution_count": 6,
      "outputs": [
        {
          "output_type": "stream",
          "name": "stdout",
          "text": [
            "[[ 1.55 56.98]\n",
            " [ 1.79 46.6 ]\n",
            " [ 1.66 61.2 ]\n",
            " ...\n",
            " [ 1.95 55.34]\n",
            " [ 1.59 44.73]\n",
            " [ 1.97 49.39]]\n",
            "1.7527239999999997\n",
            "1.75\n",
            "0.1995739958611843\n",
            "[[1.         0.00555152]\n",
            " [0.00555152 1.        ]]\n",
            "310406.21\n",
            "112.96\n",
            "-2.21\n"
          ]
        }
      ]
    },
    {
      "cell_type": "code",
      "source": [
        "arr1 = np.array([1, 2, 3])\n",
        "arr2 = np.array([1, 2, 3])\n",
        "print(arr1 * arr2)\n",
        "print(np.multiply(arr1, arr2))\n",
        "print(np.dot(arr1, arr2))"
      ],
      "metadata": {
        "id": "sUNz2wkHdU1q",
        "colab": {
          "base_uri": "https://localhost:8080/"
        },
        "outputId": "95404477-89d3-41fb-927e-cc81bce9653b"
      },
      "execution_count": 7,
      "outputs": [
        {
          "output_type": "stream",
          "name": "stdout",
          "text": [
            "[1 4 9]\n",
            "[1 4 9]\n",
            "14\n"
          ]
        }
      ]
    },
    {
      "cell_type": "code",
      "source": [
        "cond1 = np_city[:, 1] > 105\n",
        "print(np_city[cond1])"
      ],
      "metadata": {
        "id": "ggX9_YnWlJmR",
        "colab": {
          "base_uri": "https://localhost:8080/"
        },
        "outputId": "0a7d1eaf-9e49-43c4-d96b-7562939f1b1d"
      },
      "execution_count": 8,
      "outputs": [
        {
          "output_type": "stream",
          "name": "stdout",
          "text": [
            "[[  2.18 107.72]\n",
            " [  1.66 106.79]\n",
            " [  1.84 108.75]\n",
            " [  1.86 109.02]\n",
            " [  1.4  106.25]\n",
            " [  1.93 105.99]\n",
            " [  1.78 106.11]\n",
            " [  1.59 112.96]]\n"
          ]
        }
      ]
    },
    {
      "cell_type": "code",
      "source": [
        "# bmi = weight(kg) / height(m)^2\n",
        "weights_in_kg = np.round(np.random.normal(70, 20, 1000), 2) # weights in kg\n",
        "heights_in_cm = np.round(np.random.normal(170, 30, 1000), 2) # heights in cm\n",
        "heights_in_m = np.round((heights_in_cm / 100), 2) # heights in m\n",
        "bmi = np.round((weights_in_kg / heights_in_m ** 2), 2)\n",
        "data = np.column_stack((weights_in_kg, heights_in_m, bmi))\n",
        "print(data[:10, :])"
      ],
      "metadata": {
        "id": "DXQ_d9SuFF_q",
        "colab": {
          "base_uri": "https://localhost:8080/"
        },
        "outputId": "d4c47167-beb0-40be-eae7-fcbe8b013cf6"
      },
      "execution_count": 9,
      "outputs": [
        {
          "output_type": "stream",
          "name": "stdout",
          "text": [
            "[[ 61.72   1.38  32.41]\n",
            " [ 78.67   1.88  22.26]\n",
            " [ 62.85   1.88  17.78]\n",
            " [ 70.64   1.57  28.66]\n",
            " [ 70.9    1.59  28.04]\n",
            " [ 68.78   1.58  27.55]\n",
            " [ 25.19   2.37   4.48]\n",
            " [ 98.32   1.49  44.29]\n",
            " [101.41   1.98  25.87]\n",
            " [ 94.23   1.91  25.83]]\n"
          ]
        }
      ]
    },
    {
      "cell_type": "code",
      "source": [
        "# Data Analysis\n",
        "\n",
        "print(f\"\"\"\n",
        "Mean(w): {np.mean(data[:, 0])}\" \n",
        "Mean(h): {np.mean(data[:, 1])}\" \n",
        "Mean(bmi): {np.mean(data[:, 2])}\" \n",
        "\"\"\")\n",
        "print(f\"\"\"\n",
        "Median(w): {np.median(data[:, 0])}\n",
        "Median(h): {np.median(data[:, 1])}\n",
        "Median(bmi): {np.median(data[:, 2])}\n",
        "\"\"\")\n",
        "print(f\"\"\"\n",
        "Std(w): {np.std(data[:, 0])}\n",
        "Std(h): {np.std(data[:, 1])}\n",
        "Std(bmi): {np.std(data[:, 2])}\n",
        "\"\"\")\n",
        "print(np.corrcoef(data[:, 0], data[:, 1]))\n",
        "print(np.corrcoef(data[:, 0], data[:, 2]))\n",
        "print(np.corrcoef(data[:, 1], data[:, 2]))"
      ],
      "metadata": {
        "id": "vyQMNw2iFJIj",
        "colab": {
          "base_uri": "https://localhost:8080/"
        },
        "outputId": "e6049172-fc12-4f35-d715-59a3955b3e1e"
      },
      "execution_count": 10,
      "outputs": [
        {
          "output_type": "stream",
          "name": "stdout",
          "text": [
            "\n",
            "Mean(w): 70.43439\" \n",
            "Mean(h): 1.7036399999999998\" \n",
            "Mean(bmi): 27.20663\" \n",
            "\n",
            "\n",
            "Median(w): 70.14\n",
            "Median(h): 1.72\n",
            "Median(bmi): 23.549999999999997\n",
            "\n",
            "\n",
            "Std(w): 19.800371108337842\n",
            "Std(h): 0.30567621824407604\n",
            "Std(bmi): 15.545653667282696\n",
            "\n",
            "[[1.        0.0027791]\n",
            " [0.0027791 1.       ]]\n",
            "[[1.         0.49007212]\n",
            " [0.49007212 1.        ]]\n",
            "[[ 1.         -0.73408269]\n",
            " [-0.73408269  1.        ]]\n"
          ]
        }
      ]
    },
    {
      "cell_type": "markdown",
      "source": [
        "## Matplotlib"
      ],
      "metadata": {
        "id": "EiRhhXXflE1N"
      }
    },
    {
      "cell_type": "code",
      "source": [
        "import matplotlib.pyplot as plt"
      ],
      "metadata": {
        "id": "5qXCC4PqJJl9"
      },
      "execution_count": 11,
      "outputs": []
    },
    {
      "cell_type": "code",
      "source": [
        "# Line plot is used for general purpose\n",
        "# Scatter plot is used to find correlation between two parameters\n",
        "# Histogram is used to find the distribution of values "
      ],
      "metadata": {
        "id": "bzZDvVH_kq97"
      },
      "execution_count": 12,
      "outputs": []
    },
    {
      "cell_type": "code",
      "source": [
        "# Line Plot\n",
        "\n",
        "year = [1950, 1960, 1970, 1980, 1990, 2000, 2010]\n",
        "pop = [1.29, 1.37, 1.66, 2.18, 3.08, 4.36, 7.44]\n",
        "\n",
        "plt.plot(year, pop) # creates the plot\n",
        "plt.show() # displays the plot"
      ],
      "metadata": {
        "id": "U8zHLzoZI7c2",
        "colab": {
          "base_uri": "https://localhost:8080/",
          "height": 54
        },
        "outputId": "3a441eb7-7294-4ed2-8e9b-7ebecd12b58e"
      },
      "execution_count": 13,
      "outputs": [
        {
          "output_type": "display_data",
          "data": {
            "image/png": "[encoded data removed]",
            "text/plain": [
              "<Figure size 432x288 with 1 Axes>"
            ]
          },
          "metadata": {
            "needs_background": "light"
          }
        }
      ]
    },
    {
      "cell_type": "code",
      "source": [
        "# Scatter Plot\n",
        "\n",
        "year = [1950, 1960, 1970, 1980, 1990, 2000, 2010]\n",
        "pop = [1.29, 1.37, 1.66, 2.18, 3.08, 4.36, 7.44]\n",
        "\n",
        "plt.scatter(year, pop) # creates the plot\n",
        "plt.show() # displays the plot"
      ],
      "metadata": {
        "id": "nCVx4LnxJF4u",
        "colab": {
          "base_uri": "https://localhost:8080/",
          "height": 54
        },
        "outputId": "2e376acb-29b1-4881-a801-92ae520b8651"
      },
      "execution_count": 14,
      "outputs": [
        {
          "output_type": "display_data",
          "data": {
            "image/png": "[encoded data removed]",
            "text/plain": [
              "<Figure size 432x288 with 1 Axes>"
            ]
          },
          "metadata": {
            "needs_background": "light"
          }
        }
      ]
    },
    {
      "cell_type": "code",
      "source": [
        "# Histogram\n",
        "\n",
        "data = [1.14, 1.64, 1.92, 2.18, 2.37, 3.44, 3.57, 4.31, 4.76, 4.82, 4.99]\n",
        "\n",
        "plt.hist(data, bins=5) # bins are default 10 \n",
        "plt.show()"
      ],
      "metadata": {
        "id": "8t_S0nQ6JXa3",
        "colab": {
          "base_uri": "https://localhost:8080/",
          "height": 54
        },
        "outputId": "30c2c3bb-9653-4d34-885a-da6bbbd1ea20"
      },
      "execution_count": 15,
      "outputs": [
        {
          "output_type": "display_data",
          "data": {
            "image/png": "[encoded data removed]",
            "text/plain": [
              "<Figure size 432x288 with 1 Axes>"
            ]
          },
          "metadata": {
            "needs_background": "light"
          }
        }
      ]
    },
    {
      "cell_type": "code",
      "source": [
        "# Customization\n",
        "# must be done before creating the plot with plot(), scatter(), etc...\n",
        "\n",
        "year = [1950, 1960, 1970, 1980, 1990, 2000, 2010]\n",
        "pop = [1.29, 1.37, 1.66, 2.18, 3.08, 4.36, 7.44]\n",
        "\n",
        "plt.xlabel(\"Year\") # name of the x axis\n",
        "plt.ylabel(\"Population\") # name of the y axis\n",
        "plt.title(\"World Population Projection\") # name of the plot\n",
        "plt.grid(True) # adds grid to the plot\n",
        "plt.plot(year, pop)\n",
        "plt.show() \n",
        "\n",
        "# plt.scatter(year, pop, s=size_arr, c=color_arr, alpha=0.8)\n",
        "# s takes the size array\n",
        "# c takes the color array\n",
        "# alpha must be between 0 and 1 (0 -> fully transparent, 1 -> not transparent)"
      ],
      "metadata": {
        "id": "gQ5NGVy7J4Gb",
        "colab": {
          "base_uri": "https://localhost:8080/",
          "height": 54
        },
        "outputId": "80267ff4-95c5-4845-e626-3a2e9f8fab7e"
      },
      "execution_count": 16,
      "outputs": [
        {
          "output_type": "display_data",
          "data": {
            "image/png": "[encoded data removed]",
            "text/plain": [
              "<Figure size 432x288 with 1 Axes>"
            ]
          },
          "metadata": {
            "needs_background": "light"
          }
        }
      ]
    },
    {
      "cell_type": "markdown",
      "source": [
        "## Pandas"
      ],
      "metadata": {
        "id": "yRKOaTBrcLsl"
      }
    },
    {
      "cell_type": "code",
      "source": [
        "import pandas as pd"
      ],
      "metadata": {
        "id": "TWHWg-grepxZ"
      },
      "execution_count": 17,
      "outputs": []
    },
    {
      "cell_type": "code",
      "source": [
        "data = {\n",
        "    \"cars_per_cap\": [809, 731, 588, 18, 200, 70, 45],\n",
        "    \"country\": [\"United States\", \"Australia\", \"Japan\", \"India\", \"Russia\", \"Morocco\", \"Egypt\"],\n",
        "    \"drives_right\": [True, False, False, False, True, True, True]\n",
        "}\n",
        "\n",
        "cars = pd.DataFrame(data, index=[\"US\", \"AUS\", \"JPN\", \"IN\", \"RU\", \"MOR\", \"EG\"])\n",
        "cars"
      ],
      "metadata": {
        "id": "yiKs5qPXQXZw",
        "colab": {
          "base_uri": "https://localhost:8080/",
          "height": 347
        },
        "outputId": "0626fe94-7f75-4009-9ac1-569ae83f3cc2"
      },
      "execution_count": 18,
      "outputs": [
        {
          "output_type": "execute_result",
          "data": {
            "text/html": [
              "\n",
              "  <div id=\"df-d95fee97-664b-4c63-ac54-7a8f3fe8268c\">\n",
              "    <div class=\"colab-df-container\">\n",
              "      <div>\n",
              "<style scoped>\n",
              "    .dataframe tbody tr th:only-of-type {\n",
              "        vertical-align: middle;\n",
              "    }\n",
              "\n",
              "    .dataframe tbody tr th {\n",
              "        vertical-align: top;\n",
              "    }\n",
              "\n",
              "    .dataframe thead th {\n",
              "        text-align: right;\n",
              "    }\n",
              "</style>\n",
              "<table border=\"1\" class=\"dataframe\">\n",
              "  <thead>\n",
              "    <tr style=\"text-align: right;\">\n",
              "      <th></th>\n",
              "      <th>cars_per_cap</th>\n",
              "      <th>country</th>\n",
              "      <th>drives_right</th>\n",
              "    </tr>\n",
              "  </thead>\n",
              "  <tbody>\n",
              "    <tr>\n",
              "      <th>US</th>\n",
              "      <td>809</td>\n",
              "      <td>United States</td>\n",
              "      <td>True</td>\n",
              "    </tr>\n",
              "    <tr>\n",
              "      <th>AUS</th>\n",
              "      <td>731</td>\n",
              "      <td>Australia</td>\n",
              "      <td>False</td>\n",
              "    </tr>\n",
              "    <tr>\n",
              "      <th>JPN</th>\n",
              "      <td>588</td>\n",
              "      <td>Japan</td>\n",
              "      <td>False</td>\n",
              "    </tr>\n",
              "    <tr>\n",
              "      <th>IN</th>\n",
              "      <td>18</td>\n",
              "      <td>India</td>\n",
              "      <td>False</td>\n",
              "    </tr>\n",
              "    <tr>\n",
              "      <th>RU</th>\n",
              "      <td>200</td>\n",
              "      <td>Russia</td>\n",
              "      <td>True</td>\n",
              "    </tr>\n",
              "    <tr>\n",
              "      <th>MOR</th>\n",
              "      <td>70</td>\n",
              "      <td>Morocco</td>\n",
              "      <td>True</td>\n",
              "    </tr>\n",
              "    <tr>\n",
              "      <th>EG</th>\n",
              "      <td>45</td>\n",
              "      <td>Egypt</td>\n",
              "      <td>True</td>\n",
              "    </tr>\n",
              "  </tbody>\n",
              "</table>\n",
              "</div>\n",
              "      <button class=\"colab-df-convert\" onclick=\"convertToInteractive('df-d95fee97-664b-4c63-ac54-7a8f3fe8268c')\"\n",
              "              title=\"Convert this dataframe to an interactive table.\"\n",
              "              style=\"display:none;\">\n",
              "        \n",
              "  <svg xmlns=\"http://www.w3.org/2000/svg\" height=\"24px\"viewBox=\"0 0 24 24\"\n",
              "       width=\"24px\">\n",
              "    <path d=\"M0 0h24v24H0V0z\" fill=\"none\"/>\n",
              "    <path d=\"M18.56 5.44l.94 2.06.94-2.06 2.06-.94-2.06-.94-.94-2.06-.94 2.06-2.06.94zm-11 1L8.5 8.5l.94-2.06 2.06-.94-2.06-.94L8.5 2.5l-.94 2.06-2.06.94zm10 10l.94 2.06.94-2.06 2.06-.94-2.06-.94-.94-2.06-.94 2.06-2.06.94z\"/><path d=\"M17.41 7.96l-1.37-1.37c-.4-.4-.92-.59-1.43-.59-.52 0-1.04.2-1.43.59L10.3 9.45l-7.72 7.72c-.78.78-.78 2.05 0 2.83L4 21.41c.39.39.9.59 1.41.59.51 0 1.02-.2 1.41-.59l7.78-7.78 2.81-2.81c.8-.78.8-2.07 0-2.86zM5.41 20L4 18.59l7.72-7.72 1.47 1.35L5.41 20z\"/>\n",
              "  </svg>\n",
              "      </button>\n",
              "      \n",
              "  <style>\n",
              "    .colab-df-container {\n",
              "      display:flex;\n",
              "      flex-wrap:wrap;\n",
              "      gap: 12px;\n",
              "    }\n",
              "\n",
              "    .colab-df-convert {\n",
              "      background-color: #E8F0FE;\n",
              "      border: none;\n",
              "      border-radius: 50%;\n",
              "      cursor: pointer;\n",
              "      display: none;\n",
              "      fill: #1967D2;\n",
              "      height: 32px;\n",
              "      padding: 0 0 0 0;\n",
              "      width: 32px;\n",
              "    }\n",
              "\n",
              "    .colab-df-convert:hover {\n",
              "      background-color: #E2EBFA;\n",
              "      box-shadow: 0px 1px 2px rgba(60, 64, 67, 0.3), 0px 1px 3px 1px rgba(60, 64, 67, 0.15);\n",
              "      fill: #174EA6;\n",
              "    }\n",
              "\n",
              "    [theme=dark] .colab-df-convert {\n",
              "      background-color: #3B4455;\n",
              "      fill: #D2E3FC;\n",
              "    }\n",
              "\n",
              "    [theme=dark] .colab-df-convert:hover {\n",
              "      background-color: #434B5C;\n",
              "      box-shadow: 0px 1px 3px 1px rgba(0, 0, 0, 0.15);\n",
              "      filter: drop-shadow(0px 1px 2px rgba(0, 0, 0, 0.3));\n",
              "      fill: #FFFFFF;\n",
              "    }\n",
              "  </style>\n",
              "\n",
              "      <script>\n",
              "        const buttonEl =\n",
              "          document.querySelector('#df-d95fee97-664b-4c63-ac54-7a8f3fe8268c button.colab-df-convert');\n",
              "        buttonEl.style.display =\n",
              "          google.colab.kernel.accessAllowed ? 'block' : 'none';\n",
              "\n",
              "        async function convertToInteractive(key) {\n",
              "          const element = document.querySelector('#df-d95fee97-664b-4c63-ac54-7a8f3fe8268c');\n",
              "          const dataTable =\n",
              "            await google.colab.kernel.invokeFunction('convertToInteractive',\n",
              "                                                     [key], {});\n",
              "          if (!dataTable) return;\n",
              "\n",
              "          const docLinkHtml = 'Like what you see? Visit the ' +\n",
              "            '<a target=\"_blank\" href=https://colab.research.google.com/notebooks/data_table.ipynb>data table notebook</a>'\n",
              "            + ' to learn more about interactive tables.';\n",
              "          element.innerHTML = '';\n",
              "          dataTable['output_type'] = 'display_data';\n",
              "          await google.colab.output.renderOutput(dataTable, element);\n",
              "          const docLink = document.createElement('div');\n",
              "          docLink.innerHTML = docLinkHtml;\n",
              "          element.appendChild(docLink);\n",
              "        }\n",
              "      </script>\n",
              "    </div>\n",
              "  </div>\n",
              "  "
            ],
            "text/plain": [
              "     cars_per_cap        country  drives_right\n",
              "US            809  United States          True\n",
              "AUS           731      Australia         False\n",
              "JPN           588          Japan         False\n",
              "IN             18          India         False\n",
              "RU            200         Russia          True\n",
              "MOR            70        Morocco          True\n",
              "EG             45          Egypt          True"
            ]
          },
          "metadata": {},
          "execution_count": 18
        }
      ]
    },
    {
      "cell_type": "code",
      "source": [
        "# regular dict indexing \n",
        "cars[\"cars_per_cap\"] # pandas.series type"
      ],
      "metadata": {
        "id": "NQJeKN63eqz6",
        "colab": {
          "base_uri": "https://localhost:8080/"
        },
        "outputId": "1cdcff62-13b9-4d13-b440-4609bf44dbaf"
      },
      "execution_count": 19,
      "outputs": [
        {
          "output_type": "execute_result",
          "data": {
            "text/plain": [
              "US     809\n",
              "AUS    731\n",
              "JPN    588\n",
              "IN      18\n",
              "RU     200\n",
              "MOR     70\n",
              "EG      45\n",
              "Name: cars_per_cap, dtype: int64"
            ]
          },
          "metadata": {},
          "execution_count": 19
        }
      ]
    },
    {
      "cell_type": "code",
      "source": [
        "cars[[\"country\", \"cars_per_cap\"]] # pandas.dataframe type\n",
        "# [] -> pandas.series, [[]] -> pandas.dataframe"
      ],
      "metadata": {
        "colab": {
          "base_uri": "https://localhost:8080/",
          "height": 347
        },
        "id": "rSvv5bLQhTRi",
        "outputId": "894fcf3f-9464-4033-9bb7-10a340b2f8c5"
      },
      "execution_count": 20,
      "outputs": [
        {
          "output_type": "execute_result",
          "data": {
            "text/html": [
              "\n",
              "  <div id=\"df-669764c0-5e43-49c5-8712-29e7a4f65901\">\n",
              "    <div class=\"colab-df-container\">\n",
              "      <div>\n",
              "<style scoped>\n",
              "    .dataframe tbody tr th:only-of-type {\n",
              "        vertical-align: middle;\n",
              "    }\n",
              "\n",
              "    .dataframe tbody tr th {\n",
              "        vertical-align: top;\n",
              "    }\n",
              "\n",
              "    .dataframe thead th {\n",
              "        text-align: right;\n",
              "    }\n",
              "</style>\n",
              "<table border=\"1\" class=\"dataframe\">\n",
              "  <thead>\n",
              "    <tr style=\"text-align: right;\">\n",
              "      <th></th>\n",
              "      <th>country</th>\n",
              "      <th>cars_per_cap</th>\n",
              "    </tr>\n",
              "  </thead>\n",
              "  <tbody>\n",
              "    <tr>\n",
              "      <th>US</th>\n",
              "      <td>United States</td>\n",
              "      <td>809</td>\n",
              "    </tr>\n",
              "    <tr>\n",
              "      <th>AUS</th>\n",
              "      <td>Australia</td>\n",
              "      <td>731</td>\n",
              "    </tr>\n",
              "    <tr>\n",
              "      <th>JPN</th>\n",
              "      <td>Japan</td>\n",
              "      <td>588</td>\n",
              "    </tr>\n",
              "    <tr>\n",
              "      <th>IN</th>\n",
              "      <td>India</td>\n",
              "      <td>18</td>\n",
              "    </tr>\n",
              "    <tr>\n",
              "      <th>RU</th>\n",
              "      <td>Russia</td>\n",
              "      <td>200</td>\n",
              "    </tr>\n",
              "    <tr>\n",
              "      <th>MOR</th>\n",
              "      <td>Morocco</td>\n",
              "      <td>70</td>\n",
              "    </tr>\n",
              "    <tr>\n",
              "      <th>EG</th>\n",
              "      <td>Egypt</td>\n",
              "      <td>45</td>\n",
              "    </tr>\n",
              "  </tbody>\n",
              "</table>\n",
              "</div>\n",
              "      <button class=\"colab-df-convert\" onclick=\"convertToInteractive('df-669764c0-5e43-49c5-8712-29e7a4f65901')\"\n",
              "              title=\"Convert this dataframe to an interactive table.\"\n",
              "              style=\"display:none;\">\n",
              "        \n",
              "  <svg xmlns=\"http://www.w3.org/2000/svg\" height=\"24px\"viewBox=\"0 0 24 24\"\n",
              "       width=\"24px\">\n",
              "    <path d=\"M0 0h24v24H0V0z\" fill=\"none\"/>\n",
              "    <path d=\"M18.56 5.44l.94 2.06.94-2.06 2.06-.94-2.06-.94-.94-2.06-.94 2.06-2.06.94zm-11 1L8.5 8.5l.94-2.06 2.06-.94-2.06-.94L8.5 2.5l-.94 2.06-2.06.94zm10 10l.94 2.06.94-2.06 2.06-.94-2.06-.94-.94-2.06-.94 2.06-2.06.94z\"/><path d=\"M17.41 7.96l-1.37-1.37c-.4-.4-.92-.59-1.43-.59-.52 0-1.04.2-1.43.59L10.3 9.45l-7.72 7.72c-.78.78-.78 2.05 0 2.83L4 21.41c.39.39.9.59 1.41.59.51 0 1.02-.2 1.41-.59l7.78-7.78 2.81-2.81c.8-.78.8-2.07 0-2.86zM5.41 20L4 18.59l7.72-7.72 1.47 1.35L5.41 20z\"/>\n",
              "  </svg>\n",
              "      </button>\n",
              "      \n",
              "  <style>\n",
              "    .colab-df-container {\n",
              "      display:flex;\n",
              "      flex-wrap:wrap;\n",
              "      gap: 12px;\n",
              "    }\n",
              "\n",
              "    .colab-df-convert {\n",
              "      background-color: #E8F0FE;\n",
              "      border: none;\n",
              "      border-radius: 50%;\n",
              "      cursor: pointer;\n",
              "      display: none;\n",
              "      fill: #1967D2;\n",
              "      height: 32px;\n",
              "      padding: 0 0 0 0;\n",
              "      width: 32px;\n",
              "    }\n",
              "\n",
              "    .colab-df-convert:hover {\n",
              "      background-color: #E2EBFA;\n",
              "      box-shadow: 0px 1px 2px rgba(60, 64, 67, 0.3), 0px 1px 3px 1px rgba(60, 64, 67, 0.15);\n",
              "      fill: #174EA6;\n",
              "    }\n",
              "\n",
              "    [theme=dark] .colab-df-convert {\n",
              "      background-color: #3B4455;\n",
              "      fill: #D2E3FC;\n",
              "    }\n",
              "\n",
              "    [theme=dark] .colab-df-convert:hover {\n",
              "      background-color: #434B5C;\n",
              "      box-shadow: 0px 1px 3px 1px rgba(0, 0, 0, 0.15);\n",
              "      filter: drop-shadow(0px 1px 2px rgba(0, 0, 0, 0.3));\n",
              "      fill: #FFFFFF;\n",
              "    }\n",
              "  </style>\n",
              "\n",
              "      <script>\n",
              "        const buttonEl =\n",
              "          document.querySelector('#df-669764c0-5e43-49c5-8712-29e7a4f65901 button.colab-df-convert');\n",
              "        buttonEl.style.display =\n",
              "          google.colab.kernel.accessAllowed ? 'block' : 'none';\n",
              "\n",
              "        async function convertToInteractive(key) {\n",
              "          const element = document.querySelector('#df-669764c0-5e43-49c5-8712-29e7a4f65901');\n",
              "          const dataTable =\n",
              "            await google.colab.kernel.invokeFunction('convertToInteractive',\n",
              "                                                     [key], {});\n",
              "          if (!dataTable) return;\n",
              "\n",
              "          const docLinkHtml = 'Like what you see? Visit the ' +\n",
              "            '<a target=\"_blank\" href=https://colab.research.google.com/notebooks/data_table.ipynb>data table notebook</a>'\n",
              "            + ' to learn more about interactive tables.';\n",
              "          element.innerHTML = '';\n",
              "          dataTable['output_type'] = 'display_data';\n",
              "          await google.colab.output.renderOutput(dataTable, element);\n",
              "          const docLink = document.createElement('div');\n",
              "          docLink.innerHTML = docLinkHtml;\n",
              "          element.appendChild(docLink);\n",
              "        }\n",
              "      </script>\n",
              "    </div>\n",
              "  </div>\n",
              "  "
            ],
            "text/plain": [
              "           country  cars_per_cap\n",
              "US   United States           809\n",
              "AUS      Australia           731\n",
              "JPN          Japan           588\n",
              "IN           India            18\n",
              "RU          Russia           200\n",
              "MOR        Morocco            70\n",
              "EG           Egypt            45"
            ]
          },
          "metadata": {},
          "execution_count": 20
        }
      ]
    },
    {
      "cell_type": "code",
      "source": [
        "# loc (label based indexing)\n",
        "\n",
        "cars.loc[:, \"country\"] # all rows with country column as series "
      ],
      "metadata": {
        "id": "tM25p2Y2fd3j",
        "colab": {
          "base_uri": "https://localhost:8080/"
        },
        "outputId": "badbaeb7-5757-457e-ad7d-4c28d0f823fb"
      },
      "execution_count": 21,
      "outputs": [
        {
          "output_type": "execute_result",
          "data": {
            "text/plain": [
              "US     United States\n",
              "AUS        Australia\n",
              "JPN            Japan\n",
              "IN             India\n",
              "RU            Russia\n",
              "MOR          Morocco\n",
              "EG             Egypt\n",
              "Name: country, dtype: object"
            ]
          },
          "metadata": {},
          "execution_count": 21
        }
      ]
    },
    {
      "cell_type": "code",
      "source": [
        "cars.loc[:, [\"country\"]] # all rows with country column as dataframe"
      ],
      "metadata": {
        "id": "2YCfpXzUiUB_",
        "colab": {
          "base_uri": "https://localhost:8080/",
          "height": 347
        },
        "outputId": "f1d6a764-d756-4151-8126-25d277772805"
      },
      "execution_count": 22,
      "outputs": [
        {
          "output_type": "execute_result",
          "data": {
            "text/html": [
              "\n",
              "  <div id=\"df-14b25767-ae92-4b34-811b-5e0e961aa725\">\n",
              "    <div class=\"colab-df-container\">\n",
              "      <div>\n",
              "<style scoped>\n",
              "    .dataframe tbody tr th:only-of-type {\n",
              "        vertical-align: middle;\n",
              "    }\n",
              "\n",
              "    .dataframe tbody tr th {\n",
              "        vertical-align: top;\n",
              "    }\n",
              "\n",
              "    .dataframe thead th {\n",
              "        text-align: right;\n",
              "    }\n",
              "</style>\n",
              "<table border=\"1\" class=\"dataframe\">\n",
              "  <thead>\n",
              "    <tr style=\"text-align: right;\">\n",
              "      <th></th>\n",
              "      <th>country</th>\n",
              "    </tr>\n",
              "  </thead>\n",
              "  <tbody>\n",
              "    <tr>\n",
              "      <th>US</th>\n",
              "      <td>United States</td>\n",
              "    </tr>\n",
              "    <tr>\n",
              "      <th>AUS</th>\n",
              "      <td>Australia</td>\n",
              "    </tr>\n",
              "    <tr>\n",
              "      <th>JPN</th>\n",
              "      <td>Japan</td>\n",
              "    </tr>\n",
              "    <tr>\n",
              "      <th>IN</th>\n",
              "      <td>India</td>\n",
              "    </tr>\n",
              "    <tr>\n",
              "      <th>RU</th>\n",
              "      <td>Russia</td>\n",
              "    </tr>\n",
              "    <tr>\n",
              "      <th>MOR</th>\n",
              "      <td>Morocco</td>\n",
              "    </tr>\n",
              "    <tr>\n",
              "      <th>EG</th>\n",
              "      <td>Egypt</td>\n",
              "    </tr>\n",
              "  </tbody>\n",
              "</table>\n",
              "</div>\n",
              "      <button class=\"colab-df-convert\" onclick=\"convertToInteractive('df-14b25767-ae92-4b34-811b-5e0e961aa725')\"\n",
              "              title=\"Convert this dataframe to an interactive table.\"\n",
              "              style=\"display:none;\">\n",
              "        \n",
              "  <svg xmlns=\"http://www.w3.org/2000/svg\" height=\"24px\"viewBox=\"0 0 24 24\"\n",
              "       width=\"24px\">\n",
              "    <path d=\"M0 0h24v24H0V0z\" fill=\"none\"/>\n",
              "    <path d=\"M18.56 5.44l.94 2.06.94-2.06 2.06-.94-2.06-.94-.94-2.06-.94 2.06-2.06.94zm-11 1L8.5 8.5l.94-2.06 2.06-.94-2.06-.94L8.5 2.5l-.94 2.06-2.06.94zm10 10l.94 2.06.94-2.06 2.06-.94-2.06-.94-.94-2.06-.94 2.06-2.06.94z\"/><path d=\"M17.41 7.96l-1.37-1.37c-.4-.4-.92-.59-1.43-.59-.52 0-1.04.2-1.43.59L10.3 9.45l-7.72 7.72c-.78.78-.78 2.05 0 2.83L4 21.41c.39.39.9.59 1.41.59.51 0 1.02-.2 1.41-.59l7.78-7.78 2.81-2.81c.8-.78.8-2.07 0-2.86zM5.41 20L4 18.59l7.72-7.72 1.47 1.35L5.41 20z\"/>\n",
              "  </svg>\n",
              "      </button>\n",
              "      \n",
              "  <style>\n",
              "    .colab-df-container {\n",
              "      display:flex;\n",
              "      flex-wrap:wrap;\n",
              "      gap: 12px;\n",
              "    }\n",
              "\n",
              "    .colab-df-convert {\n",
              "      background-color: #E8F0FE;\n",
              "      border: none;\n",
              "      border-radius: 50%;\n",
              "      cursor: pointer;\n",
              "      display: none;\n",
              "      fill: #1967D2;\n",
              "      height: 32px;\n",
              "      padding: 0 0 0 0;\n",
              "      width: 32px;\n",
              "    }\n",
              "\n",
              "    .colab-df-convert:hover {\n",
              "      background-color: #E2EBFA;\n",
              "      box-shadow: 0px 1px 2px rgba(60, 64, 67, 0.3), 0px 1px 3px 1px rgba(60, 64, 67, 0.15);\n",
              "      fill: #174EA6;\n",
              "    }\n",
              "\n",
              "    [theme=dark] .colab-df-convert {\n",
              "      background-color: #3B4455;\n",
              "      fill: #D2E3FC;\n",
              "    }\n",
              "\n",
              "    [theme=dark] .colab-df-convert:hover {\n",
              "      background-color: #434B5C;\n",
              "      box-shadow: 0px 1px 3px 1px rgba(0, 0, 0, 0.15);\n",
              "      filter: drop-shadow(0px 1px 2px rgba(0, 0, 0, 0.3));\n",
              "      fill: #FFFFFF;\n",
              "    }\n",
              "  </style>\n",
              "\n",
              "      <script>\n",
              "        const buttonEl =\n",
              "          document.querySelector('#df-14b25767-ae92-4b34-811b-5e0e961aa725 button.colab-df-convert');\n",
              "        buttonEl.style.display =\n",
              "          google.colab.kernel.accessAllowed ? 'block' : 'none';\n",
              "\n",
              "        async function convertToInteractive(key) {\n",
              "          const element = document.querySelector('#df-14b25767-ae92-4b34-811b-5e0e961aa725');\n",
              "          const dataTable =\n",
              "            await google.colab.kernel.invokeFunction('convertToInteractive',\n",
              "                                                     [key], {});\n",
              "          if (!dataTable) return;\n",
              "\n",
              "          const docLinkHtml = 'Like what you see? Visit the ' +\n",
              "            '<a target=\"_blank\" href=https://colab.research.google.com/notebooks/data_table.ipynb>data table notebook</a>'\n",
              "            + ' to learn more about interactive tables.';\n",
              "          element.innerHTML = '';\n",
              "          dataTable['output_type'] = 'display_data';\n",
              "          await google.colab.output.renderOutput(dataTable, element);\n",
              "          const docLink = document.createElement('div');\n",
              "          docLink.innerHTML = docLinkHtml;\n",
              "          element.appendChild(docLink);\n",
              "        }\n",
              "      </script>\n",
              "    </div>\n",
              "  </div>\n",
              "  "
            ],
            "text/plain": [
              "           country\n",
              "US   United States\n",
              "AUS      Australia\n",
              "JPN          Japan\n",
              "IN           India\n",
              "RU          Russia\n",
              "MOR        Morocco\n",
              "EG           Egypt"
            ]
          },
          "metadata": {},
          "execution_count": 22
        }
      ]
    },
    {
      "cell_type": "code",
      "source": [
        "cars.loc[\"RU\", \"cars_per_cap\"] # RU row with cars_per_cap column "
      ],
      "metadata": {
        "id": "1o1Lj8EUg43D",
        "colab": {
          "base_uri": "https://localhost:8080/"
        },
        "outputId": "209a29cb-c937-494a-bc82-45e953d597fc"
      },
      "execution_count": 23,
      "outputs": [
        {
          "output_type": "execute_result",
          "data": {
            "text/plain": [
              "200"
            ]
          },
          "metadata": {},
          "execution_count": 23
        }
      ]
    },
    {
      "cell_type": "code",
      "source": [
        "cars.loc[[\"RU\", \"IN\"], [\"country\"]] # RU and IN rows with country column"
      ],
      "metadata": {
        "id": "zcy-4m2Qh6ia",
        "colab": {
          "base_uri": "https://localhost:8080/",
          "height": 175
        },
        "outputId": "de402b5a-a505-402f-f4b4-2e4f6afedafb"
      },
      "execution_count": 24,
      "outputs": [
        {
          "output_type": "execute_result",
          "data": {
            "text/html": [
              "\n",
              "  <div id=\"df-41e9b6d2-7c77-4a7e-a235-7b1183cae199\">\n",
              "    <div class=\"colab-df-container\">\n",
              "      <div>\n",
              "<style scoped>\n",
              "    .dataframe tbody tr th:only-of-type {\n",
              "        vertical-align: middle;\n",
              "    }\n",
              "\n",
              "    .dataframe tbody tr th {\n",
              "        vertical-align: top;\n",
              "    }\n",
              "\n",
              "    .dataframe thead th {\n",
              "        text-align: right;\n",
              "    }\n",
              "</style>\n",
              "<table border=\"1\" class=\"dataframe\">\n",
              "  <thead>\n",
              "    <tr style=\"text-align: right;\">\n",
              "      <th></th>\n",
              "      <th>country</th>\n",
              "    </tr>\n",
              "  </thead>\n",
              "  <tbody>\n",
              "    <tr>\n",
              "      <th>RU</th>\n",
              "      <td>Russia</td>\n",
              "    </tr>\n",
              "    <tr>\n",
              "      <th>IN</th>\n",
              "      <td>India</td>\n",
              "    </tr>\n",
              "  </tbody>\n",
              "</table>\n",
              "</div>\n",
              "      <button class=\"colab-df-convert\" onclick=\"convertToInteractive('df-41e9b6d2-7c77-4a7e-a235-7b1183cae199')\"\n",
              "              title=\"Convert this dataframe to an interactive table.\"\n",
              "              style=\"display:none;\">\n",
              "        \n",
              "  <svg xmlns=\"http://www.w3.org/2000/svg\" height=\"24px\"viewBox=\"0 0 24 24\"\n",
              "       width=\"24px\">\n",
              "    <path d=\"M0 0h24v24H0V0z\" fill=\"none\"/>\n",
              "    <path d=\"M18.56 5.44l.94 2.06.94-2.06 2.06-.94-2.06-.94-.94-2.06-.94 2.06-2.06.94zm-11 1L8.5 8.5l.94-2.06 2.06-.94-2.06-.94L8.5 2.5l-.94 2.06-2.06.94zm10 10l.94 2.06.94-2.06 2.06-.94-2.06-.94-.94-2.06-.94 2.06-2.06.94z\"/><path d=\"M17.41 7.96l-1.37-1.37c-.4-.4-.92-.59-1.43-.59-.52 0-1.04.2-1.43.59L10.3 9.45l-7.72 7.72c-.78.78-.78 2.05 0 2.83L4 21.41c.39.39.9.59 1.41.59.51 0 1.02-.2 1.41-.59l7.78-7.78 2.81-2.81c.8-.78.8-2.07 0-2.86zM5.41 20L4 18.59l7.72-7.72 1.47 1.35L5.41 20z\"/>\n",
              "  </svg>\n",
              "      </button>\n",
              "      \n",
              "  <style>\n",
              "    .colab-df-container {\n",
              "      display:flex;\n",
              "      flex-wrap:wrap;\n",
              "      gap: 12px;\n",
              "    }\n",
              "\n",
              "    .colab-df-convert {\n",
              "      background-color: #E8F0FE;\n",
              "      border: none;\n",
              "      border-radius: 50%;\n",
              "      cursor: pointer;\n",
              "      display: none;\n",
              "      fill: #1967D2;\n",
              "      height: 32px;\n",
              "      padding: 0 0 0 0;\n",
              "      width: 32px;\n",
              "    }\n",
              "\n",
              "    .colab-df-convert:hover {\n",
              "      background-color: #E2EBFA;\n",
              "      box-shadow: 0px 1px 2px rgba(60, 64, 67, 0.3), 0px 1px 3px 1px rgba(60, 64, 67, 0.15);\n",
              "      fill: #174EA6;\n",
              "    }\n",
              "\n",
              "    [theme=dark] .colab-df-convert {\n",
              "      background-color: #3B4455;\n",
              "      fill: #D2E3FC;\n",
              "    }\n",
              "\n",
              "    [theme=dark] .colab-df-convert:hover {\n",
              "      background-color: #434B5C;\n",
              "      box-shadow: 0px 1px 3px 1px rgba(0, 0, 0, 0.15);\n",
              "      filter: drop-shadow(0px 1px 2px rgba(0, 0, 0, 0.3));\n",
              "      fill: #FFFFFF;\n",
              "    }\n",
              "  </style>\n",
              "\n",
              "      <script>\n",
              "        const buttonEl =\n",
              "          document.querySelector('#df-41e9b6d2-7c77-4a7e-a235-7b1183cae199 button.colab-df-convert');\n",
              "        buttonEl.style.display =\n",
              "          google.colab.kernel.accessAllowed ? 'block' : 'none';\n",
              "\n",
              "        async function convertToInteractive(key) {\n",
              "          const element = document.querySelector('#df-41e9b6d2-7c77-4a7e-a235-7b1183cae199');\n",
              "          const dataTable =\n",
              "            await google.colab.kernel.invokeFunction('convertToInteractive',\n",
              "                                                     [key], {});\n",
              "          if (!dataTable) return;\n",
              "\n",
              "          const docLinkHtml = 'Like what you see? Visit the ' +\n",
              "            '<a target=\"_blank\" href=https://colab.research.google.com/notebooks/data_table.ipynb>data table notebook</a>'\n",
              "            + ' to learn more about interactive tables.';\n",
              "          element.innerHTML = '';\n",
              "          dataTable['output_type'] = 'display_data';\n",
              "          await google.colab.output.renderOutput(dataTable, element);\n",
              "          const docLink = document.createElement('div');\n",
              "          docLink.innerHTML = docLinkHtml;\n",
              "          element.appendChild(docLink);\n",
              "        }\n",
              "      </script>\n",
              "    </div>\n",
              "  </div>\n",
              "  "
            ],
            "text/plain": [
              "   country\n",
              "RU  Russia\n",
              "IN   India"
            ]
          },
          "metadata": {},
          "execution_count": 24
        }
      ]
    },
    {
      "cell_type": "code",
      "source": [
        "cars.loc[[\"AUS\"], :] # AUS row with all columns as dataframe"
      ],
      "metadata": {
        "id": "nrdbbMvAh9s2",
        "colab": {
          "base_uri": "https://localhost:8080/",
          "height": 144
        },
        "outputId": "929bb6ad-6402-4288-c679-e4d4ab57c97a"
      },
      "execution_count": 25,
      "outputs": [
        {
          "output_type": "execute_result",
          "data": {
            "text/html": [
              "\n",
              "  <div id=\"df-6f503397-8c7b-4951-bd46-010e157976e2\">\n",
              "    <div class=\"colab-df-container\">\n",
              "      <div>\n",
              "<style scoped>\n",
              "    .dataframe tbody tr th:only-of-type {\n",
              "        vertical-align: middle;\n",
              "    }\n",
              "\n",
              "    .dataframe tbody tr th {\n",
              "        vertical-align: top;\n",
              "    }\n",
              "\n",
              "    .dataframe thead th {\n",
              "        text-align: right;\n",
              "    }\n",
              "</style>\n",
              "<table border=\"1\" class=\"dataframe\">\n",
              "  <thead>\n",
              "    <tr style=\"text-align: right;\">\n",
              "      <th></th>\n",
              "      <th>cars_per_cap</th>\n",
              "      <th>country</th>\n",
              "      <th>drives_right</th>\n",
              "    </tr>\n",
              "  </thead>\n",
              "  <tbody>\n",
              "    <tr>\n",
              "      <th>AUS</th>\n",
              "      <td>731</td>\n",
              "      <td>Australia</td>\n",
              "      <td>False</td>\n",
              "    </tr>\n",
              "  </tbody>\n",
              "</table>\n",
              "</div>\n",
              "      <button class=\"colab-df-convert\" onclick=\"convertToInteractive('df-6f503397-8c7b-4951-bd46-010e157976e2')\"\n",
              "              title=\"Convert this dataframe to an interactive table.\"\n",
              "              style=\"display:none;\">\n",
              "        \n",
              "  <svg xmlns=\"http://www.w3.org/2000/svg\" height=\"24px\"viewBox=\"0 0 24 24\"\n",
              "       width=\"24px\">\n",
              "    <path d=\"M0 0h24v24H0V0z\" fill=\"none\"/>\n",
              "    <path d=\"M18.56 5.44l.94 2.06.94-2.06 2.06-.94-2.06-.94-.94-2.06-.94 2.06-2.06.94zm-11 1L8.5 8.5l.94-2.06 2.06-.94-2.06-.94L8.5 2.5l-.94 2.06-2.06.94zm10 10l.94 2.06.94-2.06 2.06-.94-2.06-.94-.94-2.06-.94 2.06-2.06.94z\"/><path d=\"M17.41 7.96l-1.37-1.37c-.4-.4-.92-.59-1.43-.59-.52 0-1.04.2-1.43.59L10.3 9.45l-7.72 7.72c-.78.78-.78 2.05 0 2.83L4 21.41c.39.39.9.59 1.41.59.51 0 1.02-.2 1.41-.59l7.78-7.78 2.81-2.81c.8-.78.8-2.07 0-2.86zM5.41 20L4 18.59l7.72-7.72 1.47 1.35L5.41 20z\"/>\n",
              "  </svg>\n",
              "      </button>\n",
              "      \n",
              "  <style>\n",
              "    .colab-df-container {\n",
              "      display:flex;\n",
              "      flex-wrap:wrap;\n",
              "      gap: 12px;\n",
              "    }\n",
              "\n",
              "    .colab-df-convert {\n",
              "      background-color: #E8F0FE;\n",
              "      border: none;\n",
              "      border-radius: 50%;\n",
              "      cursor: pointer;\n",
              "      display: none;\n",
              "      fill: #1967D2;\n",
              "      height: 32px;\n",
              "      padding: 0 0 0 0;\n",
              "      width: 32px;\n",
              "    }\n",
              "\n",
              "    .colab-df-convert:hover {\n",
              "      background-color: #E2EBFA;\n",
              "      box-shadow: 0px 1px 2px rgba(60, 64, 67, 0.3), 0px 1px 3px 1px rgba(60, 64, 67, 0.15);\n",
              "      fill: #174EA6;\n",
              "    }\n",
              "\n",
              "    [theme=dark] .colab-df-convert {\n",
              "      background-color: #3B4455;\n",
              "      fill: #D2E3FC;\n",
              "    }\n",
              "\n",
              "    [theme=dark] .colab-df-convert:hover {\n",
              "      background-color: #434B5C;\n",
              "      box-shadow: 0px 1px 3px 1px rgba(0, 0, 0, 0.15);\n",
              "      filter: drop-shadow(0px 1px 2px rgba(0, 0, 0, 0.3));\n",
              "      fill: #FFFFFF;\n",
              "    }\n",
              "  </style>\n",
              "\n",
              "      <script>\n",
              "        const buttonEl =\n",
              "          document.querySelector('#df-6f503397-8c7b-4951-bd46-010e157976e2 button.colab-df-convert');\n",
              "        buttonEl.style.display =\n",
              "          google.colab.kernel.accessAllowed ? 'block' : 'none';\n",
              "\n",
              "        async function convertToInteractive(key) {\n",
              "          const element = document.querySelector('#df-6f503397-8c7b-4951-bd46-010e157976e2');\n",
              "          const dataTable =\n",
              "            await google.colab.kernel.invokeFunction('convertToInteractive',\n",
              "                                                     [key], {});\n",
              "          if (!dataTable) return;\n",
              "\n",
              "          const docLinkHtml = 'Like what you see? Visit the ' +\n",
              "            '<a target=\"_blank\" href=https://colab.research.google.com/notebooks/data_table.ipynb>data table notebook</a>'\n",
              "            + ' to learn more about interactive tables.';\n",
              "          element.innerHTML = '';\n",
              "          dataTable['output_type'] = 'display_data';\n",
              "          await google.colab.output.renderOutput(dataTable, element);\n",
              "          const docLink = document.createElement('div');\n",
              "          docLink.innerHTML = docLinkHtml;\n",
              "          element.appendChild(docLink);\n",
              "        }\n",
              "      </script>\n",
              "    </div>\n",
              "  </div>\n",
              "  "
            ],
            "text/plain": [
              "     cars_per_cap    country  drives_right\n",
              "AUS           731  Australia         False"
            ]
          },
          "metadata": {},
          "execution_count": 25
        }
      ]
    },
    {
      "cell_type": "code",
      "source": [
        "cars.loc[[\"US\", \"MOR\"], [\"drives_right\", \"country\"]]"
      ],
      "metadata": {
        "id": "gAif_JXqiAXZ",
        "colab": {
          "base_uri": "https://localhost:8080/",
          "height": 192
        },
        "outputId": "43fa77ac-d875-486a-ad79-1339fcef9655"
      },
      "execution_count": 26,
      "outputs": [
        {
          "output_type": "execute_result",
          "data": {
            "text/html": [
              "\n",
              "  <div id=\"df-47f11101-f363-4de7-a13b-4e379864be54\">\n",
              "    <div class=\"colab-df-container\">\n",
              "      <div>\n",
              "<style scoped>\n",
              "    .dataframe tbody tr th:only-of-type {\n",
              "        vertical-align: middle;\n",
              "    }\n",
              "\n",
              "    .dataframe tbody tr th {\n",
              "        vertical-align: top;\n",
              "    }\n",
              "\n",
              "    .dataframe thead th {\n",
              "        text-align: right;\n",
              "    }\n",
              "</style>\n",
              "<table border=\"1\" class=\"dataframe\">\n",
              "  <thead>\n",
              "    <tr style=\"text-align: right;\">\n",
              "      <th></th>\n",
              "      <th>drives_right</th>\n",
              "      <th>country</th>\n",
              "    </tr>\n",
              "  </thead>\n",
              "  <tbody>\n",
              "    <tr>\n",
              "      <th>US</th>\n",
              "      <td>True</td>\n",
              "      <td>United States</td>\n",
              "    </tr>\n",
              "    <tr>\n",
              "      <th>MOR</th>\n",
              "      <td>True</td>\n",
              "      <td>Morocco</td>\n",
              "    </tr>\n",
              "  </tbody>\n",
              "</table>\n",
              "</div>\n",
              "      <button class=\"colab-df-convert\" onclick=\"convertToInteractive('df-47f11101-f363-4de7-a13b-4e379864be54')\"\n",
              "              title=\"Convert this dataframe to an interactive table.\"\n",
              "              style=\"display:none;\">\n",
              "        \n",
              "  <svg xmlns=\"http://www.w3.org/2000/svg\" height=\"24px\"viewBox=\"0 0 24 24\"\n",
              "       width=\"24px\">\n",
              "    <path d=\"M0 0h24v24H0V0z\" fill=\"none\"/>\n",
              "    <path d=\"M18.56 5.44l.94 2.06.94-2.06 2.06-.94-2.06-.94-.94-2.06-.94 2.06-2.06.94zm-11 1L8.5 8.5l.94-2.06 2.06-.94-2.06-.94L8.5 2.5l-.94 2.06-2.06.94zm10 10l.94 2.06.94-2.06 2.06-.94-2.06-.94-.94-2.06-.94 2.06-2.06.94z\"/><path d=\"M17.41 7.96l-1.37-1.37c-.4-.4-.92-.59-1.43-.59-.52 0-1.04.2-1.43.59L10.3 9.45l-7.72 7.72c-.78.78-.78 2.05 0 2.83L4 21.41c.39.39.9.59 1.41.59.51 0 1.02-.2 1.41-.59l7.78-7.78 2.81-2.81c.8-.78.8-2.07 0-2.86zM5.41 20L4 18.59l7.72-7.72 1.47 1.35L5.41 20z\"/>\n",
              "  </svg>\n",
              "      </button>\n",
              "      \n",
              "  <style>\n",
              "    .colab-df-container {\n",
              "      display:flex;\n",
              "      flex-wrap:wrap;\n",
              "      gap: 12px;\n",
              "    }\n",
              "\n",
              "    .colab-df-convert {\n",
              "      background-color: #E8F0FE;\n",
              "      border: none;\n",
              "      border-radius: 50%;\n",
              "      cursor: pointer;\n",
              "      display: none;\n",
              "      fill: #1967D2;\n",
              "      height: 32px;\n",
              "      padding: 0 0 0 0;\n",
              "      width: 32px;\n",
              "    }\n",
              "\n",
              "    .colab-df-convert:hover {\n",
              "      background-color: #E2EBFA;\n",
              "      box-shadow: 0px 1px 2px rgba(60, 64, 67, 0.3), 0px 1px 3px 1px rgba(60, 64, 67, 0.15);\n",
              "      fill: #174EA6;\n",
              "    }\n",
              "\n",
              "    [theme=dark] .colab-df-convert {\n",
              "      background-color: #3B4455;\n",
              "      fill: #D2E3FC;\n",
              "    }\n",
              "\n",
              "    [theme=dark] .colab-df-convert:hover {\n",
              "      background-color: #434B5C;\n",
              "      box-shadow: 0px 1px 3px 1px rgba(0, 0, 0, 0.15);\n",
              "      filter: drop-shadow(0px 1px 2px rgba(0, 0, 0, 0.3));\n",
              "      fill: #FFFFFF;\n",
              "    }\n",
              "  </style>\n",
              "\n",
              "      <script>\n",
              "        const buttonEl =\n",
              "          document.querySelector('#df-47f11101-f363-4de7-a13b-4e379864be54 button.colab-df-convert');\n",
              "        buttonEl.style.display =\n",
              "          google.colab.kernel.accessAllowed ? 'block' : 'none';\n",
              "\n",
              "        async function convertToInteractive(key) {\n",
              "          const element = document.querySelector('#df-47f11101-f363-4de7-a13b-4e379864be54');\n",
              "          const dataTable =\n",
              "            await google.colab.kernel.invokeFunction('convertToInteractive',\n",
              "                                                     [key], {});\n",
              "          if (!dataTable) return;\n",
              "\n",
              "          const docLinkHtml = 'Like what you see? Visit the ' +\n",
              "            '<a target=\"_blank\" href=https://colab.research.google.com/notebooks/data_table.ipynb>data table notebook</a>'\n",
              "            + ' to learn more about interactive tables.';\n",
              "          element.innerHTML = '';\n",
              "          dataTable['output_type'] = 'display_data';\n",
              "          await google.colab.output.renderOutput(dataTable, element);\n",
              "          const docLink = document.createElement('div');\n",
              "          docLink.innerHTML = docLinkHtml;\n",
              "          element.appendChild(docLink);\n",
              "        }\n",
              "      </script>\n",
              "    </div>\n",
              "  </div>\n",
              "  "
            ],
            "text/plain": [
              "     drives_right        country\n",
              "US           True  United States\n",
              "MOR          True        Morocco"
            ]
          },
          "metadata": {},
          "execution_count": 26
        }
      ]
    },
    {
      "cell_type": "code",
      "source": [
        "# iloc (integer based indexing)\n",
        "\n",
        "cars.iloc[[0], :] # index 0 row (US) with all columns as dataframe"
      ],
      "metadata": {
        "id": "ApHl_8PsiBrx",
        "colab": {
          "base_uri": "https://localhost:8080/",
          "height": 161
        },
        "outputId": "9fd5a2f9-952c-44d9-9bb5-2ceb3b459454"
      },
      "execution_count": 27,
      "outputs": [
        {
          "output_type": "execute_result",
          "data": {
            "text/html": [
              "\n",
              "  <div id=\"df-3e3e1faf-4651-4d32-b14e-d60bbe15a737\">\n",
              "    <div class=\"colab-df-container\">\n",
              "      <div>\n",
              "<style scoped>\n",
              "    .dataframe tbody tr th:only-of-type {\n",
              "        vertical-align: middle;\n",
              "    }\n",
              "\n",
              "    .dataframe tbody tr th {\n",
              "        vertical-align: top;\n",
              "    }\n",
              "\n",
              "    .dataframe thead th {\n",
              "        text-align: right;\n",
              "    }\n",
              "</style>\n",
              "<table border=\"1\" class=\"dataframe\">\n",
              "  <thead>\n",
              "    <tr style=\"text-align: right;\">\n",
              "      <th></th>\n",
              "      <th>cars_per_cap</th>\n",
              "      <th>country</th>\n",
              "      <th>drives_right</th>\n",
              "    </tr>\n",
              "  </thead>\n",
              "  <tbody>\n",
              "    <tr>\n",
              "      <th>US</th>\n",
              "      <td>809</td>\n",
              "      <td>United States</td>\n",
              "      <td>True</td>\n",
              "    </tr>\n",
              "  </tbody>\n",
              "</table>\n",
              "</div>\n",
              "      <button class=\"colab-df-convert\" onclick=\"convertToInteractive('df-3e3e1faf-4651-4d32-b14e-d60bbe15a737')\"\n",
              "              title=\"Convert this dataframe to an interactive table.\"\n",
              "              style=\"display:none;\">\n",
              "        \n",
              "  <svg xmlns=\"http://www.w3.org/2000/svg\" height=\"24px\"viewBox=\"0 0 24 24\"\n",
              "       width=\"24px\">\n",
              "    <path d=\"M0 0h24v24H0V0z\" fill=\"none\"/>\n",
              "    <path d=\"M18.56 5.44l.94 2.06.94-2.06 2.06-.94-2.06-.94-.94-2.06-.94 2.06-2.06.94zm-11 1L8.5 8.5l.94-2.06 2.06-.94-2.06-.94L8.5 2.5l-.94 2.06-2.06.94zm10 10l.94 2.06.94-2.06 2.06-.94-2.06-.94-.94-2.06-.94 2.06-2.06.94z\"/><path d=\"M17.41 7.96l-1.37-1.37c-.4-.4-.92-.59-1.43-.59-.52 0-1.04.2-1.43.59L10.3 9.45l-7.72 7.72c-.78.78-.78 2.05 0 2.83L4 21.41c.39.39.9.59 1.41.59.51 0 1.02-.2 1.41-.59l7.78-7.78 2.81-2.81c.8-.78.8-2.07 0-2.86zM5.41 20L4 18.59l7.72-7.72 1.47 1.35L5.41 20z\"/>\n",
              "  </svg>\n",
              "      </button>\n",
              "      \n",
              "  <style>\n",
              "    .colab-df-container {\n",
              "      display:flex;\n",
              "      flex-wrap:wrap;\n",
              "      gap: 12px;\n",
              "    }\n",
              "\n",
              "    .colab-df-convert {\n",
              "      background-color: #E8F0FE;\n",
              "      border: none;\n",
              "      border-radius: 50%;\n",
              "      cursor: pointer;\n",
              "      display: none;\n",
              "      fill: #1967D2;\n",
              "      height: 32px;\n",
              "      padding: 0 0 0 0;\n",
              "      width: 32px;\n",
              "    }\n",
              "\n",
              "    .colab-df-convert:hover {\n",
              "      background-color: #E2EBFA;\n",
              "      box-shadow: 0px 1px 2px rgba(60, 64, 67, 0.3), 0px 1px 3px 1px rgba(60, 64, 67, 0.15);\n",
              "      fill: #174EA6;\n",
              "    }\n",
              "\n",
              "    [theme=dark] .colab-df-convert {\n",
              "      background-color: #3B4455;\n",
              "      fill: #D2E3FC;\n",
              "    }\n",
              "\n",
              "    [theme=dark] .colab-df-convert:hover {\n",
              "      background-color: #434B5C;\n",
              "      box-shadow: 0px 1px 3px 1px rgba(0, 0, 0, 0.15);\n",
              "      filter: drop-shadow(0px 1px 2px rgba(0, 0, 0, 0.3));\n",
              "      fill: #FFFFFF;\n",
              "    }\n",
              "  </style>\n",
              "\n",
              "      <script>\n",
              "        const buttonEl =\n",
              "          document.querySelector('#df-3e3e1faf-4651-4d32-b14e-d60bbe15a737 button.colab-df-convert');\n",
              "        buttonEl.style.display =\n",
              "          google.colab.kernel.accessAllowed ? 'block' : 'none';\n",
              "\n",
              "        async function convertToInteractive(key) {\n",
              "          const element = document.querySelector('#df-3e3e1faf-4651-4d32-b14e-d60bbe15a737');\n",
              "          const dataTable =\n",
              "            await google.colab.kernel.invokeFunction('convertToInteractive',\n",
              "                                                     [key], {});\n",
              "          if (!dataTable) return;\n",
              "\n",
              "          const docLinkHtml = 'Like what you see? Visit the ' +\n",
              "            '<a target=\"_blank\" href=https://colab.research.google.com/notebooks/data_table.ipynb>data table notebook</a>'\n",
              "            + ' to learn more about interactive tables.';\n",
              "          element.innerHTML = '';\n",
              "          dataTable['output_type'] = 'display_data';\n",
              "          await google.colab.output.renderOutput(dataTable, element);\n",
              "          const docLink = document.createElement('div');\n",
              "          docLink.innerHTML = docLinkHtml;\n",
              "          element.appendChild(docLink);\n",
              "        }\n",
              "      </script>\n",
              "    </div>\n",
              "  </div>\n",
              "  "
            ],
            "text/plain": [
              "    cars_per_cap        country  drives_right\n",
              "US           809  United States          True"
            ]
          },
          "metadata": {},
          "execution_count": 27
        }
      ]
    },
    {
      "cell_type": "code",
      "source": [
        "cars.iloc[:, [0]] # index 0 column (cars_per_cap) with all rows"
      ],
      "metadata": {
        "id": "equDRVVMiFv6",
        "colab": {
          "base_uri": "https://localhost:8080/",
          "height": 330
        },
        "outputId": "e15a0729-0cf3-4052-f3d3-b49f624ee646"
      },
      "execution_count": 28,
      "outputs": [
        {
          "output_type": "execute_result",
          "data": {
            "text/html": [
              "\n",
              "  <div id=\"df-eca2fbd5-ead9-46e2-9026-da0a247a1db9\">\n",
              "    <div class=\"colab-df-container\">\n",
              "      <div>\n",
              "<style scoped>\n",
              "    .dataframe tbody tr th:only-of-type {\n",
              "        vertical-align: middle;\n",
              "    }\n",
              "\n",
              "    .dataframe tbody tr th {\n",
              "        vertical-align: top;\n",
              "    }\n",
              "\n",
              "    .dataframe thead th {\n",
              "        text-align: right;\n",
              "    }\n",
              "</style>\n",
              "<table border=\"1\" class=\"dataframe\">\n",
              "  <thead>\n",
              "    <tr style=\"text-align: right;\">\n",
              "      <th></th>\n",
              "      <th>cars_per_cap</th>\n",
              "    </tr>\n",
              "  </thead>\n",
              "  <tbody>\n",
              "    <tr>\n",
              "      <th>US</th>\n",
              "      <td>809</td>\n",
              "    </tr>\n",
              "    <tr>\n",
              "      <th>AUS</th>\n",
              "      <td>731</td>\n",
              "    </tr>\n",
              "    <tr>\n",
              "      <th>JPN</th>\n",
              "      <td>588</td>\n",
              "    </tr>\n",
              "    <tr>\n",
              "      <th>IN</th>\n",
              "      <td>18</td>\n",
              "    </tr>\n",
              "    <tr>\n",
              "      <th>RU</th>\n",
              "      <td>200</td>\n",
              "    </tr>\n",
              "    <tr>\n",
              "      <th>MOR</th>\n",
              "      <td>70</td>\n",
              "    </tr>\n",
              "    <tr>\n",
              "      <th>EG</th>\n",
              "      <td>45</td>\n",
              "    </tr>\n",
              "  </tbody>\n",
              "</table>\n",
              "</div>\n",
              "      <button class=\"colab-df-convert\" onclick=\"convertToInteractive('df-eca2fbd5-ead9-46e2-9026-da0a247a1db9')\"\n",
              "              title=\"Convert this dataframe to an interactive table.\"\n",
              "              style=\"display:none;\">\n",
              "        \n",
              "  <svg xmlns=\"http://www.w3.org/2000/svg\" height=\"24px\"viewBox=\"0 0 24 24\"\n",
              "       width=\"24px\">\n",
              "    <path d=\"M0 0h24v24H0V0z\" fill=\"none\"/>\n",
              "    <path d=\"M18.56 5.44l.94 2.06.94-2.06 2.06-.94-2.06-.94-.94-2.06-.94 2.06-2.06.94zm-11 1L8.5 8.5l.94-2.06 2.06-.94-2.06-.94L8.5 2.5l-.94 2.06-2.06.94zm10 10l.94 2.06.94-2.06 2.06-.94-2.06-.94-.94-2.06-.94 2.06-2.06.94z\"/><path d=\"M17.41 7.96l-1.37-1.37c-.4-.4-.92-.59-1.43-.59-.52 0-1.04.2-1.43.59L10.3 9.45l-7.72 7.72c-.78.78-.78 2.05 0 2.83L4 21.41c.39.39.9.59 1.41.59.51 0 1.02-.2 1.41-.59l7.78-7.78 2.81-2.81c.8-.78.8-2.07 0-2.86zM5.41 20L4 18.59l7.72-7.72 1.47 1.35L5.41 20z\"/>\n",
              "  </svg>\n",
              "      </button>\n",
              "      \n",
              "  <style>\n",
              "    .colab-df-container {\n",
              "      display:flex;\n",
              "      flex-wrap:wrap;\n",
              "      gap: 12px;\n",
              "    }\n",
              "\n",
              "    .colab-df-convert {\n",
              "      background-color: #E8F0FE;\n",
              "      border: none;\n",
              "      border-radius: 50%;\n",
              "      cursor: pointer;\n",
              "      display: none;\n",
              "      fill: #1967D2;\n",
              "      height: 32px;\n",
              "      padding: 0 0 0 0;\n",
              "      width: 32px;\n",
              "    }\n",
              "\n",
              "    .colab-df-convert:hover {\n",
              "      background-color: #E2EBFA;\n",
              "      box-shadow: 0px 1px 2px rgba(60, 64, 67, 0.3), 0px 1px 3px 1px rgba(60, 64, 67, 0.15);\n",
              "      fill: #174EA6;\n",
              "    }\n",
              "\n",
              "    [theme=dark] .colab-df-convert {\n",
              "      background-color: #3B4455;\n",
              "      fill: #D2E3FC;\n",
              "    }\n",
              "\n",
              "    [theme=dark] .colab-df-convert:hover {\n",
              "      background-color: #434B5C;\n",
              "      box-shadow: 0px 1px 3px 1px rgba(0, 0, 0, 0.15);\n",
              "      filter: drop-shadow(0px 1px 2px rgba(0, 0, 0, 0.3));\n",
              "      fill: #FFFFFF;\n",
              "    }\n",
              "  </style>\n",
              "\n",
              "      <script>\n",
              "        const buttonEl =\n",
              "          document.querySelector('#df-eca2fbd5-ead9-46e2-9026-da0a247a1db9 button.colab-df-convert');\n",
              "        buttonEl.style.display =\n",
              "          google.colab.kernel.accessAllowed ? 'block' : 'none';\n",
              "\n",
              "        async function convertToInteractive(key) {\n",
              "          const element = document.querySelector('#df-eca2fbd5-ead9-46e2-9026-da0a247a1db9');\n",
              "          const dataTable =\n",
              "            await google.colab.kernel.invokeFunction('convertToInteractive',\n",
              "                                                     [key], {});\n",
              "          if (!dataTable) return;\n",
              "\n",
              "          const docLinkHtml = 'Like what you see? Visit the ' +\n",
              "            '<a target=\"_blank\" href=https://colab.research.google.com/notebooks/data_table.ipynb>data table notebook</a>'\n",
              "            + ' to learn more about interactive tables.';\n",
              "          element.innerHTML = '';\n",
              "          dataTable['output_type'] = 'display_data';\n",
              "          await google.colab.output.renderOutput(dataTable, element);\n",
              "          const docLink = document.createElement('div');\n",
              "          docLink.innerHTML = docLinkHtml;\n",
              "          element.appendChild(docLink);\n",
              "        }\n",
              "      </script>\n",
              "    </div>\n",
              "  </div>\n",
              "  "
            ],
            "text/plain": [
              "     cars_per_cap\n",
              "US            809\n",
              "AUS           731\n",
              "JPN           588\n",
              "IN             18\n",
              "RU            200\n",
              "MOR            70\n",
              "EG             45"
            ]
          },
          "metadata": {},
          "execution_count": 28
        }
      ]
    },
    {
      "cell_type": "code",
      "source": [
        "cars.iloc[[1, 2], [1]] # row 1 and 2 with column 1 as dataframe"
      ],
      "metadata": {
        "id": "VY-7Ye-EiV5r",
        "colab": {
          "base_uri": "https://localhost:8080/",
          "height": 175
        },
        "outputId": "1d8040d2-9d90-4901-d9e1-67ab29eecbf6"
      },
      "execution_count": 29,
      "outputs": [
        {
          "output_type": "execute_result",
          "data": {
            "text/html": [
              "\n",
              "  <div id=\"df-e8bbb5d8-ea25-4876-a212-524fe33348ed\">\n",
              "    <div class=\"colab-df-container\">\n",
              "      <div>\n",
              "<style scoped>\n",
              "    .dataframe tbody tr th:only-of-type {\n",
              "        vertical-align: middle;\n",
              "    }\n",
              "\n",
              "    .dataframe tbody tr th {\n",
              "        vertical-align: top;\n",
              "    }\n",
              "\n",
              "    .dataframe thead th {\n",
              "        text-align: right;\n",
              "    }\n",
              "</style>\n",
              "<table border=\"1\" class=\"dataframe\">\n",
              "  <thead>\n",
              "    <tr style=\"text-align: right;\">\n",
              "      <th></th>\n",
              "      <th>country</th>\n",
              "    </tr>\n",
              "  </thead>\n",
              "  <tbody>\n",
              "    <tr>\n",
              "      <th>AUS</th>\n",
              "      <td>Australia</td>\n",
              "    </tr>\n",
              "    <tr>\n",
              "      <th>JPN</th>\n",
              "      <td>Japan</td>\n",
              "    </tr>\n",
              "  </tbody>\n",
              "</table>\n",
              "</div>\n",
              "      <button class=\"colab-df-convert\" onclick=\"convertToInteractive('df-e8bbb5d8-ea25-4876-a212-524fe33348ed')\"\n",
              "              title=\"Convert this dataframe to an interactive table.\"\n",
              "              style=\"display:none;\">\n",
              "        \n",
              "  <svg xmlns=\"http://www.w3.org/2000/svg\" height=\"24px\"viewBox=\"0 0 24 24\"\n",
              "       width=\"24px\">\n",
              "    <path d=\"M0 0h24v24H0V0z\" fill=\"none\"/>\n",
              "    <path d=\"M18.56 5.44l.94 2.06.94-2.06 2.06-.94-2.06-.94-.94-2.06-.94 2.06-2.06.94zm-11 1L8.5 8.5l.94-2.06 2.06-.94-2.06-.94L8.5 2.5l-.94 2.06-2.06.94zm10 10l.94 2.06.94-2.06 2.06-.94-2.06-.94-.94-2.06-.94 2.06-2.06.94z\"/><path d=\"M17.41 7.96l-1.37-1.37c-.4-.4-.92-.59-1.43-.59-.52 0-1.04.2-1.43.59L10.3 9.45l-7.72 7.72c-.78.78-.78 2.05 0 2.83L4 21.41c.39.39.9.59 1.41.59.51 0 1.02-.2 1.41-.59l7.78-7.78 2.81-2.81c.8-.78.8-2.07 0-2.86zM5.41 20L4 18.59l7.72-7.72 1.47 1.35L5.41 20z\"/>\n",
              "  </svg>\n",
              "      </button>\n",
              "      \n",
              "  <style>\n",
              "    .colab-df-container {\n",
              "      display:flex;\n",
              "      flex-wrap:wrap;\n",
              "      gap: 12px;\n",
              "    }\n",
              "\n",
              "    .colab-df-convert {\n",
              "      background-color: #E8F0FE;\n",
              "      border: none;\n",
              "      border-radius: 50%;\n",
              "      cursor: pointer;\n",
              "      display: none;\n",
              "      fill: #1967D2;\n",
              "      height: 32px;\n",
              "      padding: 0 0 0 0;\n",
              "      width: 32px;\n",
              "    }\n",
              "\n",
              "    .colab-df-convert:hover {\n",
              "      background-color: #E2EBFA;\n",
              "      box-shadow: 0px 1px 2px rgba(60, 64, 67, 0.3), 0px 1px 3px 1px rgba(60, 64, 67, 0.15);\n",
              "      fill: #174EA6;\n",
              "    }\n",
              "\n",
              "    [theme=dark] .colab-df-convert {\n",
              "      background-color: #3B4455;\n",
              "      fill: #D2E3FC;\n",
              "    }\n",
              "\n",
              "    [theme=dark] .colab-df-convert:hover {\n",
              "      background-color: #434B5C;\n",
              "      box-shadow: 0px 1px 3px 1px rgba(0, 0, 0, 0.15);\n",
              "      filter: drop-shadow(0px 1px 2px rgba(0, 0, 0, 0.3));\n",
              "      fill: #FFFFFF;\n",
              "    }\n",
              "  </style>\n",
              "\n",
              "      <script>\n",
              "        const buttonEl =\n",
              "          document.querySelector('#df-e8bbb5d8-ea25-4876-a212-524fe33348ed button.colab-df-convert');\n",
              "        buttonEl.style.display =\n",
              "          google.colab.kernel.accessAllowed ? 'block' : 'none';\n",
              "\n",
              "        async function convertToInteractive(key) {\n",
              "          const element = document.querySelector('#df-e8bbb5d8-ea25-4876-a212-524fe33348ed');\n",
              "          const dataTable =\n",
              "            await google.colab.kernel.invokeFunction('convertToInteractive',\n",
              "                                                     [key], {});\n",
              "          if (!dataTable) return;\n",
              "\n",
              "          const docLinkHtml = 'Like what you see? Visit the ' +\n",
              "            '<a target=\"_blank\" href=https://colab.research.google.com/notebooks/data_table.ipynb>data table notebook</a>'\n",
              "            + ' to learn more about interactive tables.';\n",
              "          element.innerHTML = '';\n",
              "          dataTable['output_type'] = 'display_data';\n",
              "          await google.colab.output.renderOutput(dataTable, element);\n",
              "          const docLink = document.createElement('div');\n",
              "          docLink.innerHTML = docLinkHtml;\n",
              "          element.appendChild(docLink);\n",
              "        }\n",
              "      </script>\n",
              "    </div>\n",
              "  </div>\n",
              "  "
            ],
            "text/plain": [
              "       country\n",
              "AUS  Australia\n",
              "JPN      Japan"
            ]
          },
          "metadata": {},
          "execution_count": 29
        }
      ]
    },
    {
      "cell_type": "markdown",
      "source": [
        "## Numpy Conditionals"
      ],
      "metadata": {
        "id": "CRBdlTZxNgud"
      }
    },
    {
      "cell_type": "code",
      "source": [
        "# test data\n",
        "my_house = np.array([18.0, 20.0, 10.75, 9.50])\n",
        "your_house = np.array([14.0, 24.0, 14.25, 9.0])\n",
        "print(my_house)\n",
        "print(your_house)"
      ],
      "metadata": {
        "id": "3jcODwu8NieR",
        "colab": {
          "base_uri": "https://localhost:8080/"
        },
        "outputId": "2ebaefc5-fd23-4247-c76e-92b271b8554f"
      },
      "execution_count": 30,
      "outputs": [
        {
          "output_type": "stream",
          "name": "stdout",
          "text": [
            "[18.   20.   10.75  9.5 ]\n",
            "[14.   24.   14.25  9.  ]\n"
          ]
        }
      ]
    },
    {
      "cell_type": "code",
      "source": [
        "# is my_house greater than 15\n",
        "print(my_house > 15)\n",
        "# numpy compares every value of my_house with 15 separately"
      ],
      "metadata": {
        "id": "BOzxMVoON4YI",
        "colab": {
          "base_uri": "https://localhost:8080/"
        },
        "outputId": "0081463a-52b8-400e-a966-9e9b723a53e9"
      },
      "execution_count": 31,
      "outputs": [
        {
          "output_type": "stream",
          "name": "stdout",
          "text": [
            "[ True  True False False]\n"
          ]
        }
      ]
    },
    {
      "cell_type": "code",
      "source": [
        "# is your_house less than 20\n",
        "print(your_house < 20)"
      ],
      "metadata": {
        "id": "YwsiVhCROGy2",
        "colab": {
          "base_uri": "https://localhost:8080/"
        },
        "outputId": "e02d7f1a-da2f-4622-cf60-fda70f330697"
      },
      "execution_count": 32,
      "outputs": [
        {
          "output_type": "stream",
          "name": "stdout",
          "text": [
            "[ True False  True  True]\n"
          ]
        }
      ]
    },
    {
      "cell_type": "code",
      "source": [
        "# is my_house greater than your_house\n",
        "print(my_house > your_house)"
      ],
      "metadata": {
        "id": "wvQ3Z0T4OOrK",
        "colab": {
          "base_uri": "https://localhost:8080/"
        },
        "outputId": "71f1611f-c68f-473a-90af-c7c3ee75c1bb"
      },
      "execution_count": 33,
      "outputs": [
        {
          "output_type": "stream",
          "name": "stdout",
          "text": [
            "[ True False False  True]\n"
          ]
        }
      ]
    },
    {
      "cell_type": "code",
      "source": [
        "# logical operators (and - or - not) is not usable in numpy\n",
        "# numpy has np.logical_and() - np.logical_or() - np.logical_not()\n",
        "\n",
        "# is my_house greater than 15 and less than 20\n",
        "print(np.logical_and(my_house > 15, my_house < 20))"
      ],
      "metadata": {
        "id": "nTtnnbblOT0s",
        "colab": {
          "base_uri": "https://localhost:8080/"
        },
        "outputId": "06a51c23-bfcd-4ba6-b9d6-d53bfdb94f50"
      },
      "execution_count": 34,
      "outputs": [
        {
          "output_type": "stream",
          "name": "stdout",
          "text": [
            "[ True False False False]\n"
          ]
        }
      ]
    },
    {
      "cell_type": "code",
      "source": [
        "# is your_house greater than 17 or less than 25\n",
        "print(np.logical_or(your_house > 17, your_house < 25))"
      ],
      "metadata": {
        "id": "-D0nRms-OnGT",
        "colab": {
          "base_uri": "https://localhost:8080/"
        },
        "outputId": "61463af0-58bd-4fec-a041-3c81fa1ac7fe"
      },
      "execution_count": 35,
      "outputs": [
        {
          "output_type": "stream",
          "name": "stdout",
          "text": [
            "[ True  True  True  True]\n"
          ]
        }
      ]
    },
    {
      "cell_type": "code",
      "source": [
        "# is my_house not greater than 15\n",
        "print(np.logical_not(my_house > 16))"
      ],
      "metadata": {
        "id": "HTst6KKuOv4u",
        "colab": {
          "base_uri": "https://localhost:8080/"
        },
        "outputId": "f790ac3a-5729-4ce1-ea9b-29751c3f71bc"
      },
      "execution_count": 36,
      "outputs": [
        {
          "output_type": "stream",
          "name": "stdout",
          "text": [
            "[False False  True  True]\n"
          ]
        }
      ]
    },
    {
      "cell_type": "markdown",
      "source": [
        "## Pandas Conditionals "
      ],
      "metadata": {
        "id": "tgtmT8-UBKC9"
      }
    },
    {
      "cell_type": "code",
      "source": [
        "# find countries with drives_right is True\n",
        "is_right = cars[\"drives_right\"]\n",
        "cars[is_right]"
      ],
      "metadata": {
        "id": "98rxPKOgM_Fw",
        "colab": {
          "base_uri": "https://localhost:8080/",
          "height": 254
        },
        "outputId": "85bc1d8c-28c1-4905-f3a6-409f942782af"
      },
      "execution_count": 37,
      "outputs": [
        {
          "output_type": "execute_result",
          "data": {
            "text/html": [
              "\n",
              "  <div id=\"df-cf18a120-64f5-40d5-a087-280b95670ceb\">\n",
              "    <div class=\"colab-df-container\">\n",
              "      <div>\n",
              "<style scoped>\n",
              "    .dataframe tbody tr th:only-of-type {\n",
              "        vertical-align: middle;\n",
              "    }\n",
              "\n",
              "    .dataframe tbody tr th {\n",
              "        vertical-align: top;\n",
              "    }\n",
              "\n",
              "    .dataframe thead th {\n",
              "        text-align: right;\n",
              "    }\n",
              "</style>\n",
              "<table border=\"1\" class=\"dataframe\">\n",
              "  <thead>\n",
              "    <tr style=\"text-align: right;\">\n",
              "      <th></th>\n",
              "      <th>cars_per_cap</th>\n",
              "      <th>country</th>\n",
              "      <th>drives_right</th>\n",
              "    </tr>\n",
              "  </thead>\n",
              "  <tbody>\n",
              "    <tr>\n",
              "      <th>US</th>\n",
              "      <td>809</td>\n",
              "      <td>United States</td>\n",
              "      <td>True</td>\n",
              "    </tr>\n",
              "    <tr>\n",
              "      <th>RU</th>\n",
              "      <td>200</td>\n",
              "      <td>Russia</td>\n",
              "      <td>True</td>\n",
              "    </tr>\n",
              "    <tr>\n",
              "      <th>MOR</th>\n",
              "      <td>70</td>\n",
              "      <td>Morocco</td>\n",
              "      <td>True</td>\n",
              "    </tr>\n",
              "    <tr>\n",
              "      <th>EG</th>\n",
              "      <td>45</td>\n",
              "      <td>Egypt</td>\n",
              "      <td>True</td>\n",
              "    </tr>\n",
              "  </tbody>\n",
              "</table>\n",
              "</div>\n",
              "      <button class=\"colab-df-convert\" onclick=\"convertToInteractive('df-cf18a120-64f5-40d5-a087-280b95670ceb')\"\n",
              "              title=\"Convert this dataframe to an interactive table.\"\n",
              "              style=\"display:none;\">\n",
              "        \n",
              "  <svg xmlns=\"http://www.w3.org/2000/svg\" height=\"24px\"viewBox=\"0 0 24 24\"\n",
              "       width=\"24px\">\n",
              "    <path d=\"M0 0h24v24H0V0z\" fill=\"none\"/>\n",
              "    <path d=\"M18.56 5.44l.94 2.06.94-2.06 2.06-.94-2.06-.94-.94-2.06-.94 2.06-2.06.94zm-11 1L8.5 8.5l.94-2.06 2.06-.94-2.06-.94L8.5 2.5l-.94 2.06-2.06.94zm10 10l.94 2.06.94-2.06 2.06-.94-2.06-.94-.94-2.06-.94 2.06-2.06.94z\"/><path d=\"M17.41 7.96l-1.37-1.37c-.4-.4-.92-.59-1.43-.59-.52 0-1.04.2-1.43.59L10.3 9.45l-7.72 7.72c-.78.78-.78 2.05 0 2.83L4 21.41c.39.39.9.59 1.41.59.51 0 1.02-.2 1.41-.59l7.78-7.78 2.81-2.81c.8-.78.8-2.07 0-2.86zM5.41 20L4 18.59l7.72-7.72 1.47 1.35L5.41 20z\"/>\n",
              "  </svg>\n",
              "      </button>\n",
              "      \n",
              "  <style>\n",
              "    .colab-df-container {\n",
              "      display:flex;\n",
              "      flex-wrap:wrap;\n",
              "      gap: 12px;\n",
              "    }\n",
              "\n",
              "    .colab-df-convert {\n",
              "      background-color: #E8F0FE;\n",
              "      border: none;\n",
              "      border-radius: 50%;\n",
              "      cursor: pointer;\n",
              "      display: none;\n",
              "      fill: #1967D2;\n",
              "      height: 32px;\n",
              "      padding: 0 0 0 0;\n",
              "      width: 32px;\n",
              "    }\n",
              "\n",
              "    .colab-df-convert:hover {\n",
              "      background-color: #E2EBFA;\n",
              "      box-shadow: 0px 1px 2px rgba(60, 64, 67, 0.3), 0px 1px 3px 1px rgba(60, 64, 67, 0.15);\n",
              "      fill: #174EA6;\n",
              "    }\n",
              "\n",
              "    [theme=dark] .colab-df-convert {\n",
              "      background-color: #3B4455;\n",
              "      fill: #D2E3FC;\n",
              "    }\n",
              "\n",
              "    [theme=dark] .colab-df-convert:hover {\n",
              "      background-color: #434B5C;\n",
              "      box-shadow: 0px 1px 3px 1px rgba(0, 0, 0, 0.15);\n",
              "      filter: drop-shadow(0px 1px 2px rgba(0, 0, 0, 0.3));\n",
              "      fill: #FFFFFF;\n",
              "    }\n",
              "  </style>\n",
              "\n",
              "      <script>\n",
              "        const buttonEl =\n",
              "          document.querySelector('#df-cf18a120-64f5-40d5-a087-280b95670ceb button.colab-df-convert');\n",
              "        buttonEl.style.display =\n",
              "          google.colab.kernel.accessAllowed ? 'block' : 'none';\n",
              "\n",
              "        async function convertToInteractive(key) {\n",
              "          const element = document.querySelector('#df-cf18a120-64f5-40d5-a087-280b95670ceb');\n",
              "          const dataTable =\n",
              "            await google.colab.kernel.invokeFunction('convertToInteractive',\n",
              "                                                     [key], {});\n",
              "          if (!dataTable) return;\n",
              "\n",
              "          const docLinkHtml = 'Like what you see? Visit the ' +\n",
              "            '<a target=\"_blank\" href=https://colab.research.google.com/notebooks/data_table.ipynb>data table notebook</a>'\n",
              "            + ' to learn more about interactive tables.';\n",
              "          element.innerHTML = '';\n",
              "          dataTable['output_type'] = 'display_data';\n",
              "          await google.colab.output.renderOutput(dataTable, element);\n",
              "          const docLink = document.createElement('div');\n",
              "          docLink.innerHTML = docLinkHtml;\n",
              "          element.appendChild(docLink);\n",
              "        }\n",
              "      </script>\n",
              "    </div>\n",
              "  </div>\n",
              "  "
            ],
            "text/plain": [
              "     cars_per_cap        country  drives_right\n",
              "US            809  United States          True\n",
              "RU            200         Russia          True\n",
              "MOR            70        Morocco          True\n",
              "EG             45          Egypt          True"
            ]
          },
          "metadata": {},
          "execution_count": 37
        }
      ]
    },
    {
      "cell_type": "code",
      "source": [
        "# find countries with cars_per_cap > 500\n",
        "cars[cars[\"cars_per_cap\"] > 500]"
      ],
      "metadata": {
        "id": "sgBesXowNB6B",
        "colab": {
          "base_uri": "https://localhost:8080/",
          "height": 223
        },
        "outputId": "86e5fbf9-31e2-4e11-82b7-1ab4b18eaa98"
      },
      "execution_count": 38,
      "outputs": [
        {
          "output_type": "execute_result",
          "data": {
            "text/html": [
              "\n",
              "  <div id=\"df-d5f84312-ef62-4956-8833-eade4abbfec9\">\n",
              "    <div class=\"colab-df-container\">\n",
              "      <div>\n",
              "<style scoped>\n",
              "    .dataframe tbody tr th:only-of-type {\n",
              "        vertical-align: middle;\n",
              "    }\n",
              "\n",
              "    .dataframe tbody tr th {\n",
              "        vertical-align: top;\n",
              "    }\n",
              "\n",
              "    .dataframe thead th {\n",
              "        text-align: right;\n",
              "    }\n",
              "</style>\n",
              "<table border=\"1\" class=\"dataframe\">\n",
              "  <thead>\n",
              "    <tr style=\"text-align: right;\">\n",
              "      <th></th>\n",
              "      <th>cars_per_cap</th>\n",
              "      <th>country</th>\n",
              "      <th>drives_right</th>\n",
              "    </tr>\n",
              "  </thead>\n",
              "  <tbody>\n",
              "    <tr>\n",
              "      <th>US</th>\n",
              "      <td>809</td>\n",
              "      <td>United States</td>\n",
              "      <td>True</td>\n",
              "    </tr>\n",
              "    <tr>\n",
              "      <th>AUS</th>\n",
              "      <td>731</td>\n",
              "      <td>Australia</td>\n",
              "      <td>False</td>\n",
              "    </tr>\n",
              "    <tr>\n",
              "      <th>JPN</th>\n",
              "      <td>588</td>\n",
              "      <td>Japan</td>\n",
              "      <td>False</td>\n",
              "    </tr>\n",
              "  </tbody>\n",
              "</table>\n",
              "</div>\n",
              "      <button class=\"colab-df-convert\" onclick=\"convertToInteractive('df-d5f84312-ef62-4956-8833-eade4abbfec9')\"\n",
              "              title=\"Convert this dataframe to an interactive table.\"\n",
              "              style=\"display:none;\">\n",
              "        \n",
              "  <svg xmlns=\"http://www.w3.org/2000/svg\" height=\"24px\"viewBox=\"0 0 24 24\"\n",
              "       width=\"24px\">\n",
              "    <path d=\"M0 0h24v24H0V0z\" fill=\"none\"/>\n",
              "    <path d=\"M18.56 5.44l.94 2.06.94-2.06 2.06-.94-2.06-.94-.94-2.06-.94 2.06-2.06.94zm-11 1L8.5 8.5l.94-2.06 2.06-.94-2.06-.94L8.5 2.5l-.94 2.06-2.06.94zm10 10l.94 2.06.94-2.06 2.06-.94-2.06-.94-.94-2.06-.94 2.06-2.06.94z\"/><path d=\"M17.41 7.96l-1.37-1.37c-.4-.4-.92-.59-1.43-.59-.52 0-1.04.2-1.43.59L10.3 9.45l-7.72 7.72c-.78.78-.78 2.05 0 2.83L4 21.41c.39.39.9.59 1.41.59.51 0 1.02-.2 1.41-.59l7.78-7.78 2.81-2.81c.8-.78.8-2.07 0-2.86zM5.41 20L4 18.59l7.72-7.72 1.47 1.35L5.41 20z\"/>\n",
              "  </svg>\n",
              "      </button>\n",
              "      \n",
              "  <style>\n",
              "    .colab-df-container {\n",
              "      display:flex;\n",
              "      flex-wrap:wrap;\n",
              "      gap: 12px;\n",
              "    }\n",
              "\n",
              "    .colab-df-convert {\n",
              "      background-color: #E8F0FE;\n",
              "      border: none;\n",
              "      border-radius: 50%;\n",
              "      cursor: pointer;\n",
              "      display: none;\n",
              "      fill: #1967D2;\n",
              "      height: 32px;\n",
              "      padding: 0 0 0 0;\n",
              "      width: 32px;\n",
              "    }\n",
              "\n",
              "    .colab-df-convert:hover {\n",
              "      background-color: #E2EBFA;\n",
              "      box-shadow: 0px 1px 2px rgba(60, 64, 67, 0.3), 0px 1px 3px 1px rgba(60, 64, 67, 0.15);\n",
              "      fill: #174EA6;\n",
              "    }\n",
              "\n",
              "    [theme=dark] .colab-df-convert {\n",
              "      background-color: #3B4455;\n",
              "      fill: #D2E3FC;\n",
              "    }\n",
              "\n",
              "    [theme=dark] .colab-df-convert:hover {\n",
              "      background-color: #434B5C;\n",
              "      box-shadow: 0px 1px 3px 1px rgba(0, 0, 0, 0.15);\n",
              "      filter: drop-shadow(0px 1px 2px rgba(0, 0, 0, 0.3));\n",
              "      fill: #FFFFFF;\n",
              "    }\n",
              "  </style>\n",
              "\n",
              "      <script>\n",
              "        const buttonEl =\n",
              "          document.querySelector('#df-d5f84312-ef62-4956-8833-eade4abbfec9 button.colab-df-convert');\n",
              "        buttonEl.style.display =\n",
              "          google.colab.kernel.accessAllowed ? 'block' : 'none';\n",
              "\n",
              "        async function convertToInteractive(key) {\n",
              "          const element = document.querySelector('#df-d5f84312-ef62-4956-8833-eade4abbfec9');\n",
              "          const dataTable =\n",
              "            await google.colab.kernel.invokeFunction('convertToInteractive',\n",
              "                                                     [key], {});\n",
              "          if (!dataTable) return;\n",
              "\n",
              "          const docLinkHtml = 'Like what you see? Visit the ' +\n",
              "            '<a target=\"_blank\" href=https://colab.research.google.com/notebooks/data_table.ipynb>data table notebook</a>'\n",
              "            + ' to learn more about interactive tables.';\n",
              "          element.innerHTML = '';\n",
              "          dataTable['output_type'] = 'display_data';\n",
              "          await google.colab.output.renderOutput(dataTable, element);\n",
              "          const docLink = document.createElement('div');\n",
              "          docLink.innerHTML = docLinkHtml;\n",
              "          element.appendChild(docLink);\n",
              "        }\n",
              "      </script>\n",
              "    </div>\n",
              "  </div>\n",
              "  "
            ],
            "text/plain": [
              "     cars_per_cap        country  drives_right\n",
              "US            809  United States          True\n",
              "AUS           731      Australia         False\n",
              "JPN           588          Japan         False"
            ]
          },
          "metadata": {},
          "execution_count": 38
        }
      ]
    },
    {
      "cell_type": "code",
      "source": [
        "# we also cannot use and-or-not operators with pandas\n",
        "# pandas is built onto numpy so we can use numpy logical operators\n",
        "\n",
        "# find countries with cars_per_cap is between 100 and 500 \n",
        "cars[np.logical_and(cars[\"cars_per_cap\"] > 100, cars[\"cars_per_cap\"] < 500)]"
      ],
      "metadata": {
        "id": "pU-Pndl8Naru",
        "colab": {
          "base_uri": "https://localhost:8080/",
          "height": 144
        },
        "outputId": "afd2b7fd-c907-4302-c2f5-95976abd6cfc"
      },
      "execution_count": 39,
      "outputs": [
        {
          "output_type": "execute_result",
          "data": {
            "text/html": [
              "\n",
              "  <div id=\"df-48ca9c22-4191-4a9a-8514-bdaa40f7080b\">\n",
              "    <div class=\"colab-df-container\">\n",
              "      <div>\n",
              "<style scoped>\n",
              "    .dataframe tbody tr th:only-of-type {\n",
              "        vertical-align: middle;\n",
              "    }\n",
              "\n",
              "    .dataframe tbody tr th {\n",
              "        vertical-align: top;\n",
              "    }\n",
              "\n",
              "    .dataframe thead th {\n",
              "        text-align: right;\n",
              "    }\n",
              "</style>\n",
              "<table border=\"1\" class=\"dataframe\">\n",
              "  <thead>\n",
              "    <tr style=\"text-align: right;\">\n",
              "      <th></th>\n",
              "      <th>cars_per_cap</th>\n",
              "      <th>country</th>\n",
              "      <th>drives_right</th>\n",
              "    </tr>\n",
              "  </thead>\n",
              "  <tbody>\n",
              "    <tr>\n",
              "      <th>RU</th>\n",
              "      <td>200</td>\n",
              "      <td>Russia</td>\n",
              "      <td>True</td>\n",
              "    </tr>\n",
              "  </tbody>\n",
              "</table>\n",
              "</div>\n",
              "      <button class=\"colab-df-convert\" onclick=\"convertToInteractive('df-48ca9c22-4191-4a9a-8514-bdaa40f7080b')\"\n",
              "              title=\"Convert this dataframe to an interactive table.\"\n",
              "              style=\"display:none;\">\n",
              "        \n",
              "  <svg xmlns=\"http://www.w3.org/2000/svg\" height=\"24px\"viewBox=\"0 0 24 24\"\n",
              "       width=\"24px\">\n",
              "    <path d=\"M0 0h24v24H0V0z\" fill=\"none\"/>\n",
              "    <path d=\"M18.56 5.44l.94 2.06.94-2.06 2.06-.94-2.06-.94-.94-2.06-.94 2.06-2.06.94zm-11 1L8.5 8.5l.94-2.06 2.06-.94-2.06-.94L8.5 2.5l-.94 2.06-2.06.94zm10 10l.94 2.06.94-2.06 2.06-.94-2.06-.94-.94-2.06-.94 2.06-2.06.94z\"/><path d=\"M17.41 7.96l-1.37-1.37c-.4-.4-.92-.59-1.43-.59-.52 0-1.04.2-1.43.59L10.3 9.45l-7.72 7.72c-.78.78-.78 2.05 0 2.83L4 21.41c.39.39.9.59 1.41.59.51 0 1.02-.2 1.41-.59l7.78-7.78 2.81-2.81c.8-.78.8-2.07 0-2.86zM5.41 20L4 18.59l7.72-7.72 1.47 1.35L5.41 20z\"/>\n",
              "  </svg>\n",
              "      </button>\n",
              "      \n",
              "  <style>\n",
              "    .colab-df-container {\n",
              "      display:flex;\n",
              "      flex-wrap:wrap;\n",
              "      gap: 12px;\n",
              "    }\n",
              "\n",
              "    .colab-df-convert {\n",
              "      background-color: #E8F0FE;\n",
              "      border: none;\n",
              "      border-radius: 50%;\n",
              "      cursor: pointer;\n",
              "      display: none;\n",
              "      fill: #1967D2;\n",
              "      height: 32px;\n",
              "      padding: 0 0 0 0;\n",
              "      width: 32px;\n",
              "    }\n",
              "\n",
              "    .colab-df-convert:hover {\n",
              "      background-color: #E2EBFA;\n",
              "      box-shadow: 0px 1px 2px rgba(60, 64, 67, 0.3), 0px 1px 3px 1px rgba(60, 64, 67, 0.15);\n",
              "      fill: #174EA6;\n",
              "    }\n",
              "\n",
              "    [theme=dark] .colab-df-convert {\n",
              "      background-color: #3B4455;\n",
              "      fill: #D2E3FC;\n",
              "    }\n",
              "\n",
              "    [theme=dark] .colab-df-convert:hover {\n",
              "      background-color: #434B5C;\n",
              "      box-shadow: 0px 1px 3px 1px rgba(0, 0, 0, 0.15);\n",
              "      filter: drop-shadow(0px 1px 2px rgba(0, 0, 0, 0.3));\n",
              "      fill: #FFFFFF;\n",
              "    }\n",
              "  </style>\n",
              "\n",
              "      <script>\n",
              "        const buttonEl =\n",
              "          document.querySelector('#df-48ca9c22-4191-4a9a-8514-bdaa40f7080b button.colab-df-convert');\n",
              "        buttonEl.style.display =\n",
              "          google.colab.kernel.accessAllowed ? 'block' : 'none';\n",
              "\n",
              "        async function convertToInteractive(key) {\n",
              "          const element = document.querySelector('#df-48ca9c22-4191-4a9a-8514-bdaa40f7080b');\n",
              "          const dataTable =\n",
              "            await google.colab.kernel.invokeFunction('convertToInteractive',\n",
              "                                                     [key], {});\n",
              "          if (!dataTable) return;\n",
              "\n",
              "          const docLinkHtml = 'Like what you see? Visit the ' +\n",
              "            '<a target=\"_blank\" href=https://colab.research.google.com/notebooks/data_table.ipynb>data table notebook</a>'\n",
              "            + ' to learn more about interactive tables.';\n",
              "          element.innerHTML = '';\n",
              "          dataTable['output_type'] = 'display_data';\n",
              "          await google.colab.output.renderOutput(dataTable, element);\n",
              "          const docLink = document.createElement('div');\n",
              "          docLink.innerHTML = docLinkHtml;\n",
              "          element.appendChild(docLink);\n",
              "        }\n",
              "      </script>\n",
              "    </div>\n",
              "  </div>\n",
              "  "
            ],
            "text/plain": [
              "    cars_per_cap country  drives_right\n",
              "RU           200  Russia          True"
            ]
          },
          "metadata": {},
          "execution_count": 39
        }
      ]
    },
    {
      "cell_type": "code",
      "source": [
        "# find countries with drives_right is False or cars_per_cap is greater than 600\n",
        "cars[np.logical_or(np.logical_not(cars[\"drives_right\"]), cars[\"cars_per_cap\"] > 600)]"
      ],
      "metadata": {
        "id": "uoZLGUUyPeA5",
        "colab": {
          "base_uri": "https://localhost:8080/",
          "height": 254
        },
        "outputId": "78a0f94d-362d-45a7-a034-ba3314bd9bfa"
      },
      "execution_count": 40,
      "outputs": [
        {
          "output_type": "execute_result",
          "data": {
            "text/html": [
              "\n",
              "  <div id=\"df-5319904c-2cf6-4491-841b-5e637264357d\">\n",
              "    <div class=\"colab-df-container\">\n",
              "      <div>\n",
              "<style scoped>\n",
              "    .dataframe tbody tr th:only-of-type {\n",
              "        vertical-align: middle;\n",
              "    }\n",
              "\n",
              "    .dataframe tbody tr th {\n",
              "        vertical-align: top;\n",
              "    }\n",
              "\n",
              "    .dataframe thead th {\n",
              "        text-align: right;\n",
              "    }\n",
              "</style>\n",
              "<table border=\"1\" class=\"dataframe\">\n",
              "  <thead>\n",
              "    <tr style=\"text-align: right;\">\n",
              "      <th></th>\n",
              "      <th>cars_per_cap</th>\n",
              "      <th>country</th>\n",
              "      <th>drives_right</th>\n",
              "    </tr>\n",
              "  </thead>\n",
              "  <tbody>\n",
              "    <tr>\n",
              "      <th>US</th>\n",
              "      <td>809</td>\n",
              "      <td>United States</td>\n",
              "      <td>True</td>\n",
              "    </tr>\n",
              "    <tr>\n",
              "      <th>AUS</th>\n",
              "      <td>731</td>\n",
              "      <td>Australia</td>\n",
              "      <td>False</td>\n",
              "    </tr>\n",
              "    <tr>\n",
              "      <th>JPN</th>\n",
              "      <td>588</td>\n",
              "      <td>Japan</td>\n",
              "      <td>False</td>\n",
              "    </tr>\n",
              "    <tr>\n",
              "      <th>IN</th>\n",
              "      <td>18</td>\n",
              "      <td>India</td>\n",
              "      <td>False</td>\n",
              "    </tr>\n",
              "  </tbody>\n",
              "</table>\n",
              "</div>\n",
              "      <button class=\"colab-df-convert\" onclick=\"convertToInteractive('df-5319904c-2cf6-4491-841b-5e637264357d')\"\n",
              "              title=\"Convert this dataframe to an interactive table.\"\n",
              "              style=\"display:none;\">\n",
              "        \n",
              "  <svg xmlns=\"http://www.w3.org/2000/svg\" height=\"24px\"viewBox=\"0 0 24 24\"\n",
              "       width=\"24px\">\n",
              "    <path d=\"M0 0h24v24H0V0z\" fill=\"none\"/>\n",
              "    <path d=\"M18.56 5.44l.94 2.06.94-2.06 2.06-.94-2.06-.94-.94-2.06-.94 2.06-2.06.94zm-11 1L8.5 8.5l.94-2.06 2.06-.94-2.06-.94L8.5 2.5l-.94 2.06-2.06.94zm10 10l.94 2.06.94-2.06 2.06-.94-2.06-.94-.94-2.06-.94 2.06-2.06.94z\"/><path d=\"M17.41 7.96l-1.37-1.37c-.4-.4-.92-.59-1.43-.59-.52 0-1.04.2-1.43.59L10.3 9.45l-7.72 7.72c-.78.78-.78 2.05 0 2.83L4 21.41c.39.39.9.59 1.41.59.51 0 1.02-.2 1.41-.59l7.78-7.78 2.81-2.81c.8-.78.8-2.07 0-2.86zM5.41 20L4 18.59l7.72-7.72 1.47 1.35L5.41 20z\"/>\n",
              "  </svg>\n",
              "      </button>\n",
              "      \n",
              "  <style>\n",
              "    .colab-df-container {\n",
              "      display:flex;\n",
              "      flex-wrap:wrap;\n",
              "      gap: 12px;\n",
              "    }\n",
              "\n",
              "    .colab-df-convert {\n",
              "      background-color: #E8F0FE;\n",
              "      border: none;\n",
              "      border-radius: 50%;\n",
              "      cursor: pointer;\n",
              "      display: none;\n",
              "      fill: #1967D2;\n",
              "      height: 32px;\n",
              "      padding: 0 0 0 0;\n",
              "      width: 32px;\n",
              "    }\n",
              "\n",
              "    .colab-df-convert:hover {\n",
              "      background-color: #E2EBFA;\n",
              "      box-shadow: 0px 1px 2px rgba(60, 64, 67, 0.3), 0px 1px 3px 1px rgba(60, 64, 67, 0.15);\n",
              "      fill: #174EA6;\n",
              "    }\n",
              "\n",
              "    [theme=dark] .colab-df-convert {\n",
              "      background-color: #3B4455;\n",
              "      fill: #D2E3FC;\n",
              "    }\n",
              "\n",
              "    [theme=dark] .colab-df-convert:hover {\n",
              "      background-color: #434B5C;\n",
              "      box-shadow: 0px 1px 3px 1px rgba(0, 0, 0, 0.15);\n",
              "      filter: drop-shadow(0px 1px 2px rgba(0, 0, 0, 0.3));\n",
              "      fill: #FFFFFF;\n",
              "    }\n",
              "  </style>\n",
              "\n",
              "      <script>\n",
              "        const buttonEl =\n",
              "          document.querySelector('#df-5319904c-2cf6-4491-841b-5e637264357d button.colab-df-convert');\n",
              "        buttonEl.style.display =\n",
              "          google.colab.kernel.accessAllowed ? 'block' : 'none';\n",
              "\n",
              "        async function convertToInteractive(key) {\n",
              "          const element = document.querySelector('#df-5319904c-2cf6-4491-841b-5e637264357d');\n",
              "          const dataTable =\n",
              "            await google.colab.kernel.invokeFunction('convertToInteractive',\n",
              "                                                     [key], {});\n",
              "          if (!dataTable) return;\n",
              "\n",
              "          const docLinkHtml = 'Like what you see? Visit the ' +\n",
              "            '<a target=\"_blank\" href=https://colab.research.google.com/notebooks/data_table.ipynb>data table notebook</a>'\n",
              "            + ' to learn more about interactive tables.';\n",
              "          element.innerHTML = '';\n",
              "          dataTable['output_type'] = 'display_data';\n",
              "          await google.colab.output.renderOutput(dataTable, element);\n",
              "          const docLink = document.createElement('div');\n",
              "          docLink.innerHTML = docLinkHtml;\n",
              "          element.appendChild(docLink);\n",
              "        }\n",
              "      </script>\n",
              "    </div>\n",
              "  </div>\n",
              "  "
            ],
            "text/plain": [
              "     cars_per_cap        country  drives_right\n",
              "US            809  United States          True\n",
              "AUS           731      Australia         False\n",
              "JPN           588          Japan         False\n",
              "IN             18          India         False"
            ]
          },
          "metadata": {},
          "execution_count": 40
        }
      ]
    },
    {
      "cell_type": "markdown",
      "source": [
        "## Loops"
      ],
      "metadata": {
        "id": "4e9AiUv1SISW"
      }
    },
    {
      "cell_type": "code",
      "source": [
        "areas = [11.25, 18.0, 20.0, 10.75, 9.50]\n",
        "for area in areas:\n",
        "    print(area)"
      ],
      "metadata": {
        "id": "Eqn9rebeceZ6",
        "colab": {
          "base_uri": "https://localhost:8080/"
        },
        "outputId": "df19a405-276e-49dd-f442-54c83bec039d"
      },
      "execution_count": 41,
      "outputs": [
        {
          "output_type": "stream",
          "name": "stdout",
          "text": [
            "11.25\n",
            "18.0\n",
            "20.0\n",
            "10.75\n",
            "9.5\n"
          ]
        }
      ]
    },
    {
      "cell_type": "code",
      "source": [
        "areas = [11.25, 18.0, 20.0, 10.75, 9.50]\n",
        "for index, area in enumerate(areas):\n",
        "    print(\"room \" + str(index+1) + \": \" + str(area))"
      ],
      "metadata": {
        "id": "Sc6j7VNscOe5",
        "colab": {
          "base_uri": "https://localhost:8080/"
        },
        "outputId": "a05d3b02-ccb1-4c8e-8449-1698edc2275d"
      },
      "execution_count": 42,
      "outputs": [
        {
          "output_type": "stream",
          "name": "stdout",
          "text": [
            "room 1: 11.25\n",
            "room 2: 18.0\n",
            "room 3: 20.0\n",
            "room 4: 10.75\n",
            "room 5: 9.5\n"
          ]
        }
      ]
    },
    {
      "cell_type": "code",
      "source": [
        "world = {\n",
        "    \"afghanistan\": 30.55,\n",
        "    \"albania\": 2.77,\n",
        "    \"algeria\": 39.21\n",
        "}\n",
        "for k, v in world.items():\n",
        "    print(k + \" -- \" + str(v))"
      ],
      "metadata": {
        "id": "x9bXUaz2SJSQ",
        "colab": {
          "base_uri": "https://localhost:8080/"
        },
        "outputId": "86cea353-baef-4ec7-c09e-149b0a610adf"
      },
      "execution_count": 43,
      "outputs": [
        {
          "output_type": "stream",
          "name": "stdout",
          "text": [
            "afghanistan -- 30.55\n",
            "albania -- 2.77\n",
            "algeria -- 39.21\n"
          ]
        }
      ]
    },
    {
      "cell_type": "code",
      "source": [
        "np_height = np.array([1.73, 1.68, 1.71, 1.89, 1.79])\n",
        "np_weight = np.array([65.4, 59.2, 63.6, 88.4, 68.7])\n",
        "meas = np.array([np_height, np_weight])\n",
        "\n",
        "# for loop cannot print every element individually in 2d numpy arrays\n",
        "for val in meas:\n",
        "    print(val)"
      ],
      "metadata": {
        "id": "jZ_obG8rb3Nu",
        "colab": {
          "base_uri": "https://localhost:8080/"
        },
        "outputId": "40eddfef-1242-4237-b605-6a5ee6b333a4"
      },
      "execution_count": 44,
      "outputs": [
        {
          "output_type": "stream",
          "name": "stdout",
          "text": [
            "[1.73 1.68 1.71 1.89 1.79]\n",
            "[65.4 59.2 63.6 88.4 68.7]\n"
          ]
        }
      ]
    },
    {
      "cell_type": "code",
      "source": [
        "# in order to print every element in a 2d numpy array\n",
        "\n",
        "for val in np.nditer(meas):\n",
        "    print(val)"
      ],
      "metadata": {
        "id": "SwNWVOjNc6Po",
        "colab": {
          "base_uri": "https://localhost:8080/"
        },
        "outputId": "67bc9c67-6ae6-4f1b-9028-41e3ca49638e"
      },
      "execution_count": 45,
      "outputs": [
        {
          "output_type": "stream",
          "name": "stdout",
          "text": [
            "1.73\n",
            "1.68\n",
            "1.71\n",
            "1.89\n",
            "1.79\n",
            "65.4\n",
            "59.2\n",
            "63.6\n",
            "88.4\n",
            "68.7\n"
          ]
        }
      ]
    },
    {
      "cell_type": "code",
      "source": [
        "# test data\n",
        "test_data = {\n",
        "    \"country\": [\"Brazil\", \"Russia\", \"India\", \"China\", \"South Africa\"],\n",
        "    \"capital\": [\"Brasilia\", \"Moscow\", \"New Delhi\", \"Beijing\", \"Pretoria\"],\n",
        "    \"area\": [8.516, 17.100, 3.286, 9.597, 1.221],\n",
        "    \"population\": [200.40, 143.50, 1252.00, 1357.00, 52.98]\n",
        "}\n",
        "\n",
        "brics = pd.DataFrame(test_data, index=[\"BR\", \"RU\", \"IN\", \"CH\", \"SA\"])\n",
        "brics"
      ],
      "metadata": {
        "id": "36QppMpMdKjX",
        "colab": {
          "base_uri": "https://localhost:8080/",
          "height": 302
        },
        "outputId": "10a35a04-4a7d-4c27-8515-1c41e35e1ffc"
      },
      "execution_count": 46,
      "outputs": [
        {
          "output_type": "execute_result",
          "data": {
            "text/html": [
              "\n",
              "  <div id=\"df-e4db7150-3c86-44e3-b410-027f2ff89e62\">\n",
              "    <div class=\"colab-df-container\">\n",
              "      <div>\n",
              "<style scoped>\n",
              "    .dataframe tbody tr th:only-of-type {\n",
              "        vertical-align: middle;\n",
              "    }\n",
              "\n",
              "    .dataframe tbody tr th {\n",
              "        vertical-align: top;\n",
              "    }\n",
              "\n",
              "    .dataframe thead th {\n",
              "        text-align: right;\n",
              "    }\n",
              "</style>\n",
              "<table border=\"1\" class=\"dataframe\">\n",
              "  <thead>\n",
              "    <tr style=\"text-align: right;\">\n",
              "      <th></th>\n",
              "      <th>country</th>\n",
              "      <th>capital</th>\n",
              "      <th>area</th>\n",
              "      <th>population</th>\n",
              "    </tr>\n",
              "  </thead>\n",
              "  <tbody>\n",
              "    <tr>\n",
              "      <th>BR</th>\n",
              "      <td>Brazil</td>\n",
              "      <td>Brasilia</td>\n",
              "      <td>8.516</td>\n",
              "      <td>200.40</td>\n",
              "    </tr>\n",
              "    <tr>\n",
              "      <th>RU</th>\n",
              "      <td>Russia</td>\n",
              "      <td>Moscow</td>\n",
              "      <td>17.100</td>\n",
              "      <td>143.50</td>\n",
              "    </tr>\n",
              "    <tr>\n",
              "      <th>IN</th>\n",
              "      <td>India</td>\n",
              "      <td>New Delhi</td>\n",
              "      <td>3.286</td>\n",
              "      <td>1252.00</td>\n",
              "    </tr>\n",
              "    <tr>\n",
              "      <th>CH</th>\n",
              "      <td>China</td>\n",
              "      <td>Beijing</td>\n",
              "      <td>9.597</td>\n",
              "      <td>1357.00</td>\n",
              "    </tr>\n",
              "    <tr>\n",
              "      <th>SA</th>\n",
              "      <td>South Africa</td>\n",
              "      <td>Pretoria</td>\n",
              "      <td>1.221</td>\n",
              "      <td>52.98</td>\n",
              "    </tr>\n",
              "  </tbody>\n",
              "</table>\n",
              "</div>\n",
              "      <button class=\"colab-df-convert\" onclick=\"convertToInteractive('df-e4db7150-3c86-44e3-b410-027f2ff89e62')\"\n",
              "              title=\"Convert this dataframe to an interactive table.\"\n",
              "              style=\"display:none;\">\n",
              "        \n",
              "  <svg xmlns=\"http://www.w3.org/2000/svg\" height=\"24px\"viewBox=\"0 0 24 24\"\n",
              "       width=\"24px\">\n",
              "    <path d=\"M0 0h24v24H0V0z\" fill=\"none\"/>\n",
              "    <path d=\"M18.56 5.44l.94 2.06.94-2.06 2.06-.94-2.06-.94-.94-2.06-.94 2.06-2.06.94zm-11 1L8.5 8.5l.94-2.06 2.06-.94-2.06-.94L8.5 2.5l-.94 2.06-2.06.94zm10 10l.94 2.06.94-2.06 2.06-.94-2.06-.94-.94-2.06-.94 2.06-2.06.94z\"/><path d=\"M17.41 7.96l-1.37-1.37c-.4-.4-.92-.59-1.43-.59-.52 0-1.04.2-1.43.59L10.3 9.45l-7.72 7.72c-.78.78-.78 2.05 0 2.83L4 21.41c.39.39.9.59 1.41.59.51 0 1.02-.2 1.41-.59l7.78-7.78 2.81-2.81c.8-.78.8-2.07 0-2.86zM5.41 20L4 18.59l7.72-7.72 1.47 1.35L5.41 20z\"/>\n",
              "  </svg>\n",
              "      </button>\n",
              "      \n",
              "  <style>\n",
              "    .colab-df-container {\n",
              "      display:flex;\n",
              "      flex-wrap:wrap;\n",
              "      gap: 12px;\n",
              "    }\n",
              "\n",
              "    .colab-df-convert {\n",
              "      background-color: #E8F0FE;\n",
              "      border: none;\n",
              "      border-radius: 50%;\n",
              "      cursor: pointer;\n",
              "      display: none;\n",
              "      fill: #1967D2;\n",
              "      height: 32px;\n",
              "      padding: 0 0 0 0;\n",
              "      width: 32px;\n",
              "    }\n",
              "\n",
              "    .colab-df-convert:hover {\n",
              "      background-color: #E2EBFA;\n",
              "      box-shadow: 0px 1px 2px rgba(60, 64, 67, 0.3), 0px 1px 3px 1px rgba(60, 64, 67, 0.15);\n",
              "      fill: #174EA6;\n",
              "    }\n",
              "\n",
              "    [theme=dark] .colab-df-convert {\n",
              "      background-color: #3B4455;\n",
              "      fill: #D2E3FC;\n",
              "    }\n",
              "\n",
              "    [theme=dark] .colab-df-convert:hover {\n",
              "      background-color: #434B5C;\n",
              "      box-shadow: 0px 1px 3px 1px rgba(0, 0, 0, 0.15);\n",
              "      filter: drop-shadow(0px 1px 2px rgba(0, 0, 0, 0.3));\n",
              "      fill: #FFFFFF;\n",
              "    }\n",
              "  </style>\n",
              "\n",
              "      <script>\n",
              "        const buttonEl =\n",
              "          document.querySelector('#df-e4db7150-3c86-44e3-b410-027f2ff89e62 button.colab-df-convert');\n",
              "        buttonEl.style.display =\n",
              "          google.colab.kernel.accessAllowed ? 'block' : 'none';\n",
              "\n",
              "        async function convertToInteractive(key) {\n",
              "          const element = document.querySelector('#df-e4db7150-3c86-44e3-b410-027f2ff89e62');\n",
              "          const dataTable =\n",
              "            await google.colab.kernel.invokeFunction('convertToInteractive',\n",
              "                                                     [key], {});\n",
              "          if (!dataTable) return;\n",
              "\n",
              "          const docLinkHtml = 'Like what you see? Visit the ' +\n",
              "            '<a target=\"_blank\" href=https://colab.research.google.com/notebooks/data_table.ipynb>data table notebook</a>'\n",
              "            + ' to learn more about interactive tables.';\n",
              "          element.innerHTML = '';\n",
              "          dataTable['output_type'] = 'display_data';\n",
              "          await google.colab.output.renderOutput(dataTable, element);\n",
              "          const docLink = document.createElement('div');\n",
              "          docLink.innerHTML = docLinkHtml;\n",
              "          element.appendChild(docLink);\n",
              "        }\n",
              "      </script>\n",
              "    </div>\n",
              "  </div>\n",
              "  "
            ],
            "text/plain": [
              "         country    capital    area  population\n",
              "BR        Brazil   Brasilia   8.516      200.40\n",
              "RU        Russia     Moscow  17.100      143.50\n",
              "IN         India  New Delhi   3.286     1252.00\n",
              "CH         China    Beijing   9.597     1357.00\n",
              "SA  South Africa   Pretoria   1.221       52.98"
            ]
          },
          "metadata": {},
          "execution_count": 46
        }
      ]
    },
    {
      "cell_type": "code",
      "source": [
        "# using regular for loop on a dataframe only brings the column names \n",
        "for val in brics:\n",
        "    print(val)"
      ],
      "metadata": {
        "id": "06aAHB6xe-MJ",
        "colab": {
          "base_uri": "https://localhost:8080/"
        },
        "outputId": "6bf506e0-0c07-49f7-dda7-5cf14474cd50"
      },
      "execution_count": 47,
      "outputs": [
        {
          "output_type": "stream",
          "name": "stdout",
          "text": [
            "country\n",
            "capital\n",
            "area\n",
            "population\n"
          ]
        }
      ]
    },
    {
      "cell_type": "code",
      "source": [
        "# iterrows() creates a pandas series in every iteration \n",
        "for lab, row in brics.iterrows():\n",
        "    print(lab)\n",
        "    print(row)"
      ],
      "metadata": {
        "id": "wEMqgpX6fvt_",
        "colab": {
          "base_uri": "https://localhost:8080/"
        },
        "outputId": "d2c7bd31-9c37-461c-d1cd-4e6bfe48dceb"
      },
      "execution_count": 48,
      "outputs": [
        {
          "output_type": "stream",
          "name": "stdout",
          "text": [
            "BR\n",
            "country         Brazil\n",
            "capital       Brasilia\n",
            "area             8.516\n",
            "population       200.4\n",
            "Name: BR, dtype: object\n",
            "RU\n",
            "country       Russia\n",
            "capital       Moscow\n",
            "area            17.1\n",
            "population     143.5\n",
            "Name: RU, dtype: object\n",
            "IN\n",
            "country           India\n",
            "capital       New Delhi\n",
            "area              3.286\n",
            "population       1252.0\n",
            "Name: IN, dtype: object\n",
            "CH\n",
            "country         China\n",
            "capital       Beijing\n",
            "area            9.597\n",
            "population     1357.0\n",
            "Name: CH, dtype: object\n",
            "SA\n",
            "country       South Africa\n",
            "capital           Pretoria\n",
            "area                 1.221\n",
            "population           52.98\n",
            "Name: SA, dtype: object\n"
          ]
        }
      ]
    },
    {
      "cell_type": "code",
      "source": [
        "# we can add new column like this\n",
        "# but this approach is not efficient with large dataframes\n",
        "for lab, row in brics.iterrows():\n",
        "    brics.loc[lab, \"country_length\"] = len(row[\"country\"])\n",
        "brics"
      ],
      "metadata": {
        "id": "B3c7CO3xf83W",
        "colab": {
          "base_uri": "https://localhost:8080/",
          "height": 302
        },
        "outputId": "abf0f095-4b38-49c5-e062-05acc74f2f31"
      },
      "execution_count": 49,
      "outputs": [
        {
          "output_type": "execute_result",
          "data": {
            "text/html": [
              "\n",
              "  <div id=\"df-7e63e6b6-266e-4032-a757-fdc974763a2e\">\n",
              "    <div class=\"colab-df-container\">\n",
              "      <div>\n",
              "<style scoped>\n",
              "    .dataframe tbody tr th:only-of-type {\n",
              "        vertical-align: middle;\n",
              "    }\n",
              "\n",
              "    .dataframe tbody tr th {\n",
              "        vertical-align: top;\n",
              "    }\n",
              "\n",
              "    .dataframe thead th {\n",
              "        text-align: right;\n",
              "    }\n",
              "</style>\n",
              "<table border=\"1\" class=\"dataframe\">\n",
              "  <thead>\n",
              "    <tr style=\"text-align: right;\">\n",
              "      <th></th>\n",
              "      <th>country</th>\n",
              "      <th>capital</th>\n",
              "      <th>area</th>\n",
              "      <th>population</th>\n",
              "      <th>country_length</th>\n",
              "    </tr>\n",
              "  </thead>\n",
              "  <tbody>\n",
              "    <tr>\n",
              "      <th>BR</th>\n",
              "      <td>Brazil</td>\n",
              "      <td>Brasilia</td>\n",
              "      <td>8.516</td>\n",
              "      <td>200.40</td>\n",
              "      <td>6.0</td>\n",
              "    </tr>\n",
              "    <tr>\n",
              "      <th>RU</th>\n",
              "      <td>Russia</td>\n",
              "      <td>Moscow</td>\n",
              "      <td>17.100</td>\n",
              "      <td>143.50</td>\n",
              "      <td>6.0</td>\n",
              "    </tr>\n",
              "    <tr>\n",
              "      <th>IN</th>\n",
              "      <td>India</td>\n",
              "      <td>New Delhi</td>\n",
              "      <td>3.286</td>\n",
              "      <td>1252.00</td>\n",
              "      <td>5.0</td>\n",
              "    </tr>\n",
              "    <tr>\n",
              "      <th>CH</th>\n",
              "      <td>China</td>\n",
              "      <td>Beijing</td>\n",
              "      <td>9.597</td>\n",
              "      <td>1357.00</td>\n",
              "      <td>5.0</td>\n",
              "    </tr>\n",
              "    <tr>\n",
              "      <th>SA</th>\n",
              "      <td>South Africa</td>\n",
              "      <td>Pretoria</td>\n",
              "      <td>1.221</td>\n",
              "      <td>52.98</td>\n",
              "      <td>12.0</td>\n",
              "    </tr>\n",
              "  </tbody>\n",
              "</table>\n",
              "</div>\n",
              "      <button class=\"colab-df-convert\" onclick=\"convertToInteractive('df-7e63e6b6-266e-4032-a757-fdc974763a2e')\"\n",
              "              title=\"Convert this dataframe to an interactive table.\"\n",
              "              style=\"display:none;\">\n",
              "        \n",
              "  <svg xmlns=\"http://www.w3.org/2000/svg\" height=\"24px\"viewBox=\"0 0 24 24\"\n",
              "       width=\"24px\">\n",
              "    <path d=\"M0 0h24v24H0V0z\" fill=\"none\"/>\n",
              "    <path d=\"M18.56 5.44l.94 2.06.94-2.06 2.06-.94-2.06-.94-.94-2.06-.94 2.06-2.06.94zm-11 1L8.5 8.5l.94-2.06 2.06-.94-2.06-.94L8.5 2.5l-.94 2.06-2.06.94zm10 10l.94 2.06.94-2.06 2.06-.94-2.06-.94-.94-2.06-.94 2.06-2.06.94z\"/><path d=\"M17.41 7.96l-1.37-1.37c-.4-.4-.92-.59-1.43-.59-.52 0-1.04.2-1.43.59L10.3 9.45l-7.72 7.72c-.78.78-.78 2.05 0 2.83L4 21.41c.39.39.9.59 1.41.59.51 0 1.02-.2 1.41-.59l7.78-7.78 2.81-2.81c.8-.78.8-2.07 0-2.86zM5.41 20L4 18.59l7.72-7.72 1.47 1.35L5.41 20z\"/>\n",
              "  </svg>\n",
              "      </button>\n",
              "      \n",
              "  <style>\n",
              "    .colab-df-container {\n",
              "      display:flex;\n",
              "      flex-wrap:wrap;\n",
              "      gap: 12px;\n",
              "    }\n",
              "\n",
              "    .colab-df-convert {\n",
              "      background-color: #E8F0FE;\n",
              "      border: none;\n",
              "      border-radius: 50%;\n",
              "      cursor: pointer;\n",
              "      display: none;\n",
              "      fill: #1967D2;\n",
              "      height: 32px;\n",
              "      padding: 0 0 0 0;\n",
              "      width: 32px;\n",
              "    }\n",
              "\n",
              "    .colab-df-convert:hover {\n",
              "      background-color: #E2EBFA;\n",
              "      box-shadow: 0px 1px 2px rgba(60, 64, 67, 0.3), 0px 1px 3px 1px rgba(60, 64, 67, 0.15);\n",
              "      fill: #174EA6;\n",
              "    }\n",
              "\n",
              "    [theme=dark] .colab-df-convert {\n",
              "      background-color: #3B4455;\n",
              "      fill: #D2E3FC;\n",
              "    }\n",
              "\n",
              "    [theme=dark] .colab-df-convert:hover {\n",
              "      background-color: #434B5C;\n",
              "      box-shadow: 0px 1px 3px 1px rgba(0, 0, 0, 0.15);\n",
              "      filter: drop-shadow(0px 1px 2px rgba(0, 0, 0, 0.3));\n",
              "      fill: #FFFFFF;\n",
              "    }\n",
              "  </style>\n",
              "\n",
              "      <script>\n",
              "        const buttonEl =\n",
              "          document.querySelector('#df-7e63e6b6-266e-4032-a757-fdc974763a2e button.colab-df-convert');\n",
              "        buttonEl.style.display =\n",
              "          google.colab.kernel.accessAllowed ? 'block' : 'none';\n",
              "\n",
              "        async function convertToInteractive(key) {\n",
              "          const element = document.querySelector('#df-7e63e6b6-266e-4032-a757-fdc974763a2e');\n",
              "          const dataTable =\n",
              "            await google.colab.kernel.invokeFunction('convertToInteractive',\n",
              "                                                     [key], {});\n",
              "          if (!dataTable) return;\n",
              "\n",
              "          const docLinkHtml = 'Like what you see? Visit the ' +\n",
              "            '<a target=\"_blank\" href=https://colab.research.google.com/notebooks/data_table.ipynb>data table notebook</a>'\n",
              "            + ' to learn more about interactive tables.';\n",
              "          element.innerHTML = '';\n",
              "          dataTable['output_type'] = 'display_data';\n",
              "          await google.colab.output.renderOutput(dataTable, element);\n",
              "          const docLink = document.createElement('div');\n",
              "          docLink.innerHTML = docLinkHtml;\n",
              "          element.appendChild(docLink);\n",
              "        }\n",
              "      </script>\n",
              "    </div>\n",
              "  </div>\n",
              "  "
            ],
            "text/plain": [
              "         country    capital    area  population  country_length\n",
              "BR        Brazil   Brasilia   8.516      200.40             6.0\n",
              "RU        Russia     Moscow  17.100      143.50             6.0\n",
              "IN         India  New Delhi   3.286     1252.00             5.0\n",
              "CH         China    Beijing   9.597     1357.00             5.0\n",
              "SA  South Africa   Pretoria   1.221       52.98            12.0"
            ]
          },
          "metadata": {},
          "execution_count": 49
        }
      ]
    },
    {
      "cell_type": "code",
      "source": [
        "# we can do it without a loop by using apply() method\n",
        "# with this approach we don't create pandas series in every iteration\n",
        "brics[\"country_length\"] = brics[\"country\"].apply(len)\n",
        "brics"
      ],
      "metadata": {
        "id": "0A4aSotEgvzo",
        "colab": {
          "base_uri": "https://localhost:8080/",
          "height": 302
        },
        "outputId": "0dffb442-e88f-4742-99b5-21f5956e7a99"
      },
      "execution_count": 50,
      "outputs": [
        {
          "output_type": "execute_result",
          "data": {
            "text/html": [
              "\n",
              "  <div id=\"df-6d3c5dad-f24c-41e3-91ce-2443b2006625\">\n",
              "    <div class=\"colab-df-container\">\n",
              "      <div>\n",
              "<style scoped>\n",
              "    .dataframe tbody tr th:only-of-type {\n",
              "        vertical-align: middle;\n",
              "    }\n",
              "\n",
              "    .dataframe tbody tr th {\n",
              "        vertical-align: top;\n",
              "    }\n",
              "\n",
              "    .dataframe thead th {\n",
              "        text-align: right;\n",
              "    }\n",
              "</style>\n",
              "<table border=\"1\" class=\"dataframe\">\n",
              "  <thead>\n",
              "    <tr style=\"text-align: right;\">\n",
              "      <th></th>\n",
              "      <th>country</th>\n",
              "      <th>capital</th>\n",
              "      <th>area</th>\n",
              "      <th>population</th>\n",
              "      <th>country_length</th>\n",
              "    </tr>\n",
              "  </thead>\n",
              "  <tbody>\n",
              "    <tr>\n",
              "      <th>BR</th>\n",
              "      <td>Brazil</td>\n",
              "      <td>Brasilia</td>\n",
              "      <td>8.516</td>\n",
              "      <td>200.40</td>\n",
              "      <td>6</td>\n",
              "    </tr>\n",
              "    <tr>\n",
              "      <th>RU</th>\n",
              "      <td>Russia</td>\n",
              "      <td>Moscow</td>\n",
              "      <td>17.100</td>\n",
              "      <td>143.50</td>\n",
              "      <td>6</td>\n",
              "    </tr>\n",
              "    <tr>\n",
              "      <th>IN</th>\n",
              "      <td>India</td>\n",
              "      <td>New Delhi</td>\n",
              "      <td>3.286</td>\n",
              "      <td>1252.00</td>\n",
              "      <td>5</td>\n",
              "    </tr>\n",
              "    <tr>\n",
              "      <th>CH</th>\n",
              "      <td>China</td>\n",
              "      <td>Beijing</td>\n",
              "      <td>9.597</td>\n",
              "      <td>1357.00</td>\n",
              "      <td>5</td>\n",
              "    </tr>\n",
              "    <tr>\n",
              "      <th>SA</th>\n",
              "      <td>South Africa</td>\n",
              "      <td>Pretoria</td>\n",
              "      <td>1.221</td>\n",
              "      <td>52.98</td>\n",
              "      <td>12</td>\n",
              "    </tr>\n",
              "  </tbody>\n",
              "</table>\n",
              "</div>\n",
              "      <button class=\"colab-df-convert\" onclick=\"convertToInteractive('df-6d3c5dad-f24c-41e3-91ce-2443b2006625')\"\n",
              "              title=\"Convert this dataframe to an interactive table.\"\n",
              "              style=\"display:none;\">\n",
              "        \n",
              "  <svg xmlns=\"http://www.w3.org/2000/svg\" height=\"24px\"viewBox=\"0 0 24 24\"\n",
              "       width=\"24px\">\n",
              "    <path d=\"M0 0h24v24H0V0z\" fill=\"none\"/>\n",
              "    <path d=\"M18.56 5.44l.94 2.06.94-2.06 2.06-.94-2.06-.94-.94-2.06-.94 2.06-2.06.94zm-11 1L8.5 8.5l.94-2.06 2.06-.94-2.06-.94L8.5 2.5l-.94 2.06-2.06.94zm10 10l.94 2.06.94-2.06 2.06-.94-2.06-.94-.94-2.06-.94 2.06-2.06.94z\"/><path d=\"M17.41 7.96l-1.37-1.37c-.4-.4-.92-.59-1.43-.59-.52 0-1.04.2-1.43.59L10.3 9.45l-7.72 7.72c-.78.78-.78 2.05 0 2.83L4 21.41c.39.39.9.59 1.41.59.51 0 1.02-.2 1.41-.59l7.78-7.78 2.81-2.81c.8-.78.8-2.07 0-2.86zM5.41 20L4 18.59l7.72-7.72 1.47 1.35L5.41 20z\"/>\n",
              "  </svg>\n",
              "      </button>\n",
              "      \n",
              "  <style>\n",
              "    .colab-df-container {\n",
              "      display:flex;\n",
              "      flex-wrap:wrap;\n",
              "      gap: 12px;\n",
              "    }\n",
              "\n",
              "    .colab-df-convert {\n",
              "      background-color: #E8F0FE;\n",
              "      border: none;\n",
              "      border-radius: 50%;\n",
              "      cursor: pointer;\n",
              "      display: none;\n",
              "      fill: #1967D2;\n",
              "      height: 32px;\n",
              "      padding: 0 0 0 0;\n",
              "      width: 32px;\n",
              "    }\n",
              "\n",
              "    .colab-df-convert:hover {\n",
              "      background-color: #E2EBFA;\n",
              "      box-shadow: 0px 1px 2px rgba(60, 64, 67, 0.3), 0px 1px 3px 1px rgba(60, 64, 67, 0.15);\n",
              "      fill: #174EA6;\n",
              "    }\n",
              "\n",
              "    [theme=dark] .colab-df-convert {\n",
              "      background-color: #3B4455;\n",
              "      fill: #D2E3FC;\n",
              "    }\n",
              "\n",
              "    [theme=dark] .colab-df-convert:hover {\n",
              "      background-color: #434B5C;\n",
              "      box-shadow: 0px 1px 3px 1px rgba(0, 0, 0, 0.15);\n",
              "      filter: drop-shadow(0px 1px 2px rgba(0, 0, 0, 0.3));\n",
              "      fill: #FFFFFF;\n",
              "    }\n",
              "  </style>\n",
              "\n",
              "      <script>\n",
              "        const buttonEl =\n",
              "          document.querySelector('#df-6d3c5dad-f24c-41e3-91ce-2443b2006625 button.colab-df-convert');\n",
              "        buttonEl.style.display =\n",
              "          google.colab.kernel.accessAllowed ? 'block' : 'none';\n",
              "\n",
              "        async function convertToInteractive(key) {\n",
              "          const element = document.querySelector('#df-6d3c5dad-f24c-41e3-91ce-2443b2006625');\n",
              "          const dataTable =\n",
              "            await google.colab.kernel.invokeFunction('convertToInteractive',\n",
              "                                                     [key], {});\n",
              "          if (!dataTable) return;\n",
              "\n",
              "          const docLinkHtml = 'Like what you see? Visit the ' +\n",
              "            '<a target=\"_blank\" href=https://colab.research.google.com/notebooks/data_table.ipynb>data table notebook</a>'\n",
              "            + ' to learn more about interactive tables.';\n",
              "          element.innerHTML = '';\n",
              "          dataTable['output_type'] = 'display_data';\n",
              "          await google.colab.output.renderOutput(dataTable, element);\n",
              "          const docLink = document.createElement('div');\n",
              "          docLink.innerHTML = docLinkHtml;\n",
              "          element.appendChild(docLink);\n",
              "        }\n",
              "      </script>\n",
              "    </div>\n",
              "  </div>\n",
              "  "
            ],
            "text/plain": [
              "         country    capital    area  population  country_length\n",
              "BR        Brazil   Brasilia   8.516      200.40               6\n",
              "RU        Russia     Moscow  17.100      143.50               6\n",
              "IN         India  New Delhi   3.286     1252.00               5\n",
              "CH         China    Beijing   9.597     1357.00               5\n",
              "SA  South Africa   Pretoria   1.221       52.98              12"
            ]
          },
          "metadata": {},
          "execution_count": 50
        }
      ]
    },
    {
      "cell_type": "code",
      "source": [
        "# adding a new column \"COUNTRY\" which is uppercase of \"country\" column \n",
        "# not efficient\n",
        "for lab, row in cars.iterrows():\n",
        "    cars.loc[lab, \"COUNTRY\"] = row[\"country\"].upper()\n",
        "cars"
      ],
      "metadata": {
        "id": "2zDEKkinhFVL",
        "colab": {
          "base_uri": "https://localhost:8080/",
          "height": 347
        },
        "outputId": "80cc14f2-0ef2-47e4-d1e3-d27ea4cd295e"
      },
      "execution_count": 51,
      "outputs": [
        {
          "output_type": "execute_result",
          "data": {
            "text/html": [
              "\n",
              "  <div id=\"df-c626d383-e92a-4d21-b2ed-9d913d3ff42e\">\n",
              "    <div class=\"colab-df-container\">\n",
              "      <div>\n",
              "<style scoped>\n",
              "    .dataframe tbody tr th:only-of-type {\n",
              "        vertical-align: middle;\n",
              "    }\n",
              "\n",
              "    .dataframe tbody tr th {\n",
              "        vertical-align: top;\n",
              "    }\n",
              "\n",
              "    .dataframe thead th {\n",
              "        text-align: right;\n",
              "    }\n",
              "</style>\n",
              "<table border=\"1\" class=\"dataframe\">\n",
              "  <thead>\n",
              "    <tr style=\"text-align: right;\">\n",
              "      <th></th>\n",
              "      <th>cars_per_cap</th>\n",
              "      <th>country</th>\n",
              "      <th>drives_right</th>\n",
              "      <th>COUNTRY</th>\n",
              "    </tr>\n",
              "  </thead>\n",
              "  <tbody>\n",
              "    <tr>\n",
              "      <th>US</th>\n",
              "      <td>809</td>\n",
              "      <td>United States</td>\n",
              "      <td>True</td>\n",
              "      <td>UNITED STATES</td>\n",
              "    </tr>\n",
              "    <tr>\n",
              "      <th>AUS</th>\n",
              "      <td>731</td>\n",
              "      <td>Australia</td>\n",
              "      <td>False</td>\n",
              "      <td>AUSTRALIA</td>\n",
              "    </tr>\n",
              "    <tr>\n",
              "      <th>JPN</th>\n",
              "      <td>588</td>\n",
              "      <td>Japan</td>\n",
              "      <td>False</td>\n",
              "      <td>JAPAN</td>\n",
              "    </tr>\n",
              "    <tr>\n",
              "      <th>IN</th>\n",
              "      <td>18</td>\n",
              "      <td>India</td>\n",
              "      <td>False</td>\n",
              "      <td>INDIA</td>\n",
              "    </tr>\n",
              "    <tr>\n",
              "      <th>RU</th>\n",
              "      <td>200</td>\n",
              "      <td>Russia</td>\n",
              "      <td>True</td>\n",
              "      <td>RUSSIA</td>\n",
              "    </tr>\n",
              "    <tr>\n",
              "      <th>MOR</th>\n",
              "      <td>70</td>\n",
              "      <td>Morocco</td>\n",
              "      <td>True</td>\n",
              "      <td>MOROCCO</td>\n",
              "    </tr>\n",
              "    <tr>\n",
              "      <th>EG</th>\n",
              "      <td>45</td>\n",
              "      <td>Egypt</td>\n",
              "      <td>True</td>\n",
              "      <td>EGYPT</td>\n",
              "    </tr>\n",
              "  </tbody>\n",
              "</table>\n",
              "</div>\n",
              "      <button class=\"colab-df-convert\" onclick=\"convertToInteractive('df-c626d383-e92a-4d21-b2ed-9d913d3ff42e')\"\n",
              "              title=\"Convert this dataframe to an interactive table.\"\n",
              "              style=\"display:none;\">\n",
              "        \n",
              "  <svg xmlns=\"http://www.w3.org/2000/svg\" height=\"24px\"viewBox=\"0 0 24 24\"\n",
              "       width=\"24px\">\n",
              "    <path d=\"M0 0h24v24H0V0z\" fill=\"none\"/>\n",
              "    <path d=\"M18.56 5.44l.94 2.06.94-2.06 2.06-.94-2.06-.94-.94-2.06-.94 2.06-2.06.94zm-11 1L8.5 8.5l.94-2.06 2.06-.94-2.06-.94L8.5 2.5l-.94 2.06-2.06.94zm10 10l.94 2.06.94-2.06 2.06-.94-2.06-.94-.94-2.06-.94 2.06-2.06.94z\"/><path d=\"M17.41 7.96l-1.37-1.37c-.4-.4-.92-.59-1.43-.59-.52 0-1.04.2-1.43.59L10.3 9.45l-7.72 7.72c-.78.78-.78 2.05 0 2.83L4 21.41c.39.39.9.59 1.41.59.51 0 1.02-.2 1.41-.59l7.78-7.78 2.81-2.81c.8-.78.8-2.07 0-2.86zM5.41 20L4 18.59l7.72-7.72 1.47 1.35L5.41 20z\"/>\n",
              "  </svg>\n",
              "      </button>\n",
              "      \n",
              "  <style>\n",
              "    .colab-df-container {\n",
              "      display:flex;\n",
              "      flex-wrap:wrap;\n",
              "      gap: 12px;\n",
              "    }\n",
              "\n",
              "    .colab-df-convert {\n",
              "      background-color: #E8F0FE;\n",
              "      border: none;\n",
              "      border-radius: 50%;\n",
              "      cursor: pointer;\n",
              "      display: none;\n",
              "      fill: #1967D2;\n",
              "      height: 32px;\n",
              "      padding: 0 0 0 0;\n",
              "      width: 32px;\n",
              "    }\n",
              "\n",
              "    .colab-df-convert:hover {\n",
              "      background-color: #E2EBFA;\n",
              "      box-shadow: 0px 1px 2px rgba(60, 64, 67, 0.3), 0px 1px 3px 1px rgba(60, 64, 67, 0.15);\n",
              "      fill: #174EA6;\n",
              "    }\n",
              "\n",
              "    [theme=dark] .colab-df-convert {\n",
              "      background-color: #3B4455;\n",
              "      fill: #D2E3FC;\n",
              "    }\n",
              "\n",
              "    [theme=dark] .colab-df-convert:hover {\n",
              "      background-color: #434B5C;\n",
              "      box-shadow: 0px 1px 3px 1px rgba(0, 0, 0, 0.15);\n",
              "      filter: drop-shadow(0px 1px 2px rgba(0, 0, 0, 0.3));\n",
              "      fill: #FFFFFF;\n",
              "    }\n",
              "  </style>\n",
              "\n",
              "      <script>\n",
              "        const buttonEl =\n",
              "          document.querySelector('#df-c626d383-e92a-4d21-b2ed-9d913d3ff42e button.colab-df-convert');\n",
              "        buttonEl.style.display =\n",
              "          google.colab.kernel.accessAllowed ? 'block' : 'none';\n",
              "\n",
              "        async function convertToInteractive(key) {\n",
              "          const element = document.querySelector('#df-c626d383-e92a-4d21-b2ed-9d913d3ff42e');\n",
              "          const dataTable =\n",
              "            await google.colab.kernel.invokeFunction('convertToInteractive',\n",
              "                                                     [key], {});\n",
              "          if (!dataTable) return;\n",
              "\n",
              "          const docLinkHtml = 'Like what you see? Visit the ' +\n",
              "            '<a target=\"_blank\" href=https://colab.research.google.com/notebooks/data_table.ipynb>data table notebook</a>'\n",
              "            + ' to learn more about interactive tables.';\n",
              "          element.innerHTML = '';\n",
              "          dataTable['output_type'] = 'display_data';\n",
              "          await google.colab.output.renderOutput(dataTable, element);\n",
              "          const docLink = document.createElement('div');\n",
              "          docLink.innerHTML = docLinkHtml;\n",
              "          element.appendChild(docLink);\n",
              "        }\n",
              "      </script>\n",
              "    </div>\n",
              "  </div>\n",
              "  "
            ],
            "text/plain": [
              "     cars_per_cap        country  drives_right        COUNTRY\n",
              "US            809  United States          True  UNITED STATES\n",
              "AUS           731      Australia         False      AUSTRALIA\n",
              "JPN           588          Japan         False          JAPAN\n",
              "IN             18          India         False          INDIA\n",
              "RU            200         Russia          True         RUSSIA\n",
              "MOR            70        Morocco          True        MOROCCO\n",
              "EG             45          Egypt          True          EGYPT"
            ]
          },
          "metadata": {},
          "execution_count": 51
        }
      ]
    },
    {
      "cell_type": "code",
      "source": [
        "# adding a new column \"COUNTRY\" which is uppercase of \"country\" column\n",
        "# apply() is more efficient than a loop\n",
        "cars[\"COUNTRY\"] = cars[\"country\"].apply(str.upper)\n",
        "cars"
      ],
      "metadata": {
        "id": "lvqgRAuLjWSz",
        "colab": {
          "base_uri": "https://localhost:8080/",
          "height": 347
        },
        "outputId": "7ea2b3ab-5a74-453b-86f4-1381365c1a97"
      },
      "execution_count": 52,
      "outputs": [
        {
          "output_type": "execute_result",
          "data": {
            "text/html": [
              "\n",
              "  <div id=\"df-fd33f2cd-f63c-4f52-8e32-236cd2931eb3\">\n",
              "    <div class=\"colab-df-container\">\n",
              "      <div>\n",
              "<style scoped>\n",
              "    .dataframe tbody tr th:only-of-type {\n",
              "        vertical-align: middle;\n",
              "    }\n",
              "\n",
              "    .dataframe tbody tr th {\n",
              "        vertical-align: top;\n",
              "    }\n",
              "\n",
              "    .dataframe thead th {\n",
              "        text-align: right;\n",
              "    }\n",
              "</style>\n",
              "<table border=\"1\" class=\"dataframe\">\n",
              "  <thead>\n",
              "    <tr style=\"text-align: right;\">\n",
              "      <th></th>\n",
              "      <th>cars_per_cap</th>\n",
              "      <th>country</th>\n",
              "      <th>drives_right</th>\n",
              "      <th>COUNTRY</th>\n",
              "    </tr>\n",
              "  </thead>\n",
              "  <tbody>\n",
              "    <tr>\n",
              "      <th>US</th>\n",
              "      <td>809</td>\n",
              "      <td>United States</td>\n",
              "      <td>True</td>\n",
              "      <td>UNITED STATES</td>\n",
              "    </tr>\n",
              "    <tr>\n",
              "      <th>AUS</th>\n",
              "      <td>731</td>\n",
              "      <td>Australia</td>\n",
              "      <td>False</td>\n",
              "      <td>AUSTRALIA</td>\n",
              "    </tr>\n",
              "    <tr>\n",
              "      <th>JPN</th>\n",
              "      <td>588</td>\n",
              "      <td>Japan</td>\n",
              "      <td>False</td>\n",
              "      <td>JAPAN</td>\n",
              "    </tr>\n",
              "    <tr>\n",
              "      <th>IN</th>\n",
              "      <td>18</td>\n",
              "      <td>India</td>\n",
              "      <td>False</td>\n",
              "      <td>INDIA</td>\n",
              "    </tr>\n",
              "    <tr>\n",
              "      <th>RU</th>\n",
              "      <td>200</td>\n",
              "      <td>Russia</td>\n",
              "      <td>True</td>\n",
              "      <td>RUSSIA</td>\n",
              "    </tr>\n",
              "    <tr>\n",
              "      <th>MOR</th>\n",
              "      <td>70</td>\n",
              "      <td>Morocco</td>\n",
              "      <td>True</td>\n",
              "      <td>MOROCCO</td>\n",
              "    </tr>\n",
              "    <tr>\n",
              "      <th>EG</th>\n",
              "      <td>45</td>\n",
              "      <td>Egypt</td>\n",
              "      <td>True</td>\n",
              "      <td>EGYPT</td>\n",
              "    </tr>\n",
              "  </tbody>\n",
              "</table>\n",
              "</div>\n",
              "      <button class=\"colab-df-convert\" onclick=\"convertToInteractive('df-fd33f2cd-f63c-4f52-8e32-236cd2931eb3')\"\n",
              "              title=\"Convert this dataframe to an interactive table.\"\n",
              "              style=\"display:none;\">\n",
              "        \n",
              "  <svg xmlns=\"http://www.w3.org/2000/svg\" height=\"24px\"viewBox=\"0 0 24 24\"\n",
              "       width=\"24px\">\n",
              "    <path d=\"M0 0h24v24H0V0z\" fill=\"none\"/>\n",
              "    <path d=\"M18.56 5.44l.94 2.06.94-2.06 2.06-.94-2.06-.94-.94-2.06-.94 2.06-2.06.94zm-11 1L8.5 8.5l.94-2.06 2.06-.94-2.06-.94L8.5 2.5l-.94 2.06-2.06.94zm10 10l.94 2.06.94-2.06 2.06-.94-2.06-.94-.94-2.06-.94 2.06-2.06.94z\"/><path d=\"M17.41 7.96l-1.37-1.37c-.4-.4-.92-.59-1.43-.59-.52 0-1.04.2-1.43.59L10.3 9.45l-7.72 7.72c-.78.78-.78 2.05 0 2.83L4 21.41c.39.39.9.59 1.41.59.51 0 1.02-.2 1.41-.59l7.78-7.78 2.81-2.81c.8-.78.8-2.07 0-2.86zM5.41 20L4 18.59l7.72-7.72 1.47 1.35L5.41 20z\"/>\n",
              "  </svg>\n",
              "      </button>\n",
              "      \n",
              "  <style>\n",
              "    .colab-df-container {\n",
              "      display:flex;\n",
              "      flex-wrap:wrap;\n",
              "      gap: 12px;\n",
              "    }\n",
              "\n",
              "    .colab-df-convert {\n",
              "      background-color: #E8F0FE;\n",
              "      border: none;\n",
              "      border-radius: 50%;\n",
              "      cursor: pointer;\n",
              "      display: none;\n",
              "      fill: #1967D2;\n",
              "      height: 32px;\n",
              "      padding: 0 0 0 0;\n",
              "      width: 32px;\n",
              "    }\n",
              "\n",
              "    .colab-df-convert:hover {\n",
              "      background-color: #E2EBFA;\n",
              "      box-shadow: 0px 1px 2px rgba(60, 64, 67, 0.3), 0px 1px 3px 1px rgba(60, 64, 67, 0.15);\n",
              "      fill: #174EA6;\n",
              "    }\n",
              "\n",
              "    [theme=dark] .colab-df-convert {\n",
              "      background-color: #3B4455;\n",
              "      fill: #D2E3FC;\n",
              "    }\n",
              "\n",
              "    [theme=dark] .colab-df-convert:hover {\n",
              "      background-color: #434B5C;\n",
              "      box-shadow: 0px 1px 3px 1px rgba(0, 0, 0, 0.15);\n",
              "      filter: drop-shadow(0px 1px 2px rgba(0, 0, 0, 0.3));\n",
              "      fill: #FFFFFF;\n",
              "    }\n",
              "  </style>\n",
              "\n",
              "      <script>\n",
              "        const buttonEl =\n",
              "          document.querySelector('#df-fd33f2cd-f63c-4f52-8e32-236cd2931eb3 button.colab-df-convert');\n",
              "        buttonEl.style.display =\n",
              "          google.colab.kernel.accessAllowed ? 'block' : 'none';\n",
              "\n",
              "        async function convertToInteractive(key) {\n",
              "          const element = document.querySelector('#df-fd33f2cd-f63c-4f52-8e32-236cd2931eb3');\n",
              "          const dataTable =\n",
              "            await google.colab.kernel.invokeFunction('convertToInteractive',\n",
              "                                                     [key], {});\n",
              "          if (!dataTable) return;\n",
              "\n",
              "          const docLinkHtml = 'Like what you see? Visit the ' +\n",
              "            '<a target=\"_blank\" href=https://colab.research.google.com/notebooks/data_table.ipynb>data table notebook</a>'\n",
              "            + ' to learn more about interactive tables.';\n",
              "          element.innerHTML = '';\n",
              "          dataTable['output_type'] = 'display_data';\n",
              "          await google.colab.output.renderOutput(dataTable, element);\n",
              "          const docLink = document.createElement('div');\n",
              "          docLink.innerHTML = docLinkHtml;\n",
              "          element.appendChild(docLink);\n",
              "        }\n",
              "      </script>\n",
              "    </div>\n",
              "  </div>\n",
              "  "
            ],
            "text/plain": [
              "     cars_per_cap        country  drives_right        COUNTRY\n",
              "US            809  United States          True  UNITED STATES\n",
              "AUS           731      Australia         False      AUSTRALIA\n",
              "JPN           588          Japan         False          JAPAN\n",
              "IN             18          India         False          INDIA\n",
              "RU            200         Russia          True         RUSSIA\n",
              "MOR            70        Morocco          True        MOROCCO\n",
              "EG             45          Egypt          True          EGYPT"
            ]
          },
          "metadata": {},
          "execution_count": 52
        }
      ]
    },
    {
      "cell_type": "markdown",
      "source": [
        "## Practice "
      ],
      "metadata": {
        "id": "epUac825KSfH"
      }
    },
    {
      "cell_type": "markdown",
      "source": [
        "-> We climbing to the Empire State Building\n",
        "\n",
        "-> We're throwing dice \n",
        "*   if we get 1 or 2, we go down 1 step\n",
        "*   if we get 3, 4 or 5, we go up 1 step\n",
        "*   if we get 6, we roll the dice again and go up \"second roll times\" step\n",
        "\n",
        "-> for ex; if we rolled 6, we roll the dice again, lets say we got 5\n",
        "\n",
        "-> that means we need to go up 5 steps\n",
        "\n",
        "-> the goal is to find out the probability of going to step 60 or higher\n",
        "\n",
        "-> step cannot go below 0 \n",
        "\n",
        "-> there also a 0.1% chance of falling down the stairs which causes us to start from step 0 all over again"
      ],
      "metadata": {
        "id": "iKwwqeMoLx9Z"
      }
    },
    {
      "cell_type": "markdown",
      "source": [
        "![image.png](data:image/png;base64,iVBORw0KGgoAAAANSUhEUgAABSAAAAIcCAYAAADmCgBJAAAMa2lDQ1BJQ0MgUHJvZmlsZQAASImVVwdYU8kWnltSSWgBpBN6E0RqACkhtADSi2AjJIGEEmNCULGXRQXXLqJY0VURxbYCYseuLIq9L4qoKOuiLjZU3oQEdN1Xvnfyzb1/zpz5T8lM7j0AaH3gSaX5qDYABZJCWWJECHNUegaT9BSggAY/usCEx5dL2fHxMQDKwP3v8u4mQJT3ay5Krn/O/1fRFQjlfACQMRBnCeT8AohPAICv40tlhQAQlXrrSYVSJZ4FsZ4MBgjxSiXOUeEdSpylwkf6bZITORBfAYBM4/FkOQBo3od6ZhE/B/JofobYTSIQSwDQGgpxIF/EE0CsjH1oQcEEJa6A2AHaSyGG8QBW1necOX/jzxrk5/FyBrEqr34hh4rl0nzelP+zNP9bCvIVAz7s4KCJZJGJyvxhDW/nTYhWYhrEXZKs2DhlrSH+IBao6g4AShUpIlNU9qgpX86B9QMGELsJeKHREJtCHC7Jj41R67OyxeFciOFuQSeLC7nJEBtCvEAoD0tS22ySTUhU+0LrsmUctlp/nifr96v09VCRl8JW878RCblqfkyzWJScBjEVYpsicWosxJoQu8rzkqLVNiOKRZzYARuZIlEZvw3EiUJJRIiKHyvKloUnqu1LC+QD+WKbRGJurBrvLxQlR6rqg53m8/rjh7lgV4QSdsoAj1A+KmYgF4EwNEyVO/ZcKElJUvN8kBaGJKrW4lRpfrzaHrcS5kco9VYQe8qLktRr8dRCuDlV/Hi2tDA+WRUnXpzLi4pXxYMvBTGAA0IBEyjgyAITQC4Qt3TVd8FvqplwwAMykAOEwEWtGViR1j8jgdckUAz+gEgI5IPrQvpnhaAI6r8MalVXF5DdP1vUvyIPPIW4AESDfPhd0b9KMugtFTyBGvE/vPPg4MN48+FQzv97/YD2m4YNNTFqjWLAI1NrwJIYRgwlRhLDiY64MR6I++Mx8BoMhzvOwn0H8vhmT3hKaCU8JtwgtBHujBfPkf0Q5UjQBvnD1bXI+r4WuB3k9MJD8ADIDplxA9wYuOCe0A8bD4KevaCWo45bWRXmD9x/y+C7X0NtR3GjoJQhlGCKw48rNZ00vQZZlLX+vj6qWLMG680ZnPnRP+e76gvgPfpHS2wBdgA7h53ELmBHsHrAxI5jDVgzdlSJB3fXk/7dNeAtsT+ePMgj/oc/ntqnspJytxq3TrfPqrlC4eRC5cHjTJBOkYlzRIVMNnw6CJlcCd91KNPdzd0dAOWzRvX39Tah/xmCGDR/0839HYCA4319fYe/6aKOA7DPBx7/Q990DiwAdDQAOH+Ir5AVqXS48kKA/xJa8KQZAXNgDRxgPu7AG/iDYBAGokAcSAbpYByssgjucxmYBKaB2aAElIGlYBVYCzaCLWAH2A32g3pwBJwEZ8ElcAXcAPfg7ukAL0E3eAd6EQQhIXSEgRghFogt4oy4IywkEAlDYpBEJB3JRHIQCaJApiFzkTJkObIW2YxUI/uQQ8hJ5ALSitxBHiGdyBvkE4qhNFQPNUPt0GEoC2Wj0WgyOhbNQSeixeg8dDFagVahu9A69CR6Cb2BtqEv0R4MYBqYAWaJuWAsjIPFYRlYNibDZmClWDlWhdVijfB3voa1YV3YR5yIM3Am7gJ3cCSegvPxifgMfBG+Ft+B1+Gn8Wv4I7wb/0qgE0wJzgQ/ApcwipBDmEQoIZQTthEOEs7As9RBeEckEg2I9kQfeBbTibnEqcRFxPXEPcQTxFZiO7GHRCIZkZxJAaQ4Eo9USCohrSHtIh0nXSV1kD6QNcgWZHdyODmDLCHPIZeTd5KPka+Sn5F7KdoUW4ofJY4ioEyhLKFspTRSLlM6KL1UHao9NYCaTM2lzqZWUGupZ6j3qW81NDSsNHw1EjTEGrM0KjT2apzXeKTxkaZLc6JxaGNoCtpi2nbaCdod2ls6nW5HD6Zn0Avpi+nV9FP0h/QPmgxNV02upkBzpmalZp3mVc1XWhQtWy221jitYq1yrQNal7W6tCnadtocbZ72DO1K7UPat7R7dBg6w3XidAp0Funs1Lmg81yXpGunG6Yr0J2nu0X3lG47A2NYMzgMPmMuYyvjDKNDj6hnr8fVy9Ur09ut16LXra+r76mfqj9Zv1L/qH6bAWZgZ8A1yDdYYrDf4KbBpyFmQ9hDhEMWDqkdcnXIe0MTw2BDoWGp4R7DG4afjJhGYUZ5RsuM6o0eGOPGTsYJxpOMNxifMe4y0TPxN+GblJrsN7lripo6mSaaTjXdYtps2mNmbhZhJjVbY3bKrMvcwDzYPNd8pfkx804LhkWghdhipcVxixdMfSabmc+sYJ5mdluaWkZaKiw3W7ZY9lrZW6VYzbHaY/XAmmrNss62XmndZN1tY2Ez0maaTY3NXVuKLctWZLva9pztezt7uzS7+Xb1ds/tDe259sX2Nfb3HegOQQ4THaocrjsSHVmOeY7rHa84oU5eTiKnSqfLzqizt7PYeb1z61DCUN+hkqFVQ2+50FzYLkUuNS6PXA1cY1znuNa7vhpmMyxj2LJh54Z9dfNyy3fb6nZvuO7wqOFzhjcOf+Pu5M53r3S/7kH3CPeY6dHg8drT2VPoucHzthfDa6TXfK8mry/ePt4y71rvTh8bn0yfdT63WHqseNYi1nlfgm+I70zfI74f/bz9Cv32+/3p7+Kf57/T//kI+xHCEVtHtAdYBfACNge0BTIDMwM3BbYFWQbxgqqCHgdbBwuCtwU/Yzuyc9m72K9C3EJkIQdD3nP8ONM5J0Kx0IjQ0tCWMN2wlLC1YQ/DrcJzwmvCuyO8IqZGnIgkREZHLou8xTXj8rnV3O4on6jpUaejadFJ0WujH8c4xchiGkeiI6NGrhh5P9Y2VhJbHwfiuHEr4h7E28dPjD+cQEyIT6hMeJo4PHFa4rkkRtL4pJ1J75JDkpck30txSFGkNKVqpY5JrU59nxaatjytbdSwUdNHXUo3ThenN2SQMlIztmX0jA4bvWp0xxivMSVjbo61Hzt57IVxxuPyxx0drzWeN/5AJiEzLXNn5mdeHK+K15PFzVqX1c3n8FfzXwqCBSsFncIA4XLhs+yA7OXZz3MCclbkdIqCROWiLjFHvFb8Ojcyd2Pu+7y4vO15fflp+XsKyAWZBYckupI8yekJ5hMmT2iVOktLpG0T/Saumtgti5ZtkyPysfKGQj34Ut+scFD8pHhUFFhUWfRhUuqkA5N1JksmN09xmrJwyrPi8OJfpuJT+VObpllOmz3t0XT29M0zkBlZM5pmWs+cN7NjVsSsHbOps/Nm/zbHbc7yOX/NTZvbOM9s3qx57T9F/FRTolkiK7k133/+xgX4AvGCloUeC9cs/FoqKL1Y5lZWXvZ5EX/RxZ+H/1zxc9/i7MUtS7yXbFhKXCpZenNZ0LIdy3WWFy9vXzFyRd1K5srSlX+tGr/qQrln+cbV1NWK1W0VMRUNa2zWLF3zea1o7Y3KkMo960zXLVz3fr1g/dUNwRtqN5ptLNv4aZN40+3NEZvrquyqyrcQtxRtebo1deu5X1i/VG8z3la27ct2yfa2HYk7Tlf7VFfvNN25pAatUdR07hqz68ru0N0NtS61m/cY7CnbC/Yq9r7Yl7nv5v7o/U0HWAdqf7X9dd1BxsHSOqRuSl13vai+rSG9ofVQ1KGmRv/Gg4ddD28/Ynmk8qj+0SXHqMfmHes7Xny854T0RNfJnJPtTeOb7p0ader66YTTLWeiz5w/G3721Dn2uePnA84fueB34dBF1sX6S96X6pq9mg/+5vXbwRbvlrrLPpcbrvheaWwd0XrsatDVk9dCr529zr1+6UbsjdabKTdv3xpzq+224PbzO/l3Xt8tutt7b9Z9wv3SB9oPyh+aPqz63fH3PW3ebUcfhT5qfpz0+F47v/3lE/mTzx3zntKflj+zeFb93P35kc7wzisvRr/oeCl92dtV8ofOH+teObz69c/gP5u7R3V3vJa97nuz6K3R2+1/ef7V1BPf8/Bdwbve96UfjD7s+Mj6eO5T2qdnvZM+kz5XfHH80vg1+uv9voK+PilPxut/FcDgQLOzAXizHQB6OgAM2LdRR6t6wX5BVP1rPwL/Cav6xX7xBqAWvr8ndMG3m1sA7N0K2y/IrwV71Xg6AMm+APXwGBxqkWd7uKu4aLBPITzs63sLezbSCgC+LO3r663q6/uyBQYLe8cTElUPqhQi7Bk2xX7JKsgC/0ZU/el3Of54B8oIPMGP938BPH6QtWAyOf8AAACWZVhJZk1NACoAAAAIAAUBEgADAAAAAQABAAABGgAFAAAAAQAAAEoBGwAFAAAAAQAAAFIBKAADAAAAAQACAACHaQAEAAAAAQAAAFoAAAAAAAAAkAAAAAEAAACQAAAAAQADkoYABwAAABIAAACEoAIABAAAAAEAAAUgoAMABAAAAAEAAAIcAAAAAEFTQ0lJAAAAU2NyZWVuc2hvdIEhrJAAAAAJcEhZcwAAFiUAABYlAUlSJPAAAALcaVRYdFhNTDpjb20uYWRvYmUueG1wAAAAAAA8eDp4bXBtZXRhIHhtbG5zOng9ImFkb2JlOm5zOm1ldGEvIiB4OnhtcHRrPSJYTVAgQ29yZSA2LjAuMCI+CiAgIDxyZGY6UkRGIHhtbG5zOnJkZj0iaHR0cDovL3d3dy53My5vcmcvMTk5OS8wMi8yMi1yZGYtc3ludGF4LW5zIyI+CiAgICAgIDxyZGY6RGVzY3JpcHRpb24gcmRmOmFib3V0PSIiCiAgICAgICAgICAgIHhtbG5zOmV4aWY9Imh0dHA6Ly9ucy5hZG9iZS5jb20vZXhpZi8xLjAvIgogICAgICAgICAgICB4bWxuczp0aWZmPSJodHRwOi8vbnMuYWRvYmUuY29tL3RpZmYvMS4wLyI+CiAgICAgICAgIDxleGlmOlVzZXJDb21tZW50PlNjcmVlbnNob3Q8L2V4aWY6VXNlckNvbW1lbnQ+CiAgICAgICAgIDxleGlmOlBpeGVsWERpbWVuc2lvbj4xMzEyPC9leGlmOlBpeGVsWERpbWVuc2lvbj4KICAgICAgICAgPGV4aWY6UGl4ZWxZRGltZW5zaW9uPjU0MDwvZXhpZjpQaXhlbFlEaW1lbnNpb24+CiAgICAgICAgIDx0aWZmOlJlc29sdXRpb25Vbml0PjI8L3RpZmY6UmVzb2x1dGlvblVuaXQ+CiAgICAgICAgIDx0aWZmOlhSZXNvbHV0aW9uPjE0NC8xPC90aWZmOlhSZXNvbHV0aW9uPgogICAgICAgICA8dGlmZjpZUmVzb2x1dGlvbj4xNDQvMTwvdGlmZjpZUmVzb2x1dGlvbj4KICAgICAgICAgPHRpZmY6T3JpZW50YXRpb24+MTwvdGlmZjpPcmllbnRhdGlvbj4KICAgICAgPC9yZGY6RGVzY3JpcHRpb24+CiAgIDwvcmRmOlJERj4KPC94OnhtcG1ldGE+CuunDbYAAEAASURBVHgB7L0JfJZXduZ52XcQCAkQAgmEhEDs+77ZxgvlpVx2ueyqpKqS6koqmeok3Z3pzmR60vObzmR+3ZNOMklmKpWkqpLay0vZeAezmcXsOwitgMS+g9gxeJ7/ES/+EPqkT2hBEuf49/oT3/cu933ufe9773Ofc06bz2TBzRFwBBwBR8ARcAQcAUfAEXAEHAFHwBFwBBwBR8ARcAQcgUZAoG0jnNNP6Qg4Ao6AI+AIOAKOgCPgCDgCjoAj4Ag4Ao6AI+AIOAKOgCHgBKQ3BEfAEXAEHAFHwBFwBBwBR8ARcAQcAUfAEXAEHAFHwBFoNAScgGw0aP3EjoAj4Ag4Ao6AI+AIOAKOgCPgCDgCjoAj4Ag4Ao6AI+AEpLcBR8ARcAQcAUfAEXAEHAFHwBFwBBwBR8ARcAQcAUfAEWg0BJyAbDRo/cSOgCPgCDgCjoAj4Ag4Ao6AI+AIOAKOgCPgCDgCjoAj4ASktwFHwBFwBBwBR8ARcAQcAUfAEXAEHAFHwBFwBBwBR8ARaDQEnIBsNGj9xI6AI+AIOAKOgCPgCDgCjoAj4Ag4Ao6AI+AIOAKOgCPgBKS3AUfAEXAEHAFHwBFwBBwBR8ARcAQcAUfAEXAEHAFHwBFoNAScgGw0aP3EjoAj4Ag4Ao6AI+AIOAKOgCPgCDgCjoAj4Ag4Ao6AI+AEpLcBR8ARcAQcAUfAEXAEHAFHwBFwBBwBR8ARcAQcAUfAEWg0BJyAbDRo/cSOgCPgCDgCjoAj4Ag4Ao6AI+AIOAKOgCPgCDgCjoAj4ASktwFHwBFwBBwBR8ARcAQcAUfAEXAEHAFHwBFwBBwBR8ARaDQEnIBsNGj9xI6AI+AIOAKOgCPgCDgCjoAj4Ag4Ao6AI+AIOAKOgCPgBKS3AUfAEXAEHAFHwBFwBBwBR8ARcAQcAUfAEXAEHAFHwBFoNAScgGw0aP3EjoAj4Ag4Ao6AI+AIOAKOgCPgCDgCjoAj4Ag4Ao6AI+AEpLcBR8ARcAQcAUfAEXAEHAFHwBFwBBwBR8ARcAQcAUfAEWg0BJyAbDRo/cSOgCPgCDgCjoAj4Ag4Ao6AI+AIOAKOgCPgCDgCjoAj4ASktwFHwBFwBBwBR8ARcAQcAUfAEXAEHAFHwBFwBBwBR8ARaDQEnIBsNGj9xI6AI+AIOAKOgCPgCDgCjoAj4Ag4Ao6AI+AIOAKOgCPgBKS3AUfAEXAEHAFHwBFwBBwBR8ARcAQcAUfAEXAEHAFHwBFoNAScgGw0aP3EjoAj4Ag4Ao6AI+AIOAKOgCPgCDgCjoAj4Ag4Ao6AI+AEpLcBR8ARcAQcAUfAEXAEHAFHwBFwBBwBR8ARcAQcAUfAEWg0BJyAbDRo/cSOgCPgCDgCjoAj4Ag4Ao6AI+AIOAKOgCPgCDgCjoAj4ASktwFHwBFwBBwBR8ARcAQcAUfAEXAEHAFHwBFwBBwBR8ARaDQEnIBsNGj9xI6AI+AIOAKOgCPgCDgCjoAj4Ag4Ao6AI+AIOAKOgCPgBKS3AUfAEXAEHAFHwBFwBBwBR8ARcAQcAUfAEXAEHAFHwBFoNAScgGw0aP3EjoAj4Ag4Ao6AI+AIOAKOgCPgCDgCjoAj4Ag4Ao6AI+AEpLcBR8ARcAQcAUfAEXAEHAFHwBFwBBwBR8ARcAQcAUfAEWg0BJyAbDRo/cSOgCPgCDgCjoAj4Ag4Ao6AI+AIOAKOgCPgCDgCjoAj4ASktwFHwBFwBBwBR8ARcAQcAUfAEXAEHAFHwBFwBBwBR8ARaDQEnIBsNGj9xI6AI+AIOAKOgCPgCDgCjoAj4Ag4Ao6AI+AIOAKOgCPgBKS3AUfAEXAEHAFHwBFwBBwBR8ARcAQcAUfAEXAEHAFHwBFoNATaN9qZ/cSOgCPgCDgCjoAj4Ag4Ao6AI3AXAp9+ejNcvXYtVFRcDPzdpUvnkNSrR2jf/uEelh8+cixs3bEnbNm+OwxKTwtzZkwOQzIHhfbt2t2Fn/+j6RC4eeuW2uindsE2bdqEdm3bhnYtrD5u6R5u3rwVbn12y+6D8nMf3I+bI9DSEeD5vHL1Wrhw8VK4cf1G6NypY+jevVvo1rWLt/GWXrmttPwP90inlVaq35Yj4Ag4Ao6AI+AIOAKOQPNA4Nq16+HM2XPhQNnhAMl28vSZcP5CRbh0+YqIkZuaMHYKvURA9urZIyT17CnybUDIHJwekvskNY8baKJSbN+VH3797tKwYfP20L9f39BJE+kemkj375fSRCXwy1RFYE9+UViyfLV93b1b1zBu9MgwbfK4qrs1638Xl5aF3fmFofRAmZVz4rjRIS93WEhNSW7W5fbCOQLxELh85Wo4WH447D9QHg7pnXL6zFl7n0BGduxY2W/26Z0UBg0cEIYPGxIG9E/V9x3inc6/dwSaFAEnIJsUbr9YUyHw2WefNfilfKW0wSH1EzoCjoAj4Ag4Aq0WAcYiEI0Qjzt254f1m7aH7bv2hoP69/mKijv33Sa0sclhcnLvkD6gX4AgmTVtUhg9anhISe5jSpaWpjq7c3N1+GPrzj1h9bqN4cixE8LsUBg1YnjI0eS5KgEJrqjaPhV5y9+Mz9q3ax/athWSrmqrA+I17wq2W6VG/bO/+GvbcUC/1PBvvvGVFkdA5hcUhZ+9+lZ4/6NVdh/f/fbXQ5+knk5A1lz9jfZrpSL1ZkBdi6FwbtuWzRWptYEevVMKiw+EpSvWhHUbt4S9+4rDyVNnwmf6L7KOHTqE3km9wvgxeeHxBbPCzGkTQ9aQDFvU8T4yQsk/HxQCTkA+KOT9ug2OAJ0yxmf0d0NeJOqwq3425DX8XI6AI+AIOAKOgCPQOhCAIFu7YUv45Rvvhvc+XBlufHrD3EBv3fp8osidMnG8dv16OCri7djxk+aG/Ot3l8gFeWr4xivPS3U2wtSRrQOV6u+CcdvJk6fDcW2RgceJE6eif975hMC4eOmykbvXb9wINtnu1TN0lcvhw0DU3gHC/3AEWiACV81d+KI9wxQf1TdKZxTPbjUjAGm7buPW8KOfvh4+lDKZvtDmvTHkI2egXzxx6nRYsmK13ie7w5OPzQ1/+J1vhiEZg0KHDk7/1Iyy/9rYCHgLbGyE/fyNigAdL9sNdbQVUhOwXbhwIVy+fDlc12Ae1yY65og0rGthOLat4sR00EpS586dQ48ePWzrqZdl165d7TfOfb/nr2t5fH9HwBFwBBwBR8ARaN4IXJZr9QG5x/3i9XfCJ5osFpUeCFevX7uzOApJRtzHgXKL66XxBJPFU3LLPiEVCy50EJe41K1c/Ym52b30xafCc4seC/1S+zbvG69H6RhHdenSJXQVLhWKZYb1lEs6scyqGqrSlWs2hDffWxoOHT4mN8P+4ctfXBRmTJlgqp+q+/u/HQFHoPkgsHPPPlOjrv5ksxWKvu2x+bPCiJys5lPIZlYS5rMsuvzs1cXhvaWrpKjfeyc2K7GDCd+Bu3XPHt3t3YGK/Oy58/bO4fOjlWv1/fnwza9+KUwcP8qU9c3sFr04DxECTkA+RJXdmm7VVr8vXtTK+Ilw6NChcPz48XDpkoLvahAPaYjdWRWqJwHJoBgSMiIZ6egZJCclJYX09PQwYMCA0Lt3bwseH+3TmrD2e3EEHAFHwBFwBByBxBBgsrd9Z354450Pw8frNlnMRxLOdFJcrpG52SFLSVWIx0V8LmI8dtNiJqTjOZFqp0+fDfmFxWFvQXEoO3TUFCxnz1/QsR00xmgXXnj2yUAcvtaq8mPy3FMLvREB2bdPb8OpKvI3bnwajkopumPXvlAscvfMmcwwb9Y0jQErk6VU3d//7Qg4As0HAfq0QrkQE+sVQ+F98faiQ/MpZfMqCYsuS5avCe98sDxsUxiPC0pgRiKlaZPH23slc9DAkJKSbAs4/HZcyvGyQ0f0DlJIi6MnrL+8+Mkmc3NHaTpdx3Xu3Kl53aSX5qFBwAnIh6aqW8eNQipe00D+1KlT4eDBg6G0tDSUlZWF8+fPm0qxW7duCuTeK/DJAB3isL4GocnKE4pKrnNRxCdlgGyEgBwyZIht/fv310p9dyci6wu4H+8IOAKOgCPgCLRABHCP21dYasq8f/n5G+GWMu926Ng+9E9NsViGTy2cF6ZMGKNYXIOl1EuyyWB0m5Xjm+vmXrdi9fqwRuogEmfgmr1p605bVB2o+JBMOJPkbtwaLaVvH4vLd+TYMRvDEfuR79wcAUfAEXhYEWCB6vCR4+Fnry0OO6QerRDB2EOLNdmK6fjyl57W4svUkKGkZbExNHFzJzkN74plq9ZpoeagSMuK8N6SFYqtmxMyBqWFoZmDH1ZI/b4fMAJOQD7gCvDLJ44Ag/OrV6+GI0eOhI8++ihs2bLFFI/Z2dlh0aJFRgL26dPHXKVxmW5og4iEeMTN+/Dhw2Hr1q22bdiwIQwaNCgsXLgwjB492gjQ1qpOaGhM/XyOgCPgCDgCjkBrQeCqMpPi6vamMjmzcMlCZbI8JB5/ZE74zm+/EnKyhsTNRMqCKW7Zj8ydESaNH21JA/7Tf/lvNvG8orHPtp17w//x3/4+/MPf/Fdzt2uNHhdk/2ZiTMKe7lpIHpyeFvqltF6389bS7v0+HAFHoPEQOH/hYigs2R8+2bA1XNa7ADV9bnZW+N//5A/C2FG51cYHRt3IQtef/NHvWlgKXLf3FZVYeA/CgmRnZTgB2XhV5meuBQEnIGsByH9uHghA/kE8bt68OUD4derUKcyfPz9kZWWFgQMHWlxGYjTiHt0Qqsfq7prBfkd1+rheE/8xLS0tzJgxI5SUlITCwsLw1ltvhX379oXp06eH3Nxc27e68/h3joAj4Ag4Ao6AI1A7Aiw83vj0pu2ICzIuZ83ViNv4+tsfWtKZ83IxZCEyU6oUYm4tenxBSE/rl3Dwf9ysJykT9l/9+Z+Gv/ir7xn5yALs/rLysHnbbptQooZsbZYhN0Iww0Vw7KgRoa+ygseqelrb/fr9OAKOgCNQGwIFRaXhg48+1ruwMsREnhSMX1TcTFzXuynxVjxj3sqi1jNPPqLcCFfCX/7dQSMgUVFuUXb7hQtmt9rFrHiY+PfNAwEnIJtHPXgpakAA6TkxHlevXm1kX3Jychg/fnwYOnRoSE1NNXfrGg5v0J8gN9lQWOLmjeKS+I8pKSlGPhYVFYWPP/7Y3LQnTZpk+7VGlUKDguoncwQcAUfAEXAEhABxnM+drxDRdiiUKwYicayIfYURH5AkLCQcIZMnrmUdFRuxOdjlK0o6c/CwJVYghiNkJFldn1v0qCkah0mJUpfFUcjLPooPOXXSOEvOQEzEXXsLwiUl2COmF+erjYAEyws6jqzabMQFYzEXcjM9bUBIG5B6x5X7kpIbHFS8MLJOM2ZJVuxFcCZOZayxH7EXDx89priVN0WE9tR+aRbLkvtjknv6zLlw7MTJcELZrInITXIEVIzpOh8JZmqyNMXGzFUiCtQ9s6ZP0nHJtvtNubJXKPwNboS0B+JsFhbvD+CO8ZlfUGJuib1j3NPBMTsrs1as7CR1+N/16zesHGBxXPdKcghwo02i4OR+ychNuc8rMeL+g4fUri/YmLB/v74qT/8aiYOoKKhor0hVS3Kik9rOnD2nNnDFcIecTembLIVtkj0HD2KsSczNEydPhfLDR5VE6Wy4IrfPbt26hFSN0/vhPq8yQibfT9kIZ0B7ipIzce8XL162ttY3uY8l0UhOTgodJDy4n/NHGNf2SR2eOXfO4rNSD5SDtk47IzwA9dA7qVfcuKzUX+nBcjuOdkNSpdzsoQnFcqWNHz563MIvcI/EkOWZqOl+WbQ5ffZ82CkVMYZwIlXHDB82pLZbTeh34goeU798VjigzIMAo58gXAJ9Chnpq5aPNnvk2PFQVn7ErrFjV77Ft40uSCKpTdt2WR8VfcfCA+rxMVL4xTP6M0g5+pxTPCNK5EX/wD0TX9fqR30Z746qZarunLxvwJv+BWNBhH4WEg/jGeR3ErzQF6IyrLz3vgqz0dc88Bp6kYw+P7+wxEJz8EwgtBk5PMvcrrmv2oy2Sp80fszIAHG5t6DI+iLOuVGhPebNnGJ41XYe/90RaEgEnIBsSDT9XA2OAHEXz5w5Y6pH1IVkn547d24YO3asDeQa/IJ1PCEvgn79+hkRmZGRYYHkUUSi0kQpSXxIlJmJvPjqeGnf3RFwBBwBR8ARaDUIXNZE/Ygmdzt27wufbNoW8vcVG7EBcYNBZEFikSl1urId43qWniZSqwYFSFOBc0YT/hXKWL1t5x4jYsjeTJytRY/LU0NxuupCPkZlZiLbTWTho/Nm2oSRc4iDCCS0uSTCjcl3vLEFZFDpgTJLZgP5dbDssBEgNz+7ZcTJsKGZIS93mBEaEBNnNOFeu35LWLN+s4iUtmFM3gi7blUCkrrYumN3WKEM1JBD1AXZayE1ISaKRBCW7j8oAvmw1R1lTBFZNFgTYBSdTJwhKhg7VWfU8Zi83PDFLyxUHY834oT9bCFa5AAqIMsoLgwgqCFVMT7Xq80cPHQ4dJaHDAZWnTp2Uoy0LzQoAQlJQRkKivaLWCw3bM+JZKR+IMbAZNTIHCNR+6UmW5v+YNnHRpj27NFNyR8mhO6zu9VKQEKqlCmTemHJAcMSkgZi97zCAKWKeIQYwWU9c1B6yMkeEgYI165KkNgUBsF+QUQPyZJ27i5Q3NMSI6V5hiFFeC5RskL+QralqayJLhbQZs6eu2DZ3wuLS3XvxyyWHSQ67W9Av1R5IPULg5Xxl2vk5kiMIIKti8baDWlkpj99+lwokusrBGK52vchxeGjHG31jEAEQiRTB8TSGzY0w9p6hw53t23CJ+xVX7Z+8zbrG8CC9j1S7aS6DO/cAxhAqpPECndZ8G7bpm346pefCT0UA5Z+IZ5ViKTdu68o/PiXb9p5uN40LWTUh4CEOIWUKz1QHrbo+S/ZX2bEO22U+ibG7VAtitDnjVS/QvIoiOfIUISjuHtf2ZsxFjrAM7J9UviBU5SUhu8hlkfnDY9LQBLjECK0sKQ07D9wKBwSCU7Mw1NnzlpbGNA/JQzUQkuGwjjkqI8bkpFuZa2pL2bha6X6tny1a2zRwnnWt91SfRSqjLv2Foa9WmDiejzzJBAboAUF2iGLYnkjsq3ts/jUUAbG1s+oL6BdsEgzImeYPfOJXgNCdqiSn82fPc3OBUlLf7Jh844wQ+9SfndzBJoSgbt7yaa8sl/LEagFATpakr7s3r07vP3226Z6XLBgQRg1alQtRzb9zygiUWO+9NJL4f333zdX8cWLF4eXX37ZXLUbIyZl09+lX9ERcAQcAUfAEWh4BHjfM3lcvuqT8Mtfv6vkKwVGcHGlNvoPO31WpNrBMqk2dmgSvCe8qIzQkHPDRb7EI+LswEb+Hyo/SKnXFy+RKui2ckaT3q99+VmL+ViTi1wiRUO5Aqk2ecJYTUBv2SFkPEXpVDXeNDhCFkDg/vy1t8PbHyyz/aq7DsTEY/Nmhf/8x79vyiFwfe2t940chMQYM3J4CJpQx9p5EX0oMd9SjEsmsbOlUoRkQoX3g5+8ZhlaD5Qfij3kzt/jRo8MX3/5eZEvj5ly784PMX9QjxDLbLEGAYPCacWa9WGD7g0D98hQiEKMtNkRfaNPnQtCburEsWGeJt71NYtDLuJz1dqN4ce/+LUpUSlXdQYR8+UvLgpfEfl5WMovyOlPNm4zgpJF6QnjRhmRUN2x1CFKQurjV2+8G954e0m4eeumkQ9V96f+UQV/86svhGeffDRkD8s0BVrV/Rry3+AA+bhp6y65dP6TQgLsskRJVa9BXULK/NbXXghfeuYJI0zbqryVT3PVvSv/zb1DYm7ZvksJN94Ob+rer396o9qdGVenyAvpD77zdSPBIQGrkn/VHpjAl6h7UfBCRv3N//dDIyAhvKoz4vGNGD4s/M43X9bzNNMyEbfXfUZmz+SN6+FjtRsIW+KaQtpBJMUjIFG+HpRacOnKyqzH0bkyBg+04yHU4hnqZK716pvv2S6zp08OecPvfo7jHVvd95QfUo+kWH/7/X81Iv3ipUu2K33zZ7efRAjgQSKF//D3vmlEV7r+bssqgIwFgl17CsLr6l+w2GeXf5do0YIttm10VJ/HcX/wu99gl7sM1WO53hckVPneD35mikQWKaqzXr16hLkzp4Zvf+MrYeLYUUYoxiMhIUVXqc5RmWMQ6ZB9J06dDv/n//he2LBlu9SWZ++5DOdjsYM2ALk8dtTwBhPJHDt+yohr6gEbPyZP7S3rzkLLPYWJ88UgtbvH5XL9izfesb77nJ5hFqZoa26OQFMj4ARkUyPu10sYgUt6wUXk47hx48KcOXMs5mPCJ2jiHRlsddFgd/bs2Vr56xTee++9sHLlSvs3Skh+d3MEHAFHwBFwBByBzxFgWnVSir11UuC9u2R52KPMz9ev3bB3JpOuaILLEbxHP71xUwqVovDeR130ru0gF7he5mr3oN6x10VKQVbg2gZxBCnE5PvJR+fJDbt2F7nPkaj+L+4L9QrujZHh+te27eckB9+DFaTgv/7818JxhWXQhiyKZ7gTLlu1VsdcMAInHsES73i+v3T5qhGSv/r1e2GniEnUYfGsQGq2f/7JqzaZ/49/+DsBkibROmP01EaqM9w7IfC4VybOEID8zXlQTEEEROfkE5zaKXZofY1rHJQCCVXZh8sUDkhkCe6Q8QyF2C810UfBCGFAm03EIFbOSf33T//6q/CR6obYb/HIR85H/VKP//zjX9lzA/mxaOH8Oy6jiVyzrvugnHrrvY/CP/zw5+GAFGMoBaszMDsskghiGhXut37zJRHymVYn1e1PXaKyo/1+8NEqczu9cbN6UonjIZxOykPqb//hX8NOkVvPidh+6rF51Z26zt9B/r6x+EMjAFkYwRsrnnH/tO2/+vsfWDm+8vyiMFax+WiPGCTjzKkT7b5QMfKMQhASlw+Cqzq7Ltf2rVIMsrARa7QHwhDUREDi5oyKPDKI2dF5OdE/6/yJ0pnEWtQ3iVCifoJnrWOHjhY2g3Z4TRihgv7v/88/KlzCpfDCs0+YMpILttG+qJ55djGenZuqv+gZoi+g34wlBlHlVaeaBe+VqzfYYslqKUSPnTxZI4mG2/6qtRusb+L5eP7px+PiboWL+R/3sWL1ensWtysJGOrj6qzy/q+JNH9L/cQhuwbXivqi6o5J9LuzEuJESm+OIZYwITLqangKsOhEci/q4ooUtoQ34Dl1cwSaGgEnIJsacb9eQgjQIRYUFIS9e/faC2vmzJkW8xGCrzkbL8++ffuGvLy8cOLECSNQcdHmO9zH3RwBR8ARcAQcAUcgBgG97/dJGYRqDyKBmFc2catmXsTYAELm0uVPw265w/VXrD3ciVHixXPrjblSo/yJ+zUx8FAFUT7cllE3NWQCFYg0tpqM2HSo0ha/vyzs2Vdok1Ym8MR7hLAgpiMuzsS0g9ggBhiufaulbMLllRhtdTUIB9yiiYuGCnL+rKnmct5L8fFwuyyRGzjuuZB3xMIrEXmybsNWi2c2UcRcPAVY1XJwH0Olpvu9b31NY6tTdm9b5e6OKgt1Em7eC+ZMl+vz8NAzcn8Ua0mbQAFZX4NIQ/n45jtLjWTBXZQJPW7QuLam9a+ME3f12nVzTd2TX2SqrKUibkrktkr7SMSolzffWSJX1ZUitfZbm+IecOseLNUrLt09RCDglll+5KhcQcutPBC/azdsMdILt1CUwQ2lBowtN20cV3finEKGQWhMnjDGypYiUoRYmJAauLLyLEMW0UYgcVAs/tvf+bqFUaguTt4FxRN87c337d5xdcUFmdh7uO6TsZd4l7j687xxTq4PzrS9lVLGQjQPFKFHfURu+LFlT+RvSDQI3VdVjo9WrDWXfsglYnuSUZg22FdxHz/Td6duu8YWFh+wesJN++by1UaMpqYkW6gBCHPuG/d4jqdOz4lkxcWXOIK4BVfnNk/81i3b99xLQIrohNyOZyg3D+hZ2yMXbKxnjx52DVyE79d4zugjwJt2T1xEXI1HDs+29k8dE6tys1SrxHZEVfehQg7wTL4kMhbDXR13Ztzmsd3qn9Zv2q42UkmUElKDdoSyOzLc3KsStLQJyOxfvP6OyiTy8fgJIy5zsoZYmbhP1KWUiTAU9D0otnHd533Rvl17W/hADQnhWRtBWFnGApG+BywB2rRJ460eiS/JsVyjWIsRhQrHgEqUhSj6N85Nn0t7qW+IEBYkYgnIPrdjWkY4JfrJM8fzRD9NqBMWy3hnEMeV91ZtWCR6Hd/PEUgEAScgE0HJ92lSBOgIK7TKBPl4UitbJHPJzc3VQLX+SoKmuBFePAMGDAizZs0KxcXF4cCBA5apG9dx7+Cbogb8Go6AI+AIOAItAQE4RpRPTBJxTzytCR3GOCCeRb+dEQEAicakl2QtiUwo452zPt+TNOe4EnFE5SL+GXHqmjJ7MyTJAU383/lgubmvo9whQQwTc9wPcX8empluyTI+FQEJobZVbuxM4iF+NykZQU0qr3j4QDaRHAZX20dEABJPjCQykLAQRRAA6xTDbsmK1RZzDAKDCTtEHpPzRAlISDhiRz79xAIrCkRdR8WYg+SCgIRYJWkN6j/In4Y0lJa7pcoljiNKN4wYjCQE4Zq4qhPjEld7JvVgu16x1daJECTbLPcPoVSbUWcQU4QgIL4ksT5JZoM7Ny7khBqA8OupsTAkGeQx5BCxOykXZAh1CQFJHM3UlD4N5gYalR01HDERUadli2CZP2uauZOTFIkkHBAlxOWDoMQ1fJtUY7jOQ8C+t2RlmDNjsuEEOR9rJCkpUqxL3M0hz65dv2ak3QwpBx+ZOyOMFgYDbrssW3xTkXAQXkla2N+xJ1+EygnDO10xGVPk8k1ZYtV0sdeq6W9CKCxZvias+PgTyzhPHEPiG05X3MVJ40cbEUw75Hk7LrKJ9k0cPVxz6QOokyUrboaJcrF/VOWmzLgh4xWVp/ZCP3dS7RWyCtIORSiEXqzRH6KSRFF9WgQRFrk607Ygd+lzevW8N7EKSVgg+1lMYL4BIcf5eT7u17arfyWmJM8u55yrpCVPPDrXkpoQAxMV414RitTpsWMnrcwcA+H6zFOPGBkMgTtFCwFs2PtSuOJaHBGQxI1EEQoJGc94JfDccywu0kdFPnJeYowuENYsNBAOonevXqbGZN/tSsSDG/1q7Q82O/fuU3zITmqHU0xVXhs5uK+oxMqfrHubPW2SKVkpK30MWHAN3lvrN2/XYsgmxbZUUiq1A2JZvv3+8vDKi0+HwV3S6jX3gzyt0HMVGfdcUwzQaL/qPiEhScwDBjzLLBhUaFGBczbGgkV1ZfDvHAEQcALS20GzQ4DB3qFDCiisrasGUsR9bO7Kx6ogUl6S0kyZMsWUnLiSQ6IyiHYSsipa/m9HwBFwBByBhxGBz24pZqHImT37im0yx/sxIvJqw4N9IWJ2SwV1TWRN5/vMtlvbdWr7/fLVK3dNEJmIo3hqSoP4gox9WwQkKiFcGnMVu+wbirn4/DOP36Oyyhw8MEwYm2ekyrW//l7Yojh+HFdXM68PEa6vvPCM3A4XGhEZnYNJOglCJozLEwHSM/z01Tct8QSTdojSb7zyvCmcmvuYiEy/m7btNiKDe2OiPklEyddefCY8LdKkKtEF0TRVhNVIxQX8O8XMg4SEsKrNII5IAgQxjJFZGWL9D7/zjTBaJGcsWQK5M23yOCNAUaL9j//3ByI+K5NwrBLZAkFEEp+qRF9tZajtd8gmkhRBwn3jlS8ZIUzcv8ig0oiHSNlQYf6F4uZBFqHQPHHqlIUGgJiMFGTRcZUqxg0i6PaZ+y4EL6q4v/iz/6CEJhCpn09XIXotq+/YkWGySMH//Od/bYrfMiUlIhTAgrnTRaj0uKfNR9eK94kSDBL/+z/6xR0CDwL4KSn3fucbLxuZ1z7GnZ/7nDF1Qli4YFb4m+/9KCyVYhJlJgTjv/7iDe0/0IgqFkYwEqpAVEX1i0svRHFVAvKKiCESLHEuMi0zb0BJCQEIYXRI9YwKkjiD/BZrENgHRVDins5zRfxYkuTUx6gb+lnO105hH2jzj8yZIVK1MnEJ7YEFDgjC/ILSsFFkLGQ6RDGLEKgfq5bzfspTqbQ8oPirb5pyj3NCPn5bcRefkut91cQvEG0jRBZCHlPG5SKVSX4Dqfja4vet/damDGU+2lshPhbMnh7++LvfMoVtbFsknif9KMQ6JC/q83I9x2RL//Gv3lT7GG/PCnFC79eMgBSekSXpOiwy3I+BAwtkqOkJbXJD8VVZROJ5i72v+zm3H+MI1AWBtnXZ2fd1BJoCAV6cO3bsUGfYIeTk5Fg26egF3hTXb6hrUH5iV2L79+83l2xeZm6OgCPgCDgCjoAjAAKfhVtS5OHidiJGRZgINhCVqFrIgmqxABM5qBH2uXbtuiXOiE6N+zGKmaY04mZu2rIzEC8MF2sSDsyTOg2yIF52YCahqBX/+N9+OwxOH2hZdutaZibdY0aNCC+QZCROPDvIqm9+7UumGOwm92HGQagmUYGRcKS5mykZd+01MggSJjc7y9xJUV1VJR+je+khV2FIuN/+zS/LZToxsoBkLu98sCI6hRGIZPAeo4Q8neU6WZ1BdKO0++qXnr5DZJEk44c/fc0IrOqOqe93kHIzp00MzyvGXTyiHRfoDLWpb+n+J48fYwo+kiMRPxPVIH/HGt+9+ua7piBF7Td10tjwuyKWiHUXS/rFHtOzR3dTXxJrb7iIKFSmkJxLpWCESKyrQQCvlVqV/gRCHxITxd4ffee39HykGYlV9ZzEeaTd/+F3vikF3jgjPa+KKET5SdZn4kdGNio3JwyRIpHFAfou9oFkrGq4dm+UIjmKtUjoBFSgqNYwyFxITNytq9pOxX48IAISo61CjlH2epmJ0UVXqcw8u6hcIUOrGjFqX3r+Kan+nrFs3aihKaMdXnXn+/h3sRSyqImJqwoZmaXYlgtEhD4psj1eoi8Uf6iG/93v/ZYpiSFNeWf89NW3zXU/ikEZrziQnJD/3/ntV4xIrK4tMj9FCfrdb/9mmCAiFlU3avIjSgZEeXEZr49BOscuDqF+jNpCXc9Lf0VSnii2Ju8Kwm9UfR7rel7f3xGoKwIPjIBkNRCiiRdGIiuDsTdGJxh7POeINs7Jb+xTH+McdLTReWM/uUZ9z1+fsrXmY8H8ogamxH/E5Xro0KHmVtUS75mOnviPycnJps4oLCy09tQS78XL7Ag4Ao6AI+AINAYCjNaIvVbdhLq2693UBJe4e/Uc8tV2mRp/h4SIJnTsiGsbCqCmNFRKZYeP2LiV60KczJQ6C4IQIqI64/uePbqZMmvi+FHmLlrdfjV9h8IO91gIV1Ra1RmLsaaGFEmUSvw8VRZ1fVwumBebGKfqylfbd6WKY4m7J/MCMFuoTLK42FZVXMWeh/EfCiwIoNFSueHiWJNBxBKXDUKKa6ASnKKs51OkgIRAjrIJVz0HBElqanJ4Wq6uEKPEEyTW5g65nhI77pYUxg1tw4ZmWDbdSnLwbgVedC3uARd53MeJ4UgSJfAjyQyxD4k9FxnlPX7ipMUuZA7AvePezsazxbmqMzAmJuS82Yo7KjKKdkU/sk+xComRWVfDdbZIbtEsKFBWiKeF82cZ8cTzXV057D7VvlGB4po8VmQ8mHNPpYrPiUtuZD31LGaIgCRcAYZbOqQnKsFYg0DetHWHkXwQaNlDh1gW8RTFkgcPzrlVGd9JWBTZLe5d5d4tV+lyJQniWQRH6gq1aX2Mdhy1X1RzxHxdumKNqZljz8s+09ReiftItnuUoVybe2gIo92AKeQjdU0cSohqiGjaQjxDGZ+ZkR7GqW6IKYnSlfaGGpKFkJqMuuIZpn1BXlbXBjie9sFCyzzFwEX5TPm4DkpV4kLWxyAbI7Up54GYBoP7MdoJfU30rgU31JTVEav3c34/xhFIFIHq3xyJHl2H/XgYo42H5/RpxcA4ddJIyGFZWaZya3tbph7vtBzPy4mO/dRpBaFWXIRPJR+OjI6Bh6iX4j/0kWS/S5eutmLVRlnHErGofBCMBAk+o+xqly9XBhWPjudhJZZHSkpK6KHgvsRB4brxOqXoOP9MDAFWjU5pBZPYj6gf+/fvn9iBzXAv2gQu5NwDCWmKiorCxIkTW5w7eTOE1ovkCDgCjoAj0EoQgFzpk5RkLqam9EiUMxEv0bVzFwuqT7zF6mmKxgeJwP6xZBTkColSmtJwdzwZM9FlEowqrDZDvdNLE3jchonHdliqnboYpAOTe1Rd8Yx6gYSApMGdMRyojPGJ6x+x/5q7HTbC7LyN8yH8Jk8YfUdtWFPZcbuEcIWEO6DYgLhSxjPaDKQZ7Z+2jFtudlamxTKMd0z0PfMQXFGzhmSYMo46BFviB6LGi3Xdjo6pzyeKv4lyfcadsyaj3iHAuY8sEWEkJGIOR9lQoREfETsrXGi/zO0wnqdLl64E1Hy1GV0FiXHIlo17MGrqskOHwwXFUKyrEVM2NlkQSUQmqa5ri+VaOfdsL/IxN2zbtUeqty12aQhl7jMy5qe4jkOcFUnxTblRKxI3sg/PhQzSCsJq5+4CW1hJkhs++BF/kuQ6FxQf/8y5cxY/EqIScg2C/7rIR8hrCE3iR0LKjR6Za/Er7zchT1TuUSrvVpWBBDrMj0l2hGs45BoEJ3VMzFfceFMUdxTiszHmxCimj8YkyuIa4Esm7EQMcppnMuISICDPnauwOKLxjs9UfYE7bbI2o48bN2akqVdxtccOHzlupHttx9b0O/jGvl/OX7hg+Md+V9Pxsb/xfLAIABYYbRKX7Pq4iMee3/92BBJFoFEJSB5yjA4LBSHkEtkNT2mViQQje/bu0cvxcviNr34tdFdn2bGGAQxsPS9SHrwjR46EPXv2hPKyMn135S4CEHIwI2OwxdtLS0uzzMMo6RIhIa18eiGcVecOWVRYUGgkKS9MrI06FwZZdAZ5o0ZZjD+yG3fr1t1IyfvpcCOM7AIx/6vtXNUdV9sxMadvtn9e0eDr6NGjNkgha3RryBxNOzygRDRlaq88B9Rda6irZtuIvGCOgCPgCDgCLQMBTSIhMpjsFytDMhNyVDaJGJQjGWlRfqEMelCGCot4fZFBsKDWYQis22sSg8Bigo6BJ2QAE8tEDXIQEqGuBrnBvbcRaVabEbus6+2JPHVccfGyqbZqO+5B/s547fiJ05b0o1It1MVInUQn/5BDmRkDa022c1RutRBxGO16yOBBRqwncu9G8GpugroL8ocYgYQkIKQB52xIAhKSj8QvuF7XpDqLLTekFNnCI4NoJaZgZDwvUdvlO8gtSC6S3SRqkGFkTWa+BulzQco2epHaW+XnV4Agjggu7o2s21WzMH++971/pctVmmzo1B/tm1inkISxBrE8dvSI8NZ7H9lcgCzmu5RICUUthnszbtsQibc+u2VEdETyQXzTPxYKl2NS8JHEBlVlHz1/uOmS+OiMrgcGJKCaJ0UmiWrqa1PkWl4sfEksgxKYzNPviVxdIhUkz0FWZoZI1WEWb3Ki1K60DYhTQjzUBf/aynlWfRyJfyIj7AR4xVMHR/tFn7S72HbGM1e5KEDk0uqN9wvq7UQNcj427iru8ueVMKg+xqIN2cwjw2WaxDFKtxR9lfAnLuckekMIBmEa9d+xCv6ET+Y7OgL1QKDRRmxI0OkEIR9RO56Qog3icNv2beHg/gOmcLt0WS+IWzfDM08/bR1xvPsw2f5ZZQwTKbh+w/qwa+fOcFoqOYKORwahY6Scerv2n7RXB5AcRuWNDNOmTw+TJ08RQSgXBj1s8YxyHlb5tm7dFtauWxsOiSy6pAec72ONzpTzrF37SRgsKf2ECePDlKlTw5AhWVpJiO8qEHuO6G/Ky/nBycoOMaVBHOdp3756VxaOpQO5efs4/s29UyaOq+ke2be5GyQzakGSuBAriMFbS7ckKTu4l3Mitrk/2nNLjGnZ0uvBy+8IOAKOgCPQvBBg8oi7YJ6SBeBWWHqwLOECMkFHYTZ6ZI5NpB7U+AcXRYgF3uu831GeQRAwtoMMbIoFR9w4mWCDQVLPXiK8utYpqQD30FNkQl0NgjVhkoGdE9+7rkVp8P1xV2TRGBIJtRqESppivSF0SLROaRP95DHVWW7UNRlExTnF7zQTTv379TVyqaZjqv6W0re3yKjPXb0ha1A7xZJ/VY+p6797SCyCuq4uhH9vqWRTYmKiRmrP6NqoH2m7kYH3OYlN9tUwZ4v2jT5vSKQSzaWsvkRu8++alLnRsdHnOSkHjyosAEam8V4ifeLFT42Oif3srbE+G3X+qRSZx5WMpqp7NQTV6BHDzXuOtkV8wF0i0iI7UFZuGc3p2zDIRxSQtD3CKpDRGQISpewnm7bLtX2wEZBkSSYLc0Rio0zGHRiCsr4GiUl2eeIsfu8HPzM3aMRE4IvakszS+4qKLQEWuD3x6Jzw4hefMtVmXfCvrZxnRLzFujOjqD0gojbR/sfmzipzZCdUPyhKazIWTciqnaglaxGHdhNxEjyD52u5Rm3nZoGHZy4yFLD3G7rilu4fEvYqSdvUJ6G87dixbtxFVA7/dATqg0CjEZAXLpwPxQrkuy9/r+JElItwPKVVAA2QREZe1MOI2vAzdbDIf3lQ473M6eBYkVqzZnXYsHGDVI/l4azISB4iCDcGAgy4IPAIonr9+rVwTSQPGwQixOcZra5NmzY9pCoeX9UBKsfxEtgjRebq1WvCtm1bw7Fjx+QKIGWlkMW1gYfU9hPpx77Xr1212ByXr1w2N+3Dhw+HJ598UvEKh4Vu6nzj3UtsRXE+CNTNW7aEkhIFZNbfHNdbndfw4Tlh5Mg8lfVelxZW9A7JvWBfwT4jSRkgdVLsicGDBlnG5c5yO696j7HXbe5/gy/tBNUqJGRLvpcIa9ywaUPUNxtt2gnICB3/dAQcAUfAEXiYEeA9TyKTicrgSixD1D9tFToHFRFjpVhDXcRYiQm6ZSCVcgi3N8aSD8o6a4GbxBzDhw01d0omd7hyLl+1LkyfOuEu97n7LSMZrslwG7nO4dbL9SLlChlMIXKvanzKPky2ExmLRuUhphiqObfPEWAOAIFC26KNQi6ziPyZPhM12i/znVsSW9RkuEAyp4mMOqwqgIh+i/fJHCg2LiBtoy5EYbzzxn7PGB2PtLq0Lfa/LtfiyBAWRO2W72i7sRl4Uc+h3u3R4z4IcbtIG1OtJaqMi8plc0phhl2/Ifzr+DxAOhIW7Obtuu6k+4y9L86LyzQq1XFSQe5VvEbIWFSNqDZTpRQlxiExLDEwHia3ekhI5nmjRFz2S02x55zQBes3bQtPPDLbQiCcFilF4prI/Zq+kbibXK++RttH1fiYspqjlEZ5WaSEMKVyHT+keJMoNiEkUWFy/feWrjQiFFL9uUWP1ffyd47voOfQ2o3C6/J+GCi1KQrF+zVUxj0016zJaLt1eQ55/iwh2u33FuWNfa5rula831C4xipZyZAeqyCOd1zV70kcZISo6ghXf+69b3KfVjHPrnqv/u/mj8Dnb7sGLiud4365na5euyYck0stknpUe7yMIWAiFRgEIpL+6l5mvOhYEVy3bp3IwdVKTLJPxOI1e5iJqzdYnQfuragb2Rfp+ZEjh01dCYl1QivQJDSBTITMGj9hgoI1E3Pk8/USSMpSlXPZsuVh86ZNdjxl6S636jR1tINE7KWm9rNyE6yW2IRHjx0NJ0SKcux+bRe0UscxTz21KGQNG6ZrJZbxjmMuqtMuFgFZInUn2CRp9fKK4k6mDUgLvRXHsqrrOMHN8/ftC8uXLxcBeZA3lAU1xi28OgwbuFob/XR09JeFCfXFIKU13BP3wUb90k75dHMEHAFHwBFwBByByok22WGnT5lgseBIpsDEnElSdcYCXkqfZEt4MHPqRJtoP8jFSlSO/ZQI5NF5M8Kvfv1euHLiqiVoePWt90N6+gDF5lMCAxFM92uoKVdJ+fTh8tWWfABXaRQxEJCR8W/GgahtIEAZc5vKRWPsROzsWcUVawHxGBO5l4bah/En7QoFH+ovSBbiw4Mrc5hE2hxZZlHk0aZrMpJ13HHr1hgRRSDXq4vhTopLamSosWKVU9H39fmEGL0k8QUunJ2kyvt8NhX/rLhDx8a/hEyhrUbWSy7dsf/uL4KODMosLNyvEZYhkfqJPT/ZykmmRFzBayJzUZldVCzKHlITJ2IXLlw0/KMxPoIS1HCxRplQnc1Sv3VIixQsuEDUbd+917Joo4gsUSgK9oOEHTwozcIpWJ8nsi1z8EBzDT+uuWh+YbEUm5XJVCAuIQJpZ2S0z80ZJgK3ZnIttly1/U0SFNSbpuBUcp5yJbwqExFGqInDum65tlK5abNQwuLL1dWfmHp0nLJCo8CtSsTWdr3qfocwQw3Iu4HFqXFj8sLs6RNN4FHd/rV9R8zUeFnco2Mr1I9eqEOiLNo5aunIeAYJ0VEfI5wGCZ9oE/Q7+wpLFU+13IRQdVHoQlpu3r7LiGLOQ99AiIGGShJUn3v0Yx8+BBqNgFSIaSMaeVkT9JQXDBJyXsYkGYEUZHWqS+eOt9Vg977GeIj37isIS5cuDftLpRKUupFOcIBcIEjmMXny5JA7PDeg+uOleERKxPx8ScELChRjco8y7FWShLt27bbYNj310iMjcbt2lbcN2YW6cvmKlWHVKq3YKOkMnWQvua8MG5YVJk2eFMaOHadYj5lGGp2R8vKAyMrdu3eH7Tt2mAKxQoO9k5Jxf/DhkjAgbUDoqYHKoEEZtRJnDGxQV2bq3EWSrm/auNGIt6NHD1usmJzsbBGmk0KH24NWXmh0GGWHDoUdO3aG7Vu32kpsr16K/9FnTMjMlERfpF1VwrKlNWnukdViCLvWohKMBrHUBfcXDU5aWt14eR0BR8ARcAQcgcZAgLEMcdAitdS2nXtsosmEmu8wlGgoSpiEjtfk84lH5ykhyJg7GVobo1yJnpN4cc888UjYoDhsxCpHafLBR6uUiXqiuTYzca/rgmrluO+zsGXb7rBE5CMbk0WIWg2x71KRQUpCnhyUhwxjW9wLIbEScb9lTRTSgIm9290IUGco1nBpRd2Fmy5uoBC8tRE8LDWjpEPRizqsJoMIsViauh7kCglFcE1OxGOGdsLiNmQQx1Bm2klqSnKDPxu0LUgWSHFUdsTGr8koG3ih8IsMUgaX/8iImRebqZmsvPQFX3vpuYSeGcbV9BFghUHUtNdcrq4G/mlKjLNPJBrn4hkioQ8JfhIxCEDqIDKI1D7VZKBmPjxrxuTw/rKPbX+eOxKpED+yrPyIfYdyNXd4lpWHeS8Wxcodkplu5YJQOiDCkn1J2HNDbQ28SZwyTglx6mucCyX1VbImCw9wZSGF+qJtEe8RQ3lLUp0ly9eEf/n5G2q7h63Od8k1e5NUmclyyW4IAhLiluuW7D9o95kzLDMsenyBqTITuVcWtKhX7gurnGfW3H7B+PiJSrf8RK4BqXwiJr4pmbFx466Ppeie08Uv0MezmEGsZOJf8kyhjk3EeEYOqm0tVR2R7Ik+gmeQTPPtYpTXiZzL93EEGgKBuvfQCV61e/cecknOCsOysrVCdkurwANNTXjpyrXwzuLFcjsuVmcGCae4hRYj5+4T0+kdUSDlxW+/LZfj8srVNnXCaVpJefHLL4bx4ycqu/AA65BRNOLmSqeelZUVZs+ZE1597dWwRqrJwyLsiEe5fftOxWkcEvLk2twzqfLFx2CioLAwLF/2Uai4rWJMUqyH8ePHhueffyEMFjlI7D46XQxVXv9+it8xSi4/4yaEV3/1y7Br104jU2/cuBm2bNyk1aGBYeDAQQmRZ3QAQ4dkhvFjx1pSnaJ9+Ua+FReXhmXLl4Uckas92/USPoorpA4T+fSKZcvCdrmJk3yHco0bMzrMmTVbSXHGqEOpuSO1m2jm/6OTZCBFfbYWAhLIoxcede7mCDgCjoAj4Ag4AncjwOT/kbkzlNRgcFi9flPYLOINdz+IACxF7mLEQ4OcmD19kikfY5VTd5+taf+Fem382LzwuFwiWTzfI/fKCiln/vknr4ZeIq9SRUbgIl0XYzwEcUXCim279tqhjAfnz5l+z8TTCMiYpDO4axfIlbM2AtJIBgkDtorwZYLqdi8C/eX2CgEJkQheG7bskOfRwDAmr2aSh/qrqLgUNm7ZacTgvWf+/BsIbJSWEIeQPbv3FsnN9aAUrRctxt/ne977F26fEMgooyDAIKqYy0CoIfxoaMPtdtPWXda2ovlRvGtATuWrXGRYj6yP2mlsgiTIx+Tenyu8cO1FXYdgJZHQCqgxIYmIf8gYG7UqdYbopC7GIgh9UGTguUHZjBMlIHmGSCgTGe7SfashIHv26GZqR4hYXPwhIFet3Si148BwWKIYSLIuqrcJY0cZ+R2dj09Uz7hlr/lks329t6DIEsPs2ltoc12+pG2S6Ka+xjz8vDDdoeQzENskM8oW4TVIxHNsYiMWhcCIe6Hv++FPX7P6OHe+IuxVPzR/9rTP1b31KBTJWPqJjIvsQNlhy8SNW3gihlioMgP0Ddt9kNTpvD9q6pd5/9CXf+nW43e4gJqutXn77lCkYyKDgKT/r4/RnkcqRvLsaZPC2x8utwUmyrRi9fp73gPxrsMzQrb11es3m4Ibt/CcrCEBt3rc+90cgaZGoNEISB6YnOxh4Td+46sm0Ye8Q/F3Uuz9qhUr7D5Zg4Ac1Bv9nvtGbVhYXBzyle36sjo0eBtIzEWLnjTyEVfqqnEVIKyItddeg7yZM2eaq8QxqSBvitDCFbukpCTszd+rxDSzbBBxSIrJvfn5Ih/PW4ffTTLpESNGhGeffS5kZA65i3ykgLzYeNn2kKR+5MjcMGHSpHCu4kIolEs08Sz3HzwY9u/fH8aMPaO4FIllp2LlKktqS2JInj2jZD0qLx1+QaES7nyyVirMqSG5b1+VsUIB2neI8NwlN/ATpgTl5TZT5OPQrGH3YHEPoC3si8Yk6hhAsjE45BOj7dQ2kGphEHpxHQFHwBFwBByBFoOAja/k7jgsK0PxsHuFOVIJnZdbY+SK2k3jSJIqQAZBWpBRubm8txmzoFR69qlHjQTCtZJFbjL5fv9ffm7k1ReemB8yNI5NRA0UqYr++ce/UrKJrZo4X7BEOxCKUyeMNVfI2IrNUry3bOG2dMVq+xol5pCMQWHi+FGWUCPemIoJ+bqN20ReFVt5Y8/ZrP8W3ozb9GEGWYKyh3FdQ9sYqcnWb9keduzOtzHjh8tWy60+w4hy5g3xDDXUspVrK11SFZuzJoNoI6HIWMVC3aJkTFckMli7YbO53H5ZCT3i1R/iBAisH//iLc2ZSm0uA6lCAhKUavGOq6kstf2G2g1179xZU0yVBfFUnUEgLvt4Xdgit0/aGcToQHmwoZyEHI0MJRrtmnvfnV9g7RAF9LJV62xBoiYSEkXm2x8sD8vl8osbMgo9FjGefGxunQlIEkmhrP6lwihwXp6JFR+vt34I8Uu8MAo8q8VS5a1bv8USyNAnMRfNk7osQ6Elqhq/M0fOUxxXSG36igOKA/mu7gMFMwYmE8aMtNiysccPVTiHIWon/I5YY4cIT/A/onMwnxnQL1VtJt2UgrHH3dffOh/Jfd7UAsjmbTutzmZNmxxeefHpkNH17szRPIu0N0jTX77+jl0ODCEko4Q6sWUAA0RIkYFhvJAb0T5D1Z/l5eaEt99fbnE2UVfSlliQAs947wIIepSDf/9PPwnbdu61ZwT8/rf/+F2LxRmdv7pPSMtdIs/XK+HPBC0wxSP0r0qpj2p5rYhhFIoYcSrH5g0PgxMkSKu7Pt/xDOcME1m4YFb4SM8EmBYpBuf7S1cZ8Uv/FG8hjjaBF8H7el4Xqx5RbtNH4hrP/aBnoL1PAABAAElEQVQqjYdbvPL4945AQyDQaAQk5CCDRLbI6CyvSSkYK43n4YAC0sddhvqxQK7UFxRYF18TXB1QC06dMjX0UzKZDh2qj6fDg2qk3tAsJXMZHnbs3BGOK7s1K4rHtLJ0QAThtGkz9ACGcFCE4T4RkJ+qXFy/vzpuiMXhuSMsrmS8FzcdLWrLMVIulpWXyz28NNzQ4MLcEpTA5pQIwkQJSK6RrFiPY8eMkWv3uLBFcSghGI8dPxFWrloV+isWZFu5jB8sP6Q4lctCeXmZxdIcqA5t/rw5YWRenmJF9r4LO/9HfAToeAkifkbu9iREwt0bYry3Vl8htfnbO+P4+PkvjoAj4Ag4Ao5AYyHA+IqYWWwZciWEYIlcK4kXHjtpbawy3O95Gc9lSSGE4gfXTVwSUTBu2bZLscIrXXdRbhITMjWlr8a13e6Kv8V4GCJtv4gUElRADDLZJmspU3WSSjz/zBNa3NcCubxEYg1V0mjFZoN0jGLLoapC0TVP5SFhQxcRtrEG8cHE+le/fldjzCNGaMT+3pz/hpRCQQaRgEFS75ZbIhl4Y40xHm2K7X4NddcYYUs9ghkuoO8r0QYqtTkzppgrYyypTD2WKkPvcpFXb767VMo8RA41E6O0HeoP8gzVGGGluB+Oh9ieqgzIEDzR/XIvxISH+CIz8vsfrbR4gPxOXLdnlfwDMqoxDNd+Ep789FdvKe7pTCNiYxVxjLNRzEGkvvrm+1JzFljsUuLVLZgzQyq+IXZPUdkIx8Vz89Rj84yIQ4TBvb+2+H212U5KvpJzxz09OoY+gXJACv/6nSVSpW63a0KoLHp83n0lXyEhx2ipWqdNHmcuzWdEmm5Snf/gJ6+FhSJ/RiiuIgsf0dyQeibj/Z78IiODiK/HokN3qaGJYZk3ItvaaFTm6JPjIWNJRAO5BXGFWhqV6BXFF4XoROmH0rGqihOVLIo/NuaFZbdVuZdFvlOe4WqrEJCdE4z9GpWpuk/c61nk4R4LivbbM3RBit6xtwmv2Pk9x1+Rh+NRPR9RIiQLlyElbnUxBlGMx5L3qBlx64813OohLyOFImpCrj1apB7qbvrY1cr8DTE5Z+YUi+dYlSCk/0X5t3TFGpHmH1sG8Uryd7iFgauubLFlIN7r3n3FauuL7ZlE9RwbLoB9aYf01++J5Nuu9kgcXvpn1KKj9EynpHwebiD23HX5m2efa0PS49oO37BdqvgfSGFPop8JImEHqK+PXQwgsRhZ2Fev26hnZKkWAnYb+UhfOEWhSyBuY/uTupTH93UE6otAoxGQ1RUMjpHORH1kjcbvx44fCwcVb1H9tIwYLClyrx4q9+Z0xSuoXS7MKvnAgbh9Dw4nRQryQiRZzIkTJzQQgAjFxVtBdEVCfoYKUxciqU1OTo5WOLrUWL7oRwjRzMzM0FVu2hcUn5IBxtmzZ8LJE4oZMiIv2q3WTzpXMijOnj3b4mNeUOd1WZ3mtm075O492gLgFmllc+OG9eG6yDNcbUbkDg8LH39CZGx/qR9rx6PWQjwEO/ByJmYncTy3b98eSkUck0gIN3vqkbiiGRm88HveGWA8BLD4LToCjoAj4Ag4As0SAciJtlrQbinGAvjUSeNMaXL02MlKckFutDt27TOXWlRqxK2EKGBC3V0TVRblGZ+gVIFUWrtxiymvtu7YI2Lioi2KQioskOv1b33tBRsDCpa7DOIFkmz+rGnh9bc/VDKMirBdap+zmoBWXLxsZAekRge52zHmJaQP539vyUqbmEOGQlCiImwJ1lkkDQk5IBMgdEgAsm7jVk3KJSoQcYEIAtED5C3Y1eaKXtM9M7GnznaLaDr2/ke2cL1yzXojZiB+RihWH2QMk3/mAZcV4x7yF5ISgre7VL14e1Gemix7WGZYMHd6WCrVZKGUs7gVr1y7weLpnX3pWVNBJWl8CvkKQcnvq6W4ekP1XS4SC/IaheGk8WOMBO8l4UZDm5G5IqaI6/j3//gTeZddDjOmTrC2DOkF+YTKCoLotcUfWKZmSDlINcjwLzw+X26jmfcUi7pEtfiR7h23YuIpLlm2xvaDmERxChkGYQKOEHZki0bVtUYkFO7X1AGZoomRyrNVV4NQHjZ0cHj5S08bcVOo8xPP8Ps/+oWpTOfOnGohINiPeSrkVJGUaMs+/kQLBcvsmaN8kP0vSbUKAQUJV53RZiHTVg1Kk8J5m81RITwxQk0Mz86yDM9VVZcQl2n9U0RGDbfkL7FJhziWc9LeG8Ig53qqDeGqS4xJSHVIr6Ur11ifNFwLISg9r6vfIqEqcQkh4SgTQg5Urrk5Q03YUbU8qYo/iBs++zE/R226WWRvbk6W1TPPMO0GYj8KdQBpOWL4sPDMk4+EH+q5PiJREdf83g9/bgsQkMep6uMqCUv1p1JV0o7IFv6TX75pbZb2SzzFF5553EK61bYwQf9Cvbzx9gfhhrKcQzZmKwxIlF0c5SNtYKXcoUk6xrPPPZGU7LkvLBR2CuVWZbGoKhaJ/Jt7og97dtGjpo4mxMbxk6eM4Cd5GDGHUUJSX7yDIB/PSTVPOIN/+dnrtqhBvUDQZg6qTPgG1m6OwINCoFmO6iJXCrIho34ktmGayMQhQxRjIo7ysSqAjM26K2NWMq7QOh4XaQZ256SoJAHO+UvXbGUaiTh8KGGf09PT7RpVzxXv3wwceycpc52S1lyQyzhlheQkU3ZdjQQyM6ZNEzlWJhLydDi4v1gd6pWwYuWq0LnrZnv5XVW5GeBkZw8LM2bMFME62Dq6ul7rYd2fl1xhoVaU33wz/OQnP7F6YiDDgAFV7XPPPRdefvllxfccV+0L82HFze/bEXAEHAFHwBFwBBJDgOQTTz+xwCaqf/l3/2xx5Misi0qPTNZM4FFzdtW4j3htTMSv3/jUFEDHFMMPYgOvHcYsGJP8RQvnh29//SXLiBspsKqWBhXZV770BSniNpqbHueByPov/9dfi9RINkUpZBoTc2KbHZfiiHEx5CeupyiQSMDREowMzCRgMOJPE24IVbIH/9lf/I0RgmB64uQZyxT8P//Bt8PXX36+XreFaynkAwQZcwjG5xulutsqlR8CAtynk5J6WsxHsMUt+prwR/WHqyO4krG4JoNsguz53d96Jfz3v/m+xbdDObtx63bLXgsxhSsw94arLtmTIeJoJ9QhZMoE1ePXRFb2iIlfX9M16/obymQ8wCDCIOf+77/9p5D8M2VrlgIXZS9JO3ArxiWY9he1YRJpPCK1JCQJOFU1yEtIyFe+/Gz4xx/93BSQpyXo+OUb74SPVqy18w/JSDcxCu22WBmXD8htGZIqugbE0P/07d8wReb9KgDBGJd3YiyeEMHD/eDy+uNf/trIHhJ3QPDdunVT93/M9rl2W4DCPRHzkbAHjz8y5y4PwKr3y78hgMhYTVkhriIjmdSUiWNMYRt9F/uJspV4s0uFC0R0ZG00kwVfyteQ9pSI4SNSG0JAgvUPfvxq+GTDNiPlhwlzyG8ISghh1L7sQ7sfNDDNFmMgbKsa90BfRJunnRwTmf6z1xabshbF6xk9a7jUZ6rOf/L9v7xzOMrPV154OnyspD2EpaBudksR+L/+1xILb4GLOs/IZypDuTwpS9ROInKeZ4TYoJPHj1Z/8CX1q9V7Ut65mP6ALGeOiAv6L15fbIQ3CaNw12/Tto3UlYesH6Vvj1TO9OtZmRm6xheNhI09X33+RgX59VeeNzU9MR2JA4kPKe7VLFr0ltqUPjFF+xELlueD0Ac31VZZAOE+SHT077/7LVs0gFx1cwQeFALNkoCEuWdQhKusni3YQRFtcr25nb06UbBQtqVoYMBqBLnRGKCQnZBVZuTLl68QC4FfKq2NrsFWF+uueJApKSnhSFllVi4GA6fl3ltXgzDlhT5p4nh1vCfD6VMnQoU68rKycktCA1HKoHNY1lC5kE8P48ZPcPKxDiDz4imXu/wHH3wQFi9ebBnScc3he1w5jkklCzGJKzbxSkeNGuUqyDrg67s6Ao6AI+AIOAKOAA41SoQhoga1zp/+h983dcwHyni7VgkAGG98Kl5R+ViNZCSeHoQNk3bioEEoRIQKcb1w03zqsflhtuJhMrGORz6COwoxSI0/+0/fNffY9Zu3mRoJNRFKQFRKuOwyGYXwIOZamhRzLz77hMaWQyyuX0shIFFnoYgi5iaKO9SPuOujimKc30GeQcwlIAHBtb5G4pDpU8aHv/zz/yX8UC65e/YVGvnHuVEfXZBSFeURWIMtKlPcJReJiMZtljlHbQQkZST26aNzZ1g9v7H4Q8WB3KLrXFSdfWp1yByjVKowSBuuTXsyd3SFcnr+6YXhCyKqiT3IfKIxrJPIMtzEZ0pl+A+KbYrS8YzaFoIRXIJvqEy4ETPPYnyNgcNTC+epnT1l5GkV8e6dYlKfi0R2dZZq8C0pTXEth+yFREFpCulKmCTG7ih1r4iE4Ro9JDYh7AGuqLiq8xzcrzFf5B6/+ztfN7fw95asMNdVyCXKclThsahLrhvVAX9D/k0SscV9slGmmp5Vykd7wX0YBS3usZEli2CeojivkHjVGSq/sXkjTIVnbU3XZ19IMdzvIYkb0nKlxnzi0blGxhKXEyxKD0oso7lul7Vd7BmjXTJvp+9CfYxr/pekMoQ0q05lyKIKLsAvPPukhYCg30Oxh6LxoIgz+ia+Q0kYa7R1yOw//fe/p/AESyrVwiL8eRbK5dV4SqR1p45SqOo/U5SrnbCYgxHi4Ck9H8/omYR8pK5rs/GKw8niDFnFUfSSVIqETywoYRCBsX02ffQTIp9ffO4pIx/BoqGM8nZR23xZBCwE7pvvLbWs1mDOc0fujF17r0oB2t7KxPMBd4CxUIMymMzyuF+ziOHmCDxIBBruyWjAu+CVRYfOhvFJ3J9EOgs74Pb/IJJ69Uqyzu9TDQhvqRPiIeWFbQM8nZ6XBi8J+iHOX9f4Qqx0JCV9HuiZeJK8lO7HeCkPljSaeJBl6ty3bt5kL3XO1U6dLiuaU6ZMCqNHjzai7H6u8bAeQ33n5+eHrVu3WjIiBqWR0b4guyEoN23aZImISEbUkC+O6Fr+6Qg4Ao6AI+AIOAKtGwEm3RAqo0fmmJswLqEkEiiSux4x33BhRb0DeXZJUDAOxc2OuIYoxFAxjR4x3NRUJAzg+MjtLx5yXJNj58+eanHX0gf2D5uVrRhl4zmRchVywavgWvqvn1SaKMamTx4fvijiCldCkp60FAMvxmjEYIRoxM2RLMQo4lAqMp7H/XWIQivhnl5f41pM+h9fMNtix+EavUOqL1SIEFLnz4NsJamEyogEI9TDLMX8JL4mcRwxFTt0kJiC0ALVmYVkUt3gbt9DRNKQzHRzTaW9oKpEeXnrUiXJA6mAYo/4nzNEjs6T+z0ur7hhNpZB/KYNSLVM7J/pFlCE4pZLZmzKiOGpRRlS+yYH3MpxXaaecvR3TaScYSxVHFneCaNFwiayCpMIhHunXhnL0867az6UMSjZYqlOHj/GEsVAFhGiqr5G3ZB1uANkl/CF2EONd1wqPeqaDSNkAYo6CEGUq3NmTjaShxiXicxXwYL6xW08IiA5Jwo7+op47tu09fS0fjp2ULhWKPdn9SEseEwR+Up5Ieka0gjPAMYYqkXCHEDCnVJ93LhRqerFVZpsz7gJQ8RCQFKeqi7kUbkgyMHsBS1+MAcjoQyKRdyE2WgLKMlp27EGZihGJ47LEz7tbVFmjRZ2eMZOSa3KscQ9xMCyj9zAqR9i486eMclic0KoJlI/nAM3ctoVJDHPJu0RJSgLOhjlgQeAaIV8nKtYlJDhkJYoDhvaKDftkVANhHaArC4oKlEs0CPmKk7ojcgguMkuj4oUspfEVMTKJDRDovcfncs/HYGGRqBZEpARKciDXWmVROSdfyaIAi+pDlotQyat8dbnm/7k4bPz3z5pdM3KnRK8gHZrp4EEK3J3zC4VlfvOtwn/wUs1MzMz5I0aFXZs22axTjjY3HUklyZGZf8BA/TN/V8j4cK0oh0ZtJSUlITDynzOKmZ1BjFdVia5vohIXLNpP5+3weqO8O8cAUfAEXAEHAFHwBGoHgHGELimMnEnUQCJTHbvLbTECGRmJWYe4xMmqxCWKSJtIBtRPk6U2y8kYl0MgohJ6ZML55p7NwRc8YGD5hJ7USolRtOdFMoId+2pk8aGadpwMyQJBMlWIIsgByzxR+97XWVx20O1NXPaRJGnVywWHZNvMr7WZsSgRA0HJhAWUQzH2o6r6XewhZDADTpVhAUJHFFitdX4LUkkFvHjiB/YEEaZccFF2YXr/CdKEkTGW5JhoMjjviCHwHG2JvpkMUaNtq9QiSql6MIYy5NUE4IlnnEeSKjHlVCHWKHZVj+HjOSD+EABiIcX+wwelKbkKFkiPUTa6bwNrXykLP0Vc5B2gZGAg/pHmYarMgQcyZFIwkHimU8VJw81Hi7/kD60MeIS0v4TNUgsiPiRUhCjuLNM0Yrld1Lnx5MNwocYgqj9MnUNyFqOiUfYcV0SzNCmUVJitBuSxcQzSFQUzJSbWIcQhKX7y00BCRkKLpBTkNIQgTxH1FVsdu945479noUGElPhLotRh8SQ5ZmKZ9QxzziqRGJ+QoimpvQJj82f2SAEbHXXpR+i7iFGLU7nPsUgPHHKlL/0OSQhYlEDco9YnpBktSlRuUfih0Kk41pN4iGwpU9EQUodzZo2qbrimEqVWKe4eQ8fNtQS+EBCUiYU0FY/akMD1D6pH0hE4mbWtX64eG8t6lA+yEwI9S3b90ileVgLH9f1HGvRSLjQH0A8L5A6mHYJJo1plId74RlD/U0yI+JdspBkJL2uDylNvzhO904by9aC0/2GJmjMe/FzP5wIxH8DPkA8eHiijWIQAxKXEVwb6mKQSMRNRPmoJRadhwyKbJVBb7kGsSFZfSHuZKUysq7XkCuABjucH+PcEFf3a5Spa5euepmkWAcanQc5OVJqBjk3NPhwqzsCJJxh4FaToYSEoKQtuDkCjoAj4Ag4Ao6AI1BfBJiMD9OEmu2l5xfZGBe3QRIcGKEk4gpSoa5eOPHKxUST2INsGC6SKKUYYzLxh/CMVeFBBv673/9t2+Kdk+8hFr75tRdtq2m/qr9BCJCNm62hbaDUYAPTHjMXXMhHVFAaQGvynXzXOPp+rsv8gC0y7gMX3ZlTJ9rGb+AKvoz/ISMgr9gPQ41FPETKhUFipos8iOdeazvd/h/qMUgtNoxxaYWuRZZoiD8It+g6tw9plA9cStmqGve5YM4025ifmHpNOECkQ9bUp2wkyyCeHRvGHA1345OK6wmpgrqtLs8KhDlbXQ1yDBIsIsLwcEPtaipM3WdtquTargdxikstW10MVd+f/NHv1uWQeu8L5rj3s2GQwcRZ7dq1s3noVc1AncgFIZNRTLLRH6IIP3ehwtSPXK82g/SE8GTDmCPTDqkfyNyaSOnazh37O/0lhDQbzyHuzbhh09bxTowUzrHHNPbfLG5EfTz90NWr1y0GJxiwUEQIj0QwbOxy+vkdgeoQaJYEZDspFnmxsVIY2U2tqrHxkCX6UiPjMbH96Cw4DjkycSfaqyOhM7l7pbCNnf+mXqKJmk5pSWeOHTt6Z4BC7AlWgu7XeMHu2r07LPnwQxGON2yAyNAH8pWX3po1q9Wp9ghTpk63+7jf6zxsx9FmUlNTLcN1REBXxYB9iAHZR7F07lK1Vt3R/+0IOAKOgCPgCDgCjsB9IsA4hMkxZCDxAttK1ZTo2PZ+LslE3ybJGlCSdTuWfLyf8zXXYyBBIPmw+uKJWq5EMTOL5DYPwYiHUtbQwaZIjBI4cI0IWyjHWPKRMkDMHSg/bCQl/6bOIXshbepqtBncsokDxxymvvdX1+vXtH8l4dPDFKDMrRq6bNx7185dzP0bV9i6kI81lbuuv3WUethc+lXvsXPUup6nNewPQY6bNH1XQyj+eG5x92YOHT3DdcWJPq5P+0ryuz5ioJquS1uE2EuT+pW2jtr6QRvPW6dOle8TFpmoj8a6/wd9r3791oFAsyQgIQp5oXeByNNDBXl45vTpcOL4MSPlkDzX9nLjmIsK3Hzm9Knb5GAbdWw9JBFP1cpjFwWFRmnYxR7QiHQ8feqUkpMcC/363x1zIl5VE3j2vBLFnFPQW0hCFTYky+1gUPr9ZSCDKC0qLgnbiFNYXGQr1T20gsF5WWlC0ZmfXxAGDEgLqcraPDQr21Zc7dL+vxoR4IWRm5trLuwFBQWKFRK1i8rD+B2XlpEjRyrLeLa5x9TWxmq8oP/oCDgCjoAj4Ag4Ao5AHAQYd3TU1hTGRPnuRfemuGrTXwNM2RrCED2w8E+W2f2KAUhcQhJZfOs3vmwKo+ga8bBFiUSsvB2KmUfGXspFbHpcNBNRQEbnjz4Zk0IqNEdigbIRe7Ch4w/euXf9UYnzvRmVo32a4hPis23bho/t1xRlb+hr0J4bUvlX2Ybaqw3df0kb8vmPVwp7DnkWb8d1jbdfU3/PvTfV+6Sp782v1/oQqMdj3nhg8HIlRkovpZTHUBoeP3487N+/X4OBs4p7kKykLPGLzv7Io0+LtDwuBeRnWg0gDGTvJMWDSBugDrNz6BXaWsBcBgM3LCFJm3BIGdZKS0vDiJGj1AHWTHKSbe/4iRPh6NGj4aKUlhCelLtv374hPX1QncFhlfSUyrtly5awa9cuI0+R9o8eNSq0VVnKyw8pPuFBC8a8c+eukKw4Qamp/UM3yb+JQ+lWMwK8MHJycsKMGTOszkg2Q9Y+SF/qrbvijQwfPjzMmjXLiEo6cjdHwBFwBBwBR8ARcAQcgYcPAcaGvXp2twQkG7fssPhpJHsguQYJIGqKJ8fYEvLx43UbTUFJwiESpAxTPEriG96vwuvhqwW/Y0fAEXAEHIHWhkCzZK7EFVn26r7EQRQR9Jle5JBzJSWlYb8Iwi55kmi36yoV5L0kEUQg8SIJRF0sNWHZgQOmJGyv8yQpJkk/KQdRVfLy79MnOfRNSQ0V58/Zd4eUoKSwsCjMkqqRzNbxgkQjb0b9uFOu0vukprtyWYG9dV0IQ1x4k3on16mdcOwlkWHbtu8IGzasDwcO7LfyUdbnnns2dO3eM6xavTacOHHcYlqWlJaY1Hpk7ogwdFi2lHvda1WE1qlArXBnCEjUqY888ogRjgwODx06ZNmvccsfPHhweP7558OCBQvCwIEDWyECfkuOgCPgCDgCjoAj4Ag4AokggEoxl0QkcrXEYwoSsaC4NLz5zhK5A3eyjMfMJViwZoyJMZ5nfElikA2bt4ef/mpxuKg5Ai7vJPB44pHZoVNnJce8vX8i5fB9HAFHwBFwBByB1oRAsyQgATgjY3AYM3p0+PjjVeGKXvrEyDmiTHPvvfe+3CB6iSRKD52VrIUVysggBgnmTQas5SuWhc2bN4pgqgz83F1xJXCtzZO6EWPAkDV0aBg9ekwoP7g/fKoMdcR4KSwqDit17Ow580Qm9jESMnagwMCiQq7dRUVFYc3HH4fiwkKdTfF7dL5hysSVlZVlx9lFEvwf5GPp/gPhnXfftQzMDFQgyxYufDQMGpwReiX1Ubatm2Hfvr1hvzI5XxYeB8sOhdffeD185eVXwtChWabqTPByD/VuA5RB/PHHHzeV4wGR0ySmwfUaApK6S5JKNra+H2qw/OYdAUfAEXAEHAFHwBF4CBFgLEhMR7I9M05fsny1CRpwyT5y7IQS6uwOC+fPVmKeNMuozBwEl+3C4v3hrfc+CitWr7ds58Rw76sEQ1MmjLHM1sQwdHMEHAFHwBFwBB5WBJotAUn2qszMzDBhwsSwZ+cOi7V4QZmxdu3aoxf92yEvb7QRbyQWqYy/qIQwcoXGVXm3lImbN28KR6VoZDWShCKjRuWF3BEjQm+pHjEGFpBRI3KHhy2bB4STcqeGvDysYz76aLmIqSsiK0fKZVvBokVQsT/k48lTp0NBYYGUihtCwb587Ue2LcWsVLzK8ePHG4lFkptEjXOWy/X749Wrw8EDpeGqBjmpym43edLEMH36TBGRfY1cHJI5ODz55FPh7cWLQ2lJsZLfVGKRk7PFYskMzhhiJGii131Y96MtpEhZ27NnT5HcGRZXk2DeuGB3VRZKd71+WFuG37cj4Ag4Ao6AI+AIOAKfI8DYH+KQTNanz5wNW7bvVjzH82Gb5iJkwd22Y28gU3IPuWQzFzmvsfnp02fDvqJSO+aGwiuhnnxk7swwf850IyI5p5sj4Ag4Ao6AI/CwItBsCUiy9KUN6B8WzF8QrkvFWCSlIQlfTih5yOrVa8ORI0dF9sk1QglZxA7ai//cuXNyXz4Y8vfuDWeVGIakLd2UMW6QXGqnT59uCsgOIqAi66VBA6rIqdOmhy2bNlqcyYtSQebvw636spGRxHPsruQ1EFPEaTymWJQFKkv+3vxw4/o1Wx3FtXvkiFwRkBOsPIkOLiBHiSNJzEcIzUsVFy1D3tChQxSrcHrIzBxyJ9N1kuJhzpg2zWJUgsMRuQ+f1uBn48aNciXvHXr2SjLlZaLXjjBorp9g01iGahaykc3NEXAEHAFHwBFwBBwBR8ARqA6B/v1SwtyZU+SJdMPiQBaVHgznRELuyS+0rY0SRZLdmvH3VYspX3kWiMf0gQPC+NEjwxefXhgmjBnpi9zVAezfOQKOgCPgCDxUCDwQApKXNIReLFmmr+4yXujJffqE2bNmKsnLBXN7KFS8RRKHnDl7LpzetEUJW7YFCEUIJQgrCEc2TkX8RhLZpKcP1KrjnDBNJGO//gPuugZuELh6P/fss0Yu7ti+LRxTUplrGkDsP1gWDkpNSTk5P+dDrcj5ISIpe6dOnSyxzfDhOYof+MWQnTNcSWHIWl27UV6us0tqTeI+HlKCGVyv+yvWzKi8vDBmzLi7Eu1w/WQRjZMmT1IsyBPh1MkTRoDuFRHat2+KVH2pIkAnhrYqayyutZekee1B2dkak4BsXnfspXEEHAFHwBFwBBwBR8ARaK4IjCAWZP9UZcHOCT/62Rth6449poj8VPOCm3Kxxv2acStxI9uRDVpj8YxBA8MCqR7/zW++ZMdCUro5Ao5A80WAuXbXLp2laO5mhSTLd3X5JprvHXjJHIGWgUDTE5CftQkk/SDuXnu9pDt06Bh3RRAiisQuCxbMN7VaDyVj2Xfb7RkSkJc9W/Q3ZGEX3Gh1HOTlyJG5YerUaXJnnmwqRkkl76mVTiIwB6alhS+/+KK55q5btzaUl5VZ5uybNxlQ3LKBBcQjRucE8UjZM+XCO2HChDBl6pQwLCs7dNT3iZq5Xh8+IlfxraGkuCR0l1KTAcvcuXPCjOkzjMisjkgcq7iYR6X+PCJX8eNHDxtZV7BvnzL19QjDpObs0aPXXXExEy1Pc9mPe8YlGnzY3ByBCIFYUrq6ZyPazz8dAUfAEXAEHAFHwBFoSAQIDTV14rgwbGhm2LW3IOzaUxDKDh0Jhw4fM3dsxiVpIikzBw8MhE0aKdIyb0R2SFLIH+YMbo6AI9C8ERiaOSg8/sgce8Yp6cRxowLPvZsj4Ag0LAJNSkC2E0HIgzxx4gSp9pJFuLVV7L2uIaVvao0kZC+9vCeMH2eJWcaMGW3Ziy8q9iJu0iQRiQjILlq16CVXZJSPQ4cMDZlDMi2jcc8aEoswYGBVcoDcveeJ/BskxWRxcbHcvS+ES0o2Q4zHq1evGgmJEhLitI/ITdyes7OHSUGZaerDznK1qItBpqCAHDw4PXRsX6mytMGNCNMBchmHTK3OuinxTt7IEaZ+PHyonPw3oV3bNmFgerrKiNty47kuV1eehv4OjCF4LyiREPXaGixaGaetVVX+tob7a8x74DkBP1QGPC/X9CzSPojZGe8Zaczy+LkdAUfAEXAEHAFH4OFDgDEH8d47a67RTZ/ZIiIvKHTSxUuXw5UrV03j0F0iiJ49u4deCt2UlNTTxAEPH1J+x45Ay0QgQ3Ny5uLTp4y3G0hJ7nNHDdky78hL7Qg0TwSalIDk5U2g5okTJ4acnBwjziATkvv2rVHiDHFDshkyFOMyfVxxGHHFvnL5ihGEKOUgKSAgk0RAdhM5kZY2wLJlo1hMxHDHRtGYorJkZmaGCgWSvnT5kmWcvnLlyl0EZO/evRVvMSn069dP17y/OIJgQVzHiYobeV0u1+0gY0VupvbrX+M5BYXFtCS2zNmzuZW3JpKGWJedOnWuEcdEcHjQ+1BfkLzUMUmBIKCo/5ZsqGfZIFdRdzpxFr82qe+IdOST5/yiFgLOKPh7WXmZwjFUhCFDMsMYZa+vK+kf/6r+iyPgCDgCjoAj4Ag4ArUjgJdVH80B2NwcAUeg9SCQJG9CNjdHwBFoXAQSY+caqAyVasOOIWvo0Ps6IxmMU5XBmA2LJSr4u62UgGSkro9BfsWWD2KzqoKtIQgkyKj0gUqgw1ZHQ/3FljF4cB2PbP67U8cQzShbY4nf5l/y+CWEREO9B9nO1hDtJ/7VWu4vN/WssZiAypH6BzOI6MMKObB//37LbH/xYkV4/LHHQvawYU5Attyq9pI7Ao6AI+AIOAKOgCPgCDgCjoAj4Ag8ZAjUj617wGBBaELkYRCQjaGUgyxia6zzP2AIm93lIehSRDDj9g4JhQqySx3d25vbTZ09e9buBdd9JyCrrx2eLwhnMtkfUoZ3Ms0fUizWsrLycPLkSakgK8I1FLG3blZmmWxTfYiC6s/u3zoCjoAj4Ag4Ao6AI+AIOAKOgCPgCDgCjsCDRKBFE5CxwDUG+diU54+91sP8NwmKcG3HVZk4kOfPn2/RBCTq2SNHjth9DBo0SPFGyajWsl3KG6N9Eu+zuKQkrFu7NuTv3avwAmeNkISEhoyO4rxqLUD4VW6NUQ4/pyPgCDgCjoAj4Ag4Ao6AI+AIOAKOgCPgCDQ8Ai4janhM/Yz1QACCLjk52WJ+Vije39GjR019Wo9TPrBDUfURv/DYsWMWA3KY3IYhVt3uReCWsIJsLC0tDQUFBeG4MLt+/Vro2KGjkbZgiYFfhw7t3Y39Xgj9G0fAEXAEHAFHwBFwBBwBR8ARcAQcAUeg2SLQahSQzRZhL1idEMClvoeyBw4fPjyUl5db7L8RI0aY63JLUw6i2jt8+LC5FRNb1AnI+E2BoO7E/kyV+pWM7h3UDpKVfS60aReOHD0SSqSOhITs1KmDZa1v4y7Y8cH0XxwBR8ARcAQcAUfAEXAEHAFHwBFwBByBZoaAE5DNrEK8OCGQCXvChAnhwIEDpoabNGmSspqn2fctBR/IMpKobNq0yZIYQT6Syd0T0FRfg+1U54PSB4UF8+aHsaNGh65du4T0Qenh2qe3wrJly4yIvqUENWYmhqxURFZ/Nv/WEXAEHAFHwBFwBBwBR8ARcAQcAUfAEXAEmhMC7oLdnGrDy2IIQNJBOA5Wlm9IvFWrVlkMRTIktxSL3Il37doV+vbtG/Ly8ixhUktTcd4v3hCwiW5cAwUkpGNOTnaYNHlSGD1mjLUBEveQhOgObuIdnXq831rx4xwBR8ARcAQcAUfAEXAEHAFHwBFwBByBB4OAKyAfDO5+1RoQgGzq2rVryM3NNfflPXv2hCFDhgRcsXv37t3sVYRk7sb1+pNPPrGYhZR94MCBn5NoNdx7S/8JkhjXc7Y7pGENNwVJCeFMbEfc73v27HnX3h2uXL+rvkVr3vW7/8MRcAQcAUfAEXAEHAFHwBFwBBwBR8ARcASaPwJOQDb/OnpoS5idnW2ZsPfv3x82b95syUggJbt3734XKdVcAIJMg3g7fvx4yM/PDxCn06ZNC9wHcS0fBrt0+XI4dfKkKVYTuV8wQ/mYmpoSevXqbSRk7HFGOGofN0fAEXAEHAFHwBFwBBwBR8ARcAQcAUfAEWi5CDgB2XLrrtWXnMQtuC7fuHEj/PznP7cYkJ06dTJlJNmyE1HYNRVIEGm3bt0y4m3Dhg1hx44doX///mHOnDlhwIABTVWMB36dI0eOhDXr1oU9cj2XD3at5SH79aD0gWHu3Nlh9OixIiC71HqM7+AIOAKOgCPgCDgCjoAj4Ag4Ao6AI+AIOAItCwEnIFtWfT10pcUld/To0aaERFVIPMgrV64oVmCOKSFx3X3QRCSqx8tS/p0+fTqsWbPGkuf0UzbnRx991OI/PkyJZy5UVISDBw+G4uLicFO41Gpytw+f3QoXzp0Lt27eqnV338ERcAQcAUfAEXAEHAFHwBFwBBwBR8ARcARaHgJOQLa8OnuoSgzBSCKSKVOmmAKypKQkrF692mIsEhMSdSHxIsmcDdHXVGQkasco3uFJuRyXlpaGvXv3hgoRcCTPQbk5dOhQi23YVGVqDg1DdGJgI6nMLcjFWgxs2PdhwqgWSPxnR8ARcAQcAUfAEXAEHAFHwBFwBBwBR6DVIeAEZKur0tZ3Q5CLJHHB7RoX7LVr14Zt27aFixcvWnIaXJ2jbMkRERmh0FDEFi7WGJ8Qj2Tn5vqnTp0yxSOKP9yPJ0yYYGQp5CNledgsKSkpDB8+PHRQQhlI2gi3eDhQP2lpA6QUTQ3t2reLt5t/7wg4Ao6AI+AIOAKOgCPgCDgCjoAj4Ag4Ai0YgYePIWnBlfWwFz0lJSXMmjUrZGZmhiVLloStW7eGXYo1mJWVZRmyUUOSoAbij4zKWEMSkJHqERdw3K3Ly8vDzp077W8I0EWLFoVJkyYpmUqvh7aqMjMywgARwrilJ2rtRTxCLLdv3yHRQ3w/R8ARcAQcAUfAEXAEHAFHwBFwBBwBR8ARaEEIOAHZgirLixpC586dzcX5hRdeMAIQ1+eysrKwbNkyc3fu0qVLYMMtuyFdsiEfr169arEeISBJjAO5iTIzIkUhSCFAH2arqkBNFIuGrKtEr+n7OQKOgCPgCDgCjoAj4Ag4Ao6AI+AIOAKOQNMg4ARk0+DsV2kgBCCqICFxuyZLdt++fUOGVHcoEs+ePRsuXboUrl+/brEYcZVuKINsZEOp17t3b1M5onpMTU21Dddj4lU+7AZGkfr0YcfC798RcAQcAUfAEXAEHAFHwBFwBBwBR8ARcAQqEXAC0ltCi0UAtSFKx7S0NCMejx49Go4dO2ZkJPEZidOIcrG+BumJsg9lJe7VZLjG3RvyEbKNDeLNzRFwBBwBR8ARcAQcAUfAEXAEHAFHwBFwBBwBR+BeBJyAvBcT/6YFIEByE+IM4g4N2ch2+fJlKzkKSQxFYkMSkKgfOSfu1+fOnbMEKxEJym9OQhrs/j9HwBFwBBwBR8ARcAQcAUfAEXAEHAFHwBFwBO5CwAnIu+DwfzR3BCAeIRUhHqMM1AUFBRYHEsVjpFQkYzZkYUPEFozITs4fbZwXF+ycnJyQnZ1tsSBxCeeaTkQ291bk5XMEHAFHwBFwBBwBR8ARcAQcAUfAEXAEHIGmRMAJyKZE269VLwSiRDAQj0VFRaGkpMTiPnLSwYMHB+Iw9uzZ02JDVmZVbt9gBCTxJCEfIT4rKirC+fPnTQWZn59v5CfJaHJzc42I7NGjhxGh9bpZP9gRcAQcAUfAEXAEHAFHwBFwBBwBR8ARcAQcgVaCgBOQraQiW/ttQD5C/JHxOiL9cIUmJuP/z957wMd5ZVeejzlHMIABTGDOFHOOEkXl2OpWt9Tttrvb3U6zXs94Z2Z37c2e9Xhn3e6f3TlJrZxFiZQYxJxzzgQTCDATzFFz/xf8qGIRBRTAAlAAz+OvWIWqL7x3XvjeO+/ce7OyskK3bt1CRkZGgPxD/YgSMpVKRFSQkJCYfWPqTcCb3NxcJ0GPHz/uhCiBcPr16xeys7M9OA5qSCUhIASEgBAQAkJACAgBISAEhIAQEAJCQAjc7wiIgLzfW0AVKD/kI6RfTk5OWLlyZVi/fr0rDceNGxf69+/vZF95FwMyE1KTFz4mMb+GaBw6dKiTkKtXrw4rVqxws/DLly+HAQMGeL5SYQJe3mVL7+sXRh8HR4v2E2rXQtWqgD/pXWfKnRAQAkJACAgBISAEhIAQEAJCQAgIgTsREAF5Jx76K80QiPw9onpcvHixmz6PHTs2TJw40UnAKOBMZWWbyNj4gWzdurW/L1iwICxdujScOnUqTJ48ObRo0ULm2PdQObWMeCTSeauMVhb056YpXBvaq6lHHr+Hy+pUISAEhIAQEAJCQAgIASEgBISAEBACQqACERABWYFg61alQwCzZ8yu8fU4Z86cgF/HYcOGhYEDB4bMzMyUm1mXLneFR6OMJF+tWrXydz6vW7fO88wREyZM8N9QTiqVHoEG9euFQaYmrVvH8LP2UK9endClSxc3sy/91XSGEBACQkAICAEhIASEgBAQAkJACAgBIVAZCIgVqQzUdc+kEMCUGZ+PmF2fP3/eza0xeW7fvv1d56OUhLCEEIxedx1Ujl9AMKJ2HDRokN9lzZo1YcOGDU4+YiaOQpJ8KZUOgTpGPHbu3Cm0bdvG6xdT7Hr1Cn18lu5KOloICAEhIASEgBAQAkJACAgBISAEhIAQqCwEREBWFvK6b7EIQCYS3GXr1q1h8+bNYerUqa5+jCcfIR4JDANZyTsEFUFoUCJWhv9F7o1Ck3TgwIGwatUqD4xDsBzypFQ6BCKFqbArHW46WggIASEgBISAEBACQkAICAEhIASEQDohIAIynWpDebmNABGnIR53797twV4IOIOZc2yK/EMSfRql5IULF5x85LgOHTo48VcZkaghIQlQ8+ijj4bXX3897Nq1y/MTT57GlkWfhYAQEAJCQAgIASEgBISAEBACQkAICAEhUF0REAFZXWu2CpcLYvHYsWMhx6Jeo4DDjyIKwloWBTlKKCQJ9LJx48awZMkSJysjArJdu3Zh+PDhfl5WVpZHrY7Oq4h38ty0aVMPStO7d29Xcu7cudPMiNveUYaKyIvuIQSEgBAQAkJACAgBISAEhIAQEAJCQAgIgcpGQARkZdeA7n8XAphSo3yEUCTYTK9eve4IOgL5eOXKlbB+/fowa9asMH/+fFdAXr161Qk+fDESuAa/jJCXnTt3dnPsu25Ujl9EPiGHDBkSli9fHvbs2RMGDx7sRCqm4UpCQAgIASEgBISAEBACQkAICAEhIASEgBC4XxAQAXm/1HQVKSfqR/w5Yn5dv3790KNHD1cTxmYf82zUjxCPn376aUBdGJuInH3o0CE32UZ1iOlzZfgQhITs06ePR8U+evRoOHLkSGjUqNEdZGpsvvVZCAgBISAEhIAQEAJCQAgIASEgBISAEBAC1REBSbGqY61W4TKhfjx79qwrBps0aRK6dOlyV2lQOqJwJNL0vn377vodhSRE5tq1a8OWLVv8encdVAFfoHRs2bKlm16Tn23btoVr165VwJ11CyEgBISAEBACQkAICAEhIASEgBAQAkJACKQPAiIg06culBNDAPVjXl5egGTEjyLm1PEJBeSJEyfC+fPnPfJ1/O/R3wUFBeHMmTPh4sWL0VcV/g4JiQITMhWflpRLSQgIASEgBISAEBACQkAICAEhIASEgBAQAvcTAiIg76fargJlhYDMz893/42Qdg0aNCgy15g3E5SGgC+JEsfwKu6YROem8nuiclMWAuvguxI1pJIQEAJCQAgIASEgBISAEBACQkAICAEhIATuFwREQN4vNV1FyolC8OTJk+7/EfIRAjE+8V2bNm1C69atndiLD+oC4Qg5if9HjsPvYmWmiEhFsSkCsjJrQvcWAkJACAgBISAEhIAQEAJCQAgIASEgBCoDARGQlYG67pkQAXwkQtQ1btzYScii1It169YN2dnZYdCgQe4jkr9jE4Qk5xN1miAwRZlxxx5f3p8JgEMe8W9J+aSALG/EdX0hIASEgBAQAkJACAgBISAEhIAQEAJCIJ0QuFtelk65U17uOwTw74gZNqRdUepHAIFgbNasWXjkkUdc6fjZZ595MBrIPX6DcIScfPLJJ52AjFdIVjSoqDF5kSAhRUBWdA3ofkJACAgBISAEhIAQEAJCQAgIASEgBIRAZSIgArIy0de970IAcg4zbBSDEWkXfxCqyDp16oRevXo54YgpNtGuL1y44OcR9GXIkCFh6NChISMjo9J9QJL/opSc8eXS30JACAgBISAEhIAQEAJCQAgIASEgBISAEKiOCIiArI61WoXL9OWXX7pCEPKxJNIOFeTAgQNDVlaWE46YbqOchJDku/r16ztBmQ5wUC4lISAEhIAQEAJCQAgIASEgBISAEBACQkAI3I8IiIC8H2u9GpUZpSTBZngpCQEhIASEgBAQAkJACAgBISAEhIAQEAJCQAikHwIKQpN+daIcCQEhIASEgBAQAkJACAgBISAEhIAQEAJCQAgIgWqDgBSQ1aYqVRAhIASEgBAQAkJACAiBdEQAH9cXL1221yV3NVPXfFk3atjQfFrXrnB3MTdvFrq7cfcwNUKonYTbm3vBlPuU5FanpOuDH/mOXNqYO3D3FX6v1y3pvqn+/cYNK8eXN0PAMw9lqFnL6t8+KAmBSkLg6tVr4cLFi+GK+eBnTGpQP3Eg0LJmkb571YKFnj1b4P22YcP6oWGDBmW9XJnPY/y4fv1G4fnW7WraQJIo5gCBUcm3p1vjDcfHJ8qVf+yExTC4ZkFSm4RWLVvEH6K/7xEBrwvcmd0aN8v7mXWP2dXpJSAgArIEgPSzEBACQkAICAEhIASEgBAoDQKsk65euRryj58IefnHw4lTp8MZW3yfO38hQELVr1c3NG3SJGS0bB7atMoIbdtk2OcW90zUJZPHg4dzw4FDR8LJ02ecABs3yoL2WT5SkSg3ZCEL8lN2/bMF50JBAT6664YmjRuFFs2bhdatWobGjRomXPjH5wPidsv2XeH4iVPh8pUrTpB0zuoQunTq4IRJ/PHp+vcVaw85Bw879ucuXAxNDIM+PbuHNq0zHJ90zbfyVf0QuGF99Jj10UNH8sLR/GPeVy9dvhKaNWkcOnVsH7K7dQ6ZbVrd0+YIZB+k3KEjR8Ph3Lxw/OSpcMJetWvXDi2aNfX7DBnYzzdhKgrhU6fPhoXLVvlGRj1z49WubeswdHD/Im+/aevOsO/AIScpGzaoHwb06x3aZ7a549iTp86EXXv2h9XrNoWLly+HTh3ahcED+4a+vbrfcZz+KDsC14zgpS54ltJGqYtRwwbb87Nx0s+Qst9dZ5YHAiIgywNVXVMICAEhIASEgBAQAkLgvkTAF962aGLhPXveovDZ/MVh3YYtoeDceSfnIlBq1qgZemR3DWNHPRAemjIuTBw70gm1WrXK10PSvIXLwmtvfxRWrdvowftmvvELIyAHR9m6p/fr16876cg9lq9eH7Zs2xm279wbWmW0CD27dw3Dhgywco4IA20xzwKyZs3iywqZmXs0P/zXH/8yrFiz3okSCJLvf+fr4dknHq5SBCRk7Eez5oVX3/ow7NmXE7p37Rz+41//MEyZMNpJyHsCXicLgSQRQE1GW5y3aHl4492ZTp6dv3DBz0aRO9Y2JL77refDk49MDfjaL0tiI+KajQWMga+981GYOXt+2L5r7+3xr0mjRmGkkUi//df/NzRv3rRCNl4ox+69+8N3fvg3vgnEhs8jD00qkoBkDP/ta++GX/7+TSdMO7ZvF/7L3//70P7hKXfAsWnrjvDz374RZs1Z4OVlY+Sx6VPC//N3fxNqoiy/42j9URYELly8FH7xuzfD3IVLw9G8YyHLSN5Xf/H/OclbGSraspRB59yJgAjIO/HQX0JACAgBISAEhIAQEAJCoMwIQDRu3bE7/MvPfm/KjR2u+kG5AZkWmzDFzTl4yJRBJ8K6jVvCNiPqnn9yRujauWO5Lsgh9E6ePh2blZR8RlWFuvInP38lLF2xJuTaYhHFIsq/o6YCPXXmrBGSu8KncxaG//CX3wtjRw4tkXhDObVgyYqwZv0mV5A2a9ok9O/Ty8jHGaGtKQeVhIAQKB0C+w8cDu99/Fl4+4NPvb+iMI4SY9QFU+eiXr6JyWsZ01Uz5z5w8Ej4X/6v/xbWb9oaUArGjn8XzBUFqnDGDMi+quZKAViuG5GLQnLZqnX+me8gyBjz80xd2jqjpRG4dfhaSQgIgRgEREDGgKGPQkAICAEhIASEgBAQAkKgrAgcOJQblq1cGz74ZE5YuWZDOG2kGwtVlH4ZLZqbqXUrMzms42pIFqv4D8Ms8NKlK+GdD2eFc0ZeznhwYhg+ZGDKF68s9i+ZmgTz6xMnU09Abt+xJ3z46Zzw+ReLQ17ecYcQk+v27dq6jzlMPjGjO332bPj1q++Ea9euh2mTxoaWLZoVCTc+6Tab6d17Mz938vKmma73690zPPXoNDcPxX+mkhAQAskjgPJx45btTkDuzTnomwMNGzZwMr9Du0x3EdHmHk2vyc2hw0f9Hmys5B8/6RlE8dytSycf186duxCaNGkUauD/tAi/ismXqPKOxB9kndp1AqbcKB2hayFSa9euZcrsBqaALF7dXXk5152FQOUioCd35eKvuwsBISAEhIAQEAJCQAhUAwTOm3Joualh3nzvk/DF4uVm5ncjNDK/h1lmvte7Z7eQ2bZN6GBkHKqYM2cK3DwRMnCfEQFHcvPDNlNNXjSCEEVQUzsPn2OpTCz6l61aa+a/B5xoSOW1MbfcbObWEK8HjYRtgM+0vr3CiAcGhS6m6LxgJp5bt+8Oa42Q2L03Jyxevtp8OHYM2V07JSQgyedSI3PXrNtsgSOuh3bmf2308MFuws0iX0kICIHSIYA/WlTI9EUU2C1tU6R/n55h3Ohh7pOxwAjKevXqmWuILvfkXw/T608/X+CbK4yDmCaPMcXzkIF93f/tWfMLi6sJfMNWVTNlNpXwQzt+zPCwwtxNoPpsZ2P8cBvzGpuJOebsSkJACNyNgAjIuzHRN0JACAgBISAEhIAQEAJCIGkEiJaaY6aNs+cuCnMXLDUpzJehri2ue2V3C0+aYu/bLz5jgRea+aKbi0IyooxcvGx1eMtMIT/+dJ6pIs95kJI5XywxdVDj0Kd3D1vE1rxn80SC3ly+ctn9n/3br14Le/YfcEKvJP+LSRfeDkS5CZGKv0eLVe3BGL729CPh2994xgiHen4p1IyU9f//t9+Y+vFa2Ll7nwWX2X2XDzawQR0533zULVy6ytWTkBWjRwxxoqRD+8zSZE3HCgEhcAsBXBrss3HKI7Hbd717ZodvPPd4ePnrT6cMIwjHU2ZyvW3nHo+szWbBiKGDwt/97V94EJdEUadTloEKvBDk7Xd8bG8aCs6f902XqRPHuAqyArOhWwmBKoWACMgqVV3KrBAQAkJACAgBISAEhEC6IXDj5o0wy8jH7bv2OAFXxyK9Dhs0IPzRS8+5mXEs+Uje3VTPghSMGj7Eg7G0bd0q/PRXfwj4RoPIW7p8jS9sUSjVNZPte0knT51yIu+dD2eHVWs3hFifb/dy3dhzc8zf2xEzKYd8JBFggsU55olR6m6qKogI/DjiJ/PI0TwnXKPfo3ci5+JDc5GRj9uNxCBqbksz5Z7x4CRTFw2MDtO7EBACpUQAv4vHTpy4fRYq5YH9et3+OxUf6NsnzYck/l/ZTMC0G0UlEaerE/kIVs2aNfHAWn2MyGUTCnW7AqOkohXpGtUZARGQ1bl2VTYhIASEgBAQAkJACFRRBFjQoRIk1TYFXCoVe6mEBF+FmDZi3kwQltpGLEIcfvOFJ8O4UcMswnSLgL+w+AQJ2dBMlXv16Gbme4WKwOWr13nAhoNHcsMnny0Ijz40yUy3W8efWuzf+HfcbVGWt5lPRoI/7DdCc6dFf923/6CpCQtNvIu9QBl+xLcjqqcoQThgbh4bXKK+KUJbt2ppZtedjVjc7XnjPEiK6DgCVRCshijdkJBgSwTtF559zIkSlKFKQkAIlA0BxhmCQkWpRbOmobkps1OZ8Gt75Rb5yHWbmDuJ5rbpwEZCdUsoKujvAwAAQABJREFU1BvUr++v6lY2lUcIlBcC1W8kKC+kdF0hIASEgBAQAkJACAiBckPg+vUbbm4LmXfsxKlw2oKznDPfgaTGjRoGApq0MQILQo6/02VBe/bsOfP9uD7sxbei+VlsYUFVBvXv4z7PIOGKIh9jQWSBDgn5+MNTwn6LqgppCImIP8UHBvV10q40yiFIvWUr14WZn803UvBsyD92PJy/ePE20ReRfbF5uNfPKD5j8wjJgRl1bHJC2Xw5Yn5NhN06RtTG1yHRd9es3xzmmw/NPMt3hM2TM6aGrA7t3CQ99poV8RmT0ssWxfyM+cejrs+ZqSXEeKOGDU3N2dheTb093mvEW/Di2gQlOnO2wAMUoaZqbiQRJCxtvrQJQvey1QW4EhCJ9nn9xnUnTGinrYwc5/okfNhx76P5x/xv/Ni1bNncgyf5F7f+wx8nJDFtFKIJn4EEV2pm5DD1iT/Q8+cv+LVOUw4jvRo2qOcuCDLKWA5uDVGNn9UC8x9IMJWz5rLgS9ukIIhKYT00MTUxRFfpfe9xbYgzXAmcsTrm+rRhAh2hcqOO8cuKb9OKSuCIT1jPj+FIH2YsoU80gzg0Uo/8xPa7+LyhQjxt/mbzbtVpzsHDd/h/PXHylLtCOH3mq80D2hwbKNRVSWNXdD/qBfNu2sOxEyfNv21e9JO3B6JCEw07NkHcde/Wpcj68vqwdkM9nLK80e+u2N/1TGHY2MrfpnWGt1vGHdIxC3TjqsvLhRG9szq0t+dF02Kxic1LWT9fsnGBfsX9vzSfmk0aNy7sU3bvolLu0Xx/tlE+2hbPB55r/M3zj/JyPe//Vl42XAheRl+lru/exirqLnd+x7hy3p6j9G2uTZuAOAVHlPf0f8YuxrkLFy6FXGsrl0yJT7A0lOetyiGaN+VlTC2s37Nev1gRMJbQz9qbv1/6dXFt+85SFv2X3cZwvWbm8Rf8HtzvkkV9J0AQ/Qc1PsGRuFei5yKK3uM2H2FsJt8tmjf3IGj16xe6Fin6zsHwvBn2mrsTLA44D0uG7t06u9/TROfwPWM2gZuYBxHaqF7det7eeQZgX3DaxnLmCNQpm7KMvdQhrk44l7GXcZd+T0R78snvGTaWU95E5eTeFZVEQFYU0rpPlUaAgYNOzXuU6PTpqsaI8qh3ISAEhIAQEAJVAQEWSSwgd+3Z74FHNmza7qbIUbRmJs9dO2eFQQP6hHEjhxph19VJGRZJlZ2O2yJ+1pyFPunHBBlTwxnTJnhwlWTnCSyC8B32wSdzzUfjQV+YLVmxJhy2hXyP7K6lIp8gm3bs2mvm1hsdGvLA4odFFosuFqIoISM/cKnAr6ORg5ltW/nihrnSpq07TLHY2wPQRCQBAS4OHDwSdpjvR8iuzh07WICezNsLIhbguyxAzXsff2blPurEVXdTS06dMNrrvTJMGyFWWHySH6IG7zf/eXy+bPnPtIUfQSi6de7k5exopqYs6vFXWZrE/BJiINdM2PflHHJCiHuxkIRoQTE6ZEDf0LN7l9DcCAHIg2QSRAN1DemEv036FiTRJSNpUOX27N41DDQT3L7ma5TF7Tm738at270tc30iFo8yU/qMoc3vuB2kCwGTlhnpfszI7tZGUEybPDb07pHt82Siu+8zIn3X7v3ellm4c33IJsqBOhZCJdlygA/3PGmE5/6Dh0zRe9jr4cDhI07atDWMCGhEsKMedg/qpbFFWEaJnExi7CEye+5R8C+sYzYCIIEgYbvadRl7eCeYCsQWRGt5LeQpL3Vx1AiIgx6k6pC3C4hhCBn6TNcuWV4/nTq2szZi5U1ATkO4EPV69tyFDsUOqxPac5TWb97uBEmjRg2irwJ9efiQgbaB8kCoeYvgu/1jgg+0g5mz53uUe+5JAKkoQZasWLPBCZzoO97bZ7YNP/qTb4VGte4kfyDCwB4Sc5cpt3ft2Wf1fcTdNkC+drTyD7HnQD9z8dDeCDzGha3bd4WVNt6xaUF6/qlHwgMD+xlpl1wb8JPK8N8Z67cQq18sXuF+dXt27xbGDH8gDE5AQK7dsCUsWLLSx17I8idsY2Vg/0be1wlEBm47rZ/S/vAJDJHap1e2u7Og3zRi4y3Jds04zPgF6bnXnik7DcfdNr5CTBWSn4ajBQXq16eHY8p3h3MteNCcBT5OoIwdOrh/GGvtoGXdO8eAMkB1+5Qb1r7py/Rf8sOYv2//ISOqr/nziTITbCzbyDoU82VNbJQQ7Ih+81W/Pmzk3WknV7vamNHN+hHjBv2azRj8NseT7hDqS5avteBNO3zjic3FyeNH+TmJxgD6MAThzM++sABzeV7fzay+//jlr/n8IH7jLbaM540EZhNu3qJl7LpY3bTzwGtOQNp1eTYQ9Ig6hTh+cNI4C1jXy8cqiPD9Bw5an8kxK4gD3h9aGmFKOXG1gFsUrsM4kijvsXkpr88iIMsLWV232iDAAM4gRgTHyzZpY1BhwdPQdr7r2+7dve7OVBugVBAhIASEgBAQAmVEgEXCYvN7iJ/CjZu3ubrphhFSqOZIKHRYlK1et9Fem8Izj0+3SflwJx7KeMuUnYZKCZNnFB01a9T0hfWMaZNMyZG8uXBtW/xBNg0Z1M8XSzt273Wl4JG8/FtESOnVb1EBUZV0sQUW/iafe2J6+Oef/i4stwXMBVNUpSp16tjey82ciDnTyjUbQ08jTgf07emEBmoQ6m32vEVOPjK36tC+rZM6UR4gm4l4TfRcVCrk+4FB/cPXn33cP0fHVdQ7eVxmUbjfen9W+GLJcq9flI8QJPxGlNtatWuG+qZQYWFH0J3HjVAorcoEkgAC+9W3PnDCBSKWF/eAPEbRR7AQyIo/evFZV0UlQ2yzCH1/5ufh96+/56on6oV6iL0uC3ww/tt/9wO/z+atu9z8HYxHDRtiBECG++2MxZx2DsE9c/Y8J0wiMqyNHUsfjsznuR94oVKsWbOGk3aU48lHpoXvWHAi1F3JlAN81m/aFn7y899bYJPd1h/O+XUZH0hcozCicr3Qy0jVl154Kjw0Zbz3p9h8J/p8xAiadz+aHd62AEkQtNRvYb5v2iKda6PUNeLPiDk2Cf7ESAQCIUXEeqLrluV76oa2D5n39gezwgYbC1Fmkp+bVndI4CBuyQ9rkHGjhoevP/NomD51fJFYohYl+BN1QqJdoayMEhsFYBpLurBxwNg1ctigpMt47HjhJgzjIOo58hulQlXzJh/Xo+9479Ore/juS8+7G4pYMgT11jtW9tff+djJlth2VMPaEf2ugam68CcLoTPe3Fxsoz0a2QNZSRpsRHc/I9bLW7EKUbpx847wxrszfVybMGaEqxoHDehdJMFDO3793Y99LUl/gRRCwTZv4bLwr7981VVvV6y+b1gdoRKn7TWoh1K0c/jhn3wzTLCI25yXTEJ5vGDxSh9X2IxiQ4L6Z+Ophv2jz7CehWR84ZnHjMga6+3/UxuLtmzb6eQu/RbCDUVsKhJ9C3L95797M3xuzwLINNoKfZnNO56ftaxt/+qVt8Kz9qz62tOPetnj723QlJgg2tnMIvAZBCRl5/4+p7B+BJELvoyBQwcPCH/5g5d9cyR+o+u6bVActefwW9Ym4QEINgfhzzMvtt3GZuii9QE2fBhTIApRMoLhYCN8x9oGanHE6q69+8Jnhs1b73/il3xs+tQw1MZoEuPDftukmvPFUichGxj53q5NG990Yez+V/MjDVHKBqOX11Sl/gyxcpLfyRNGh7/6028b2drSSWi/aCX8JwKyEkDXLYtHgM5MB0uH5DsYtnObm5sbtm7dGvLz8/0B09gezF26dAm9evUKrVu39klAOuRXeRACQkAICAEhUNUQQKWFQgbiae2Gza50YdEZOxdg7R0tINZt3OIL0Dq2UMHkraWpqRItBCoCC/wUHs077oRhI1MZsrho0ybDSYJk72/roVDDiIUuWe2dOIGApPwnT5qplS3YSpNQgz37xMOuiihUPTZ1jFCqdbLrN23aOOV44d+RBf8UU4bMs+jVJ0+fDu9/8rkF5dnrBCRlgEAmAjeJxRiLKha3JMq6YMmK8Pn8xU6M8veYEQ+ESXY9TO6TIar8Qin4D0XcIfPBCXm3cOlq80W5y00smRMWlc7VuBDWmQoK5ddW87v5/NMznAApSeEHsUS7+emvX3OCDZ+XLM6LSigOIRRwS/Bn33vJ21iiNg92s0zxRn9atGyVq9L4rqgEKXHx4mVXyEI4QaiweCVdcsLiK7IqOp9rgRFEGcdCckHiEWF9vRFmW7btcvVWdHzse1QO+vyffe9brp5MVA7Og+ics2CpR5ffbAtr7hVLoMVeu4Zhhwnwz377hqt/6AO9zbVBItN4TCtXrd0UPvx0jrtQQCmKOjRRAitXlJnCkw2Q0Uboo8xOVYLYpQ18MHNOQP0MmUd9JKq7mmZOv9jqlyBTKACffPRBJ/Tj1VW02+sMoJa8Dcc0Ba4NsXnT1l5RQqGW6J7RMfHvkEecB8EDyR1tHHFc4T1MzFHjzv5zuz/dujflhwB+5c0PwnxTf6EExIS0qMTmyUp7ZtAGaRMHDuX6BkHUdmkjMcUs6hIp+Y5y0o/ZhOI54CSfYZAoRceCFaa5KN12mwLwo0/nubku7hLisfdr77ga/vnffhPOWVmnTBzt6rtE9+B8lNofG4k9e95CVyujQo2/bnQ+qkzqDXU6im4wB0ewvWZjDqblqUiMbQQVo37ZADtodZZoE4w8QCijYHxw8riExxWVL9xMbDBlL88fNpBQlSe6D+dDFp4/f9H72hMzpt21scnGIGQ5cxLqDAuFdRu3+hhQ1P357vTpgrDKNtxQW0b3rmnEOfXdw1TaxRGQW7btLmz7t8bhHqZ8R+kbJfJBX6GO6EOoft947xN/1q6xDVqeQ7Sv+ATZS/vCzcSffvdFf15X5HM1Nj8iIGPR0OdKR6BwF7PWrR2KuztPRWcQ1eO2bdvC4sWLw8qVK8MJixyH2VAjM8no2LFjmDRpUhg5cmTIzs72XaSKzp/uJwSEgBAQAkKgKiPAogg/SctXrXN1IxN2JyQSrB5RS6CogajElAgz0WEPDEjaLC3VWPmixBYCZwsKXMmBCS4+vWKjP5fmnix2mseY72GWDulRmoRCptHQhkbu9XYFECQkaq2I6IknKEpz7UTHMn/r27t7eMZIn7O2wGGhuWfvAVvU5roPPRZ5HvzC6pvAF49NnxImjB1h5GSmE8u0gcXLV4dN23Y42Yjfs8njR4YRFvW6rFgmymtJ3x8ws9fPv1gS3rRFHaQUBF3jxg29rbFwdJ9pphyiTJhNcwzqzQ1m6orv0ubmMxD/kJBfxSUWipCuEE0QAN26dnKVSmM7F393x830D+UOJoDR4p2F52gjZlF/QbzHJwgQiIRPbPE+14g7CB0S5DOK03Zt23h9QJxgEk/+IYbnLlzqJGsici/+PrF/YyoK0YnSh/7Q1UiMTlkdHDNIU/KP2XT+8eNflcPyOcrMLCkHdR2fwAOCEGXoB5/ODZsMW8gbzFZ7mPqQskQ+/iBoIHIht8EU1SCLftr7H3/r+ZCZ2fouJR+Ld1wBvGpkyJIVq81P6gk3v2Q8wVwRvOoZqR6ZZ2MieshM73PMBJzxx1gZVyJOnzrB2utX5F18OUrzN2Q99fauqbZyTXGFr1TaGspL2h1uGqg3SEn8uh420hd/r+CEj0X6OcpP1HJR4vzhQwaEH333m/7VFiPTUbdh3k0iqjwbB01sXROl9u3auDIvWVNfzqNdPf/UDDfvJn9soCxettovSd779e4ZBt/abIju09ZcNuAHEvR4DuDKAgU8vmsJmEVbxHUEpsdsQqAsRtFIu6W8mLZCZKEeh3Si7qtKory0UcY8Us6hw2aK3cd9MjYwf6m0O/BARcfYghsDSC/aJaQ3kcUT+TqlLfM8RUFHPTBmgBv10MnMmxk3IOUho9jQgKBDJYtisH+fXu5fMNU4Ul6IVvwafzxrnrdhnuWY1OPeAD+T+HFl04bnB2Wgv0FEQ54eOWquI4z8KylxDOPpK2++76bukHOMAzyTO2fZ5p49G+knEHc8Ww8dPurjHsedWmz+MQ0rCNfnnmhpa/1C1wD0O/KIgpAxjnGZsQNTdsb6op6n+C1duXqDk4RRnq9eu+oE5JQJo93sPfo+egcjyHsUyYzhqDPZ0CTCejsbw4pKbMqusblQ5LeW+cNwG1NxtcIUqrB+D3p/53nFs4r+iUKYTUB8kFZGEgFZGajrngkRYAKLHJwdTCYflZ2OHj3q5ONrr73mRCSTAQYI8onpw7Fjhf5YUEFmZBQtief4KEWT/+hvvQsBISAEhIAQuJ8RYKd+05YdbsaGiooU+9yMxQaVTSRrgTjZaOf177PNJtN9Ko2AxDcdBADqFxKmWQSIKGvCxx9+56IE2VFaAhLihFdFJxZoDxshA9HIQjNywM/CBwKUxSYLwW62mPvuS8858YGZNYTC7HmLjVTe4otNMISYgmiDDKrIhAKOfGACun3XHlu81nSiu2+vHmH6tPFOKlJOFrGo+FDaQPRh4ogbAZSTmJmzuMPHGAv9RHM/CBOIP/wxDhvSP0waN8rN5CEZUABBSOFbbvHyVU4Usjg+ZD7auD6ETDwBSb8hWMfsuYvcjyrkI3NqjsOcGsUepDSE1jWbY+Mbbt2GrUa2LnbCeMnKNW4KWVq8WfxiQgqRiDkn5Rg9Yoj7JqQcqBgXLF1palIrB0SClQM/mig08ZdaFAEJQbjeCJcPjXxE8cy8200Yra+PGTHU8BoQOndqb/jWdX9yjAWoZ1eZAog+A1HwzoezzA9g3zC6wQNO3MSWC/IK8vejWXO979I2IR8njh1p+R9h/jG7OeEHoZFjhDT18IUFRtq6fbf3d8qLCfkD5jIh8qkWe/3SfKbeKC+E3cdm1n7AyCjIBwKEYA493sxuCVIFMXjj+s1w0HznoZRcZHiiEsR/KIQ/fY7+BalPQAoSpNOUiWP8xd+/M3N8CIiIgJxmv730wtNO6PJ7WRPKuT8zf44kgmdA3kcEJCTHEzOmhO9/5xsJL087wWfo7954z8lVCCLKAvHz6EOTnBDFNyCbM9TdFlN8EvhroRHf801xjQn5V6uthLdJmx+oc54bm4z4o45Gmq/VJx950J5nPZx0ZhzaaXh88vkXrvSMXANAuOKzdaT1ZXyfxidw22QE82fWFyDiSRBo+JFlTEXlzJjKBkmBkbY5bD4sWOYkFn0Gv4GsdVOd2EBhjERVfsI2GenPkI59e3YPD5n7gJ5GMhe6Najlauot1s8W2ZiByToqTki+ZHgBAugssn5E32fzo179ut6PBvTtbe4Khro/Tcbb61bGfaYSBU9cg+wx0hJ1I8pjxnZcatD3GL+5N2MorirYIGXuwfgF0Ql5D76xiXweP3HaVPHb/JrRb5DK20whj49c5gvxG2ucxzMFP6BsLNCHu5p/YZ438fe4fU0j6VcY0dnUCMc+PbLDlAmj3MS7o/mGRbgK4bjQfI7STyCA8UtJ4CnGPqwhREBGSOr9vkaAAalwMmpKAutUlZkYxDdu3BgWLlwYNm/efMfAx2/4OFmwYEFo37596NmzZ0ICkmOjQZPy8VISAkJACAgBIXC/I4CPK6wKtthiGkUL/p+SDYzCscfN79hmM/dE9cVCoTKer5gWs2iIEkq55qbkKGtC1dXErhGlKNpl9He6v0PGvPyNp50g2mjkHCa5LIgzjUwhmAKEDcEhWATWsTq7YmQUxPPb73/qah/qEKLpe99+wRdUFV1eFn+Y7aEqQW3WrElDI0+mhW+/+Iz5s+xlbazGrXZWw4MDEMCBQA74+vrJz18x07cbrlRiYTfZFoOQkEUpZGLLhd/Ir5uvM0gI/LJBWEKmQDpNnTjaTLRfD+/N/MxJJggxfC9ONPUoxHtsQj1DP3r1rQ9tgVyofCRq/IvPPRG+8dzjHmwBVVtEiEJEQBjOeHBi+D//8SdhqammUPeUNT3y0GTz1/mYEYRDnECL7kOwG3yP4dcNv4aYtKNahPybMt4CDJnyKzo2ujdBTX7yi1fdRxzzaNrLNPNR96M/ftFwyfbFe6HysIYHZaEeHrRAOH//Dz+2BfcKJ9i4xitvfhhaGQaQulECJ9Rkb777yW1z7gcMh5e//nR4ysyYwYh26PVgJBjqI+oYxeY//csvw1ojRFFPQYzOmrvA1FIzPPhQdP3SvlM+fDEuW7XWlVWQaZDw+D5FVYiyGGUYZDg7MIMH9nEF8fjRw72uIXUQbuB3tZcRpxAlBOmqSgmz1nlG8EJQo+qCfBw3elj4T3/9Qzc3bkgEaDCwf5DW+ModZ74f+5pp7D//9Le+ceEbVFWp0JZXiO+HzMT4P/+PP3JCjg0Dq37v/wR1os39/o33w7/87HeuHobIg3yFzHv84Sl3lfbSpSth2Yq1TphHPzKuvGht6TEjgdkIut227fk71HBEiY6vxF/87g1XQ9IeU50gEnGzApEK+comGz5tv2M+bSH76Mu0b8oO+U+e2DB5y54Lv3zlTecEOK+4xO9r128xf5wfW782wZD969opy/3y4u4B0vUrSwD6UT8fM/Bb+5NfvOLBhBhfN1tfBPP/7T/+lc0rClXm9EcITPo8BCTkMRsAHSyQUjw5iIKTYD5sJIBlNLbxGWUk5vEotiHtY1Nkks8YDAcCMT3B/FyjYi4p4a7km88/YWT9ZB97I1U2YzzX6GFjHT5VUXuTCISE4pa2F+WvpHuk8ncxIalEU9e6ZwQYeJs2beoBXyD4ymMQTCaTDGIsinJyctz/Y0Qgxp7LMTijPXjQIubt3x/70x2fOYZrQayimqyMBdIdGdIfQkAICAEhIATSAQF7jt4wkme37cxDFpS0wIjNMsceP3nSgw6wYK2shFIFn0pRwqSQhU5ZUxNb6HCNKGHeyqKoqiQWM242aWagD00ZF35ovqb+y9/9+/A//Q8/sAXSk67EgxAi4iqml5gY//YP7/qCDRNb1B6PPzzVzc4wZ6/ohHpwmRFx0bxvxkMTw6PTJzuhE6lhmMexwIMspKyYvKL6w/yVyLGo145jkm2LbsqUKFHPmGkTMX3ALbUN53J9CCcwwuz0uacedlN0FrrMiyGlUb2hJIxNmCwuscU05rsobFAYoXr61gtPutoFxU10fe4B0YaJH0qY73zrOTeRhdgvbapvAUFQWIETpCiqxNj7FJajsftMGz50oJeJjQaUkyfMV2i8whdCmgjbG7Zs875FuYme/RffJ0hEVw9agvnpV/VQy+fYmB9+7+UXrMyDPTIydAVkZ/6xk7eJRsqGenC1+WI7eDjX8YToeXDi2DDZ6hDVEYQx16YtF9ZzLb8n6tEfWSAQFKTcH9PV92fOdZNRNlPKmjA1fv/jz10NR/1iLksU5xkPTnDzY+qNPNHewBUSBYUzpOjj06cEgofQXq7fuO7E+aw5C8qalUo7D7NTFKyQwyTa7dctMEq2uSWA/PHyWxmj+qDfMVZMt74z2UhszLmrYiJoDaRRGwtEQ51Sx7H9nzY9buTQ8JiNibQ5nnsofOnr8YkxC4Jps234QJBxPEGfcHcx0dxZEFyFdXbUN70t2RgDOT953EgnvEtjdh9//+L+XmAKYvwfRut6VK2P2XjB5kQ0rkZlJ9+0eYj3aZPHeOAdCOiSUmG/3nSLRP3Sxz/UlS/a5ksLG5fxU8y1b/ejW+PrKFOF/tUPvh06d+zgYxcuI/AvirodtTCJcZIgbmBF/UQE5OmzX20+RvnDt+WOXftulxWSPHI/QP0x34mNEh+dxziIApPxnUTU7ElWL7EuWaJjo3fyQj+Yahs8EPK0IcrI97z4zJg2bZKpoG1DjI0cxjWI7FOm5kSFXxlJJtiVgbrumRABSLpWrVq5uvCi+cZABs53FZ0YINh9OG8+NyBCEyUGUvJZYL6fEqWzNjhxDMQqZWFAUBICQkAICAEhIAQKza3xb4V5aWkTpr6oDVj8l335X9q73nk8juXxQRYlTMpjI8BG3yf7zgI8WqRxTiEZUivZ09PmuEZGGvBql9kmYZ5Qeqw1JRomwGeNaGWRiRrmiUem+uKRxRME7ylbkKE6wWwU0q2hEXeZRjjgmB/TuFjCNuHNSviBeR+kHUFSCGgBadayOX4oR7niLNYsPv5SECQDLJrtd0wlOcIWs7TlzDYZvjAsbkGPjzGiona3oAT4EisqQRJkm2kwasjMNq194QupieoWc2uiAUeJhTOLcJQ0tCHImykTxjg5mEjlwpwU3DFpRlWGz7iiyI3oHkW9Q7hDzvUwIjaRWodydOnc0QlX6o2FL/NsFtss8lGCRenY8ZOu8sJ/GeRcfy/HaG8bkAdFJchsSCnygdqzv0VfBwPuiwooNsozpqb7jfjGNQAJFehQKz/RiBMl8MNUfPiQga6EhQDGNx+mm/hjbGmKvbJEXKa/EwBjo6mu8k29CoHQsX278LARa5h30rYSJbAeaqb7EFKQ5mAKqbrR/GVS9khRluj8dPke83OUcUT3pR8SeR2lNObC8RGJY/MM3iiMH314cjhorg8w/a5KCbIfk2vGANpuUYnvs61fjTHy6z2L1G7x0L3f55mCLj7x7MF0GQKfvgVphmp4hJH+mPMnSox1XczUfezIB3wzJefgkdt9I9E5yX5PO2Q8wrQblw8+rlo/gljDD2Fx7ZuNB54HEKjbzMUA7aS4tGffQXe9EAV9odyoFhkHE629GR9obxyL+wWeN/gAxgQadwu4AKCfQdyiau9qYxgEL2PWVssT5tQ9bVMktu8fOHjY3XeQVzYGRjwwyFWS+I3EWmOXEZCQkJCCUQIn+u9KU7YytrCpwzMO1T0+gRMl8o9ilOdDm9Z3m+RH57W35zDHkH/yDll9xu6H389EY3Z0bnm8fzVjKo+r65pCoJQIoBBs27atPzjP2WQU4q4yCEiyzWDFvdnJZeLBQzE+RceQ76IS5xw/bk63rSyZmZkiIIsCSd8JASEgBITAfYsAxAEEBs9arAVKk1BOsIBJRK6U5lplPRYSqbltMEYJX2aoI8qaUCZExAjXYHHAQrK6JYgXon3inypSg7CQG22LYEwGIV4JLIGfLZQzKKRQlRQYPs1sYcpiCpIJH38swIpbyCaDHSrak0Yo4Z+MBSz+/VDnsAAubvEeXTvTyCsUgLySTZArBH1oXEL9ssgkyAfE3a69+/3yLFJR37BIjRILWHyTfWmLWVJ3UyWyALcOEh1S5Dv9h8BAKHVQGJaWgIyIYwjn4hKLcRbCLOTxWUiiHGcsmAOqwiidNkItx8wUI1UhZsUTzS9jIvIxOo9yQARgmlqUeWp0HApRggVFiYX7TVuQE/CjpITpOMcTtAWiFMICvFAhxZIQJV0n+p3AFBDxqJEgJ1Ct0rYHms86XBGUlMByqAXhgrRkQ4axBzN81FSMG7SddE/UN5sMlJ+E2Sx1DuFeUqpnRM1EUxESvGeN+fIrKvpvSdeojN9pqzy/2KDBn2txCeIbEr2WbcgEg4hnBAFq4tOXZk1wyAhoCCauz9oUFw6dLSBUSYm2QhseYmbJbG7EPoNKOre43xlX6SdnbKxig6dJYxu7rW7xY1kcYRZdk00ByMqf/eZ1J8sg6hKlI2b2fNzuFSVcFEDiJyIfo+P4neBWuHDwADBGQOI/kudS9CwHTzYHiIZNsDHwp99yDGUBOxLEb46dD8HIOfiDRqkMyUlUb4hyCE78I2PZANHIcZC0EMeMQfRd2kR2Vwu+ZOUvrg8zJvbI7lziWEEZC4P2ZbnvbAhI3MdQju7ZXdwawQtQQf+JgKwgoHWb5BBgsISoa2CTMki7U6dOhRYtWiR3cgqPoqOSlw4dOgQCzPB3ZI4TexuOadeunUfEjv0++sw5ubm5rqQcMmSIT6ij3/QuBISAEBACQuB+R4AJNAow1C+Rf6hkMGHSzmK9Z3Y3NzMqnmJJ5oplO6apLaiISholFocsAMuaOPfCha+UHij8SiJ2ynqvyjqPzVnc08w3n2+YPJPw7TZt0jgzR57oJqZ8R8TeV15/3/3cFfoGNaWr7QVT90SPRR30tacfCT/4oxd9kcc5ZU3udsdIr0hlg8qSxeu9mNOXlBfyjz87yPeSEqbYkIRROmfBBAgoEJsgbAmEE/lRbWFtp6MRe8n2DRb77RNEW429T/xnJ1KMIE2k4oo9nnLEKm5Q/8WbYKPMIdhORDbgCw0lUqrSMTPJRjUYJcwtCdaQjPk5eUKJi2KXBMGCyeWgfn18PIqumew7EdZRnEF4kCDXMcuvW69oRVz8dVmf4LYB/6p5FhgT8pwX0X27GmnVsEH6E5CQwZjjR4kgOsmQrxwPqQ2RxTjJmixSv0XXStd3xrDCzSUzLy+BJIakwgyXcQLS6qKNnRExFls+xtVcU0aeLTjv61bOgxhDSZhMQnQDmUVgllQl1NoETYJgIxHhu48Fnkl2wwhTbIgzsGJ8iUjqovIH8Y5v1iih9ktm84jj2fDq3bObtyP+hkg8YPlmQzE2senVbW0nD1TG9wS/wpdiREBSL4wH9D+IQyJYd2jf1glIAo0dO3HC6qfAxzfISNTt3Jso3ATjo34ZY4hWzuYa7aS4xJjVuqVF7C5hE4trNDJupZUdG6nB8RdaYG3l1kO1uNuk/DcRkCmHVBe8FwTohJgq9+jRw0m7HPPB2KVLl2LZ/3u5X3Hn8lAfOHBgGDlypPt5JCI2E1QGBgYVHnT9+/cPo0aN8iA08deCfMzPz3cFJNLtnj17JjXJjL+O/hYCQkAICAEhUB0R4DnLoqK/ET2bTFXAhDzZBMlCgI0BtiDAtxPXqozE8x2CEGUHqhH8QaLqKmuCgIwlZFC/QDBUpwRpQ8Reoo+eu3DelUCjzG/faAu40MkIMxaZRIf9zavveHRlJ6JsHda6lflJswXp5SuX3fyVxe28hcvNTPdG+Os/+66TVMn4CisKS66VY+ohFG4kCKAsW7yziE+bFLsWNSIWMjY2oWjJyz9h89Qv3aQZ4oG+kWwiAFKyxE/8NX2dHJu/+ANu/Q3RfOdhcYWw41gU5x495pZHmL5DWpa1XovKBqbqsYGjCOrh6sc7M1bUqR4dhLaC8pF0w/wuQvpcKMZdU9EXKvw2Mvm8cq1Q/U0EXkhj/DwmmyCmOtNWjUAi4QIg59Bhj5qdStySzU9pj0OFFbtp09oIp6ZNvjLJT+Z6LcxdAoFrqgoBSZmS7TNR+YtrnqiFURiCJdaDjFuopuvWKbTii65R3Dvm0ZlmhYjSL1WJyM9sLEbuzGirWRahOWqrydwHNyeQzPSN4ghIlJb0awhdnsdsDrI5kkxiI7StKW45j7kEzxRIxPj2hL9YNkN47uMmDtcJEw4eCWYj7+PVFguKd9gCKTE/qVu7jpvXZ1o9QJDjnuML84XJJiXuFlD2Z5lyGe6D8W7thi233bd0ymrnbghKIiAZTL0dJVNIO/DOY+8ee5O5TCqOSX50S8XddA0hUAICdDR2YPr16xdWrlwZ9u3bFwYNGuQqyOIkyCVctsw/d+3aNUyaNMmjy61evdrMc8yRtQ04KDSJfj116tQwevRo91sZexN2oYhIt2PHDictUXVyfGWUITZf+iwEhIAQEAJCIJ0Q4Lk4sH8v813VyxYqR11d5JNuCJY4z45OXdiEm2csaq3+5h+JoBd1bKJfWYmgCPjhQ6V1xBYeKOgwJ0TRg1+7ksxG4/MNmRGr4sBpPJG1q0uCHMFkddbche5vkCpuaZYuTz72oPu7wowVddqnny/wSK8sKlHyoYwkoAKk2llTyG3cuj0sXrbalSMQmbPmLHTffykjXCpvbZaSqoaEJFUWMZ+wEMWxKEWc5ORzOZaDscaVaGUk+VFyQS5ASCiVDYFSNomy3SQtzyplye9kj+4oEVfiWfSlEV/e8/mvTGNYmU66Iy+xfxRmmdxFZb11/ejP2IPv8XOUc95v3Lzh6sHCyPHJXZixgDkH84tECZKb6NUQ/nvNjywm75hU40YCtx2bzD/kkdx8P51NBILPYE7NODG4f18/hud7REASgKju9TpO0m4yMhPxEuMRZvOd7T4+F0qUmTJ9Xw7AlyEfIiDLAJpOKV8EWIygFty6dasrCHfu3OlKxEa2C1rRE6nmtqM2dOhQm/w3DllZWeHIkSNOLDYxXxHZ2dlOPnbq1MlJ01hUUEri+3HTpk1OVnbv3t2VnakfSGLvqs9CQAgIASEgBKoWAjwXe5gPolEjHghHTRVwaeVaN3vyQC7x6wCbO9cyNQSKQ6LijrZz8JdWWpIv1QhhEcGC4YSpTzDByjfSbKupqggukIxpFPlh0YOyiqAWOLYHF174jkKVUR0SZUShM2/hMvPXttl9erUygnXooP5hikWyxVQNwgmCcYH5hsRXX30z2ethJvp//PLX3EchpC4Kkg2bt4WjphpBOYUvrs/mLfbAHfjEK0tChYKiNlL/YIKHg37qpKokN9W0xesZM/FDDYU5H++oRpNJmBueM5Poyk4onVD+QkQzn4bUh7gui4/FosoCic0YQvArNjUIdoK/TNpAaROiCQJFJAoiVNL1UGjRx6N748fxpPmDLMrtU6JreVs1/6UIJEhcs41ds6qQol4fMSakjKGRwjRRmWO/Z1yh7car1WKPqe6feVbUrmVWhLY+ZQy7dv2auQko8DYBPvxeUrphqj8P/JTCMY81PWN8pER0X7vWviOXAyXlid95JtAmGAuKS/RBNutwTcHYx7hBn4juXdy5bNjwLGGcAS/mFLh4oX/HJgKjYR5Nn9934JDnCwKSz7jsQAHJ85u+h5ocn7oEqEJdCqGIr1Y21ejjKK951mGezjUIIEVZO3XsYCRnR1d+x967On0u/UhbnUqvsqQlApCMbdq0cYIPH5CLFi1yv5D4Y2SSX9GppflLwAwbJWakgGxoDvOJ1s3AGj+oM3AR+Xrbtm2u4Bw/fnzo3bv3XcdVdDl0PyEgBISAEBAC6YgAKr8xI4b4ogSfcJtM3QbJxPP0torD1k88bxs0rO+T/xkPTgrjRw91/1CVXaYmtujBNxSBNVgooYT8cNbcgA+2ZAlITNVYmGzYtM0XI8yFsLaAlCsruVHZuMTfn8XnbnPO/9NfvxaOmUUJ9UmEV6JHE5wEEoaFI8QfyhIWkJi7EaEUM/3IFyYkJAEGcP6/z3yHQmqymMMHIgu4smxWs0jFZ1hUX5eNCNpvi8pL5qMvmQRXTvAX2izNlvU+6htUSRWVIHIIanHQNsshpQrMTyFRpsE2mcSxkOiVnTC57tg+0wM1sBEBMQCpj/IomUQb8AA2tzYwIBNi5+qYc2aYajHvlr/MaRPHevAg1E3JJK9jDrxV0Vy7rLVMIKKuVq6IJIZEg4xIlqAhL5Am+LAkQjyJqPD0m4hM9y/T+D8IWHwcRom6JsJ7MonygxVkNWTO/ZwY9+jrjANEBAcTnkeFJFzJmxBstmAuTXtKVYJ462Qm12wqkCDY95uvXcb5ZBLEIJsoPBsjP5KJziNgSyvzxwwBeM3Gv3zbmMJXa2sjEktKEP6YXIMXCfVi56z2RfqqxIR8iEVp/3j2vEBIHPreuo1bPJDWTot0zYYY7ZnnE/4rIwKUfklAmkPmamYf6kmzBKCvM+fZu/+gj9nce0A/8zNpviGrcxIBWZ1rtwqXjYc5/hXP2+7kwoULw7Jly9zXYufOna0jlzyIprroDOqQn0To5mHH34nIxwLbecb0mnyjfOzVq1eAxFQSAkJACAgBISAEikYA4mTqxDG+gFq2ap2RkDssEu4RW0Sd9hPw8YWCAJ+PY0YODf0sGiVm2OmQ2rRuFZ59fLqr9vAvx2vegmXha0894kquZIgAVGszZ88PuUaKEM00o1XzMG3iOCdi6lTCvKc8cIVY/mzeIl94sShGNTp6+ANWnw8YsVy4QIVEiF2MsagcbGrXSCEWmy+iNm/cvN3IKVPOXr7khBILSEzYSptYcLY3dzlYvDC/ww/nqrUb3S9pMkTyBSPMCZyya0+OL5ibG4nW2VQs2UZCF5X30uYvmeMbGzHbzoLIFAZTKQyOsn7jVg90E0vAFXUtopLvtAis225Fpy7qmIr6rpkpmQhEUgPy9kZw0nqZKaOTJSA3m/9QFEmQsDDBwwcPCJ2srUVkMARkC1MnRYlyDzJTyWQISHAiYASKOwh1FFGMXZj+025Km1CtdjCyFXKCtcVJ82G32tTBuUaikJ+SfJDS3iHhUV7RZrkO57FpUZb8lDb/qTge9xWxfXbHrr1O6uDKKl6BFn8/yKmVazY6XhDP93Oij0NAEsgIAhJidqn1m5ZGyhHspLhE9HB8FxOAJjYgUHHnJPMbSkDad6MGDX0TgH7DuArRmd21U4mqZjZECBKFqrGk+sWHY6wP25WrN4QepmxOhoDEtyRB0SAFSYUEZIciCUj6OwpINgjZMMgxEnHx8jU+DvD8Ip/MV0YNG3x7Q4trQkQSiGbl2g1OQF62IDCrrO2eMDUklg9RGtAHAjJ1Qbei66bTuwjIdKoN5eUOBDIyMlw5iCnz3r17b08KUUJCQpY0mbrjYin4g4lBceQnAw7Kx+3bt/uLYzHfxnS7qphBpAAmXUIICAEhIASEQKkRQAGU2baVTfgb+ER+rJGMJ8yssMA2Ikmo3jDl4pgO7TJd5YG6Ih0SKibMyIcPGWAmbGdMAZnv/izf+XCWZ29gv96++EiUV8yxcED/4adzfeEI8UL0zmefmO7vUdTK2PNRkhBNEwf9mJ2Vxql/7HUq6jMqtuW2IJy/aLkHEsBv56jhQ8JDU8bdQT5QpwQecfLJMsfCkIVxFNk5Nr8s9lBJklAb1jcSqKzzLeZ4RGglAjHm8yhTUFbOX7jcF7DDrG4TzTuZ/0F4vfHuTCfwUBAN7N87PG8EdOSLMTbf5fW5rRFrfXv1CDM/mx+CWeNCrM01c/exo3Al1ChhtF2INIIpQPqjCqzsRPAMCMF3P/7MSb7dtjin3UwYO8J9rUZqwfh8omKiHj6aNc+JFAhH/K9lWVAXNi+i1DO7q6kOO4ZlK9Z6u1pi5AFm/t2tD+PPNVGC7CIC9q9fedvdA1C3kGd/8f2XnfhLdF5x3+NSgrrp36eH933IdFwPzJqzwElN/J4W1+4gjPGnSv+CcEXF298IjIoivYsrW7K/oY6DOENZdtgIIMbD9baxsGb9Fm+7ia5TuO46Fz62+katfL8nxrAB/XqFFUZw0fd5RnxqvnGzjYTrkNm2WDI71whBiNxCJW1y6sRk8CZP+D/s1qVjyDSCEPKecfWLJSs8sMwDpiRMlCBFIfc+/HTebWVidKxxrXclxm6Uv0usXzMWLLeNzF7du4aePboWS0JibQHpvRC3H/bshrhvZgFx8S8dS2hGN4TkZ6Onn/XZbTt2u89nXIIwLuHfEeE1fmFx7RApPzmXgHuMa+DAPVB0LjGCGJ/REJ88+1ob99HVyGLmOtU5pcfMrTojrLKVGQEIPMg7grzMnTs35OTk+O4gF0SJyK4YHTjRg7nMNy7liTwA3UeN7c6gfNyyZYuZAZ0LQ4YMCX379jUZ9le7rKW8tA4XAkJACAgBIXDfIIDqAPUOL5SOPF/dF6QhQGRLFjPpmDDxhCCdPH6UL4RRL+HD7GNTNLIoQTXVr3d3W4w0tDJ8tXJigYW5MdEwWURDQnIeix6Ih9Fmlg45EZ9YrOwwU689Zs7MPAi1BL4wIVrSMWE5st5My5fawpCFMfXY3UyvMaOOX4A2MowwO4eExB8Z5pgbLEI6qhxISxRnEC38DQb5tqAtXLi1dLVpSYqx4vBhPjnW/IpiHgcJhILoC1PFYBLMdSGuIDhj65D534FDuXbcSo/szQKW+WtkChkRqcXdN1W/oexj0dzRCHoURuQFcg2CCgIV4j4+SA+quf2moPtg5udOQEaEbqryVJbr4ItzkJUDIo0FPuaXK0019cHMOWHc6GHe3jEzjU2Qvkeszj75bIGXd6O1GYiP6VMnmCK00J9qdDzKK66NMovAV5u37wwLlq50khL8MPVnvIlN4JJjpqMLl60Mb74309rHMQ8oMXRwfx+nyroWgUiBmJgyYYyTEKihUHt9YkGYCGphixwnFRlHonswLmJuTeRuFMXzF62wcfK6r4tQZkE4V6UE1owHqKHfyZ3lCmKUux+Z6WyTJo1CNyOVqJOo/JQNMpj2jWIP5drRNCDOKxvzmvYcGmQbHxBxm7bscFJ6neE4d8HSgCKboG3NmhZGeY7yythMBGYUfLONrGRTpzT+R6PrJHrnacczavjQQT72Q7Cjfv/CNhSamb/K+uavEuKfZ39s/bLxhBKeqNGLl682sq5woynRffiefs1mH/4TGcM5n37d1jYhxprKnk29WGsEys4mJxtOn89fYm48djrRif9Uxp++9syOH2e4D+M/il02SdlsxF0Iz2TMygsMPzYDUe736dn9jo3BWvbs4hnNi/PP2qYBmz6oQjmXNg6BzLPjXp5j5DHdkwjIdK+h+zx/mMJgwsygNG/evLBx40YPAjNw4EAnIQlMwy4fv8cOXOUNG4MWiUnAZVss4Bvy4MGDYfHixU5GEsV7+vTpNoAUmlSUd350fSEgBISAEBAC1Q0BiKq6aUo6xmNNXieNG+lk4toNWz3ABWqS373xfjhsi5QffOfrvjBiYcF8hUUeCggWV+98MMtJE+YWzGlYQE40tVesWWJ0P+Yd8xYuD7/5wzt2r00eRGPU8MHhm1970nwpPluhc6EoT8W9k1+UOKjZ1mzY7PMmgok8PmOKK0YhbmMT+LB4y7Ioo/gkzD92wkz2NoVttkjsYz61OJ5F3jojNCGnUJzg5B/CuqktsmvdY3uZOG5EOHD4iJvB4ssTkvO1dz5ys/o//95LIcPMGdkAZ2HtBLKped6zsr1vBB6qSeq2h5n7soDtYaRKRZLmtBcCIUwaN8rbE/lHPfif//d/Cn/xg5fNxcFY92sGRsxiaYN79h0Ib1v7e/O9T4ywOOvtz02XYyulgj/TPggK8+JzT4Sf/ea1sP2WSe7f/8OPw/e+/bXw+MNT3b+a+3a0vOHv8YgRrvONrPjFb990UhHSo6UJAB6bPsVN/WOLgF+2oWYKOWn8yPCWlZt5PCQNSijUjJBhtDMnmg0o6hkzZyKt/+qVN03BVegWoovV8wwjOMGdvJQ1Qao/8tAkU8/uDlt37HE/nE5MGOlJ+3/56097oJpI8Q3Zetjq9qe/ft3Ix2Xu8457tzOiZZSReOPHDC9rVirtPAjhxywi8KdGvEI27dq738igc06iffel592EuJ6ZsNawtsuYAi6ff7Ek/NuvXjUy+LgrZelr/Ha/Joh2fAeOMLJv6/bdbn59ybB86/1PHK8/+fYLPk42tLWpDVTuUoy+/vkXi8Pb78/yZxEkGb5s3YdqCoGcbGPSvv2HwgrMqa2fbbWxm3o+YbEeGFfZ5ImsDBmXUEr+4a0PbVyd4z4VLbs+tkbr76KyRj8c/sBA23QYH371+7c8gBgE5mGLSs3YNtkCnUFCRn2VDaZlq9b7+M0GDJGz+a1Xz27mPmWGHxv1ufj7QUxOsH42d8ESV+3yjIOMJOG/FhKUcSY28czget27dfJNBTYeacdRgoAcN2pYkarL6Jjq8i4CsrrUZDUuB7vN3bt394nSunXrwoYNG8KJEyc8UnbHjh3dvyJRqZkQVsREj4cbAzaDOv4ec3Nz3UR8165dplRoHEaMGBEGDBgg8rEat0kVTQgIASEgBIRALAIQTyyinnnsIV/Y/eYP77p/KEyyZ5sCDbIQX1SYiGHChZnhPlNUYV7M4ihaWGGK+cQj04yQmBx7ef/MMfj2wtxr645dhd8ZlYT/N/zGPW33ZmFUEXOhuzKX4ItTpmJcZCTrWltsHTclG0FeenbvFh6eOjF0M8VKUQmztUemTbTN3VNu0nzQiL2/+V//wck1MD59piDg5+9ofr4TsEQrfXzGVCcii7peab5jLjly2JDwwjOPhJ/8/BVfxGJ2+8Enc8xkd51Z5rTzBSYkGeqZvaglbeGJWpM2wCLy6ccfcpKsMuoBf28vf+NpJ3BQDjJfhaT9l5//PuASgCisBIW4akGPUPFBmtKmCPrRy0wVIcBRD1Z2gkx4YsY0D+4AEQ0hceXqlfCHtz8Kc4wsJNp5l6yORlrUNoLitJPGRJHFnBEigX4GUUlwK0jj+IT/0KcffTAsXrba1XOYMC+xdrpz1z4nIPFP2sLMKCFDUJNC1B40Ypr2zHeolFDwPvfkDGvTDeMvX6q/vd1Ym0cFmX/sZHj1rQ98PCBYBSQMEd7xOwcxjyKcIBvgQftDPcX5mHI/+8TDYbypH1GTVbVEv0ZxBhG7wEgj/OiesLrEncBqGztpt9R5CwvucfhIntV3rvW7vHDa6i3TSKU6Rk4S1TyW0KlqGKQqvyhJjxopi6IeP5qonBeaEhDSDwxp24zDBUYEon5G7U3AGhTDuI7gOJ5LqUwEZRn+wIDw0OTxZlI9x/vQESMG3/lwtvXBNTYmtQ/t2xUGImM8jcYllJAoEiEnySPq4OISlgCP2rMTc2oPdmObC6gh/+knv7JNu3ddHc54wLiIeTdjJGVlzOD5mmVu3sBvom0m8ixIlBjnh5qqvHUra3u19/pzIjoW8rGPjS+JUg9TfBIdGwIyNjUxURUK76LGq9jjqsPnqjdCVQfUVYZSIcCDFSVht27d3PSlRYsW4YhF+MPUef/+/bcjZBPohePY9eTFealKDEoQj7wYzDGxxjfl4cOHbbJzygfSrl27us/KLl26OClaGRPPVJVX1xECQkAICAEhIARKhwBzj562AHrGAtKwoGZxhQoScgPTNogMFkWQPJhaQ/pECx+Iw5FDB4cnH53mKohEjvOZ22D2Gxup9LL9zdwEP4jplFCY4Jvt96+/Z+RNrpMn3W2hiaILs/FE/vZYHE+fNsExYy5FhGvM6SB/UEFhfnnqVCFpi/LxMSOaUP2B+b0m8MWPHuRXrZq1TUm44Na9z/hCNddIz21WV16HthFNvVJOlJuo9iBCp5tfS8zIKyNh0tjT/J6BcRPbFIdUIxIsxAwLbczFt2xvbPPWm674w7QYReQMw3vwQIvQam00HQhIVIEsxL/5/JOmJGppqt9lHiEe4j7qS0ScRbF0wSKVo6qiTxGAhyAOD5ky8alHHwqtW2d4XcXXBQpH/LH97b/7gQd/WmtRbCFiUUGetMBX23ft8TolIBR+aAsKzvv1qXei284wgpwXeYs1yY+/T7J/087ZfHjeCE3a0uy5i8z9gJGMVt5TVm+MHY3MPy75gVCirKxNIMIhNB55cLL1g8nedmnDVS0xdkIy/slLX3MiDOUaYwdjJ3WCmXATfN3aOo/AO9Q35xBc5aUXnrI2vdvUbOtCfvhKUVbVMEhVfiGqp04Y7YQsGycHrc+DGTjisgIyHSUe4xb4QqhDmKG+w8cy5HaqCUjM7FG5vvj8495nIf4xx6Y/cy9IUAhQ+gH55MXfw4YMdD/Bcxcsc3PlkghIXEzQj/7DX/3Ao1QTwAbzaEh7yEZ8jLIByHqecREM6Ee4OHhgUP/wsI2D0yaNLfFZQnkI9tPb1JK79uzz51tUfxCQbHAkSvjkRB1P+wV7Es9/ziPydrybjETXqcrfi4CsyrV3n+UdlSNKSIjGnTt3Ovl45swZf0cRia9FIlKxY1Hoo6dmykjISPXIpB/lI9G5CTjDZ+6Jr8revXsHonTzcKyKD//7rDmpuEJACAgBISAEUo4ACwn8UBEZ2yYD7ggfM9jjx0+5qSeLuyhBluDvkgUjPh8hvTDrShjd266H8gIFCy9ICeYbqEdQfEE+pdP8g4Xf0pXr/IWZa2tTsgy1Rd6MBycEIh0nSszhehqp8uj0yUYeWZAOKzOBC1DAnC247GqYbDNjw2H/1Imjzcx2si3evki4XfoAAEAASURBVAoykui6yX5PHeJLD1+cTc1n2pIVazxKaUSGnLtlasdimWPxrQihSlCdp0y9St2woK2MRJ4g1x6cPM7mw3UNuwamItzqJBakDYt9Xua4yP2LYkYMgfWN5x4PbawdQvykS4LYI5ADfgAJ6oAfO8wcT9nc//z5i04skFd8KEJa049YxE8yX6xTjIDBH14ichCc2hg5SaCnpoYXfQ6cIClQ0qEORSVFwqcbgZ7w3UZ0btRRD04aZz7euiW8vp9Yyv8yLPDECCsvykvUULgsQAkWkUdE3CXRPxwPU4lCZowxv6VseqBug7ysqol6Hm1luWa4U58EE6EeIJwpO/Viw53Vd103b+3VIztMtPHyaSv7ZTOBjVeUVVUc7jXf9Hs2Ib5l5D19g0Ane410RDkOjpGfV3zqtmzZzHxsdrLxYqw9e0aEY+ZSjKBqJJ4lkGSpeqbQ3/CbSJ7w8bth01av3zNmTRiZ29MvGTvpa2wQsJlDf9tsKv/aO+/0y1oUTuSVfvSEbQQx9rGRh4IWFfs5I2EpO+2JdlS/Xn3/nePZdMJfLH6c+ZxMIq8D7Tmx0QImscFGYkOgk5GIxV2DPPGMwNctSl82g1B59seNiHEdYF7dkwjI6l7D1ax8SLAzMzP9hW9IomPv2bMn5OWZs20zhWYw4BhISD6natCEgIR8RGHAbgXXxv9kz549/QUBCRGpJASEgBAQAkJACNzfCLAAxMwVf3JDzBcgPhtXr9vkio+r5oDfJBc+j4BIQCkxZqSZfI0d6QuuyD9VUQiia4LwgnA4ZsFrUIUxH4FswXch900mZRixBlmBDy7mTHXr1UnmtFIfg+nbeltkZhihEkIzV7NAjKF0SiYNMUUekZ0JnrDOFGoeWMEWj5C2A81Z/3BTx0AUlofaECwhFX/43RfD0MH9LGjCCvcHGSlamRcy7+tqhBfRUDGdmzpxjAcvSTT3pK6oP3z1MZ8kQjPm5sXVeYQTxBILZRbmJExRUYMmSvgfg8Clfb1l/t22mn9BgqicMnWfNT/PZxdbaEP4zHhwoquTUCOh6onuwaK4KPNi8gvJSf4JhkLUaggjzIBLSpB5seXAT2NxZC2LceqYBTv1DUGKIpbAD/m2eCdhrt3R2nMvM+1/1FSA+MEsKnptfN58Lm/m00+Z6wJUjUuNqFllwW5QKecfO+HmnhyDyhGSH4KAIEUE1KC85ZHAlXYPKUzkbwI37bZgUxCRkEf4QCR4B4S7+4o1cobxIFnikfqkT0V1THtMNeHh7cPIxOgekLsQTskkCGN86UL0UicLzJSWYDtsPqBW49r0fzYyHjRyavqU8V52vuM+kULO1XSwTHGJ8Y7xh/7b3M6h/SVK9DHKAD5EPYZcik8oCVFek1/yR1T04hRs0bFEUKePNkpy7cizgkjWTWwzhuuXZKZLe+hq49df/uDbPj4RJGv7zj1OlLGeRS3f1BTSA/v3cgX5SGvTDRrUCwfN7D9S5dH2GZ94T1WivTFOdjRcCZCFEpLAZLghgXhmLMgwS8exo4eaC4Uprkokv2DV3sqP8hB3BJDQicZZvq9rY+PDplDG3Qd9mk0k/LgSrIiNGMqEP8jONn7zjMbncj9TaCbbjyI8MFkfsKWXWzrYno4Ria1M3djFx7jomPh38kbEd8Ze1Oa0G55x+O6kfMUmKxvB7CBzaZuoOdkkQ5ldUoL49bHSfFQyD2FcK215S7pHsr/XMNlpYTSNZM/QcUIgTRBggCSSFrvqmERjCo1Pxov2gOY7fk9F82YgY6Bi8Efd2LRpU1dbosSE6ORFx080EKYJXMqGEBACQkAICAEhUIEI4Mif+QjBZi5fMl9cNj9BRXfd/O+xmG3RrJkv+vjMQiJZAhHSh0AsKNlq2oIF0ogALIlMmuOLjFknUTcx57TJixMSyd47/lrF/U25US1F5uKQTyg4IQeSTfi8w8E/LxaiBATBZBgiAcUn76gkyysxj0RdhcULfhOv2meURFev2wLOiNx6ttBn0czinTosbi6I0gWCBL99LLbx1dfMyDNwKYmExOQW09uLpuAhQVSBZXHkHXnnPqgFr167anPlC66mw68aBB3XQO3UsKG1PSsD+YPkoo2SEtUXdUAZyA/zcMpR2P5wg1Q8WUFb4DzuQ4KYoj2U1P4KhQDX3PT4ii3YL1vbQsnE90SK51XXyCAW5yzwSxuMiHLQryCGr1k9ozpELUXbYtHu8327Lgt2cCmunr1g9/gf5aLOydM1K+8lyxf+LSHDqDvIZ8pJmyNPyeYH7CFgcGNAomzgn0oSkvUX2DE+keij3IP2lmyiDminjCH0fcziGbO4DiSet1sbNyHIKLubZd9qj9wDjCCJ48kzroXpL30DwpyxNxGZB+mJKTDXBx9IznhykXZDWbk/12Sd6CRhAoKavsWxRIEiajXXTIbMhjA6Zv5BaRc1jKSlzhO56YjFmDyBIdiBJ8+Nc4YTfRaCFRwL+189D36Ej9Xfvf6uu51ARYkp87SJY5xYjb3uvX6O+httHAIOwp+yUZ8onakXyHLGBcrAmMuzlOcBa+7WRkiyLi+p3TP+XbE+5P3IPlP+wn5d29o+UbhZx9v4bfVGfyrpevHlJu+4aGA8JLlptl23JMKdcZDxi37o7cbywRhG+yopD4ydjOnUJ4GHGHvBrSTfr+SVc2nT3BOMUVrzXtFJBGRFI677pRwBOhFmEgxMTE75zIvveaUiRQ8fBj0epBHxWNIgkYp76xpCQAgIASEgBIRA1UaA2ciN6zd8nnLzy5u2UCmcTyQyES2ptD73scWYz0+MkNN8pCTEUvM700rmmiyWmQuWtf5Sk5vSXaVw497myNZuIG8hVapquwF/SCqb6fvCO5UEGqgWriUK+1dZiInS1UzJR1NeyApM52l3xjvcN4k+RwAixk8Uh8kQT/cNOLcKCql2OPdoOHAw14kpiCVUdih3ab+kwvWyiXdsjQxxVdfGAN6jhMr2H3/8izB73iL3mYgLg//2f//PrkQtDXkcXa80774hZidA4EX5Lc35yR5L2WlHkLgoAqvq+JdsedP1uJL1mumac+VLCNxCgMGDhxEvJSEgBISAEBACQkAIpBsCLPNQU9WunRrTTZ/72KaoUsUiwHq9JLVexeYo+btB0qWaqEv+7qk9EmVbedYDggNe6ZIoLyqt+zHR51Cqharr3rLcq41NEaJHE2EaP6a4ORg8oG/42tMzQsu6hWbmhetlCNy72zWKPIIwbd6687aJcsMGDZ3ALM9+FgFTUSo8VIIlKQWjPOm9/BC4uwWW3710ZSEgBISAEBACQkAICAEhIASEgBAQAkJACAiBFCCAkhGT8hWr17tPRXwt4q921PDBbp7rBG6C+6CuhXwkCBP+VTHtbWLn41OTYGpVSeWdoIj6Os0QKN5RR5plVtkRAkJACAgBISAEhIAQEAJCQAgIASEgBISAEDBfquY/kGBYLS2ACxaB+JnctHVHePuDWRbE6ECxEGH+vGzVuvDaOx95cBIO7mfBq6ZOHG2Kabn3KBY8/VgmBKSALBNsOkkICAEhIASEgBAQAkJACAgBISAEhIAQEAKVhwDByCAhn3vqYQ84tWb9Zg/2hEn28ZMnLcrzyECkayJIE8DmpvmBPVtw3qOr4/NxgUWX323R1r80/8SYb48cPiRMmTC68gqkO1drBERAVuvqVeGEgBAQAkJACAgBISAEhIAQEAJCQAgIgeqIAD6G69SuY6rFMSEv77hHjd67/0DYf+CQRcG+FA4dPho2btke2rTK8KjXRLI/ffpsyM3LDyvWbHAikijJ9evVD+NGDfNXlgWwURIC5YGAomCXB6q6phAQAkJACAgBISAEhIAQEAJCQAgIASEgBCoIAfxAfmDKx5mz5odjJ0+Fy5cvhxs3bvrdiaJOwBciYl+y76NUr25dM99uHrK7dg5/+kffCGNHDTX/jxnRz3oXAilFQARkSuHUxYSAEBACQkAICAEhIASEgBAQAkJACAgBIVCxCNww8+qjecfCkhVrws9/92bYtnNPOGc+IaNENGwIyNjUtVPH8NCU8eHPv/9yyGzb2iKu1wscpyQEygMBEZDlgaquKQSEgBAQAkJACAgBISAEhIAQEAJCQAgIgQpEAHPq02fOugn2xi07LDL2PiMlj4f8YyfcPLt27VqhrSkc27drEzp2aBf6WNCZgf16hy5ZHULdunVEPlZgXd2PtxIBeT/WusosBISAEBACQkAICAEhIASEgBAQAkJACFRLBPD1iBoS8vHUmTPu9/H8hYsW3bpWaN6siQWcaR5aZ7QMbdu0chPsagmCCpV2CIiATLsqUYaEgBAQAkJACAgBISAEhIAQEAJCQAgIASEgBIRA9UGgZvUpikoiBISAEBACQkAICAEhIASEgBAQAkJACAgBISAEhEC6ISACMt1qRPkRAkJACAgBISAEhIAQEAJCQAgIASEgBISAEBAC1QgBEZDVqDJVFCEgBISAEBACQkAICAEhIASEgBAQAkJACAgBIZBuCIiATLcaUX6EgBAQAkJACAgBISAEhIAQEAJCQAgIASEgBIRANUJABGQ1qkwVRQgIASEgBISAEBACQkAICAEhIASEgBAQAkJACKQbAiIg061GlB8hIASEgBAQAkJACAgBISAEhIAQEAJCQAgIASFQjRAQAVmNKlNFEQJCQAgIASEgBISAEBACQkAICAEhIASEgBAQAumGgAjIdKsR5UcICAEhIASEgBAQAkJACAgBISAEhIAQEAJCQAhUIwREQFajylRRhIAQEAJCQAgIASEgBISAEBACQkAICAEhIASEQLohIAIy3WpE+RECQkAICAEhIASEgBAQAkJACAgBISAEhIAQEALVCAERkNWoMlUUISAEhIAQEAJCQAgIASEgBISAEBACQkAICAEhkG4IiIBMtxpRfoSAEBACQkAICAEhIASEgBAQAkJACAgBISAEhEA1QkAEZDWqTBVFCAgBISAEhIAQEAJCQAgIASEgBISAEBACQkAIpBsCIiDTrUaUHyEgBISAEBACQkAICAEhIASEgBAQAkJACAgBIVCNEBABWY0qU0URAkJACAgBISAEhIAQEAJCQAgIASEgBISAEBAC6YaACMh0qxHlRwgIASEgBISAEBACQkAICAEhIASEgBAQAkJACFQjBERAVqPKVFGEgBAQAkJACAgBISAEhIAQEAJCQAgIASEgBIRAuiEgAjLdakT5EQJCQAgIASEgBISAEBACQkAICAEhIASEgBAQAtUIARGQ1agyVRQhIASEgBAQAkJACAgBISAEhIAQEAJCQAgIASGQbgjUTrcMKT9CQAgIASEgBISAEBACQuB+QeDmzZuBl6caNUJNXjWlEahO9X/jxs1w6fLlcDT/WGjZvHlo2qRRqFOnTnUqosoiBISAEBACQqBEBERAlgiRDqgKCHz55ZehqFcq817DFgS8WBREn1N5fV1LCAgBISAEhIAQuP8QyD9+Iuw/cMQLXq9undA+s01oZy+l6oHA9es3Ql7+8bBt556waduO0LVTVujbKzt06dwxNKhfv3oUUqUQAkJACAgBIZAEAiIgkwBJh6Q/AigHrl27Fq5cueKv69evu5oAUvJeEudHpGOtWrV8t7pevXqBl3au7wVZnSsEhIAQEAJCQAgwz/jo03nhP/0f/9XBaJ/ZNvzoj78ZfmgvpeqBwNmCgvD2h7PCP/74F6aCvBTq1KoTnntqRvjz778U+vTM9nlm9SipSiEEhIAQEAJCoHgEREAWj49+TWMEIBvPnz8fzp49Gy5cuBAuXrwYLpt5C99DRkJC3isBSfEhICEfeUE81rfd6oYNG4ZGjRr5q2nTpv7OcUpCQAgIASEgBITA/YnApUuXw4VLl2wectXnDk0aN3KFW+3atYoF5PqNGzZ/ueLHXLZz+VspeQQi8+YLNg9EbVinTu3QuGEjm6/VTQtT9i3bd4ct23aGczZn9Q3zGtfDzt37wsrVG0LvHt1EQCZf1TpSCAgBISAEqjgCIiCreAXeb9mHUIRcLLDd5OPHj4e8vLxw4sSJcMkm/CRIwshEOlIvpgIjyEWuF/lp4jP3atasWcjMzPRXc/Pp06BBg7SY7KaizLqGEBACQkAICAEhkBwCzA92GKm0au2GsDfnUKhr/v0mjR0ZBvbvHdq0zkjuIjqqTAict03oDZu3h2Wr1oXTZ86Gdm1bh/Gjh5uZc3fbMG5Qpmum8qTY+SPXjf6+Efn9TOXNdC0hIASEgBAQAmmMgAjINK4cZe1OBJjcQzSePHky7N+/P+Tm5oZTp06Fq1evuiqxSZMmoXHjxv6qW7dw1ztVqkTufcMUCSgtUV2eO3fOX5Cg+fn5/urUqVPo0KFDIB+1a6tr3Vl7+ksICAEhIASEQPVFAFJp15794f2Zc8Li5aud+GrQoH7o2LGdCMhyrvZz5yEgt4VX3ng/HDh0JPTr3SO0ymgRunXJSgsCsmP7zNCze9eQ1aFdOFtwzvPUs3uX0DO7i9SP5dw2dHkhIASEgBBILwTEkqRXfSg3xSCAefXhw4fDli1bwqZNm1wJ2bZt29C7d+/Qs2fP0KJFCzeFhnxMFfEYnx3MuiFBMfs+cuRI2LFjR8jJyQm7du0KWVlZYcSIESE7O9vzUl55iM+T/hYCQkAICAEhIASEgBBITwSyu3YKD0+bGK5eux4WLV0V+vXpEWY8ODGMGDqo3Oar6YmEciUEhIAQEAL3OwIiIO/3FlAFyo/6EP+OkH2Qj4cOHXKT5169egVUhxkZGW76jOowMr8ur2Jhdo3/R0hOzK+5P6Tonj17wr59+8KyZcvC6dOnQ9++fV0NKRKyvGpC1xUCQkAICAEhIASEQPojwFwQteMfffPZ8Ozj020eWT+0aN7M5pJ10j/zyqEQEAJCQAgIgRQiIAIyhWDqUqlHAPIRs+ft27e76hHT527dut0m+PC7CBlYUYlJJCQkLwLSYPJNMBrIyJYtW4adO3d6XlFrEiUbclTm2BVVO7qPEBACQkAICAEhIATSD4FGjQhe2DD9MqYcCQEhIASEgBCoQAREQFYg2LpV6RDAnxLk48GDB8O6devCmTNn3Mx59OjRoXPnzk4Clu6KqT8aQjKKgk0wGhSYmzdvdiISpeTgwYMDJKlIyNRjrysKASEgBISAEKhMBIh2feZsgUU3vhAIKJJ/3ILi2QYk6cubX4ZTp8+Eg+aTsLZtWkapZk2bNzRpbD4KW0ZfFftOROxLFy/5Pc5duBhumCsYNkCJsN20aeNQr4xuZ/BrTcTtC3ZNokdfvnw1fGn/GlowvcaQZRa8pV698o8iTQTrK1euhNOG40VzcXPt6jXLRfB8UEbyUr9+vTswYnP6ivn/PnHytEcczz92wj9fM2xIV+0ax46dDPsOHLI6OFt4bo0QataoGVq3aunYFX559//MPbn2ecPl/LkLHtWc7wgqhE/PjBbNPT/M9/iePFyw+sFFD5vTBMABt3gLmIJz58PJU6e9ndS0uWPzZk1DS7tWfOKauUePWd1c9mvUqV0nZLZtZfPIOmbCbfmytnbG/EhetojrNe1+zawttW3T2u5dM/5SjufZgvNmRXTJo6yTp3oWGbyxzU+bNWtiZaJ+DRglISAEhIAQEAIVhIAIyAoCWrcpPQJEuz569GhYs2aN+1jEv+KoUaNCly5d7roYE7YoxU/6ou/L851JJ0Tk+PHjXZFJnhctWuQBaTAVh4RUEgJCQAgIASEgBKoPAieNYFy2cm3YsGW7E447LQp2Xv5xLyCE1IZN281v9GWzkPhqDlDXiKShQwaERx+aVCwQzGsgCSHQ9uYcDFt37A7bdu4JF85fDO0y23iglcED+4QO7TILCTEjl5JN5A3i9MjR/LDTAufs3ptjpFd+uGn37NY5ywOm9DCT4Q7t2joByBynPBLlg5g7dORoWLlmU9hvhGFE0uE3kWAyRLLulNU+1DE3O9H87pr5UszLPxFmz10YjuTlOym3Y/d+fyefRMJesmJtOGp1Ub9BIXlZI9Rwk+fHH54aBg/oU2RxwJz6Ahcimm/dvssjmt+4fiNkWB126dTBo2t3tvfGZv1y4+aNsHz1egs+tM9JQYi9bzz7eGjXro0TlrE32WMYfzZvcbjoFjK1w7iRw8KUiaNjD/HPN424plwHDuc6ocl9X3jmUSNNG3vb2rxtZ1i3YUs4aL8T4XuYtaXnn5zhn6OLQdBetTn0vv22gb9pa9i775CVKc83w2k7BMQZNqS/kaVtjOit75vn0bl6FwJCQAgIASFQngiIgCxPdHXte0IgLy/Pza63bdvmxOPQoUND+/bt77pmFJ062n1GGVC/fv27jquILzAHHzhwoE8aFyxYEJYuXeoTvgEDBlSoqXhFlFX3EAJCQAgIASFwPyNwGgJy1brwwSdzHIbLl684gcUfKBc3b98Zdu/LsXnAVwRefZujoDQsiYCERFtq5OYf3vrICULUgagrIZdQxaEMhEx6+RvPhAljhgciLZeUCknNm+HTOQvDp58vCGvWb3alHUrISHmIeq++vVrYxink1jeffyL07d09NEjxvIq8rFy7MXzy+Rdh/sLlToiiKL1+47opC4PngblcP7s3AVyeNt+JTazMKA/ZoM4/djzMMqJui5GEN01FedlUlGBEQiG4Ys0Gj4xd45bCD/KSMvTv07NIAvK6kYynzNLmN394NyxcstJJUdzpgA0JFSs+G1958wPPz5OPTAu9e3QLq6wMC5asCLl5x4ykbGGk4pjQunXLuwjIvTmHwjsfzba8FVjZULA2TkBA3gxzFiwJazdsDXXq1g6dO3YIk8eP8vr68JO53p4oJyrPzDatXKkaKT/JJ+rNI7l54Y13P/Fo7EQFB1cISTCoU6e24VDPInK3D09YGWZMm2DEakdOVRICQkAICAEhUO4IiIAsd4h1g9IiwKT0qk2g8Kd44MAB20lu56bMkI+x/h4hHAtsIpefn+/HEagG8hG/i0Sk5p2/ox3z0uajLMczMcYfJJGwydvixYs9OA3Rujt21ASvLJjqHCEgBISAEBAC6YgApNWFC5dMcVfg2btppCOm2CTmMhCSEEWx8xDIp4umskucvgx7Tbn2gZFN730820i07U7Ocb3YxDUhvbgf859pk8eFLlkdYg+54zPE1OEjeWHWnAVGmK0MG021yfmJUp06eWZefMoVidOnjA/jRg8LnTrevQmc6PzivmfjeK2p+N6f+Xn4fP5iUz4edrUn59SyeRSKSwhYyoxSE5UkROAjD06yPLRzE21It3NmIu3Y23HggHqQxPXBBALRwPfvwOtKAyPirD7iEyb0u02h+O7HnxkZuszxxyy9qARmzFHPnT8fHps+xVWWx0+cMkL0hJPDTuTeWVV+GZSVx46fNFPzs06EYuJdVIKcRvWKOT+qz5qm3Hzj3ZkB5SNk51kjV6OEepH2F7UNlKGHDh8Nv/z9m17HmKBjYk/CFRDHQdZyD/KCaXaBXe/bLz4TWhl5KndBEbJ6FwJCQAgIgfJCQARkeSGr65YZASZIJ0+eDPv37/fJI2bNEIoNzC9RlKJjiIyNf8itW7f6ZBPCEV+MqBCHDx/ukahjz4vOL893SEjIz0GDBgXUmyg5c3JynEgtLzOm8iyPri0EhIAQEAJCQAjcjUDz5k1dJYgij3kJZrH7TOl27L+z9x7AcWVXmual9yRAEiQAEiRIECDovSmSRRarWN5LKlVJapn2PbG7PbuxHdGxOzHbMbHbu7E707vRM9PTrZbUKrWkklRSOZVjOXrvvQNBCwKEIei9qT3fST5UEsyEB+H+U5XMROYz9/73vvvu/d9/zqk444q5/LwcU5pleMzHaO9upqKbMiE/+vO+96tXr4etO/cE3LlRCEL6obRDvQfJBiEHCVZp8QRRwuECTrxGYgpyLgi8RHaquNSVdT/95e+8nNeNiGMfjj+gfz+PbwhVd9mOSVxDXMlPnCz2dwg2EuvhdjwwdUCiw9f5O9y8IWBRYH6+fK2TfSgLyRKdNniQxyYkriXxMw8fOe7E3qZtu5xoyxqWbsrM/k6UpVkMzUdMGThq5HA/HtgfNrUp8RiJsTl2zOiQaS7kPe5mmoaA5CF2lhGY8Ua7HT9xKrz/8bLwxm/fc/IPIpmEMahKibGIq3Mnix8JKYmLOK7dH36y3Ak8FIaRSjL+uE3xGSIVNee7H31mROElVy/iPk79mO8OMbzGjc2pIg4rrGybDau33//U+yBxK7NN3Ug9UGcyP71gyRzBCrf3bTv3ep/CpfypxxZ6f2iKcusYQkAICAEhIASSISACMhky+r7FEEDZWFhYGM6ePRsGDx7s6kcmWpExWWSyD/n44Ycfhk8//TQcPny4KgA42agnTJjgm+O+M2zYsHvUB9FxmvOdSW5aWlqYOXNm2Lhxo5cVUpSs2UwAZUJACAgBISAEhEDbRmCkKQ7/9Puv+guy6HfvLTUX3t/FyB9zY8bF9esvPOUEYl1retbcgM/tPO+kV3bWcI//N3fmFEtEkmbutTfDnn2HwgefLHP3bMgw5kQbt+x0kgkVZH9L3FJ9noFaEHfrn//63XDIlH5YasqAMHnC2PDqy8+5izXu3JB0J42cWr9pe1j6xaqw3Qiqi5YMcOXajX5+Ergsmj+7UXOqW6bSo9xLP1/l7sS4BA+1+dL3XnvZXMlnh9EW+5GkM6hA//n1X5lic6WTZVt27A4brFy4JE8cnxcgd//mr/8Hr0uRuRy/Ze7NP/zpr4wkPOVY/NF3v2Fu7osTJnrxne7+Q/KdzYbNL95814lXvmauljt6ZHj5uSf8PBC7Xa2ckI0bzbV7xeoNYZcpEnHHhizF3b45jHZDCXrePGrS7MH2rBlTwkvPLnFylbZATUtbo4TEIGw/tnYrNwKcefIYw/Jx6xMvPfd4GJsz2vsUdXjblJ7/+ut3HNfCo8fDj3/2ZpgxdaIT0fQBmRAQAkJACAiB5kJABGRzIavjNggBJtJkQySTNORhbm7ufaQdk3wUkp9//nlYunRpKCgocHcY9mXihEs2GbNxe4bAHDLEgoHbBPFBG64s+fn5YceOHa6CPHnypNenJcryoOuu8wkBISAEhIAQEAINQwCl4ewZk41g+8swzNRrkIrEkcTDeGRWZpg8cawrCP/Tf/mxx4W8ZCQhLsRr12/xeIEo9uJt7/4CT5Zy4FChuwmjHnz168+F73/r5ZBpXiPEfIziVKZYduQxRr5BSL330edO6pFsZfW6zRZzMC3Mmj7JM1Q3lKiirAcOHbFkLDHX4cz0oeH5px8Lz5o7M0lvUENy7NHZWeEPvvmSJ/f5kbkUY/us/LhrQ0A2lW3dacTmlu1OGhNfExXm8089Gr5tsS9JxAPJhyu0eUI7sTl98oQwy2JjvvPBZ6aY/L3HXGyqsiQ6DlgM6Nc//NF3X7FkM894RmxIzy7WH8imjUWEM6rRQiMhUcry3bzZM8K/+ePvGHlpMSltHzJeQ5rjco0K8vMVa11NCwmJ4hX8yYIuEwJCQAgIASHQXAiIgGwuZHXcBiHAE1vIw4isw/U6mlhFB2Qbft+zZ4/HfvQYP3d/hIRkAsk2kJgoI6dPn+4u0dH+D+qdSWNqaqorIYkHSVmys7NbhAx9UHXWeYSAEBACQkAICIHGITDJCLavPfdkmDAu15OZxM+DIAtJFENMRrJiE0ORuIAo5VDA8X11Q8G4fvM2T9RCNuhnn1zs6sAxo21OYm668cbDU9y9J0/Md5djiE32Lbd4kMQhRB05f84Md9mO36+un29bDMKrFhszitfIfsyX+hnJivIxMkg2sjUvnD/Hs1Ljuo0qsU+fpiPImDOus/ps3rrLvWg496MLH3J8UIf2sazW8UaZSP6DEpE6kCl7v7VBlPwmftum+kz7PPHYw559G1IWxWgyw4OIZDwWgdT/h1TuZepIXpFB8KKmJFkO3kXHTxb577T77Vux+KXRtnoXAkJACAgBIdDUCCS/izX1mXQ8IVAHBFA/lpeXW2Dxi6F///6uYKy+GxOssrIyf12yIODJDCUkLwKRE5PxQRsTap44k0SnuNjiQh054sTogy6HzicEhIAQEAJCQAi0DQQgG3EvXrRgtqvvEpUaVd7okVmB5DDrLQs3BCRJTYqKS6qINPaLeZXcCLv2HnCXZkimVIv7SFblKUawVScf489FnMEJljH6OSMryTR9qbTMsyvjrkx27HhSK36/2j5DoKGyjGJikwAGZeZeO0enTnnuGk45MUjJ6VMmuDrzyy/vOPmXbfEKm8LAhliUBwsKwzEj4SDrcEvHxXzGlIn3kY/x5yRhyzRTQkLkFpecblYCEtfvRxbMcTVmTeQj5YNQHNCvn1HMncLtL2/HXMY37/D2Gpia4upStkMJOWvaZI8hiTs8dc8wF3/eZUJACAgBISAEmhMBEZDNia6OXW8EUDOStMWfhtskijg8iQwSksljTYYSMnrVtF1z/kY9cAWHTEUBCcFKmeLVDM15fh1bCAgBISAEhIAQaDsI8OByqLk6jxheM9E2wIjEiePHVpGUqPCKT5dbPMKvVGzEJoRgOlN5zhOmkKyGhCMknblhsRhJLlObjcvPcWUipBbZqI9akh1iEzbUcPElcQzJbKgryk3iKr45ZLBliL7g8SgH2JypuxFvEK3DModaIpWasWhIWcCGWInnLIP5dcuwjdv7+LF5YVzeGHPDHljrIYnJ+cJTj4XfvftROF1WUeuctNYDJtiAOSTu37mmVB1kBGJtBjGKapQM57hhb9+1z+abb1vG7sthkhHOTkKaohIFLYQjSX04h0wICAEhIASEwINCQATkg0Ja56kTAhB0xHckc3Vvc32JnoLH78x3qAqJ78h2ly2eUCIj9iOvZCRmon2a47t+RqRSF9SaEKwiIJsDZR1TCAgBISAEhEDbRwB1IMq/Ll1qTliHK/aQtEFVqjVINMg85hiREY7mRFGJk498h/szJCLJUz5YujzarIb3mEqQzNKdrTzEbyR24K1bDU+6gopvSNrg8ISpNy8ZMYYbOQQZmZs/+WJ1GDwo1UlSslij0ptiruCQpk1NlPEgu8gyg5P1GyNbdo4lbcHFui4G/ulDB1vWbsjSbs0SCxJFIkpUCGNcp2uzvNxRrlj9dNkaI50rA1mxV6zZEMgiDoGZdTejOpm0Z5sbeWbGEHe3r+24+l0ICAEhIASEQFMhIAKyqZDUcZoEASaEEHUQdjwZTzTh7GYTPWJDTps2LZw6dSocPHgwXLUJJIpItoeghHScMWNGGDt2bIsTkLjEUBfqxmIgfnHQJKDpIEJACAgBISAEhEC7QKBzZ0suYi6ytZnPdyAp7yrYmANBMNpkqGrXm6ZyPHGq2GI5xkg25iAlp8uchPTEKlVbJv/AnAUXb96v2kPUMlMNXr9xwxLifFmVBCX53vf/Qrkh716yDOGU4cNPl4dtO/b4w+TL5kaOCrLEEqLglr1u4zZXQI4fm2sZxR8zJeRwc41umhiQkKjFJYTpiWHD3BK1ZXwcyvtL/9U31IN9hljSGsoEJk1tXawvkOEaIpLz1WYkK5o6aXz4q7/8k/B7SyBEzM5zhieu5mTSLi2vsDihsZieZMKeMnGcxwxdMHeGu8TX5Ry1lUG/CwEhIASEgBCoCQERkDWho98eOAJkuEYlCGnHxC6RETeImI7z5s1zshJyr6SkxDNh89uAAQPCiBEjwsKFC0NOTo6Tf4mO86C+gxClXCwOICFFQD4o5HUeISAEhIAQEAIdCYGvyEdqzbzjxo24B59GYjEn6WpzEl51Mtsu09x1I8PNt4vFqWyMEYZmbO5oJzFxC863z5CB5WfMXdwyOaPkJNv1EXP37rmnR9i154ATaS8+uyRMtLiUqAIbbWAT91AYfg+377qQv9G5oQRRdHauK5bRjnV8hxDsYu1l3u91Mtp2qLmyv/Ts4xYLsq+7YB89ftKIxzOBDNngioL12IkiJzQPHj7qWbBJXENiIZS3MiEgBISAEBACzYmACMjmRFfHrjcCkHM37Cky5GMUoLz6QZiQQVCicIR8hIxEBYkrNn+np6eHiRMnhvnz54fMzMw6PTWufo6m/jt6qsxiQCYEhIAQEAJCQAgIgeZGgHnUQEusErnvksUZFeGE/DGWCKZ/g06fmpLibsqdYewaYZCQE/Jzw1iLWfiiqSF37t4f9h86HCDFCo+eMGKs1Akz3LP5+x9/8kt3SyeGJC7EjTXOT0Ie5o0Y6tFz5y+ap0rd41uSyfvCxcseQ7Kx5Wmq/SFEM9OHhO9888Xw5GMLA1nMSUJEhvQCUz+ePFUSLpiitdLIyCPHTjgxyXfDM9IDLtw1JSZqqjLqOEJACAgBIdBxERAB2XHbvlXWHAISlSATwtoStQwcODDMmWOZAXNzw/Hjx10NCTFJ3Mfhw4e7G3cyEvNBVz4iHiMi8kGfX+cTAkJACAgBISAEOhYCkFFZwzNsPhRzW8b1mTiHf/L91yzZSk6DwEAh2Ktnzwbtm2gnVHuplpBmwbyZ4aHZ0zx5yrVr10ORkWLvmhvx0s9Xuivx7Tu3w++XLjNybWiTEJCcF5fryKWbxDqnTIV51c5dF2Neh0s7iWwiN+667Pcgtxk4MCXMHDApTJ083gjW206UQuyuN9f2f/nl75yQxEV7647dYdW6zRayqE+zJPx5kHXWuYSAEBACQqB1IyACsnW3T4ctXV2IOghKktBAOJLoBeKS7yAhe9rkOBmBGbl5o5jkMyQlx+ljGRCT7dNhG0IVFwJCQAgIASEgBNokAsRYHJaZbiRbb/cGuWqutgcOHQk3zS0bJWFt7sax+dJ1c42u9DlWly5dPSYhSsqGPuC9aElwcK1G2UgcSTJOQ4a68u5u6B1IQWIfvvq1Z82PPLg79uUrVyx+ZamRhKctGc6VOieLSdZwxFXMNNUfOGBXLU7iDssaXWZxEm/ezHHX6mT78n3l2Vj2buJjQo62tHkW9JKycKr4tBclIz3Ns6mTwCaK9wkR3ctwxYUdV/f37saJJIHRgYJCS0wzWQRkSzekzi8EhIAQaOcIiIBs5w3c3qsHUYlaMnKhqa2+xJesqKgIx44dC6WlpR5vErIyLS0tjBkzJqCq5G+ZEBACQkAICAEhIATqg0AnksdEnslGnOHOe8cedLaU8VCVWIAjLPtx2qCBTjqdKDplsQH3OjE5MiuzxqKVV1SG9Zu3OzEHwUX26ulTJoR5c6aHXg2Me0iSmTUbtoS9Bwqc9EOdlzUsRgRGD4GZ20GW5eWMChPH54VhGUPD4aPHbc523YlLFIeQlNHDat6jz1QIYvPGDcO+hrA3nIuM42SCHmgKTNyvSdizbcfeMDJrWMjNyU6KDcQsbssQeCgIW4MR6xNXa8qETTNcF82f4+9R+XCbh9jNGpYR5s2e7jEiSVRz58s7puSs9GQ10bZ6FwJCQAgIASHQHAiIgGwOVHXMVokAE0ZIxx07doS1a9eGEydOePZs1I/Dhg0LCxYs8MzafE6WAKdVVkyFEgJCQAgIASEgBFocAVyTu3WNJdCLkTpnqjJQR4WLEtFFZFv0fXO8Q8rhagxpSFbp1es3ewbsz1asdbfnPr0fDoPMTTeevKMclBFCbuvOveH1X74V1m/Z7mThjKkTnbBjPtVQQ2lITMePPl3hysri0rIwZ+bUMGn8WFcjWpGrjHLgRo6KD/LsSyMNUW1+iSwyzkiKg8ozwvS6KT3JpH2rWjxHys02EWGJ6pLz7tp7MGwwohVic9nq9fYw2uJcmjvykLRBse3jzgXRhxvzxi07widfrHY8435usY/U69iJU05A4hpOopn+ffuGPIuxGbmZxxeuT5/e9vA+SvbYyXGNxz5+W30WAkJACAgBIdBUCIiAbCokdZxWjQCxei5duhS2bNkS3n777fDZZ59ZEO4LVS7YZM4+cuSI/w0hOXTo0FZdHxVOCAgBISAEhIAQaD0IQGqlWwbi/v1imYRRP0JqPb54QZgVV0xUfKgkI9ffuJ+a7SPJSIipuGnrTotxeC2sWL3Bs2OTeAU3Z1x0IxISau+aueSyza/f/iAsX7Pe5kZ3vLxjRo8Mjy58qFExIPuZIpNM1h9/vsLrW3D4mCeY+Zu//ktTHmbe49pdUXk2HLKkNPsOHg63jDzEQ2WgJcFBzRmVl4MQemeExbrsYTEusQrLpr1yzYbw6svPhPS7GbyZB142gpE4mPFeM48tmhdOnCwOm7bsdCXg2o1bTWV5KZy3OeKf/eDbpsTsWZX1G2xKLebjz3/zXvj1W++HispKzzTuJ23hf8AVwnSwYVNaVm6q1f1h9MjNYfLE/ABxHI/XrVu3w8q1m1xVSrEhcEdacqKGJiZq4arr9EJACAgBIdCGEBAB2YYaS0VtOAJMPA8dOhRWrlwZ1q1bF86dO+fxjPieJ+Jnz54N69ev96zZuGPzip6kN/ys2lMICAEhIASEgBDoCAhA8Lir8+BB7kVBXOoTRSXhn/7lDVfLZZob8XlTFR43F2gIob/4w28/MFhwNZ49Y0p49snF4d0PP7P5z+2wc89+c8k+Gz5dtjoMz8zwWIwQkcQGPHr8pKsUcdeGfMQee2ReeOnZx00xmdqo+dGg1JTwyMNzwkefrQgXLYP0WcvGjDLzf/kP/9HdhYlZaaxeOFhw1MlHYhNCmjJfm25uxfkWL7L6/Ay3YlymB1g88K7mGo6SEdLyb/6vv/f4kn379vaYjUesXn/8B684iRqBP3RIWphu7TF/7oywwZSeEMdkjP7Zr94Jq9ZvsezQQw2bQaYk7RJOm6ryuJGVZI/G9RpXZspSaZhdsNiWLWkIRyeZu/orLz4Vfvj6r8KN6zedZISMxWU+a1hmINEORPR+U8PuN3xQcoIXCtNZ0yaFjLtkbUvWQ+cWAkJACAiB9o2ACMj23b6q3V0EcOMpLCwMBw4cCMXFxZ65MAKHSa1nMiwvD/v27QtHjx4N8+bNu2+CG22vdyEgBISAEBACQkAIxCMAAZma0t9JNMg91IbETSTe4omiYoszmOLEGGQVrrEP0iAWx+ePCa+89LQp4YIpM3e4i/L+g4Xh2PFT7oYNCUViGdR/xANELcj8KNU8RHCRftnIx5lTJ8WSxTSi8KgUhxvJ+PzTj4XrN26ETdt2WeKXM06WQexBcHJekqmUeYbpa6Frty6mLk0PTzz6sOE74b6z46aN+m+BkYiV9oC5oPCYKRgv2jE3OtHWs2ePcNkS16CofPbxR+7ZH0XkFFMJvvb1523e18ndsSFFL1tZjp88ZW06wAi6vqYS7OJkKcQjx5uQnxtQlqKYJPZiSxOQVIrYlWC078DhsM36HbjSniXm5o4yEhXpGSMkiwzba+amjtEW7EN9+lsfkAkBISAEhIAQaE4EREA2J7o6dqtBgMks8R9ROt6wCW8ig6QkQQ0vlAvETYp3WUm0j74TAkJACAgBISAEhAAI4No718g6CCwIqZLTZUbkXXEiCzILV1fcXMlE/KAt3ZR+jyyY60RoSv/+TvxBTF25cs0yS5c6SUqZmPcQyxIyFVfn/Lwx4Vtffy7MNIUcJF9TGHG2n16yyN3AOxuxt+9ggYXFuRQOGXF4y5R5GOUgRuNgy5INSTZj2kQnynJzRt5XBFSIlBmF52UjfVF4njY3ZNoAwpBjMadDfflV3MOvDoNy9fmnHjUCtrO5XH8W9u4v8P0gYSssA3i5EaHEoOxqRGeqJawZPzY3PLVkoRO6tCtqwtZg9K2pk8aFb7/ygsd93GUJZig/hOyBgiNO7Maw6OIJeOgTD82aFv7g1RfDcFNzeiby1lARlUEICAEhIATaLQIiINtt06piQkAICAEhIASEgBAQAg8SgbG5o51kxOX1x//6m0CWYdR4EbE3eUK+uwXHlwn32citGBUe29bNLHmIbcu+nXh16lzjbn0t8QjZjynjyjWbwseWCObA4SOmgixypRzJXXp07xFGZ2eF/Nyc8PC8meHl555wF13UkU1l1A8y8wff+boRi5PCr377e3N/3mGu30VGRF70JDMoDsm6PW/2NHP9fsLIxwUe4zEZNnyPUhMSLstcyn/263fCSVOeorJ0N2P7ft6cGSEz/f4Y3+xLMp7vvvqSZd7ODiTpWbF6o7txX7l6xUP1dO/W3cnbJY/MD9948ekw39yaeXANLuDvL/BP0nSco2o7b6vEG/JtbNtYYhjal//qaig2ies5ecJYc3NfGd5fuswJSIhwQg6hhkXtOs0SE1GPJRYDs6mI5bqWUdsJASEgBIRAx0WgkynD7k0l13GxUM1bAQIHDx4Mv/vd70KfPn3CY489FiZNmtQkpWLS9cEHH4Sf/OQn4YsvvrAn/lfuOS6TPSaRS5YsCd/73vfCK6+84k/L79mogX+cOXMmLF++PCxdujT81V/9VcjOzvZA6g08nHYTAkJACAgBISAEWjEChHVBfXe6rMJiTl9wcu+6xeRLMzUfBBnvvCIjY/Nxy1qMoaLMSE+zeHxDop+TvuOtsfdAgWeo7mxzGLIdEwuxNiUb+503xSFKTeIr4p58zog/skbjAt3bjkNcxf6W2ARijvkR86SmNpYgxGvE5fvi5cuG2WXHikQ9qBUpR1QGcIPAq83Isn3WVI+lhj1kJseFzBw8KNWJN+IckrAlmV28dNnVj8TrvGS4lNscjnL2tXkpxB3lAKMo2RCZp1FZ4l2DQjIvZ5Rt+1VG7ug8uJOT7AbsqUdG+hCPIRn9Hr1zLuJXUg7Ix56WYCfXMln3Mrfv+tgVcLD2rTxrbWyfUULesWP3sXal/pSRelAfXNhlQkAICAEhIAQeBAK64zwIlHWOFkeAiXNubm6YPn16KCoqCgUFBeG6xb/h6TUTQTIrZmZmhpkzZ/p2Tfmkv8UrrwIIASEgBISAEBACDwwBXIwhd3jhDgwhSQKQRMQUhYIUa0gCENyKp0wcV+96uTuyEYuQixhzITJf37GHtb17Q541PdmYqJDMzfoYEcYL42HxjRuGlRGhffr0snJAfCbaM/l3uLfzyjSCD9yv2/H8PEZm1sX69e0TeJFgBjIQEhLDdbuHkcPVDbVoXWyIJbLhVZtRVuIxNtYgkHkNsyQ6GCQzihPI6URu6L6R/hECQkAICAEh0MwIiIBsZoB1+NaBABO6ESNGeHKZixcvurqxsrLSn1ijNhg4cKCTjwsWLAijRo1qlif9rQMJlUIICAEhIASEgBB4UAiQPZlX3eivB1Wqe8/Dg1jIqpY2Hv726sWraUoCEcyrocbcETKyPVhE8raHuqgOQkAICAEh0HYREAHZdttOJa8HAkwi+1rWydmzZ5vrSb+QlpYWjh8/bm4pV22i2ytkZWWFRYsWhXHjxjkZWY9Da1MhIASEgBAQAkJACAgBISAEhIAQEAJCQAgIgRoQEAFZAzj6qf0hAPk4ceLEkJGREYjNiBt2D4uvgwJy8ODB7nrU/mqtGgkBISAEhIAQEAJCQAgIASEgBISAEBACQqDlEBAB2XLY68wtgADuPSghUT2igiTeEN/hhk1MJJSS1Y0YQAQXv3TpkismiZXEthyHWEl8lgkBISAEhIAQEAJCQAgIASEgBISAEBACQkAIJEZAzEliXPRtCyEAAcgL0q+5jONDGtaFOIRsJGbk6dOnw9GjR101SVBziMf09HSPF4lyEkJTJgSEgBAQAkJACAgBISAEhIAQEAJCQAgIASFwPwIiIO/HRN+0MAIEQ4f4a04Ssq5VxEUb4nHdunVh06ZNobS01LMqon4kqc3ChQvDjBkz/LMyZ9cVVW0nBISAEBACQkAICAEhIASEgBAQAkJACHQkBERAdqTWbgN1jdyhcXnGPbqlraioKCxbtiy8+eaboaCgwF2xIUYpJ6rHkydPOiHZv3//MGjQoJYurs4vBISAEBACQkAICAEhIASEgBAQAkJACAiBVoeACMhW1yQdu0ARsXfhwgUn+1oSDQjQ/fv3u/KRd1yxI1UmbtzEhNy8eXPIzs4OeXl5SQnIW7duOZkauX6j8JQJASEgBISAEBACQkAICAEhIASEgBAQAkKgoyAgJqSjtHQbqWe3bt0CasIrV654hmpcsVvCIBqJ9VhYWBiOHDkSIEQj8pHy8JmyERsSZeTx48eTFvPatWteFxLd8BIBmRQq/SAEhIAQEAJCQAgIASEgBISAEBACQkAItEMEREC2w0Zty1Xq0aOHKwkh7SAhUQ+2hEUEZGVlpZOPycqASvLcuXOhoqIi2Sa+P3Xp169foH4iIJNCpR+EgBAQAkJACAgBISAEhIAQEAJCQAgIgXaIgAjIdtiobblKPXv2DEOHDnWXZVyeIe5ayiAKIQxRZdZk/E65k1lZWZm7b1MvjocrtkwICAEhIASEgBAQAkJACAgBISAEhIAQEAIdBQERkB2lpdtIPXFRTktLczdsCMjy8vIWKTkkIWUZOXJkyMzMTEpComokGzav6oaKkizauGlfvXo15OTk+HFEQFZHSn8LASEgBISAEBACQkAICAEhIASEgBAQAu0ZARGQ7bl122Ddunbt6uQjxB9JXsgyjRt2fPzFB1GtKGEMyWWmTJkSRo0a5eWKFJFkwE5NTQ0TJ04M06ZN80Q01ctFjEhcs8+cOROo1+jRo5MSmdX31d9CQAgIASEgBISAEBACQkAICAEhIASEgBBoLwgoC3Z7acl2Ug/cniH38vPzw5YtW8LRo0fD1KlTw4ABAwIZsh+kQUKOGTMmPPzww+H8+fNh+/btgZiQJKehjOnp6WHx4sVh7ty5ISMj456iQZjeuHEjHD582N3IBw8eHLKyspyIvGdD/SEEhIAQEAJCQAgIASEgBISAEBACQkAICIF2joAIyHbewG2xehCNEJD79+8PxcXF/j5jxowHTkCCHSpHCMaBAweGcePGhaKiInerJlM35OScOXPc/Rp37XhDtUlyGkhU4kOOHTvWk9AoAU08SvosBISAEBACQkAICAEhIASEgBAQAkJACHQEBERAdoRWbmN1RHkI4Zebm+vqwY0bN3pcSBSEKA8fpEEYpqSkhAkTJngsyLNnz7pLOKTioEGD/Dc+x8d1jFyvt23b5jEsIU8hK0U+PsiW07mEgBAQAkJACAgBISAEhIAQEAJCQAgIgdaCgAjI1tISKkcVApB5KApJ2oKKcNeuXWHHjh3+O8leaso4XXWQJvxAlmtISNzASUgDwYhKs7rqkVPiek3Mx4KCgrBv3z7P6E38SFywZUJACAgBISAEhIAQEAJCQAgIASEgBISAEOiICIiA7Iit3kbqDNl35coVT+SCOzaEH2Tg8OHDPZZivOrwQVSJ85GEJplBTJK5G/KR8l6+fNljRGZnZ9e4X7Lj6XshIASEgBAQAkJACAgBISAEhIAQEAJCQAi0BwREQLaHVmyndYDsg7zDdfndd98Ne/bscfUhbthDhgy5x+25pSGAfCTpzIEDB8KGDRs8ac3MmTM9gzbKSZkQEAJCQAgIASEgBISAEBACQkAICAEhIAQ6KgKdzGX0y45aedW79SMAsYeSEHfmnTt3+udhw4Z5QhjeSQbTtWvL8ehcPqg0y8rKPGP33r17PUv2yJEjw7x589z1GtWmTAgIASEgBISAEBACQkAICAEhIASEgBAQAh0VgZZjbjoq4qp3vRBA/dinTx/PIg0ZiXvzqVOnwtWrV901OyMjwxPW9O3b11202b45k71AOFKOmzdvhmvXrrnSsbS0NJw8edIzdhMbktiVZL1GpdmcZakXkNpYCAgBISAEhIAQEAJCQAgIASEgBISAEBACLYSAFJAtBLxOW38Ezp8/H44cORJ2797t2aVxxSa5S3p6umfJhoTEbRtFJMRfU8aIhHjkdfv2bXe1RvVIeUpKSgIE5IULF/y8EydODPn5+U4+QkbKhIAQEAJCQAgIASGsWtz2AABAAElEQVQgBISAEBACQkAICAEh0NEREAHZ0XtAG6s/cRYrKyvdHRsy8tKlS658RCXJq3fv3gFiEiIyIiEhDhtrHCNSPUI+4hbOi88QnpCgkydPDmS8pgwyISAEhIAQEAJCQAgIASEgBISAEBACQkAICIEYAiIg1RPaFAIREQjxV15e7i/iL545c8bdslEoQjxCCja1AjJyveb4EJz9+vVz5eXQoUP9nWQzPXv2lNt1m+pRKqwQEAJCQAgIASEgBISAEBACQkAICAEh0NwIiIBsboR1/GZD4Pr1666AxBX63LlzrozEFZr4kLdu3XJ36aZQP1KBiNQkoQzEY2pqqr8gHUmEg+pSLtfN1tQ6sBAQAkJACAgBISAEhIAQEAJCQAgIASHQhhFQEpo23HgdveiQgbhdQ/x1797dVY+8X7x40UlIXKYbaxCYKCmjc3C+lJQUT3wD+Ri5e4t8bCzS2l8ICAEhIASEgBAQAkJACAgBISAEhIAQaK8ISAHZXlu2HdcLUpAXbtjEgzx9+rS7YkM8kpk6Uj8CQeSG3RglZHQMjgfRiPs1cR5RQRL7kWzXqCCb2u2b88mEgBAQAkJACAgBISAEhIAQEAJCQAgIASHQ1hEQAdnWW7CDlZ84jLhYQzoeO3YsnDp1Kpw9e9bdrVFEQg4Sh5HPESEIgdgYApJ9OS/EJm7fkJy88z2KSEjIkSNHhuHDh7s6kvPKhIAQEAJCQAgIASEgBISAEBACQkAICAEhIARiCIiAVE9oMwhA+pF4BuKxuLjY4z5CCuIGnZaW5ipE4jPyNyQgcRuxeAVjQyoL0RiRkJCPZL8m1iTqS+JPQk5CRA4ePDiMGTMmZGRkhL59+zb6vA0pq/YRAkJACAgBISAEhIAQEAJCQAgIASEgBIRAa0NAUq3W1iIqz30IQP7duHHDScdDhw6FwsJCJwSJwTho0CB3gSYTdUQ+on5sLOl4XyHufhGpIC9duuTKy9LSUidFISMpG9/jGp6dnR0oX3OVI1n52sL3EaFLWcFHGLWFVlMZhYAQEAJCQAgIASEgBISAEBACQkAINBwBKSAbjp32fAAIQFZB+kH0bd68ORQUFLi79aRJk8LYsWNdbYj6sKVILMqGKvPIkSNh9+7doaysLAwbNixMnjzZXyTFaamyPYDmqfcpovaMXNghi3k1RRIfjn3b1KjGTjvmTXHMeldQOwgBISAEhIAQEAJCQAgIASEgBISAEBAC9yEgAvI+SPRFa0KATNYVFRVh5cqV4ejRo64qnDFjRsjLy3O353hX65Yot5Net297XMozZ86E9evXezlJSrNw4UIvJzEpZTEErpoLOyQthO2XRhYOHZoWMjMzLaHPoEZBBPGIezxk8I3r1yxJUB8/buSG36iDa2chIASEgBAQAkJACAgBISAEhIAQEAJCoFEIyAW7UfBp5+ZEgNiKkFXbt2935SOxFSdMmODKRwi+1kAuoW6EBEWFidpx1qxZ/n7ixImwZs0aT4qTlZXlWbObE6u2cmziZxYa+fjZZ5+FL424nTplYuhpuNWXgKRvXDe3fFzzL1o8zjPmAo8b/PHjx8P1a1fDiBEjQkb60PClXLzbStdQOYWAEBACQkAICAEhIASEgBAQAkKgHSMgArIdN25brxoJXoj3iGszSV3GjRsX8vPzPdN0fN2cjLIENbeN0IKUjNx647dp7OfIdRhFJp85Dxm3ISB5RX+TDZvfKdOuXbvCzp07vTwQYsqOHcI1a6eS06WOi8mvw6CUfmFc/tg6N88Vy4B+zV4QmZWW/ZyYm2RELyo6ZerHMnfVv337lqkgr4fHlyyp83G1oRAQAkJACAgBISAEhIAQEAJCQAgIASHQfAiIgGw+bHXkRiAAgYeK8MCBA55pesGCBU5ApqamVh0Vog9CEDIK11tccCEfUUeSnKapYgtCbBKz8Ny5c1WZt3GrJus1ykfOE6kx+Txq1CgnIFFvQp4OHDjQy0NSmo5uYHnNFIrnjFzuYmBctc+3LY5mXQ1MTxUVhZKSklB06lS4YMeB0Dx9usQzk9MfenTvFkaOyAqd7mZBr+uxtZ0QEAJCQAgIASEgBISAEBACQkAICAEh0DwIiIBsHlx11EYgALEIqQh5B9E0c+bMMH78eI//GH9Y3G+LjIzau3evqw1Rw0EMkgRmypQpITc318nIxiQjoSwoMYlZuGPHDj8fZCQkZ05OTpg2bZqfr3fv3lVFQ+lIGYgB+eabb3pMyPT09PvKX7VDh/rQidTXsRobtm7R33XA4ejRY2Hjxo2h4NBBJ51pC0hHiE1Ia9qrS5eeRgp3rVKn1uGw2kQICAEhIASEgBAQAkJACAgBISAEhIAQaEYEREA2I7g6dMMQgEwi4QyqRlSDkHz9+vW7J1My2xw8eNDjLK5atcpjREYKyLS0tLBnz57wwgsvOBGJUrGhhupx27ZtHrNwy5YtgUQzEF4QjiRPKS4udqIRgjQ+2UyvXr3C8OHDw8SJE520pKwQlmzTobNiO/cYIyDv0o/1apo7kNNXrrgSFaI3JWVAsJzX7opdZpnSYzE5u7gqtUPjXC9UtbEQEAJCQAgIASEgBISAEBACQkAICIHmRUAEZPPiq6PXEwEUbCgb9+/f74q27OxsVxPi2hwZ5OMFSzyyYcOGsHTp0rB161ZPQHLLXHlxhSYRCe7bkJcoFVNSUhoUf5GyHDt2zElOzsNxITk5P+QXv10xMgyyEdKTZDORobqENI0ISMqD+zDKyI4cC9IiZtp/X5n/XQ8FJK714HzDXLd79+4VhgwZEm7dvmNtY/gaAYl16dLZMMbBWyYEhIAQEAJCQAgIASEgBISAEBACQkAItAYEREC2hlZQGaoQgNzD/frQoUNO6kWqwaoN7ANEI4lH1q1b5+64EHvxBoGJcnH16tUhLy+vKmt2/Da1fYZ8xKWXGJS4/OLmTdkiowyQkZs2bfKMy2Tnjicg2Q4SkqQ0kKCnLF4hhOXQoUPbNQEZ4cY7r3hDkUiCGFSMkbENuIJn9e3Zhn06d+YVIxSzTFUaTPM4OnukE7+DBw8KFy9fsczjPcOG9ev8sJ3Zp1Nn/6x/hIAQEAJCQAgIASEgBISAEBACQkAICIGWR0AEZMu3gUoQhwDuzZWVla4WhHzMyMiI+zX2kW1QI+KmjUt0MiODNtugloQErI9BhhFfkP0hD+PJx/jjXLx40YlFtiNRTrxBnpGkhviPuJNDqk6fPv0eV+347dvDZ9oGVSjYVScUweP8ufPhqv1uHKLblStXw9mz57wdq2/PBuyDwrRfv772uXMYmJpiytb+4UvLiM5vvErLKsLhlCOxA9q/8JuJjlW1gT4IASEgBISAEBACQkAICAEhIASEgBAQAg8UARGQDxRunaw2BFAVom6EQMKFmVd14zcILpSOyYhB9uH32rapfuz4v6PzQKolM7bhd8qTyCDIUD2ifiReJNv17QuZFu+InGjPtvkdROtBI1pPW/IgFKSRgRN1Pn/+QigsPOwsoWkkwynbbtPmLaG0vDLa9J539hmTMzpMtzig3Xr08GN0NWWpyUurtutkCkmZEBACQkAICAEhIASEgBAQAkJACAgBIdB6ERAB2XrbpkOWDAISEqt79+5O1PUw0qm6EecRRSNEHr8nI/8iApNj1dcgvnCh5jzxGa6rH4dtKAfxJpPZwIEDXQl5+PBhLyvEHPu1R6swRerOXbvCIXNdhxyGeIw3COHzpkiNJJBl5RXhxs094djxk/GbVX2mre/cuhkmTZwQunaHgKz66asPfo57z/PVj/okBISAEBACQkAICAEhIASEgBAQAkJACLQ0AiIgW7oFdP57EEBNSPxGSD8yRici6khIQwbq0aNHeyZsFJPxKkVIK0hHXLhHjBiRUEV5z0kT/AEByXnYnxexIK9evVpFqPE754FcJM4jGa+TGW7Y1IX9IUvbMwFJ/c6ePesq1kQEJN9BQkY84o0bN10ViSt2IutiGJ+/cN4w+yr+ZqLt9J0QEAJCQAgIASEgBISAEBACQkAICAEh0HoREAHZetumQ5aMZCQkoYGwS6ZcJIs0hN/8+fM9VuSaNWuqYghCDLIvsSOJyTh+/PgaFYw1gQz5SRbrWbNmBdSLBQUFTp6h6oN8hFicMmVKmD17dhgzZkzSQ1FeyEyIR+oX75qcdKc2+gOErGNucRvvxCXtiapD2xab2/XBgwcDaWLSLIkMyXsGDU6LNrnnHQIyJ2eMJe75Kgv6PRvoDyEgBISAEBACQkAICAEhIASEgBAQAkKg1SMgArLVN1HHKiDkHAo5yMdE6kfQgPyDZJwzZ46Dk5aW5oQWCkOIviFDhjhxuHjxYicq2b6hBtHJcTCyYVdUVLjaEoUmvz3yyCNejpSUlKSngBTlhUFeVndLTrpjG/wB7GcbYTsuPz98GRcDMqpKueG3Zds2jxPJd8OHZYa5c2eH3Lxx0Sb3vMdUpqmhm7tfR7rJezbRH0JACAgBISAEhIAQEAJCQAgIASEgBIRAK0dABGQrb6COVrxIJUhsx5qIQ8hJlHOoCyG9UCeSfRnikr/z8vLcRbu+2a+r443KcezYsU544mpdVlbmBCnfc37UfriDQ3wms4h85Pf2TD5Svz5GzPYwPBK5X/N7b4uXefT4CdJbeyIasltDQubm5vLzfQZ2tHGXLhqq7gNHXwgBISAEhIAQEAJCQAgIASEgBISAEGgjCGhV30YaqqMUE4IOEhLyMZ64S1R/VIiQgiggIQmJPwhZRVKYQYMG+efajpHouPHfxRR4Az2OJETjxYsX3Y0agjQ1NdXPxTllMQQghpMpV9miV89e95C1Xbt2MXK3h7uzC0MhIASEgBAQAkJACAgBISAEhIAQEAJCoH0iIOakfbZrh6kV5B8qx8YqHWsDDIXj0KFD/VXbtvo9OQJ3ghHMnrU6tk3MJT359vpFCAgBISAEhIAQEAJCQAgIASEgBISAEGj7CDQ8OF7br7tqIASEgBAQAkJACAgBISAEhIAQEAJCQAgIASEgBIRAMyMgArKZAdbhhYAQqI7Alx7/sfq3+lsICAEhIASEgBAQAkJACAgBISAEhIAQaJ8IyAW7fbaraiUEWicCxj2aF7YnoekU54rdOgurUgkBISAEhIAQqBsCsZAiX1qyuTpsb3nY7P8ak+3V4SjaRAhY0r874cKFi6Go+HS4cfNmSE0ZELKGZ4SuFpM7Pg569f7ZuXOne36Ph/LOHfpxrCOTM7BTJ+Kyx2+hz60RAWLoe7PdHV86EU+/NRZUZWo1CNy2PnP92nXPv9DF4vKTzLWzXezxY0djCssocuf2bR+bbt267YfqbmHNunXrqvtfY4Bt4/uKgGzjDajiC4G2hcCXdsPpFHpwg7OCE8OzqW5ybQsHlVYICAEhIATaCwIQNjdv3QwXLl6yRHWxRVZNdeO+xyKvR4/unriN5G0QRizKZEKgPgiQgHHH7n3hjd+9H86cPRdmz5gS/vi73zQisr/3qehY14xkuHL1mhMB9L++ffpYEsDu92zDtrdu3bLtroer1645KcF8rY8lfezevZtIyAjMVvp+7vzFcP3GDZ9Xd+3SOQwY0D90U6LMVtpaLVMsHizctGv81s1b/n7VxoXTZeXhxvUblhC0dxg8MDX06tXT7030HZKxNsRuGenIOXgocvnylVB57ny4ZO+cf+CAASHFxqfedp5uNq5ASGot2BCU2+4+mum03bZTyYVAm0OAzOWjsrPDY48+GlBAjh+fb9nEB7W5eqjAQkAICAEhIAQiBC5euhR27T0Q/v4fXw/Hi4qjr2t8h3BMMYJgeGZGGJc3OkyfOjEsmDvDH8zVuKN+FAJxCJw30hvyce3GreGsLfLLyivCxHF5Ye6sqU4mRJt+vnJdeH/pF2H7rn1OOv7p918Ljy58KGSPGBZt4u/HTpwK73/8RXj/k2Xh4qXLYebUSeE733wxzJ4+2UnIezbWH60GAYidf/+3/2/YtG1X6NmjR8hIHxL+93/3P4WxY0a1mjKqIC2LAH2EBxFf2FiwZsPWcKDgSCg18vGaPcT40h6idTHSuof1nfFjx4TFNjYsmjcrDB+W0aBC79l30MakbWHjlh2hoPBYuG4EJ2pL3OBi974BYWzu6DB/zozw9OOLQv9+fXTvaxDSbXMnEZBts91UaiHQJhHoZ0/cc8eM8Sfv+IkMTE0JAwcNblRdkPfboeKenn3lOtSoA2tnISAEhIAQEAJ1QOC2qT0uGVlz+MjxUHDkWB32MPdrV0D2CIcOHzXycn/YuG1n2L5zb1jyyPyQM2pE6N27V52O0xwboapDGYN6hXL27tWrSq3ZHOfTMRuOAO6Tu/YeNCKhwomE06XlYf/Bw0ZC5t5DQJ47fyEcN3Jx34ECX+iXV1SGG6aWq24QBSiiDho5wT6DB6V6377zJeSBrDUjcPxkrH1RsF2+ctXIpmutubj1LtuNG6jML1a5mUO09uvbp97H6Yg78DDhyLGT4ePPV4aNm40UtPtUxZmz1k+uuNI5wgTFI2MID9L22Tjy/FOPhgn5uXXCGYKT8yxfvSF8tnyNP+woKi4JlWfP33MOzoWy+oSdo/Do8bD3wKHw9ReeMkJyVGx9GBVG7+0WARGQ7bZpVTEh0PoQ4Mla+tChNqEd5DL8Lnajw/WsMdbZYhP16N7DXE0G+GH69esfevVsuYVbY+qifYWAEBACQqDtI8Airpu5lfU0F+tkrmXEa4PkKzXFGoQPC8IDBwvDRXNTe+7JxWHqpHENdn9rDIKU69jJ4rB3/6FQfLrU6zF98oQwZvRIjy/YmGNr36ZHAGIQEiFy/b9jJACu1sSGlAmB9oRA8emy8MkXqzxMAONrXk52eOThue2pis1SFx4qHLQHXe+8/0l498PPQklpmSsSWYP1NbfrAf37+b3mqo0bhBEpP1PprxNGaBNf9pWXng6Txo+tcfwndAPtgwL3N299EDZv3x3KK874/Y/zDLDYtBDjxCQ9f+GSh3jg/sI2KDFRRz756MNhysRxYdDAlGbBQQdtPQiIgGw9baGSCIF2jwALMQjHxpKO8UAxCUlNTQ25ubn+dYrdSNPT0+0ztzmZEBACQkAICIEHiwDqjiFDBocR5r5G7Lzqhmr/pqkLy8rP2GLsoqlGWJBdD4dNDfLzX7/tMbFGjczyOH7V923uv1kIosT8l1/81t16WaD+j//mD81Frm+NC9DmLpeOnxgB5lOp9gAWBeStq7c85l/60DRXrCbeQ98KgbaJAKrcf/+3/5+TV4xL33z5WRGQdWjKEnvAhdv1D3/6K1dJsxbrYwr7gSkpIdvuM7jpE3+YMQR3aQhKiEgSW3EfwLp17RbmzJzqcfwTnZIYjytWbwz/8OOfu6of9Tz3wb59e9u9o5+r+jOGDnGi8+DhI6G4pNRDRvCwpMIIzx+9/htTXlaE7776pbl/z/XttIpLhHT7+E4EZPtoR9VCCHRYBLiJ5thT0GeffdYx6NWzRxhqKstkqpMOC5QqLgSEgBAQAg8EAdxWnzI1x/e+9bWQNnjg/ec0AtKChbiSZ48pDT9Yutxey8K5CxdCmSlCVqxZbzHc0sL3bX+ZEKgJga5duppnSZq5TJ4y5eNVJ7yzs4a523xN++k3ISAE2j8CKKE/+mRFePeDT2OxHu3pV0r//uHJxx4Of/TdV0KWxSDuaesm1kwkp7lirvu/ffcjixe7LOzcs98B+vDTFWF09gh3xe7fv29C0JatXB9++95HTmByHB6MzLC4xt/6xgvhodnT3IXbEyIZq4grfYm5eb9nasy3fr80nDxVYuE+boTPzW3bglGGSRPywiAL0UWiUln7REAt2z7bVbUSAh0GAdQlaYPTzO26p9eZmx6u3jIhIASEgBAQAi2BAAsnYpNlGDE01JSQNVm/vn1DbwsbwsO01994y13jCiyW5Katu8L3XntZD9NqAk+/OeGYb0mMDhQcdjXtACMXcu2hLBltZUJACHRcBHCLPnT4WNi2c4/Ffzzh95JUS3z29ReeDi89u8TdnbnvRIINey7msRq/ZvEY+Y6M6gcOFYYzlWctnuPesHXnuLC4mss7ITuIJbnFXK537TngcYO7m/IRd+rnLH7konmz/QFJ1673htsi2zbZr8kF8IvfvOsk5HmL74k79iefrwrPPvmoXLHbcddtWG71dgyIqiYEhEDbQoBYW8QVSUtL89fAgQNt4q2g1G2rFVVaISAEhMD9CBDUngQvvPjcHo14VzOnTwpPLVnomWt5qFZZeS4cPX4yXDDXbOouEwLJEOhhcUY9Ppu5YeMmP9LUj6huWdzLhIAQ6LgI3Lx5K2zcuiMcMrfqSxZbmJjEM6dNDs88sSjMnjHF4z9G5CMo4fJMvEZcsh9dNC88/NAsBw8iE9fsnbtjikj/8u4/nGPrjt2WsKYgVBhRidv1pHF5Tj4usWMMH5ZuSsZ7yUd2Zd1GoqwXnn7MCdHIUwD3b9SXZRYbOYprG38+fW4fCEgB2T7ascPWIlqcEEuJzwykKOBQH0BMNZXxhIcBOFoEcWzOwbniB++mOp+OIwSEgBAQAkKgoyHAfRz3LYLhEzj/qmVxvWbvGAubXr162CKqhyveY/f59hElCuJoVHZWyLOFHzEhK8+eC6hByEY6Ylim1fv+BVx834jNUW67+gT3NuYqzE2I6wURRazkLl06J52v3LLtr5H12hQv4M9ilTkPBu9LO0Tlis7L8SG/yJAdGQlQmI/hxsd+/I57H4vahhoqnNjxYnM8b39bvNZm9CUyk1M3ykL9UaXWdW545w598abX58aNW3acW7ZA7+SKwximXevsIgh+16/fNHVRjExGncgxaps/0gaxhDIxAp59etu+ZCaPLEZA5nnMUeJ3Tp4w1ts9bpNo0xZ95/HBDbuWaU/qRd3xXIFw5zNkwzXLvs51T/+FtCB2HO+JcIrN/+94n6fPQYRwHdDn6e9RGyXatzYg6C+09027ligvx8aY83P83tb/ovm/J/2x/k6dOH/nzl2sn1kbWZ+vy7mph183di7i5lEX+iyu9dWv39rKnex3P4eVjbEhwp86gj3jajQ+JNu/Kb4HH8Zyr599pj90NTxppx42RvC5Ol7gwLUfrb3IsExdMN7pL4yV8dbJElP27Nnd6ta9xnGHo9y2ctywtqVMYIPRruBCueh7tY0XlIO6MWbyme3ZPxoX+Y7+w3Uc9ZFOnW0cod7NiD3nvWr4rN2wNZyyWI5g28/uMy8+sySMt6zWvU35WJPl544OT5iKcdmqdb4Z2zOOxRvnoN4fm2KRDNuMSsR8hFSca/Eia1P/cw/PHjE8/NkPXrXkNTs88c1Zy5i9btM2T8pGaIlUS14ja38IiIBsf23a5mvEgMarLsZkubKyMhQVFdlN6orfcFDADR8+3G5AsQlCXY5T0zZMKDh2cXFxOHPmjN+oevfu7YlOUN3J3bcm9PSbEBACQkAICIG6IQAJRibNDVt2WCKUfa66IEsmNnjQQM/EPG3yeA+GPzxzaK2LqLqdtXVsRXysoWmDbVEaU66x6L54MUag1VZCsiCfKikLh811u/DoCc+szeJ2lC3ucix7dY6RmwNNacmiN5GdMcXlth17wv6CwnDHzrt73yHLzF3hm0JIbt+13+Y+t83L4Kt4lpQX5d0jC+ZUHfKaLbKPFxWHL1asczJmfP4YjwPWmEUkdVq1dqOTF5R/2pQJYd7s6VXnTPYBQuvTZWs8kzcED5leX3r2iZAyoF+yXaq+98W71eWExVUsNNfFw0dOeMIgCIkci4WWM2pEGDVyuCtWayMoOOgOUw7hynj2/AU/x9NLFoUxo0Y6wVR10gQfyioqw+p1mz0uKO0wxs675JEFRtzFYraxC5gQn42s6ZRpjimbIHNam9229iDT++59Bz3+G0TynBmT7ZrOdsKGBBTEnON3+uPQtEEWP+55d99k2+oGqQP5RLiCQkveRBw5SPKRWdbnDSdeI4Zn1piJvvoxo78hiilPwZGj3m5Hj58yAsfGIHMbhTCZN2daGDJ4kK856PO00clTxeGSkWW4uD7/5GMhJaW/E1jRMZO9+3VuxBp1oJ8dO1Hk7Q35wrnob7Rrih23Ln0t0Xk4B0lF9lsf5EVykZtGqufmjPRreLSND425RhOdM/47rqdSS7i1Y/e+cPRYkV+TfDfExrscuw6mTMz3cBUQd/F2xlx7V6zZ6MQU5Owhy+QMice+EIYkpXn9V2/H72LhLHratTA+jDUCLdXaIJmBCUnAjpjSvNBwx0WZcSLN7jM5o0f49ZmZMdQfWiQ7Bt/TD0+VnA4ffLLcH96QCJM+/fC8WU7IkVzsxMnisH7zdu8jkKi4PbPNuLwcb1uwr06+1nTOuvzG+Hf+3AW/nshqDSE7ZPDg8NCc6X6fqe0YPKxZ/PCcsPSt131THiJFoa6ifSGAqfv6jdtCyelyJ2+py2OPzAtgVxfraoQ+bthzZ07zxDT0Tx5Afm73EJLWzJo+uS6H0TZtDAERkG2swdp7cRmAucFyc6nNzp2ziUdBQdi2bVs4cOCAPem+5AMsGZAnT54cpk+3QdaSkTDoNtS40ZWUlITdu3eHLVu2hLKyMlcI9LWYTVlZWWHevHmefRnSUyYEhIAQEAJCQAg0DAEWgzsthtRny9e6S1fx6VIn4FjkYCTZOFR4NGyzWFQQFUsemR+mGhmZXkuMxYaV5sHvxYIaEoMFK0q7Ht261+hKyzyJbVes2RBW2iKd2FmQDCxwr5lSBSUWmWJRvQw1soREAGDGgr+zKXDiDZfvtRu3uJKF43Kc83fJMuZBu/YeCMdsod7dFI2RQXBef/5GFQHJfutskf3zX78T9h887Iv5rMx0y2j6UPjLP/9+tFu9348YofrmOx+Hi5cv+wK4sykZ60ZA3gqfrVgbdlvZb9mD5GHpQ8Nji+bVSkBWmgIHsuBz2/fIseOGxWXrh7Es5eBGzE4W56h7JpiS6KXnnjDSC6LrfpIsqiz4fWSJHCB+MNRFJIpB4VaTlRsB+cmy1Ua8HPG2fmT+HHeLRPXYBUbMjHkzxM03XnzayRnijqLiam0G4XPYCMilppYi8RKq337WP+mvuIgu/WyVE4pnz593FSSk2JOPLfQHDyEOWkQBkJQQU2vWb7nb5y+Fy0b+cQ15n7c2Gpg6wDP8vvzc495OEHi1GSQvJOabb38YNltMu6K7pCYqLwzcafu3fv9xeHzxw2HRgtmeSXiNqcy2bN/lLqgjhmeEBXNn2nXXp1YCssDqzb5frFzrGYG57i5duuJKM1xU+1o4oQGW9CPT+u7ji+d7v4fYqQ9ZBbHGOT7+bKWfg0RXqApR+FJGiNSZ0yaF5yzmHv25OglYG2Y1/U6bQzwuW7kurN6wxQlE6keyJAx1NHhCtC6aP9uvzywjjaPR6YwRzPR/cGKfSzYGxBTNqJNjbsG/fPO9e4oA6cgYkZkxJCEBicKWBChvv/+J30dQmV+09eNFK5ctPl2NSZn6Wx+aOD4vLLQYhovsIQsPhhLhjnqyqLg0/PrtD1xFPjyDMW+uXaczrZ8esvvZGq/7actEfflyTCnLgwzGER6KMBYstLo/8SgPFnomPMc9FazjHzyUOnbylCsUaQf60JyZU6y/DvB+yXgNScn1xjjDtdOnTy/fjnKgGOe959DYxZeo7tTn2IlTFiqEdrkVhlnfZGxOH2LinDquvWlrzsWDrL0HDjlBftseAPDgiQcRsvaJQM13vvZZZ9WqFSPAAIckm8GSVyJj0GTA379/f1i+fHlYvXp1OHbsmE1YrvukCzLw8OHDTmLOmjUrZGbazezuRC3R8Wr6DsXj1q124/74Y3+/YDduyoXqcfDgwTZBP+9lmTZtWtK4g5RXJgSEgBAQAkJACCRG4LIt8CElPvliVVhqL1SQ3NMxyDgM969zRoqVllfYgumML0RZaPbtM90VJQ29z/vBW/gfFoCQKrix4apHptFhRt6huEIhUt1woyw6ZcoTc1UDr01bd5oSpbT6ZlV/Q44dt8UoSphHjRCcaDG64gmZ6zeuh9KyM6YEOu77oASC6MF4R2kG9hExwPd4mZB8IDJ+J0YYC26IFOY+KH+62GL7u6++5AtuFt71tXNGCEE8QwyhHAKruhjlPmFqzIOopmzedv3aV660ifYHU8qLy+KnVod1m7Za/SrhJBIaLpb0WQi0xQ8/5K7PURyz6juUV5x1JeVRa1/swoVLVfhW3zb+b5RAx08UO3EDwYZqEtKgeqHo+xAZrdnoU+fOX7R+WOSqQghIiNnt1mdIXrHBSF8yw0cGAQdZFPVDsvkyBmw0dfQXRmhBQLJf/D7RvryzliCT7gXrN/R5Yt5BaiYz8KV9Pjcy8J0PPjN1XaG3baLtIXjPGFENcYVCi2sLJWapkUwo4nhocsey+SYyiD8y/m41xfHKtZvCitUbLE7fzio34+r70LYQkYx7qMwgq3Czr00NyfW372Chj5Uff7bCScgIy/hzgNOJohInql772nOuMoeAa6zRXmdNgff+x1+YOnCZqaj3OQHKcZ0gt6amPLTfASsndYPofe3rz/nYhMKa9oe0Jx4u4RSqj0tcR9w74m3QoFQbr2Jrs/jv+czYsfdAgfedjz9fGXi4EZGh1bflb8YdxtWz586H+XNnmGJz0H3EGmEPKPehgqN+LO5bI0cMCzusvu9almcIVM6ZCHvOccD6Gfc7SGFI2DRX1t6rBGW7+hq4cD/BUxCDmGWMgEQvNXU7yu4CS1BTbDEXSTJDvyW0AKpU4hKjqs419TxK3GQGduBDqApskN2vJk/I93G6+kOuZMfge/r4uLE5fs+jP4IV/YGxVdY+Ebh/VtM+66latREEuClB7l28eNGf5CYqNgQg6sc1a9aEjz76KOzcudNuQF/FBUHxeOLECZvA9zeXo4GemKQhKkhu3oWFhWHlypVh6dKl7uYd3UAYLImZguqShCcZGRkhJycnUXF9Eh7tx4SBfWVCQAgIASEgBIRALJYX7sNrzY1r2ar1vtjsbHG8uFdyH44nGPjuli2UcFNE+QeJMdIUM2NysqsUYa0BU8oN6QURgVt5ImMbVDwsFCEjPli6/K5rYnCV4mwjNoj3l2jGgGoH1dQ//uQNJz84DsovSEVURSziOD4LeJQwLNQ5Bwt5FCt//oNvudsj22K9jExj0Txt8gTfD8KxzEheFoC43mWkoyYacI8LHgvZ4UaSRgZBeObsWScKODcGYQQZwAIeNU1DCMjo+M35TluVl1d6G/zqrfeNtDzirujdTYUKGQMZhlqRakEwQDhAGOASetLIGxRQr33tWVNwPeTYa55Xe2tB+G7dsddJYvoHLstczyjw6HOo4oj5GhFtkB0QOT/62W+ceEcdB7mNogtimnk+DyQQKNA29F1U1W/89vfW74tcITnYyCnas3r70F9px4+MqPv7f/qZte9lJwQh7geYyz7vzPkxCB2uKUIWQG5C3HO93DYFWF2Ma4Lr8PU33jbl8gYncCgPajji7JEopFvXbj5+QEBTD8qDIhdVGNcTRBjK7wib6ueF5GTc+dCIP0golKdcw9SD+KGMFzzoAHcUzihsIdsZQ7750jMei7Y6RtXPUdvfYETYgZ+ZizSu0qjaGJ94EdsT1RtK7UorA0Tluo1bnQgbPTIrzJ01zUkw8CAhSjdbG1Je1JtgwJqqiym8IcroJ/HG8VEB9+geJ5u1DYg/CeH967c+CL9772PHgL4GaTbgbr/jcRdKPrADG8g1MNxn/Q7i/xFzSR5mCkeDMKkRU5IHH2/87n0nIM+ZUIV+B7lHH6LsjMvUJ9Z/KrxtIb/BBMUlbdVYu4Q60fo9rusYYxjkLOQjrvDEbVy+aoOpdivvI0fpXwssAc2zTzwS5s+Z4Spk+mX1PgGmHI/wChjXFmEPuP/U17i/cC1zn6C/Q4rSh7g2q5+3vsfW9q0Pgfr3kNZXB5WoHSEAAUl8xdLSUr/JJxp4mFwcP348rFu3Luzatese8hEomBzgKr127dowfvz4MHHiRCci6wMT5+WmvGfPHnfxJsZkRCJyHH7nPPv27QubN28OkyZNSkpAUl6ORd24+SSbMNSnfNpWCAgBISAEhEB7QID76c49+8JGU0CxUMaSqYfYNiIkiXWIGioWRysrdOne8EQnftIm/IcFPvH+UEZF7pvVD8/cAFfADZt3WAy5Ta4QQoVCnK7FD88N33jp6YTkI8dZbqqpX7z5e48bhwKnj82biHv2teef9MyiqFggeMCIhf1H5n7JYpTF/jvmekimZJIF4HKJjTGly1/9938S/u1f/MDnK+999Hn4+W/e8bL1tIXrt7/xQnjeEgvkGtEbGWvwiJThOxbNuDmTYAVlmDWVJ2IgrmWWJdJpreQjZT9vyrxtO/eG//rP/+oLcghJyBrcXR8z9RxxJyE1ICEgU1ZZzD8IXQhXCKUPP11m9b3jLpsQQw1ZgFOOjmSQMGTP5VqH1JlvbstPmcs18Q4hwiAUhw4ZZO0QSziEEu7v/stPPFkF5CP9aWBKiinmnjfCaqrvh1trUXFJ2Lxtt7v9rrDYoczdSXCBe2mWuUfjxl7dzZht1piL8L9a+IDzRnIxztC3RxkZ9sIzj9kYM6aKbC80t/wNm3aYepGwB4VG8J2wsnQzguveBB3J2rLYSK3/+qOfG/mzzt2TIVcguh9dOC/w0GFs7ii/liAaIYqWGUlEDFTGFIitz1eucULrj7/7ipNKic4DSQ4OZBSG0Jk4bmz45svPhvGmMgNX1JT039+YqzmuwaxRCDMAWYuCDfVbbeEBEp03/rvjpiZ+y8YaysxYxPiAe+7Lzz8RJlvs2AEmEuHckIG/ffdjJ2Up89/9w0/C3/0f/6uTi4xL//d/+GtvQ9oE5euf/dt/59cc5OTTjy/y3+PPG8MzlkAm/nvGYtzQ3/r90ipSbsTwYa46JCYrYyLrM4jYfRZCggcRxCMEl8MWn/M///B1VxESlxCiMJlBepNIZZWN6TwsmzxxnLsXT7cxhHGQB04cj/Hmg6XLbEw+533nsPWrf/jxL50QRXXYWNINcpf7iyumrbC4RHexB3v/bAQ+fY97A+2OqrS6VZhSFOXqVgtDQDbsv/jBa0ZKj77vurluRG251ZfxEuOBFiRnQ9e5fY3AhIjk/oGiHlUy97fWGNO2Omb6u34IiICsH17aupkRQP2Ympoa9u7da0FoiVFiT7mMuIs3FJAQjBUVFfaUM/Z0JP53PrNfeXm5b4c6sr4xGrnRRUQmSW44XiJjG85z+nQsrk+ibSgjkwGIVerX0IE50bH1nRAQAkJACAiBtoqA32uNiNu7/7C7oSVaDCWrG/uiBCTO1rNPLfYFc2MXbcnOVd/vUW98YYolYiEmW8h/iUrJ5gYQDSioIFaHWuysP/neN015stjjP1Y/L3ORPVZfSEvUdywdSc6D+o59IA5QkaFOZFvIsPzcHE80EbkDoojBJZN4XSTqgGhDcdbFFo89LdgeREfsu9jcC6IRwgaVWU2umRA2DxnB8Bd/9G13cbxjLphkW33ysYedkKtJNVS9ng/yb/rRHnN/f8MIB+KhsZhG2UldcAfNysyweekAxwSSEdJ2jhFeG7fsNALnA1dkoVTDhf7nv3k3/Nn3X3Py5EHWoa2eC6xRu6G0enzxAk+OAbEUZUQm/ACKPcjH9Zu2G5G408liSO4ZUyaGv/jDb7lazxVm7GfKK1xNs4ZlWJ/P88Q8KA1pV66b377zkZNfuMrHry22GNGy2WI4lpgrLP0BVRz99vmnYnERiftO4h8s2wjS6aYUJnHKh58u92QZnbvEMmDX1g6oxTZv2+WKN0hUEghBbr5q1+9si88HyY27NVmcRwy/5eq+8WPH+EOWX1jfihSAKDVR43G9o6xLZFz/qAFfthilvEh60t8IHtYgJFnJz4uNC6+/8ZZnHeaBCOWDGMu1bUkg1RiDQILIY4wjjMYUIzb/uz/9rtVpmKs9UXlS9u9880V3jSYGIYQkYyYuyRCxhDmIrx9kamSMJ4w5NY1J0ba4g39kSWLW2sMYyFAM8vKZxxeHh+xaJp4rKnDGOtoANfg4wx2y8lNzoYa8PGqq+5VGKmakp4Xp1veSGaQe61TuRa+aSztxTOkrKGl79+zlCkuS/8y2BEzTJo8zAnapxQ/dbWtOkuwc8X5O/yWJTmOMawsFYbR+Jaby0mWrfNwqsc+9jZAfNSLL3ayHWp25H6F6P2b15CELinYIzE8txEdPIy95IEZm63ijbSFcI5KT+wZhQ1AiN8T6Wd/n+iX5F4pZQnlcMI9IHjTI2hcCIiDbV3u2+dpA0A0ZMsRdKCAOeYKDi3O8MTlgQI1e8b/Ff+YGUNs28dtX/8x5omNU/y36O74s0XfV3yEwcdWGBBUBWR0d/S0EhIAQEAIdFQHuoSxeDtjCC1VOfY2YXvsPHfb4VRyrtRCQuPBBmvCqq0EaQvKhxEEBkyiIPwtpEqtst0Q8qERYkD+1ZKERJY/5grZ6uBnc7iAoyfwMSVZsru679x/0eHUsemdOm+jKybqWsabtIIpQLH3t+aecwIBMHnF3IQ1Z0FoNRdoWU4Nt3LLdyVcIDeIFovok3h7kK3WLDHKKBBdky0WF96PXf+2ZvzkOZAXq1R498lzFF+2j9/sRgAiDLF+8YG54xsjzmmJYQkoRHxZ1GjZz/GTrZ0+EJZaYBdIj/sE+pB7uzMR/hIArKDTForUt+6L6I7kMpBPXRWQoWrcb8QahgpFA5AVT/C4ytSRljDf+dqLQ+gkkDyENIG1uW3+vzSDkiAkI0YmRRf5pI19ffHaJX/OUvcp6Ba8HhAyK0EOWiIUyopiDECOzOn0xnqCr2tc+MBaSDOcZI9pQHjK+RNYv9DF8Uj3TOGMUD0BwT4acQ9HJd40lICE0SWQVEWAkwyIGJ262UXsxPhHXFJy5DxBzEetiyZ5uWJZuGw4bbYzFqP1ILIU7Oio9FLeMmSSlig8jwcn4nRi8tDHZ0MEEt23GT5Ie4fI9xdTmPLRJZNyHGMfzckZ7Yh9iR0KQx5u7iZsiFLLOwzmY4AbiF3d7lLgQy40mIA1PQhFE+BMqYN1GslWXhVxza59jYxzJh6g/WagpN67wp001S0xSvAsgInFD/3T5au+fJNgZPuyrsBtgA5EOWYjRx6hbMmziMUj0mYcP/ft9teZHLUoSMBGQidBq29+JgGzb7dfuSk9QczJX82SShC+8qhOQ/IZKkheqQojK6saNF8KPbThmfY39ebLG/sSS5JyQkdWNyX6KPZlJprBk4MedHAJy2DAyHibOolb9uPpbCAgBISAEhEBHQACiCkUGbrD1Mlvvo5BggQQxV/vyv15Hb9TGLLAhEFnMxpNX1Q9KmfGkwB2VuG28o6RDnUjWVRZzkbFAhCAh9iULadReLGBfsezHkywpRXXyMdqPdxQ+c2dPCyeNWICw5eEuCkoIGVy3m8ogZ1Ce8WorRpIaMEfJg6EKJWkJ5EQyV0vmcpApKE+3mLsvi+RyS1oIpiRGyTRyAdJIlhwByFvIdpK45OWMSrqhP6AwIgT1GoYqbp6pJp95/BH/nGxH3DkhNSH3cEUmARMvXKdpYwhIrimuvy3mCg5JxVwfdeXTduzZM6beRz7Gn4tYd/PmzHBi8Fe/ez/ctHl+TcYaghiWqyzxDMbYgOrxuScf8bh5yfblmppoRCWEKzEPIQdTjGDlGkZtl8yoCy7tXN/x5GO0PUlCGF8WGEFGTEoISIyHOoQWaKxxfghG1lO42aMKp/4TxubGFJCmbo1s1vRJrhA8ZXXDSMDVUBIrOmb0DsEXkY/EFiQkBBmXiW1YnXyM9uGd8tM3wWOlJTyibJR/996DrixErUfdEhmE3ovmuj9j6oT7yMdoe+4RHuLBxhnOsWd/gYtvdtr4QVu8eusZH+Oj7ev7DilIjMbIq4AHVlevXTVidUh4zgj/F5993JMZJTrutMnj/fq4auQtYVG4Nlav3+xjXjwByRoXRT3XEUadYor/xLgkOlf8d4wJhDOIjGsfN3ZZ+0Pgq6u//dVNNWqDCDCBTktL8wzTJKLBtZkEL/HGxG/kyJFh3Lhx4eDBg57xOv53bghMzCdMmBByc+1GN2BA/M91+swxKEteXp7HdsQlHBIxGmSjg6DWzM/PD2PGjIm+qnpnW9zIi4uLfaJAWWpaIFTtqA9CQAgIASEgBIRAm0UAd00W0Tmm7kGhlciYI+DSe9KyWZ88VeyLUNzk/sHiw5GQ4E+//2pY8sj8ql1Z6FVWnvPtSMgx0NyCUSnhWoniqzYjnt2Ch2aE//bjXwRb6bpyhcQbHd3IJl5iytDIcAWeY66GycjHaDsICuLYvfDMknDa1Lvl62OuiAWmVMNVEYJKlhwB5vLEb4VUqyljLsQJ6kWSgmAo0FCHZRhJX5tBgD26cG5432LtQbZDNhYeOeGJktiXmKsQz+dM+QW539+uoykTxpnL7DhXB9Z2fEho4q7+3mKmUs6ajKQjxNbDzRUjHuDMqZM85mJN+/Ebqtxvf+P58C0LCQDVA73DOqWTET6JLHoAgtKNhCI1GeMCr8jIbE8Mw8YaZea4JKJBhYgL/D/+6Bfhu6+97Gptsj1HBhHNK1pjed2SkHvRPnV9JwQWSaUgHzHCKRDPFvVobYbCnHIxHnxk7vYoFEkqw3jR28Z2CLNEhov/a9ZeQ+LqmGg7vpuQn+fHf8tcsU+Xk/nZ+rt5zpExnjGetmyQWUdx9WOMG/RDECv4JSMeX3rucYsLmvwhEe75EN7s///8/Q99XxTzhAihv0fGmpYyMhZiPEDD9Z6HBJ0tSVB9DZVpvKiIuK11cbGv73m0fcsjIAKy5dtAJYhDgIGWOByQh0ePHg0FBQWeSIZBjhsSxkA3ePDgsGTJEp9MrFixwjNUI/fnNxSJZKR+8sknnRxsKOnH+SAXH330Uc/KTbZtFJk8ccSVmjIsWrQoLFy4MAwffm8WNsrJ007qwD6UafTo0Y16msUxZUJACAgBISAE2hMCKF0g6k6cLHGiIVqE1lZH7tGQF6inWAg2THNR21ka9nuKuRnOmz3DYwgOtjImM9aGLJBPWMKGdZu2eeZUMqPi/sbcBYIj0xK7oJa6dvV6OGaul1EMs5umDim1zM0//Okbtki710000fnu2Jyk2JRgnW2exFyLhTSx1jq6QQhVmDorMggu3C/rYpCUxKpLu+tiybzv5KmScMGIClnNCBDnEaUv7qo1WWlZRRX5yHaQ758uX2NuyMU17Rb7zUh+YpriIk3GbAjHYyfJiH3Ff4eQPGEENImEsN5GOOWNyTYCpW6eUxAt9BUeAKAa5PjJDNdXXJ0xxi6yPUNQRWubZPtF39eHiMKVG4KPWJK17UfZCdEQWSzr9tXozwa/j8jKdBIL4irKuL1u87ZwxNSWKLJxgx4FmZw32pV4JKmJj/HY4BNX2/H6DUtceuKUl4GfIJuJgbve3JHrkiyq3MYH9qcfYajuucaJBdo13E+yMVbj/o/bdbL4v36gu/8whqBEHWVu17gzo/q7ZOMHyn7apbb2iz9W/OdYhu8U7/d8z/2Ee8mLzzzusR9r6nf8xjiIOva9D0dZTMYSL1OZPWihD0PUc/3yoI22jJLEoMpFzUnsYVutxxenTp9Rq0K8Yp0tYU5/u6/V5eFanQ6ujVoVAiIgW1VzqDAMejwVhfg7efKkE4tkvM7Ozq5SDzIY41ZN5mmezkDuHThwwNWGDLCoEvltzpw5IT09vcGDN62BO/js2bO9YXChJvkNRCdu4VlZpiZYsMCzbPfr99XNm42ZhKLghLT0gdzKP2jQoKqnRH5A/SMEhIAQEAJCoAMj4Pd881ggEcO+A4fdjbWucJC0BaUJSRpwV+ZYrcUgACAe83KyfYFWW7mI+QVhQNbPT76wGHFGFO7csz98tnytx6JjcQ5JQuw3khVgZCAlayyZXZMpcaqfF5c85jCQvBANuA0zX2Fe1Zrwq17u5vwbAhL3UDBgQY0yqq6qG/aBSEEJyYKZmICQExAIspoRQPWIezFz/pqs1BSKxKaLDAJkk8Wo27v/UPRVre+njcSkz0MikbiK6yxyHy2y9kKhh+GqjOItkctyopNAHkFWMg6hXq6RgLTzkoU+Mtxv40MsRN83xXsnw5Y61MWNGZIsvg3A6Nbt5ERqXcsHcTTNkvWg3IQwRgl5xhTcvAqOHPe2h4Alnmq2YU7SF1x/Z0yd6GulphqPUI7zgAd1HUZylRWrN7h6tC53jBtGKuMBF7UtJBnxXgn7kchQGTKGEIKjrnUgXAOuzTt27/VDXrxk57D+RAgBuz02yGh/SNCIHOQckKYQiygLazMeDNBH8+3ezAOaM5XXnHzlIZiXy8h31P2QjdH9B5dt1MrJsKntnE5AmmgH3AiFQJlZ18vaHwIN7NbtDwjVqPUggIpxxIgRTv4VFhaG7du3V8VZjJ5WMThBLjIw8Y7SkGzT/I0ycdSoUf49asrGGPujXIRg5JhkvI4IyMzMTP8OAjSSn3MuJjmUBeL00KFDTlTift2QWJSNKbv2FQJCQAgIASHQmhHgXs59nZiBLL6OnTjpxJg5Fxq9GOc7FleJ6DcWSLj4kWG0e7e6L/biDtVqPrJYn2z1gDggJqGr8mwh9/ulX3icOQhIiAEWzxCGGAQKxMnZL8/7fnWtzABLsBAZ2HMciLSOaiRquGLkLn2ROWRPW7hHc83aMGEfFskQ4EhwI2IX0kNWGwIxwUFtJBlqxYgg5IgQQajQItVibWfhdwgSXEVjZiOItRujC0QJx0J1hjGX79e3dxVp41/W8g/XDvEm40m8RLuQUCNKcsPvkEB1JToTHa/5vjNkEg+99TplNxtbIKfIcp1qinBiCKJEZQyDaAKPAwWFlim7wMl7j7266CHkoe6aDzndFMZ4ed4EIZGCkYcE8URwXc8R9R/uO5CSyUBCeUgylfoYJHA/G0cY/zHGj0tGQjKeNNTcU8/inEbrU8YpkoJRPvp/XYwHMrTLFssQj3HNFRWddvUu6l/Unrhld+0So5No11PFpf4gpi7Hj98G9236BvF0KR94k6m7pvAM8fvrc9tCQARk22qvDlFaBh4Iv/Hjx5tU/lzYuHGjk3jEfITsiwZObvqQjSSAQTGJKwUDLYNubROB+gBJohsIURSQyMuZrDM5hZyMyhJ/PH4n8cyGDRtclUm8yuzs7PhN9FkICAEhIASEgBAwBOyW7+Tb3CPT3NVrx+59xuXEEhdUX4Bxz0VpBjlJxuW5ls12qqlmokVWWwaUBeJDllwDhQrqLhSKGzbvsEXZBV+IsqAn+URUVxa5o0eOCCOyWFTWXyXCEpRYesxnEs1l2jKWVWWvw/odHHG9hYiEFEFhWldS1h84m0swbvE+N7Q5KMQJCth4o4/TpyNLRq5Hv0fvse3qunW0V/t6R1EG0REZSTRGjhjm4Rei7+r6HmuBTp6IhORQKBgHWHtFCi7IKtznIanqarQ7ZBHihJqsrxGb8S7G9DXCL7RnY6zKMtLrz//wW+EbLz5lZGNh2LQtpl5F8X70eJFdO9f9oUrBkWMWUqIi7D94JPyf/9v/bMlzxjXJuEQZ+tuaktiWhNBKMbXywnkz7dgNe+gSxauMxuHq7cf4wVjC0PPVFV99q3v/hlRnvP/SEpFhkIT9+hkhycDRQONBStpgU0Aa+Y5BdqO4rc/DJu4NAy0Za/RA5vatO1XqYY5Jf45XQBL/kXibtV0L7FvdiH9J7EvW2WCbZuQp176sfSIgArJ9tmu7qBXE3XmLUVRRURHWrl3rE3BiQ0JCxhuDKaRjNAGvz+Aaf5yaPnMTYECMFJX8nejGwOTl2LFjrtrkfebMmZ6gJtqvpnPoNyEgBISAEBACHQ0B7qW4ipGV9PLlq65wIvNmpHCKiBtov53p2AAAQABJREFUGAifbt27mipjpGWqXRwefmiWL1Tak0qCeIIoIlGD8GCVmFi4D7LYI64ai1MMwnLCuNzwh3/wDYslN7BB3QbPjERzmQYdrJl2ihFFFuPT1uLEvUStRj+ordxsAzFYG5lEVtzBhh8ZklFJ4W6IKq4u7rFkLi+2hBRsjzFPhHCp7sINeRwRAWwHSREpsvg7mUFuoZqjLh3VhqYNMgXdV9ngh2UODV+3RBgL589qMCTpptqi/7BuyBqeUeWhRH8psnh3XHd1sVgfuxmIU4n7aU1GZvRIRcd2xF+N4t3VtF97+Y0xDVJxjCnqiAlJUhhw27F7f3j3w8+cuMI1HiX82g1b/PobZS7DjbUe9jBgpI2bhLUgfmha2sDwJ9971e8b0Vhan3PQZxI9ZIiOQb3Kjez80q5dGxCir2t8h4wm5mOkxCXDNqEdIMgbaigUh2dmBMYeDJL8pGXyro97PQT5cVOtok7ECDeQPYJ7UOyBF/egHAsfglCHtTftuXbDNquLJemxBzvJErD5weL+4TpauWZTOFRw1L/lWKMs/vFAU87K2icCIiDbZ7u2i1qhgsT9mViKZKHet2+fP2FGGZlqT2Tiicb4z81VeSYryZ54MXgyYTl8+LCXtaSkxMs+efJkj0mZbL/mKquOKwSEgBAQAkKgrSCAYgxXryceXeCLu41bd4TCoyc8Q20UT4+YUEOMjCAxy+wZUyzT8LSQmzOyipBrK3WtrZy4m1a58BrvxPyGbLeowMiszKIOUpbtPOC/EWjE9qqNkOMBqbtsWzw9yFxPImALytZukKS4cKKuQcFEllgyIvNdsjpD8KF4gnCg3jXNwehTg+9mxGUuR7beSePHhulTJtQKDYv5zeaeiNshxnloo36mqou3/ub2Hk9KUjbqUxPJecfKgpLqdFl5uOUun/FH7DifaZ/UAbG2pn2IIYjLKuEXapv7sz1qrPMXLjmRS3/BXb6r7Y8x7gy3bNS4mmIQQTv2HPD+VVu/YftKyxa970CB98nbd924+T6RDTGPrdS7IZs49qHDxzymK21cm8su2xOntMTiSOLmCqlE3EncX+uaMCdRmZrrOwgrYnWSeAcj8zRxESHuousAcn3M6GxXfEOy37a/9+w76GT+voOH7fqbaG3ceAKym7X3iKxhYdfeA4H84yTjunLlWkgfn+ZjiBewhn8o23l7CMQDA/oTD4LIrm6DT8K9UDPSVnutX/CgrLYkS+62bOQj97ubt276mAZOhN2orX8nLMDdL1HckqCNOI6Uh3HzyLGTVhcbd0wFWluCHNqD62aPqfEv2zjKPYe+BpYecsLOg6qSchK3k+NDQJ4qOR1Wr9tkbd3H46nWVEZ+ox8wTq+zpECUj2uU63He7On+wK22/fV720RABGTbbLcOUWomcmlpaWHq1KlO7qEohIhksMrLy3MlJMrHxgzQTQEkkxtIUtyut27d6olqIEhnzJjhrttSPzYFyjqGEBACQkAItGcEUMhMyM9190jcqw8VHg0nTY3EIh9DBTXc1GVkqWU7FuB1VVi0BdyihStKnYsWBwuCkNhyqExYLDLXGWxuaemWdZeFGgvXAsOImJFk3Y5XiSWqL2Qli2IIE5R7EDv5eTme+KH69iwC48k9VIQQYnUxV+0ZOcr2EDwNURnFn4f6k2n1+MkiV8eiOISgYIEaX8b4fSD3tu7c42QG5amJgEQdNTwzlrCQbTdv2+W45I0Z5djHHzf+MyRnaWlFWLV2k4UOOOXt06tXD8+KXb0tBtmcEBItMmLfkcUZd85kdSCZAzHzzuA6avh3VCPj7hBrf0hiVKokXqLPF5maC7K3JoPIx9WXPg/pC2HC2DLFlHi4eOJaipsqYwlEEcq8Q+ZCyj4o0LjWkhl9hXb/fMVaz6pdm6N8PyNkyJiN+hKShnrs2nswHLDzTZs0Pmk/gPRCGbhm49aw09SCqOsIxbBk8XxXSrdKAtIEGYcKj4UPli5z+EhaMmv6ZA+1EeHJeAbmXGeL5s8OhZaYBgISI2nQOQs9cZ8Z5xddL4xhdyyGJ/hE3923vX0BYcj9YtXajU6ioTr9bMUaf2gD0VfT2IAiFmJw3Yat4aoRkRhhK1Deu7IwAQlJv4Dw+8iSg33r688ZaZeZtHwMqYePHjfSe78nR7p957ap/lJ8vEutp7u0Fy7uH+6NqIWnWt8qOV3u/e1kUbGNb7vdtRnisCYrt+RPe/cX+H34ml0XsQeAdh3evW7YF+wGWKbuxx+Z72Q6BCQK0KWfr3IlOPf0Gh+yGFbc37fZWE3SNa5vyHiI2xnTJvm1UlMZ9VvbRUAEZNttuw5RcghGkszMnz/fJ3f79+8Pq1atctds3LHJUs3T8egGUtNNqCkB44bHi6eSlRazIkqWg/IxOzs7TJ8+3bNjU64HVaamrJ+OJQSEgBAQAkLgQSMAQcCiiRdqSFQYEHMYC77GuKQ96LrU53w+lzDF0PLVG0OhkYsk3oB8zDWFEEljokymxPWaOW2yE7OQWCzU3/voM1cWzZo+KWH8a+YqEDFbd+wJP/rXN8OyVev8Qe6Ch2aG77328n0EJLoeFGLRw12IRLKyQrjFG8fF4uc4KBRxRz5hC13cCXGth8RpDFEMSQBBuGV7zB3xYMERzxQ+eUK+L4qrJzGhvxw14u7Ndz92JVt8mRN9JgP7eCMoWPiigNu2c6+TE2TkHZ8/xhMcVXfxp27Eq1trpBAvlGnMRYfaQ3OUW2T3jTcIroGWFT2y9Zu2e+Z3lEOQMPEYsg0PtrdZe61at7lOrtrRcdvjO31/tKkdyagMcUT/2rBlh6vjvv3KC05yR301vv60UYWR7r988z0jg1Y4QUI7/ODbX3dlFQQk7UrfhKDab1maydR8/sJFJ48gWh5d+FDobtdcda0bJNN5K8dOU0u+99HnTlzGnzvRZ9o4NyfblNtTwzsffuJtvH7TViObBoVcI1wQKzC+xfcFrjFIMNxzf/qLt5youWDlwz31Ybt+716CiU7Xot9RLsJo/NNP3/CxZtb0KR4TkessPhRBVEjI3rS4a4ZrmDGxuhH/lxj/nSxOIGPNNVNaMi7xkKM6btHfPMCYP2d6ePeDT+2BzTEPsfCbdz6y72b6dZpiBFqi/sP5IdQ+/nxl+Nv/9N+8vWij71ifW2gEZE1GErE3fvu+jdWTnDhnbInKw36MnPQh1K/LV22wMXm93eti9c0fm+MkZ7Surek8tf1GJu4li+Z5vz55qjicOXs2vP7GWx4KAFVqokzdUZ9D2c29BTIVgyieaCE/IvVjdG6O8biR4avXbwk7du2zcCHXw0p7KMPDgQFGos6ZOcWv0fj6sy8EMg/RUKb+x//8Y3/YAuaEXHj68UVhmBGkjX14FZVR7/8/e3ceLGd15nn+dQE2NpjVLBISSAgEQmZHILPv++LdVeWqmuroqqmZmJqYnu7oiOmYnoia6I75Y6L/6JiOmq0rJqaqYlwL3jDG7KsxIDaZfQexSKxCYjVgbM/7OdSRkyTz6t68S96b93ci8ubNzPc95zzf57wn8/ze55wz+whEgJx9PkmNugjohG00Q9TboV0X49FHH20IkSIObQyzePHixo7UO+64Y/li6vVF0pXlwC91zL70ftGGi29qO/Lnn3++ee6550pdTMEWrWmKuE1rIj4OjDknhkAIhEAIhEBDXPpUO7iUugcwo4JHdNvT655rrr/ptjI4XPfs88U0A+MzTj2+jSD5beTcNu1uo1+/+JwipjzVnkOcuOKam9Ap09hOPfG4ZptWqK2CiUGeKYRXtgLM9350Vbupzb3twO9XRez44orlJYqwmyPOC9ooLRFbEjHMeaeeeGzZcbweL1/T8jo3CCFy/uMPf9IKqXc0pqSKFjr/rFObP/721+ppE34mYB7dToe+4uobylpkxE2CkvX0vnzB2WV9t/q7z++z2+9a21zaio8ingi5W0umcq9qhYILzj61rEVn+ihBYFM7Vf2Pf/+rZRdya2zW9mfnZNE6P776xubSVsggAkuWBviDb11SxNLugbPlBZa0mwsR0/hbBJzosE+3Qu8ffOvLZVpqFRwMwm+6dU3zD9//SXNTK0gnNc2Rrf+/ctHZza133F3a8/2t8Cf6jTh+wdmnFdGitgG8iFKifX9w+dXt9XFjiS4TjSuS9pwzTi7tu5PreW0bfa6NSCVu+51/U9t2tHu7JX/t4nOLEGItUslNET7/zqWXFVFrY3vjgJg0niTScfMFb7bC8p1lCv6659c332/ruKmNAvvnf/jNEp3ZeT0RaETk/t13L2/b3MPtjYB32unMu7SC6fI2ivOQEgE5nnJn+hjTf/dsl4YgxNtYRAQqm48+YmW7bu3yIkjVOmF3R3vN8ldNi/fZuxE13J1EGPvsiafeK+1g/UsvlRsr2kedRl+EvTZir+5m71oUaXzayaubV9u6aDtE3L/8q79tl/h4rbngnNNKtF5nWa7Rx9so27//3o/b6/yG0ha0C/0QUVFwTO0POs+r/3/Q9iEvtILff/jf/nPze1+/qLRRN2NqMl58uV1a4T//9T8219xwa/N0G2UpP+LqGa1gePLxYwucNZ+tPYucJwBedf0t7Q2cB8rYdW0rEv7lX/1/ZQ3Si887oywLUG+wVHb6T+tyWgpFEil8/HFHNxece/oninTdiXLUh7opxpfE1MuuvK5ENIq8P7P9HtuxHb933kAU7fiT9tr8x7YP1batoaoPXNwuiWCN17EiJz9Ribwx5whEgJxzLpufFdb57bnnnqVzsjbks88+W3bIXtdOyyZEEihtTkOEdIeq3CFrO3Mdui+NySZ5+FHoS+Ptdp2LN9upAQRIzzps5YvUPOCAA0pUJqF0rC+nydYn54dACIRACITAfCBQB/5zyVZrFN7WRrlZN8zAq1cyZdNvC9OtrfNnWvWT7TREouLubbSciK9Lzj+zjaD5beScgaI1uE5cfUxDqBR9Z621m269oxF1c2sbhbLXXl8oa3z55aMeL6x/sURqEVcIGNIZbWSXaY+9ppgaUBrkm/Lqtxch0TREIog6igx7p83nhTYqa2UbIfj1S84reZomar2wq6//aYlmYZvyRfh9+cKzSkRnjeQsJ4zzz57tphFHtZGCKw46oETysIFY9A/fv6Kso7d/uwmCKc/Ks7EHsYN4sG0r1m637afb9z/aQKFfcSKyDlq+f3PhOaeX6EfT/tXbgN0mDNfe+LOyjppIVL/3Xm6nJj7TclDGs+0UXO+JrDu6jXw8txW3rPfY/fsPs0MPWV6iV+/++QNFILNb7N+3NmC7uI0WEulJQNUWiCSPtWsEaj+mMZrWSPicr2n3VnSzgclF557R3PDT29rIxk1txOKTzd/+/Q+aB9ppzKKtCDw7tpthvNEuiWTtQVOAcRSdSkwU5UhMPLCdgt295iKB2BThtQ883DxgHcJWoOL/ze0zUd1Ov4RqiaBCBF97/0Mlb+WKzNvUbppps6ixkunkh65c3vxuOzX3+5df07bXl0s0M4FIvtZyJZLyuXYu8lFUpqnJpg4TaEypNbUXk17RhGOVP1OfuXFEcL+47b/+8QdXlDUU77znvuY//u//b3vT48g2wn1vd5Ram9tr6dkXisjKTn0Pcc/NkXJMV4U/347xDj5wWeFvk7In2mvk//h/vtMc20Z/84+ISNzqOsGmvLsWRdaLZn2+7Qtdu6JoTS8WaflAu+brAfvv2/Z37ZT8VrCzC/MrrS8eaZd5cKNBX6Ne2sBZp53YfGnVkSVytqtqW16KXLfOpTGjNvrX3/l+aUv7tGsxummijiJz9Z/aljbgZo51JU849ujmmLavM01/KlIRB1suZhP4ntDOrLeo7Vqzce19D5fZBtbnrP21PlRk71Pt1PC3Wk6SqN0vtUteEHJ7Je3y+NVHlWvPOU+0157y+NxyGG7oLFzQbsLU1kWdXJOiS/HRj/ruEElpbeevXOim0j6t6P/RRje9yst7c59ABMi578N5Y4EvJVOuCZAEP9GHpjxv3ry5rMH4yit23fpcmQaj49LJTVXSMfth6Mfou+0ddRGQXhM7FyxYsCUKU72In0khEAIhEAIhEALzk4BBsMHrE+00xLF+i/ht4dj32+iPX//mI4GJmEUMEZFnM5RuMUukj6gWA0hTq+t6eC+1gzrRUgbdBuPyNggkYogEbF+2A+BdSlSiQd4xRxzac2q08kyHJPhZL48wYBB5/S23lbXx9mynjBbRtC1PVFoVIA3mX22FIQKesiVRhM+vf6kMsIvo0w5UJ5p2aH/XHdBOUSUQimwj3BlEE4pMVzeVdrdd/0mAbNeHxMT6Zhe20ToiCAl6W1ufj0B4XDvI/tpF57bTB9cUptj99Pa7ynRfA2cROcTGF9v8TJ30fxFaFi9qVq86ojn3zJMLr25/sZfPRH6d3/pU9OMrrYiJqTaCr40iiBZ+Vxqcs9N0XY9nWqHZ5kG/+tXYQupEuc6l40VyEWl/7xsXFV+uaadga9f3tGLuo48/XQRg143dg3Hlo9fbzWqI+SIfVyxfViIfL2rbhPVSa7RpZYD9Me01J7JR+yEwitAS3WgqvGi+soM10az1nfU5/dY/6MCl5UaB6dvvP/7+VgVIEWDa5je+cn4RXX52xz0lmll5L7TXiahnO7K7folkRBpTwl1PphLrD84/+5TmlDbSuTvKttoyW57dxPhyK0ASmH7eCrvse/W1G8rU7CpAigJ88unn/klg/1W5xo5u+yVrdLrx0J2Ivae0kdjWTCRaubavbkW1x9rIO+Iu8fD993/ZXNRG9vG5vrAmwqXpyK69O++9r/Xj62VKO6GRuMjH2hlh0zFVuNZvHbDvfm0E+HHNaSet3urGONqSNS8PXLa03dl5TZlibKdvN5XUX/42UnKTg1/1F/plNyi+/uXzisBKMJ2qpI867ugjitj6ftuviFDUpnxXEOhdN7u39VKXTa+/0bzURoUS7NVLO9TGCfeiP8dab9Ru2ARa19yV7fqXj7c3vNwU87jtznvL2s6uId+H1m/1vae/cy1iZpq+G26mc5dNfqYKQPKZlQQiQM5Kt6RS/QiUjqoVIImQxEii44YNG8ozUVCEoi8gqf4A7v6/fDjOP50/JOv/6kBo3LmdFiXq0fTv3XffvUQKjDPbHBYCIRACIRACITCiBES/EP3GMwXYbwqRNwa/27c3T7+06qjmG+1A9JzTT/qE+FhxHdSux0UQM8D+v//679sB+DMlWkXkFuGs/v4RMWnaNhHGVG4Cxp/9s98tkXgGxP2SaaA2WjAQf6UVQd5uB/siW+wGa5qd30Ofa9c87IxOJYiYti0CkAikDtu3UT02KbARhIHwoEmE47e/eXGxzRRpkYdEOr/7bE7z/PrfKdFg2227XREIzjvzlDKlVXThqxs3frSJS52X3qMS7CAM/ev/7k/L+oA/aNeLM0BXlihEkVrWfJTYITIU050/v2NzfjuF85utv+yaXX8n9iiirGN4YXusSFTTxEXpffDLD4ogIdrIwNw6px9NGV1Upm4u3Huv5j/9X3/THvtyO7Dvlev8ec+mHDa7wJyQQeQgBH4kGK4vQi0afEDoEwErknDvdvbU75sG27K3JEC/RAByvKhCyxWYHm0qrfytn+chb34yvZc4fMn5Z5Xo3n//v/5liWTtl3fn+yKiRcvu1Ebz2cX6snaq63Nt3kQf60pu+qdr5yM7tintzAYgB7dRuv/8D75RRDD1nO1J/3RMG5n4ra9cUJZqWPvAQ+XGwf3tjYP72nX/fttHWdex9VXrV5GPf/6nf9Ac0t780Gd0JxHbF7Q3Im69454y1nNNuhlRp2/zjc21RFrXacU1D9eVKEji51/99T80t7Q3F4rI2PYjz7a+tm6sOlUfuxY/29ZJhDVh7Z+1y0gsbPsIZYyVtA03b/7Nf/9flXYiglofRSwV7Sh9VEY75bqN0P5cG8hCdP3DdimGc844acyNr8Yqd6zPiIxntteOKMx//x/+stxIIoB+1LZfbNv2i+V0/eA2bfvX/2ufh648qPnT/+JbbdTq0R8J8GMU4nuM36zXu1cr5v59GzHPz26eKMfmah416Uetv6qd7N9GIP+3f/ZHbSTr4e3r2d+2qw15HpxABMjB2eXMIROo061FIL7TTk8RCWlDGA+vfZm7Qz3Z5IvCj00RmERHYiMBcqeddioh4u6Cbu0LabJ1yPkhEAIhEAIhEAKjRcDUTVP/FrXRQkTF4487qkTi7btoQZlhMZa1pmYbVB7QblRzbbuO2M/uvKeIMKZcm+Ynid7Zr11Ta1kbyXhSu66YAfjidoBow5StJRFE3/7mJUXkNFVYJJOoS7+JDBwPbTeBOaiNKqpJlJ/poabJ2ryAQGjNO9OSRbh8aisD95pPr2eDW1GZ/82f/mHZMIZAaMMDYqv12kS+LW2nrx7cDoAJt2w19VtUqTX7DKyJEu1T3+QY0wBFhx50wP5lvUFrDpp2LlLLenySaCVTfm2CIypq1dGHlWmz6jhWImwtbTdT+Z//zb9o11e7pqz9JjJMpF0b1lemJ/qcePHVNrIUX1Pykz5O4LAvHtzs0YpMNhG5/Mrry/qpIgi1Bb72e50wj6Vp15dccFaZdm3TjbGSdr1PO030T/7oWyWS1Tqca9oppNbnM0XWeMLv/T3a6aonrD665Lu6nY7bqlZt2x6jYfUpdMm++zR/8offaKedHlbsIEybjqw9iAxjB8FIv2Czoi+37ZK4IxJyriSzxCy/cMCy/Zobbr69TAFmoyUFPop++52yRIU2T1w+t71xQNjtXAez01aiFSH6f/gXf9auzXhguy7sje1u9w+V4BPXkCnaBMOD277L/93J7Dgi9L/9139eIrpvX3Nv2Yl8XSs+umniZoNjLD+h/Rxz5Bfb5S6Obn10RLmxMt4lJBy3Uxso8+f/5R+V/sp6sbe1Zb3ZLg9QfUt4s7GLqErLYehPiJHTlfSHorD/3f/4L9tlJW5trr/5thJJ6sYS4dU41jGL9llQbLfJ0SknHNdeC/uO6/ui1lv7/Gga9cKyGc3Nt95ZokDNILRma02iK9VHNO/FbWSytk1oT5ofBD7VNrrftob5YXOsHBECBEZrMG5s726LhPT/G+0aLMTH0tFNgfhYUflh4seltR1FXxIid20XSN6j3fGQGGnqd1IIhEAIhEAIhMD8I2DamXW97KD8ZivSjTfZxMV0M1FRu7RRfgtb4cR04PFOwfMTXtmmN5qCbf070+tEKvrdYrqpyCJRiKJ3RNRNZOqm6YIvv7KxXdPrmTYK8PUyLdQg3fpz1qozSLfeWk1EoKfXvVDEyg9/9WGZ2mgqInFwKpJ1EEUSmZasPq9t3FQGzwROwqDIuMXtAFp0p0iyr3z7vy6DX3yPbKd1/p//8d8X8XBrdTE9UHTVi+2U7hKV1tpFgDRIV44oHeumLWp3a/eaWDTexGfPPre+RB299MprZZdZ+YocJXwYmGNqTcjX281JbBohWgnPRQsXlOn3vXav3Vr5NjoSEWpKJOFbdBMhVTmdiRDjOMeLXBLNRCCyLl3nJhKd54znf1HBhB6i6mvtzrpsIBDyl3XzJpJM97fm4rpWzHrjzTYyV5tvxwB8tGv7+1x7FyWoPWijhJ2J1N06nxvaKd6mQNuIxk7A7eXUrjG5Q+ufNvK4vZascagNGIvcc9+D5VjXC+FL9PBObTTw1kRpgqmo5XVte9jclmPNSWs9EoXsILxra4dNZ2yCZH1IUbeu636JqOT6EP25ww6fbUXao0t76nd8fZ+vReVKIg+JgKKlpyqZTi7iV6Qhf2H6YcutRNq17c81ZIq9myPjmX6L+XPtUg/ak37PtV5FP7uKExn1o6IR+yX1qdef+pkW7WbGZ9ubK8Rq14VoStOz+blfcu7PWnHxj/7sX5VoTH3dReed2fwv/9O/akXr3xR/uN6trejaEhG43ae3LUtHEFP3aW8+uba6r8N+5U3mfX0PMX39hpfLNGh9nLZmOrvvhXLttNeNvsj3xd577VmWjxikTLbyjenWluZw88r1QbAnNO7cBvGIzCSy79eK8SJOx2rbg9Qh58xeAhEgZ69vUrMeBHSe7h6Jdnz11VeL8PjaazrQt8qCvz6vyQ+6qejM5Onh7qf8POTtTqhoSFPBbZBDiHS3z2dJIRACIRACIRACITDTBAg9hBi/VUSjTNVvEqKPwavBP3Gnn7ji9xKR8jft4Nsxg2yUIQ9lvfjSq2XgSjCzA+6CVkAVpVPT261Q2BpaBFsD2JoMdEVa/WErClhj0QBftOK/+7f/sgys63HjfTYVm9CLZZlO3k7xnYpEULWe5O+0+RGXTEVNmjgBv8/5iJBSp1FPxe9/NeGjza24aUov34v+na6k3Vc7iOraw1TZMV11nmi+bNQ/6afcaMFzMjbK5812Iy/9jLwGvYbUSZ/l/H4RmL1sHUuA7LbLtW4dRmL4TAiOverb+R6BVD9r8yTLgPi+mMxSGZ15d/6vHMtlKIv/lTPVezV0lpf/Zz+BfNPNfh+lhv9EoPwgbX9Uinh87LHHmnXtDtgiHnXwIhK7d8H2w7e78x8Uph83vuSsL1l3wVa2HbifeeaZshHNQQcd1CxatKjsxN3vh/mg5ee8EAiBEAiBEAiBENgaAb8/pmONOAPz8Qzu/e4ipk0m+c311tvvNjf+9I52p9SnSnTTHu1GCZdccGazrN2Qpv626xc5R0x4ot0h12wYyeYJ+yzYu0TZDFIvQsl4o1Inkj8hwrqZSZMjUITh1sfjiZ6baEl8JOJ3JpJ2TfyaiAA2E/WayjLYSFydqqS/E5U62UQUm+5kSYyyGdd0FzTO/Inq+saxNpcZZ1ZjHqYcUY+ZYj0mpnn1YQTIeeXuuW0s8e+pp55q7r67XZPn6afLVGibwCxevLgIgERIU6FFJk6XAOjOv3qY7i3y0gY4zz//fPPAAw80TzzxRHP88cc3K1asaHex+8Lchp3ah0AIhEAIhEAIhMAQCBCUCAJ3rX2g+VG7niRB0jrc1kwzbVj0zFjJ1NkfX31DmZrrOIN+62xOZKr0WPnnsxAIgRAIgRAIgcEIRIAcjFvOmkECfngS/B5++OEi8tlkZt99922WLl1aIg6JfaY++2FJePTDtd4dn+pqEjf9CLYWpCnXNsAhgj777LPN+vXrm/vvv7/UVTTk/vvvP2VTn6bajuQXAiEQAiEQAiEQArORgN9w1ghcsNcXSjSnTUZMr738qhvK1EUbF/RLxMe17Vqct9x2Zztj5d0iVtpYwQY/0x3p069OeT8EQiAEQiAEQuAjAhEg0xJmNYGytkcrPhL2Hn/88bLT2X777VfEPeKfjWAIgjOV/CgmdHrYRdJO3B7qQZAUmSlK01oXxMqFCxeW55mqX8oJgRAIgRAIgRAIgblOwNTXY486vEyltmGEdSV/tuaeMj3V5iiHtBuY2GTEb8DftDeqCZTr2w0P7mg30/jJtTc369tNRCzdc3C7U/cxRx7aLGt3x53IBjxznV/qHwIhEAIhEAKzkUAEyNnoldSpECgLFbe7Zllj8fbbby/RjcuXL2+OOuqoEnVIBJyuSMfxukDEZV170mY0IiPvvffeIpaq20knnVSESXVNCoEQCIEQCIEQCIEQGB+B1auOKLsR3/fQo2UHXbve/ujK69odcDc0X77grLLDsR2pbRRi5+J71t7fXHPjrWXn6Ha71Tbi8bPN6lVHNqeccOy0rA84PityVAiEQAiEQAiEQCUQVaSSyPOsIyD68YUXXmhuuummsuM1MW/VqlVFfDTNejYlAuNOO+3UHH744SU68s4772xuueWWshbkF7/4xbJb9myqb+oSAiEQAiEQAiEQArOZwC4779ScdPyqZtMbbzb/4T/9Vbt77jvNaxs3lc1pbr3j7nZzmnY2ShsBaZMDnxEiRUpauscN4oOXL2tOP/lLzTFHHDqbzUzdQiAEQiAEQmDeEIgAOW9cPfcMtbnLgw8+2Lz44ovNscce2xx66KFF0OsWHwmV77Q/PD9sf3T6wWk6junRU5lEY37wwQdlarUftqZXi3bsrIuIR+UuW7as7Ly4efPmZs2aNWVjHNO0Z3Kq+FTanrxCIARCIARCIARCYKYJ+F1l/caLzz+zIUb+8Iprm58/8HCzafMb5Tffp5pPNe+++27TTodpxcdfleo5Z/HCBc0Zpx7fXHTu6c2Rh63MUjgz7biUFwIhEAIhEAJ9CESA7AMmbw+PQBX7HnvssWbdunVloxeRhdZ87Nz5kOBI5HvppZea5557rvwI9fnuu+9eNqfZY489yuY0foxOJvlxa8dr0Zie7YRtt23rO3rYfbvWiyDptQ1o3njjjRIFaV3Iulv3ZOqRc0MgBEIgBEIgBEJgPhGwccz++y1qPr/jDkWEvHvt8ubxp54pIuTmzW+2az++2062bspnu+2yc7PnHl9oVizfv7FRzeErD27X6d5hPuGKrSEQAjNIYNs28EW/86V2qYf33n+/WbD3ns3SfRfNYA1SVAjMPQIRIOeez0a+xgRIQh/h7r333mtWr15ddr2203VN9ZiHHnqoueeee5pHHnmkeeutt0oEIlFw5cqV5bzFixcXsbCeN9Hn99svE+KmdR1//vOfNxs2bCjRjZ///OeLyGhKuLKIo6IvJc925j7iiCPKzt0iONnimKwFOVEP5PgQCIEQCIEQCIH5TMBvpwV77dF85cKz241pDmseefzJ5oX1LzUvtBvNvL5pc7vc42+ahQv2ahYvWlA2m1naCpaEyKQQCIEQmE4CZsQt2mfv5ve/cXHzYRuFveMOnyv9kKjspBAIgd4EIkD25pJ3h0hAZKPoxzfb3a+JdqIfTW2ukYzER1Nt1q5d21xxxRUlypDIRyz0I9WmMHfccUeJVDz99NOLUDioOa+88kpz6623NpdeemnZWEad1M90apGWhMWvfvWrJeqRKFmTiEgRmKaOO//hhx8udlgnsnPadj0+zyEQAiEQAiEQAiEQAv0J2Bl738ULPxrgt4f5Pfjb1E7I/qcxf/29+NvP8l8IhEAITD2B7bbbttmnvfnxra9e8LHMIz9+DEdehMDHCESA/BiOvBg2Aesrinp84IEHiuh44IEHttNndtwiPqofAZDgaHOam2++ueySbX1G5/rR+Ytf/KJ5/fXXmxtuuKEImETMzujJ8drohy3hkIAoAvLtdkduZXtfGdadNB17zz33LBGahx122MeyJobatVuE5ssvv1ymkx9yyCFbpmt/7OC8CIEQCIEQCIEQCIEQ2CqBKjDW562ekANCIARCYBoJpC+aRrjJeuQIzK6thEcObwyaKAECn3UdrbcootAUakJeZ8dO9LNBjWnX1oisQqCoSOcTMK2/aHq2CEXC4UQTkZGo+eSTTzZPPPFEETTlK3/lqIO1IdWzrlXZXYY6i5IUCekceckzKQRCIARCIARCIARCIARCIARCIARCIATmE4EIkPPJ23PAVtOoTXu2niMB0lqK3YmY9+qrr5Z1IomP/ZJ8HFd2SOx3UJ/3CZBERudv2rSpRFf2OlR9N27cWI7r/pwAaSq2CEyb1jzzzDMlT3knhUAIhEAIhEAIhEAIhEAIhEAIhEAIhMB8IRABcr54eo7YaWqzXa0lU68Jd70SEc+U67HEvPEc0yvv+t54z6/H1fO6n/faa6+yRqRp4yIgx6pz97l5HQIhEAIhEAIhEAIhEAIhEAIhEAIhEAJznUAEyLnuwRGrP4HO+o3WbPQw/bo7ec/UbJGFnRu/dB+3zz77NIsWLWps/DLRJHrRRjPO7xWFWfOz+9nee+9d1oCs73U/qyNbTAUXMUk4TQqBEAiBEAiBEAiBEAiBEAiBEAiBEAiB+UIgAuR88fQcsdMai4S6HXbY4WM7X3dWn+hHXFy1alWzcuXKIkJ2rhFp2rOoQztQH3TQQSWvzvPH87/8CJ0HH3xwc8QRRxQhsnMtSjtZEyhXrFjRHHnkkWPutO04j7p2ZATI8Xggx4RACIRACIRACIRACIRACIRACIRACIwKgU+Gl42KZbFjThIgQJqGbeo10a5TWKwGbbPNNmVzlxNOOKGs70iQtCmNNRsJg7vssktzwAEHNKecckqzbNmygXedlpd8lGMdyLVr1xZxlJBI5Nxtt92aU089tVm9enWzcOHCWr1PPBMu1VFiX6ZgfwJR3giBEAiBEAiBEAiBEAiBEAiBEAiBEBhhAhEgR9i5c9E00YGmYW+//fY9p1+ziShJADz88MOLUGk69v3331/EQaKl6EhRi0cddVSJhOwlYo6XzZ577lkEyJ133rk58MADmw0bNpRp1KZV77///s3xxx9f3hex2S8RMtXBg/gYAbIfqbwfAiEQAiEQAiEQAiEQAiEQAiEQAiEwigQiQI6iV+ewTcQ5ImQV7MYyhQhoijSR8LDDDiuRkyINd9111y3rQ9bIw7HyGesz0Zamc4vIJHSKhBTFSCBVrke/jXLGyjefhUAIhEAIhEAIhEAIhEAIhEAIhEAIhMB8IRABcr54eo7ZOZ6oReKgyENRj6Zdmxot2lB0JIGwn4hJQHz33XebN954o0zbJlISM21W4/zOJA/5yd9GMqIzCaTKVoZzu8/pPD//h0AIhEAIhEAIhEAIhEAIhEAIhEAIhMB8JxABcr63gDlufxUciYTjSYTHl19+uXnyySeb9evXN++9914REq3huHz58r4RjQRHkY6JdhwP5RwTAiEQAiEQAiEQAiEQAiEQAiEQAiEQAr8lEAHytyzy34gTELlIdLz99tub6667rnnhhRe2CJCLFi1qTjvttObEE09slixZsmXTmBFHEvNCIARCIARCIARCIARCIARCIARCIARCYNoJRICcdsQpYDYQsLak9RtvvfXW5gc/+EFz1113Ne+8805Zz1F046OPPlo2mDHl2lRrgmRSCIRACIRACIRACIRACIRACIRACIRACITA5AlEgJw8w+QwBwgQIJ944olmzZo1zdq1a5vXXnutrBnpfaLj+++/39x3331lZ2ubzZiSnbUd54BjU8UQCIEQCIEQCIEQCIEQCIEQCIEQCIFZT+DjO27M+uqmgiEwGAHTr5966qkiQloD0kY0xEfJ8y9/+cvm9ddfL5GQzzzzzMc+H6zEnBUCIRACIRACIRACIRACIRACIRACIRACIYBABMi0g3lBgMj4yiuvNJs3by5iYy+jiZQbN24sQiSBMikEQiAEQiAEQiAEQiAEQiAEQiAEQiAEQmDyBCJATp5hcpgjBLbbbrvGeo9jJZ97mJadFAIhEAIhEAIhEAIhEAIhEAIhEAIhEAIhMHkCESAnzzA5zAEC1nNctmxZY33HHXbYoWeNt91222ZJuwP2fvvtV3bBjgjZE1PeDIEQCIEQCIEQCIEQCIEQCIEQCIEQCIEJEYgAOSFcOXiuEiAmHnDAAc1RRx3VrFixooiQNdLRM1HywAMPbFatWlWevZcUAiEQAiEQAiEQAiEQAiEQAiEQAiEQAiEweQLZBXvyDJPDHCAgAnLRokXNiSee2Lz99ttl45lXX321+eCDD0q04x577NGcdNJJ5bF06dJMwZ4DPk0VQyAEQiAEQiAEQiAEQiAEQiAEQiAE5gaBCJBzw0+p5RQQ+OxnP9scdthhzec+97kyFXvdunXNu+++W17vu+++zXHHHVeiJD//+c9PQWnJIgRCIARCIARCIARCIARCIARCIARCIARCAIEIkGkH84oAcdFU61133bV57bXXSgTkZz7zmfJ6r732KlOxs/bjvGoSMTYEQiAEQiAEQiAEQiAEQiAEQiAEQmCaCUSAnGbAyX56CXz44YclinHjxo1FTLSRjPUcd9ttt54byfh8p512KlGPBMdf//rXjenZn/70p8ujl/j4m9/8puS9efPmMn1bmUTLXXbZpdlxxx0beSaFQAiEQAiEQAiEQAiEQAiEQAiEQAiEQAj0JhDlpDeXvDskAgRAD6Lf1tL777/fWMfxmWeeaR5//PEiDhIS995777LRzMKFC7dsNtOZV6fg2Pl+r/8JlNaM3LBhQ/Poo482L774YhEjRVIuaXfMXr58efOFL3yh2X777XudvuW9XsLmlg/zTwiEQAiEQAiEQAiEQAiEQAiEQAiEQAiMMIEIkCPs3LloGqGOQEj425oI+dJLLzW33nprc+211xZx8L333ivRiCIbjzzyyOarX/1qEQhFKQ6abFLz2GOPNddcc03z05/+tBFp+ctf/rJEUNrU5oILLigb1+y///6DFpHzQiAEQiAEQiAEQiAEQiAEQiAEQiAEQmCkCUSAHGn3zj3janQi4e9Xv/pVTwOIk7/4xS+aW265pbn88subO++8s9m0aVM5noD5/PPPNy+88EKZHr3ddts1K1euLKJmz8y28ubTTz/dXH/99c1ll11WIi1FXSrftGub2KiHMkVE2km7X6piaiIh+xHK+yEQAiEQAiEQAiEQAiEQAiEQAiEQAqNKIALkqHp2jtq1zTbbNHarfuONN8pU515mWIPRVOg1a9Y0d999d5keLSqxJjtbmzZ92223lV2tRSdaF3IiiWBIaDTt+p577inP77zzTnlPPoREZfhs6dKlzcEHH9xXgFRfD+ewj8iaFAIhEAIhEAIhEAIhEAIhEAIhEAIhEALzhUCUkPni6Tlip4hF0YRExBpt2F11YqMIR1Ojrc3YKT46lnDofOKh9SHfeuut7izG9VoUpvNrHvKtiUApQvOVV15pnnjiiRINWT/rfjY1XF5s84gA2U0or0MgBEIgBEIgBEIgBEIgBEIgBEIgBEaZQATIUfbuHLTNJjK77rprERCJiCIHuxPh77XXXmvefPPNIlJ2f15fm5b9+uuvl7zqe+N9JjASNp0/loCpLqI1HdcviZQ0VdtalDariQDZj1TeD4EQCIEQCIEQCIEQCIEQCIEQCIEQGEUCESBH0atz2CYC3YIFC0oUI+HPtOfuRMATJfmZz3ymTGnu/ry+/tznPldEP8cNkqzzaOr21s43ZXysjW5slkMsZReBNetADuKNnBMCIRACIRACIRACIRACIRACIRACITBXCUSAnKueG9F6E/v23HPPZpdddimRhyIdu5NpzHagtrbjF77whe6Py2sin8/33XffIlb2PGiMN51PLFyyZEkpS5m90s4771yO2W+//T7xsShK08itVykCctmyZREgP0Epb4RACIRACIRACIRACIRACIRACIRACIw6gWxCM+oenmP2EfqIeoRDU5ftaE1ItHlLTSIT99lnn2bVqlVF3Fu7dm2JlDQdmnBIxJTHscce2yxfvrwRCTnRJB9lHnTQQc2RRx7Z2A2bkGhatrUgfSZa85BDDmmOOuqoshFNdxmOI6Bu3Lix7JpNgOwnZHafm9chEAIhEAIhEAIhEAIhEAIhEAIhEAIhMCoEtvmLNo2KMbFj7hMg/JliLXLQ5i/WgTzwwAM/Fjnoc9GJpj0T9GzwQuwzFdr6kaIRjz/++OaSSy4pAuFY06PHIqYuzlWWaEabyfjftOw99tij1OvCCy9sTjnllE+IpPJVr/vvv79Zt25didQ84YQTimgp36QQCIEQCIEQCIEQCIEQCIEQCIEQCIEQmC8EEgE5Xzw9h+wUXShy8aGHHmqsnyjCcfXq1UVgrGYQIQmNZ511Vnkm8lkvkkBoWrZoQ3nstNNO9ZSBnomNhx56aBEdRUK++uqrJQpSVKUozBUrVpRnUZmdSaSkyMfbb7+9nCtS0jnqnRQCIRACIRACIRACIRACIRACIRACIRAC84nAx1WT+WR5bJ21BEQIimQkIIqAXLNmTbNw4cIyLVuUY00EPVO1rRfpWFGTdeMY7xEPu4XBeu54n4mhu+22W5nWrQ6mhZvqTeg0zZvAaSp2Z1SjaElTr+++++5m8+bNJVJy6dKlH5tGPt7yc1wIhEAIhEAIhEAIhEAIhEAIhEAIhEAIzHUCESDnugdHsP7EPAKfqdcEvLvuuqtEQYoeXLx4cRH8mO01EZIoufvuu5dp2M4lGnpMVTLNm6BJbPzwww/LdGxlEzc7hUflER9ff/315oknnmgefPDBsvP1WJvlTFUdk08IhEAIhEAIhEAIhEAIhEAIhEAIhEAIzFYCESBnq2fmeb0Ie3vvvXezcuXKIuiZhk0IJEya+twZ2ejYmdjcheio/H6J+Chi87HHHmvuu+++8v/pp59eNqgZ67x++eX9EAiBEAiBEAiBEAiBEAiBEAiBEAiBEBgFAhEgR8GLI2oDUXHRokWNzVtMr3744YfLRjA2fVmwYMGURjlOFqFNcNTRmo/33ntvWSfytNNOm5J1KCdbt5wfAiEQAiEQAiEQAiEQAiEQAiEQAiEQAsMk8Kk2aus3w6xAyg6BsQhYb9HmMo8//niZ0rxp06ay9uLBBx9cNpqxPuNMRD+OVce33nqreeGFF5pHH320efbZZ0t0pjUfjzrqqLIhzrDrN1bd81kIhEAIhEAIhEAIhEAIhEAIhEAIhEAITDeBCJDTTTj5T5qA6EKbv1hXkci3fv36ssGMtRVFSNr12hqNpjmbJt29LuOkK9CVgfrY5foXv/hFmR6uPoRHIqR6WLvSw1TxmahPV/XyMgRCIARCIARCIARCIARCIARCIARCIARmFYEIkLPKHanMWAREQj7//PPNI488UiIiRUeKgLQTNjGS+GdH6ro5zFQKkQKFPYiPH3zwQfPmm282r7zySvPkk082GzZsKO/tsccezdFHH13WfFSXqdwIZywu+SwEQiAEQiAEQiAEQiAEQiAEQiAEQiAEZjOBCJCz2Tup28cIEACts/jGG28UIfKpp54q0ZCmQIt+JEbuuuuuZbdqu2MTAKdKhCR2KpsIahq4na6JkKZX77XXXs1+++3XLFmypFm4cGHZlVvkY1IIhEAIhEAIhEAIhEAIhEAIhEAIhEAIhEDTRIBMK5hTBIiQH374YZn+LALx5ZdfbjZu3FjEQe+LUKyRitNhGGHRg7hJfNxpp52aPffcszx23nnn5jOf+Uz5fDrKTp4hEAIhEAIhEAIhEAIhEAIhEAIhEAIhMBcJRICci15LnQuBGpEoKvG9994r60TW/31GjJyqJJLS1G5TvEVX7rDDDs2OO+5YXvv/s5/9bKZcTxXs5BMCIRACIRACIRACIRACIRACIRACITBSBCJAjpQ7568xxEYiJOHRQzSkSEiPqUgESFGPpnqLcvTwf1IIhEAIhEAIhEAIhEAIhEAIhEAIhEAIhMDYBCJAjs0nn84xAlMlOG7N7KlaW3Jr5eTzEAiBEAiBEAiBEAiBEAiBEAiBEAiBEJjrBLad6wak/iHQSSDCYCeN/B8CIRACIRACIRACIRACIRACIRACIRACwyeQrXqH74PUIARCIARCIARCIARCIARCIARCIARCIARCIARGlkAEyJF1bQwLgRAIgRAIgRAIgRAIgRAIgRAIgRAIgRAIgeETiAA5fB+kBiEQAiEQAiEQAiEQAiEQAiEQAiEQAiEQAiEwsgQiQI6sa2NYCIRACIRACIRACIRACIRACIRACIRACIRACAyfQATI4fsgNQiBEAiBEAiBEAiBEAiBEAiBEAiBEAiBEAiBkSUQAXJkXRvDQiAEQiAEQiAEQiAEQiAEQiAEQiAEQiAEQmD4BCJADt8HqUEIhEAIhEAIhEAIhEAIhEAIhEAIhEAIhEAIjCyBCJAj69oYFgIhEAIhEAIhEAIhEAIhEAIhEAIhEAIhEALDJxABcvg+SA1CIARCIARCIARCIARCIARCIARCIARCIARCYGQJRIAcWdfGsBAIgRAIgRAIgRAIgRAIgRAIgRAIgRAIgRAYPoEIkMP3QWoQAiEQAiEQAiEQAiEQAiEQAiEQAiEQAiEQAiNLIALkyLo2hoVACIRACIRACIRACIRACIRACIRACIRACITA8AlEgBy+D1KDEAiBEAiBEAiBEAiBEAiBEAiBEAiBEAiBEBhZAhEgR9a1MSwEQiAEQiAEQiAEQiAEQiAEQiAEQiAEQiAEhk8gAuTwfZAahEAIhEAIhEAIhEAIhEAIhEAIhEAIhEAIhMDIEogAObKujWEhEAIhEAIhEAIhEAIhEAIhEAIhEAIhEAIhMHwCESCH74PUIARCIARCIARCIARCIARCIARCIARCIARCIARGlkAEyJF1bQwLgRAIgRAIgRAIgRAIgRAIgRAIgRAIgRAIgeETiAA5fB+kBiEQAiEQAiEQAiEQAiEQAiEQAiEQAiEQAiEwsgQiQI6sa2NYCIRACIRACIRACIRACIRACIRACIRACIRACAyfQATI4fsgNQiBEAiBEAiBEAiBEAiBEAiBEAiBEAiBEAiBkSUQAXJkXRvDQiAEQiAEQiAEQiAEQiAEQiAEQiAEQiAEQmD4BCJADt8HqUEIhEAIhEAIhEAIhEAIhEAIhEAIhEAIhEAIjCyBCJAj69oYFgIhEAIhEAIhEAIhEAIhEAIhEAIhEAIhEALDJxABcvg+SA1CIARCIARCIARCIARCIARCIARCIARCIARCYGQJRIAcWdfGsBAIgRAIgRAIgRAIgRAIgRAIgRAIgRAIgRAYPoEIkMP3QWoQAiEQAiEQAiEQAiEQAiEQAiEQAiEQAiEQAiNLIALkyLo2hoVACIRACIRACIRACIRACIRACIRACIRACITA8AlEgBy+D1KDEAiBEAiBEAiBEAiBEAiBEAiBEAiBEAiBEBhZAhEgR9a1MSwEQiAEQiAEQiAEQiAEQiAEQiAEQiAEQiAEhk8gAuTwfZAahEAIhEAIhEAIhEAIhEAIhEAIhEAIhEAIhMDIEogAObKujWEhEAIhEAIhEAIhEAIhEAIhEAIhEAIhEAIhMHwCESCH74PUIARCIARCIARCIARCIARCIARCIARCIARCIARGlkAEyJF1bQwLgRAIgRAIgRAIgRAIgRAIgRAIgRAIgRAIgeETiAA5fB+kBiEQAiEQAiEQAiEQAiEQAiEQAiEQAiEQAiEwsgQiQI6sa2NYCIRACIRACIRACIRACIRACIRACIRACIRACAyfQATI4fsgNQiBEAiBEAiBEAiBEAiBEAiBEAiBEAiBEAiBkSUQAXJkXRvDQiAEQiAEQiAEQiAEQiAEQiAEQiAEQiAEQmD4BCJADt8HqUEIhEAIhEAIhEAIhEAIhEAIhEAIhEAIhEAIjCyBCJAj69oYFgIhEAIhEAIhEAIhEAIhEAIhEAIhEAIhEALDJxABcvg+SA1CIARCIARCIARCIARCIARCIARCIARCIARCYGQJRIAcWdfGsBAIgRAIgRAIgRAIgRAIgRAIgRAIgRAIgRAYPoEIkMP3QWoQAiEQAiEQAiEQAiEQAiEQAiEQAiEQAiEQAiNLIALkyLo2hoVACIRACIRACIRACIRACIRACIRACIRACITA8AlEgBy+D1KDEAiBEAiBEAiBEAiBEAiBEAiBEAiBEAiBEBhZAhEgR9a1MSwEQiAEQiAEQiAEQiAEQiAEQiAEQiAEQiAEhk9g2+FXITUIgakj8Jvf/KbxmIr0qU99qvFIGg6BqfYlK2abP6faxlG2r/pvlG2sttXn4Vx5Hy+19qf1+eOfTvwV22aTfSyYyutQfrPRRvVKCoEQCIEQCIEQCIEQCIFhEogAOUz6KXtgAr/+9a+bDz/8sPnlL3/ZfPDBB+X/X/3qV42HzzwmO8j9nd/5nWabbbbZ8th2222bT3/60812221X3pts/gMbP2In8hU/1ge/Vj96nozw4Vx+5KtOX/Jh9WX9fDqx1rZabexsq/6fbGJfZ3vVVquN/vfZdCac2ehaZGP1YfUjH082saHaWO1j40xdj2zptpFd1ZeTsQ+/fj7stHEyZWztXHVgC/9VP1bb2DkVPqzXYacf63U4E+2UDd0+ZGP1IwaDpm4fsnEY7XTQ+ue8ECk95ygAAEAASURBVAiBEAiBEAiBEAiBEJhuAhEgp5tw8p9yAgZ6BsmvvfZa8+KLL5aH/999993m/fffLwNMnxvsDpqcWwf+22+/fbPTTjs1e+yxR7Nw4cJmr732anbeeecyuBw0/5z3EQG+fO+995pXX3212bBhQ/PKK680r7/+evPWW29t8SOBYNAkf8JjFQI++9nPFt/tueeezT777NPsvffezec+97lp9yV72Fbbq9e/+MUvtog9g9pXz2MfOz/zmc8Ue3bbbbfSVhcsWNDsvvvu5b167HQ8E3X47YUXXmheeumlZuPGjc3bb79dhCxiFh/yxaCpijnsdD3usssu5XrkPzZ+/vOfL9froPmP5zz+qu2UH994443S51Sxjn2D2tjZTgly2umuu+5a2if7tNcdd9xxUn3a1mwkwr355puljdZrkY36VP3pZH1YBVb9qnbKHm1Tn8qP7GX3dCa2aJvse/nll0ub1U6rjRhMxofaaf3e4Eft1PdF/d7wPeI6TQqBEAiBEAiBEAiBEAiB+UjgU+2P7cFHhfORWGweGoEqVD377LPN888/XwaPRAFN2KDPgI9AUaNrJlNRedaomBoR5LW8iR0Glfvtt195eJ1B5fhpY0vMWL9+fcOXRCviXBWN6wC+imqEi8mIyfxWfUks8vBa/oTkRYsWNUuWLCnPxMjJlFUpsJGYQ+hgI1u9JtRpQ91RX5MpU1mVKYb14T2CDpGHjfvvv3/zhS98oQh4tZ6TeZY/sZH/nnvuuSJcEXK8jy0/Vh+yebI2Vh9W+ypLog6Rbt999y3XI2Frqq5H/QuxsbZTIqv2w57aTpXlwb5BbcTMg43sqjZ6ra1op4sXLy7tVN/DxqlKmzZtKj585plnSjslyLk+2ch/BF+2VhsHLbfaKG82dgq3O+ywQxGU2bhs2bIiRipzKhKWhON169aV7w19Db9W++r3BlsH9V+tZy8fshc7PnPTQzv17CZBUgiEQAiEQAiEQAiEQAjMJwIRIOeTt+eorQZwolYee+yxMoAUPWZAZ4Bq8GiATDiqA+UqekzGXAPJOlAmqhiwEkA9Gzj7zDHEAMIOMZIQkjQ2AeyIAU888UQRPTCV+JNYVh98yY8ekxWvqnBF9Kg+rP4kTlSRhzh38MEHl2ilQSOxtAllEDuefvrpItDJnw3aqnzZ5lkUWLVxMsJHt+jRaWNnZBcBRDsl8BDsBk2YiYx76qmnip0EK3VgY6d9/q/C1WTFKww9+LBej50+9D6WrsEDDjigCHVEu0GTdkp4ZCNhTtl8xB521Qefek/ZPp+MH5WhX1G2B/uqjV77TNvhOzYSspQ7SFKWvLVRNooglz8fapfK6XxUkW4y9nW2U/Z0tlOvtStJuQceeGDpV0WdD1ome9jFRv2NdiNhpozqQ//zocdkfchG5bKl24fKx9214KbA8uXLSztV/qA2FoPyJwRCIARCIARCIARCIATmCIHBRi9zxLhUc+4TMEg1iHzwwQebhx9+uAyaTdcjopiWKPqwCjkGdlWs8jyZZCBZHwaUBA7PBu2ioES0Pf7440WkUD/vG1AmGrI/dYxEBD766KPNz3/+8zLoFplHFONT7IgA/Njpy6kQBar4UX1JINC2+HJdKxaKcCM0iQY78sgjS7SZ+kxEGNBG3nnnnZLXvffeW9oIe4hF7CRw1uneRBBttLZX1CZSVifl2k67bSSAEOtNNa1Ck+gvkZiSCCzC0kTKxU1+2v4999xTGBKJiPCiugiAva7HqfIhG/nQQ12IOnzIfx7sJHDzreuRCDmRvoBAhJuIzgceeKCIc9otH2qnbjhoF/xX2ynbahkTYdntQ6+V320jgVcf8+STT5YbMIRRN2Qc67oRPTiRcrXTzZs3l3Z/9913F5FcHniJQKxToauNbGPrVPpQ3eu1iLc2qU91Dern2edaOuSQQ0pkZC2/k1m///Fjo+jcRx55pHnooYdKG+G/JW2ks3aqXbCv08Zq30RYdtdB2R7s81APD20I89rP6Af5VBsmJOd7o5tkXodACIRACIRACIRACIwigURAjqJXR8QmAzgDtltuuaW5/fbbi+h49NFHlyi1TqFjMgPGiaJSJwNm600SPtasWVMGzOpwxhlnNOqXSMhPUjUoJw7dcMMNRRQgnJxwwgll8E3wEAU0EZHhkyVM/J3qSyKddnbfffcVfxJiTjzxxOaoo44qAt14cxYVKEr3Rz/6UREh5HPMMccU0YrAQ+xj40ylKsQQ49hIjLnzzjuLgLhy5crmvPPOKwIWEWa8iYB56623Nj/72c+KmPqlL32pCFdEyCquzuT1yEbXI5GuCk76Cm3q2GOPbU466aTStsZbJ6yIQ9/97neLkEms0has4Ue0qu10vLwmexz7CHVVpCOWr127tviSGHrxxRcX/kTf8SYiO4H8yiuvLHkT3A8//PAikouSJZpXQXW8eU7muNpOiXREOdGK2he7tdPzzz+/TF8ebzsl+Ombf/zjH5ebHWw6+eSTi4Bc10Mdb16Tsavz3NrXEFW1L+K2duomwJlnnllueqhnUgiEQAiEQAiEQAiEQAiMMoFt/qJNo2xgbJu7BEQ9GoiKtiLsrVq1qkzNq5FbMy1YIUnIMDgnJhGV1IXgaPAsIkwykIwIWVCUP8Ra0VtXXHFFEcJWrFhRRB1Rc4Qi4skwfal8EUjECVG1hCzRWHwqaorPtyZgEU74/6qrriobT2irBEwClnZSRZ2t5fNbapP/r7ZVYovppgQ0Nmq7rilRZt7XhrcmONWIMqKVKDVRW6eeempz0EEHlQg1+ShnJu1DqNrIh6676kMClHp65oPxRHoSMYm0xEc8DjvssOa4445rli5dWq5neXh/Jm1Ulge2xE/9Chs9a6OiPdVJu92auE0Ec/yNN95Y2qo8Tm19yE6MamTn1trC5Fvmx3OoPnSNELG1R4I20dWNAX0HsdV1tDUbRcRak/Syyy4r7VsfQ0B2M0C+2umw+xrttNqo37CeMWGSyI3BTLavj3sir0IgBEIgBEIgBEIgBEJgeglEgJxevsl9AALEDlEwd9xxRxGDDCJFkhGDiCjDEHM6zegcMBvQGlCqkwg40yMNcNXTgHm+J+IjIej6668vUaN8ecQRRxRRp3KbaVGn0yd8yV/8x18EURFZosQIkVWc9NwrOVZ0oYgyUz3lR3wksory7BQ8hiEs1LbKxmoLO9Wb8ME/hDXTw/vVzzRRkY833XRTEXeIXa5Hoo52Lt9hiDrVH9VGIh0BS520KX4xldr/xDWf9bMRB1N/TUk2VVYbPfTQQ4vQitcw+xx19sCYr1w3xEN1IkLqd3zGL/XYyqY+iyYksLqho2/VLvlQhKHzOttpPWcmn9WbnzqFVoIrQdEalVK123G9knaqrxFZSLg0bZ4fLddReTlXWcNI1UZ+q+2UP4mQhGH1dx3WtjaMOqbMEAiBEAiBEAiBEAiBEJhOAhEgp5Nu8p4wAeIj8cdUXZEsIl9MnxNxRQgw0J5NyYDZ4N0AV/3WtVMkqyBgs4hhCjPD5iTiishlvUdTDgk6pnuKKDMA7yckDKPe6lKFgV122aWIAaZKqr9orCqWdtaNiEc0EKlb10MkPhI9nENcGJbY0VnP+j8bqwgpio7wwUbimwg4n3X7hI3Ekfvvv79MTxelJbLT2nyYzKb2jbX6EK6IkP4nnBKjXJvec612JzYSuYiPeGinxDlMHD/bfKidYq+NEUvVmS+r4K1P6k7EWFGvt912W7n2TLkWVU5wn03ttIp02mL1Fxt9F2ibrk2290pu/uhrLKXgZpUp+ERIvnfubPGjetTvDYJjFfiJp2z2XaINJ4VACIRACIRACIRACITAqBGIADlqHp3j9tiMwDTIq6++umxsccopp5Rng+ROcYRoQOAS2VMf3jO4m8qBpjzlTxj1rEypsxz1MmAk6hAHrANowCzyZjaKpjPVRAhbd911VxEE7GprPT5CMnFhtia+JI4SOiTtkA9NmSTWdCZtgdj8D//wD2UTDaKc9lrFr3psv7bq86lsq7W8sZ6Vp42KCCRgaacEOkIbAct11pmII8TH6667rtjFPnZi1JnGc510Hj+d/7PR9chffEF0M52ecEVA7WSu3q5t6wXioH1ac5Aw1M2Cv2s/oC9wrtSZ32TtGk9bUR5xlc/U0zRzIjhfsY+dnXVS13XtjRE2ssG0cgIroWu29qnqj786EoIJi8RkbdcNjE77MGej6E5tFZdLLrmk+LJbQGa/Y6sfvZY6OZQ3JvGHD2u7UpaHctS5s971e4MPHcOHoq750Hudx06iOjk1BEIgBEIgBEIgBEIgBGYNgQiQs8YVqYhBoSiQa6+9togjdc1HglXnYMxgTkSPSBfTtG2sYWdlG0g4lmA0VcmgV/TeT3/60yKmqZ9yCDAGtzWpH1HAgJkoJWqMMGDKcedx9fj58GxaMh9JF154YRG4un05GznwJaGDAELUsXkOQYs41RldZg1FAqup19bRsyEL4aBTzNBWtRfigrbq4XjttwqBnW17pngoU7vUZk3NVSfRYsQr79VETOdHEXZ8SFTvFrhct1iIAiUCOZ7gZQ0/QieOM22j8viK39gjwrGu6em9Wh/v6TvUWcSyaGsCkHPqMViwRR76mip0sdkxRM5On1d2gzyL9hOpqAwbXKmbfqT2a53lKBvb2k5NPV7S7vJcoxpr+XYtt3GNtmqjrC9+8YtFYO/MiwDm5g8BTz7s5Hs3EfR1ncxqvoM8ayvsISi6FtQJV+Wzsbuv5IfqQ9Pp9av61PqeOsjTZzZHks4+++wiUnbXWRmmrGunN998c6kDAd41jlm3z0tmA/zRpkROE775sAqL8vfd1NmHyF4/oK6etUM3O/QjU/k9NoAZOSUEQiAEQiAEQiAEQiAEppxABMgpR5oMByVgQE8IMVgWLXfwwQd/YnBvTTCDSJt9eBAGDWat30YcNGA2iBWN2CkgTLROyiE8XXPNNWW3WINbg3ODcoNLg3UDRQPHOqA0oK9ii8/ViahDhDG4nC+J6GYQTkjGgR9N9yQwdIoes5mHelaBkM9FNPG3diV1iuWWCTAtmTDS6WfHEO5s+vGTn/ykiB7atnZBdCFCaqs12mky7XWiLJVFEOETG2Bo24Q0kZ/aK3tdA9q99s621atXl2OcV5NjRCy7Ti6//PIiuNTrhI3EHUJKd7RdPX86n6sPlU+gIrQS06rAqJ0StNSdvSI7rYmISfWFY/AhCPKhNm2qtn7KWopuUDiWD/m+njdRu5Qjr1tuuaVs1qTN1H5NP6Rv1P60F31MTWxUX0k7VQd+VB9Jvm6gqC/bCayE1u52uq4VjNnGhwRIZfMrGwnoyiXSTeb61Tfro5WhLAKdGxTK4R9tibhdo4/Vv7ZT5buWPNi0aNGiYje/yRc3jERHunHF57WujnEtsklEs82wCKyEQcxMYZcnvpPtoywfon0oQ7sidioHR2Kn7ws28kVNtZ0q23ebuvicnwZtTzXvPIdACIRACIRACIRACITAbCLwycWiZlPtUpd5Q8Ag0UCQ2GHwKNLKgLAOIoEwMBPNY+B66aWXloGrAZ/IFscZ6MnDQJYoREip4uBEQFbhyMYppi3KV2SSOhJfCEgGzISA0047rWziUOupPOuP1agjIkwVDiZSh7l8rGix6ksbXBB1DLznUjLwJwIQkEU+itoiVmiXfE1YJShoryIfHdNto7ZJ9Pje975XhAhtQluVN0GF2KCtYtQdtTYTrNRDucQcwiohyP+uHdcacY5g5DhrdxK2uq8nDIg/P/zhD4vQxffOdRyhhaiGl3NdBzOd1IPgaAkA/hNRaI1H1zFhzZRXIpgbHkva6MFOYUhdiY/O+9GPflRudrjuiaoSwYiwxM9sI9J2n18O3Mof/Yq6EKsIV0Rf3Gpb0Y/pR/Q3Nbqv+oFvfK7PEdmoPbKXEOd4oisf6r+OP/744ttOAVPVCHdEM32q9srm2qdq09qtPpEP5T1I0ib0CTe1GxnZZZyo6hryfu1T2YyF9tcpBLKRoGrTI3YQ8bVH3xPqqf5Eb23XruzdYrc2aX1IgiABUv/tupNw1Ca0dfmJZHZNTDSpt7oQet0YI7Ca0u89CUdCsHLZq/76gJp8TnB0I8P3DZ/VfpP9SSEQAiEQAiEQAiEQAiEwCgQiQI6CF0fABgM1AzaDUAMvg8DOKB0mGvibnnjZZZeV6XumOtcBns9FlIm8Mxi0xpnIO4PziSYRNU8++WQZKBvYVpGz5lPLUT+DYuJD56BemQbDRCmDW+KAweV8SfgZiPON9duWtMLOXEyEMyIBUUKkLV+efvrp5T3CVY1oIkp2ixaEFWIVMcKGSiK3iDg1aUOisDCqG4J0tqF63HQ/E0MIoAQRogmRiIgjEb2IUXxIwKuiV60TG4lm1oc01dSxncn1KU+iFXFuGAIk8cZ1qi8gVLmuiVgEH9c1oUc9Fy9eXISvTrFHP6I/YgPxSpRgFa7YSdzz4Et8CF+u+Ykm7UJdRFhqZ+rU2VZqGeqGJX8RA2vSTkUNilD9m7/5m9Lu5Oc4/tRW+Y64RWTrtFEe/KxcQrKy2F0TkdBnxGSMBo3KIwIScgnVBETlaD81YegY9SToK4cIWZP3tSFCovMJhtoTf/CL90U+6mvw6EzapWvtyiuvLFOc9U+dSV3cYOA7eXZfy53H9vufLcoRuerGFZGTPTWxT7vz3WXtVdeU74Wa+KT2Nb5z9C36DMd1+6uek+cQCIEQCIEQCIEQCIEQmGsEPv5Lfa7VPvUdCQIGvAZoBpFERrsI94okMhg2WDYAdXznABYIr4kJomsMOB0zSDIYNYA0YO4WOWs5BpOihYim3eUYMBrIikgiAMivu66D1GuunGMgjo1NTYgWwxDWppIVUYOozI/aKGGBQECcWrFiRc/IQMIIAVJkmbbSKZSrmzaPk2O0VW17WIlwRqCTiB7sJIARwthNmCGOdAoh2jOxn1giCtD/3ckxrg2in+u2U9jqPna6X4uqc00Sm1yz2POf/9lHrOvuc/jZ9Svi2rGdgpL6soefiWEEWMcMYiN2RDQsiYXdbQVH9RVBJ0pVOd2JWKed8iWhle/URR+mT3VDhLBGcK7J5/zspg5xXRnd9ffa+3wsUlTduo+p+Y31rE3Jw40JAmB3fyhfbc8xHt0iobyJrHWnb5Ge+mZCq7oTZAl7hNLOpK7aoGnlrlmRpt2pCsDWo3Q9dvPvPr7X6yqEYqRN1SjZeqx6eE+9MeCf7sQ3IpH5kP3yGaQu3fnmdQiEQAiEQAiEQAiEQAjMFgIRIGeLJ+Z5PQziiQMik0T5dEc/wmOQVwed/QbC3jdgNm2wWzAYL2LlGMSrT2ckUj2/DiYNfg1ue5Uj0oiwYdBJgHJcr7xqnqPyzEb8DfZNm/ToFK7mop0EgbouXY0KJJawU+SbNtttIw41ssr/vUQbbZX4NJm2OhU8CcSEDwKV66tOuWWj94g+3VFl7GFXvQa6BaVaLzYSV+U7zMRHxCmRdG5Q8I26s9E0ez7utpF9hCB9k2u8lw+95zPH9BLWxmOzPgIj/QSBrFc5laM69xLniFcEVJGDjiWc8onrkM0ESM/d7dSxfKPsfj70vv4LK8cPkthV20G/PHBUDhux706+E1yHogLdCFBvfmRrL4G1ni9fbdq11stGvNWJD5Xfr341v17PzlGf6p9ePvQeDlj3uuHAN65FfSZ/DiqG9qpf3guBEAiBEAiBEAiBEAiB2UAgAuRs8MI8r4OBmageA3FCQC8xACKDMoNQA+l+SV6EBBFb3YJCv3O631dO5xpk3Z97bbCoLh6O707OJ+oYUBpsEjQJm70GwN3nzuXXfEgUMJAXcdY5VXSu2sXH2iQRiyjAn+zT1ggffNydtA/t1Lndok/nsdqofAdtq515Dfq/9ut6EQVIIHEtaqv8yH/82CupM/vGuh6d5/NejHrlOV3vsdFNASIkwYptHkQp6yX2mprMPnV3LY/lQ585RhljHdfPNuXg4/x+7UC+Pncc5r2Sc0V6Ok5/41okGmpfRORedfOePLfmn/Fw6FWn+p46ycNzr3rU4yqLXhycx3+uOfa5Domxnt208lmvvOU1nmuMD9WxVx61fv2enVN9w8axEv/186F8XIeuR6LpIGLoWGXnsxAIgRAIgRAIgRAIgRAYJoEIkMOkn7ILAUKOKXoGXwSPfoNAIoEBtgFovwGcQaCoLVFNBnGDJANZU4cJL/0G5gar6lEHi93lGISqrzqIlBNd45mto5yqcMVG03cH9cFsYqRdahMizAg6opwIddopkbmX4KB9iGQSBasNyaM7OV97F0U5bE5sYAvBo0ZxiRxjNz92J6JOvQZqxFb3MV67Tl0j/QSwXudM13tEKLaIQKvio+tRRB1buhO/6QOs8ela7iWKeU+7sD4hX/Y6pjvf7tfKxoeIppxeSVvBUV1rNG6v42qfpa8hzhHK2d1LRNYm5StqUvn+75W8b3qzNQv936st9zqv8z0CvjKqQNr5Wf3fNaAt6Vd7+cNxbMGB/9hGQNZO1a/XNaSu3rdWL269rlXH8PWSdgr7WG251rPXs3bOPnVXTi9G3tP++BmHfsl1qE2JqOwXPd3v3LwfAiEQAiEQAiEQAiEQArOZQATI2eydeVQ3A2YDNAOvXoM3KAzOrbl35plnlsF+r8Gkwd2xxx5bNqHpJZyMB6kBpPUbTz755DKw7T5HuQaqZ5xxRhmUq3N3YoPjDH5rVCDRatQFSGIAUcCAnFjQT9To5jXbX/MjP9fIOcIAG73fS3RiN1HqrLPOKoJDL0GFCGFjEJtuEK+GmbRXIpFUxStiJBt7ifCOZ6O6s6GXKIYLQcYmO0TWYSc+IKi6DrVR1yU79BO92qn6E+fOPffc4ste4qD82HbaaacVAWoQG10nhEV5iMbs7tfUUTn6PRsi9RITa7naKJ+5DrVVNtZ2Wo/pfGajPtUmRP3Et9pOjzvuuL59c2eevf7H+JBDDimbOLGl+5phI7FeeyL4YtIrsUVebnQQWD1LfNOrnfrMtYWtzc16sXMNL2nFRxtM1V3unTeRpF4ESN8Z7PS6O/GrawVHfUO/pD7ao3bqGhz174x+HPJ+CIRACIRACIRACITA6BHoHfIwenbGollMwADLQNIgtN8gUvUNWg1SzzvvvDIws+C/Rf0JJsQFUYt2Qj311FNLhMlYeY2Fw3kEgW984xtFWLn33nub9evXlzoaPKuDgeQFF1xQonG6B9M1b/aoF/sIAvMhmsWAma2YGET3Y1MZzZVn4oEHQacKA+wjNPBzd/KeSK2TTjqpTBG1SYmNJ0RtOY9YcfTRRxdhZKyIr+58p+t157XHfx7aLZv7+dD7xLcLL7ywCEZ2xK5LKRCE2GVn5n5C/nTZ0i9ftvBXbaOeved67+dD4tUxxxzTfPvb325+9rOflU1dTP91vKg74t0JJ5xQxK1Bb3jgiJcbGupE9KzrVKobAdANkYsuuqhEdo/Vr9VrzlIP+lQ+9J5Hv6S8U045pQh6fKivI+4pp97QUTf9Xi9O/fLtfB9n4uoll1xS2pONWKzj6FqqAqC2QgTUxzq+V1I+H7LPteg4j37XoTz0wYTFr33tayXK1wZZpjdjw78+O/7448uNK9GHgyQ+xIsNuMvHhkGiGNVZVD7R8ZxzzinfHWzsl9giP/bNh++MfhzyfgiEQAiEQAiEQAiEwOgR6D8qGT1bY9EsJmDgbUBo4NUvGcgZMB566KFlsHfQQQeVNfmIOnUQK/rEdDuvBx0sqwMxgZgpokh+diQVNSXSy1REuwaLqCEcjFVOHUhX+/rZNirvs9NDwmUsNnPJ5moL4YMoIGknY7VXbYO4QaAj3hAgTf8lMBDLtVUCVq+IsGGwqbaw0cP1WO3uVx8RZYRU0ZPESOIV8dJr14lrdUkbXdYrSrhfntP1PlvYWO1TTvVhv3ZKvCLCiT4k1NmhmXjlPK/ZrB8gEo4lDG7NJgKhfkZy88PO4dY2VL5y9DdHHHFEEbKqn3rlWf3Fd+ysNo91jnaqLSqLPdY5FT3ptXbLh5a0GFRgVU/10FbcuJEvZlXo1P5dJ+qgHCz6+aPaU+2rbZR9/c7RBxMAiYzqgKWynet9ZYssZWu/yMterLvfUwd5EHOJ03bnrkuLiC5Vjmhg/hxLEK521O8M9UwKgRAIgRAIgRAIgRAIgVEgEAFyFLw4AjaMd5Bl4EYENBg3WCU+ijgh6hggG8waRNZB3KBolCOKRfSTAatyCCuEFGUYtI+3nPHaNmhdZ9t5hA+JDybrh63ZNpNlVVuqP7dmH0FCW9F+RANqQyK+vE+g0161Ia9nQ6r2qUu10f+d73vdmVwnxDfXJDGVaEY4ITKx0fVCmBvLxpn0YWfd6/9j2afefCR6TdSq5R2Ic87hWz5k41iCUi1nrGf5yYcIR8SqbUW+3q8sx+Iof/l029Prvc66EOgIc+whQIra09cp2w0f7/NhvZnSeW79X3vxGKssfbQ+FUNtReS6cuTNPuVoN931r2XUZ593t8+xzvGZuhOS2UlsZKPkRlVlq35j5VPLH+tZW1naRnq6JtzAqkuLdJYzFkd5q8Nk6zFWHfNZCIRACIRACIRACIRACAyLQATIYZFPuQMTMDgzUDVwJQTWQawBpMHdVA3e5GPwryxCg3IMMJVDCJiqcgYGMY9PJEAQrurUfT6ZrAg0HTi1Ee1UpBUxR529V9vpKLQhthBYXBvslKqN9f/yZo8/eLiuPPOhx2xM6lVFshrhy+6p7Af6tRVlTGU5vfiyhf+qcFzFxPG20zpdWD3HEhF9XtsKMXImrwf9Q71x5JmNrs2x6tuL1dbe62wrprJXv3p/FK73rdmfz0MgBEIgBEIgBEIgBEKgH4EIkP3I5P1ZS8Bgd8OGDc0DDzzQrFu3rkQLGUiK3hFBZOrnVAgZhAZTIR9++OHmqaeeKmJXXTNMBI9yMqCc+WZiDT5TYa0BakozH5jyaFqnaENi8Wzyi7p4EF9q5NZsqt9UeLDaWO2qz/3yFuFnqq/1Veu6kQQ+05Ctd8ifxK/ZlNhURUf12pqNg9Rdnh7DaCu17E67Ov/vtkc0r3Uc61q8ddq2fpgPRf326oc7y6k+Hquc7nIHfU0M1J/73rB2sGtRRKRIepvwaH9TcRND/+T74v77798yBVt71jf5fppt/dOgPHNeCIRACIRACIRACIRACEyUQATIiRLL8UMlYEqb9Rivv/765s477yz/G1gaOC5p15qzi6pNL6xbVqN3JlphA1PrPRK5rr322i3lWPtP5IwpdqbXnX322WUtPxE9STNDgODB7zfffHNjMwmih0RIIArbsdg6azaAIeLMtjQTQsswbR6PfURjm5DUa5hg03ltua7sFEzgrwLVMG3qLns8NnafM8jrmSqnu27jKdd1R8zjw7vuuqusqajPJDjqh/XBNudxTeqbe+XZ673uukzFa1GWxFL1vOWWW0r/oR+R3FAier/66qvNiSeeWKZO9xJNx1sP64PacEr/RJgltEv6J+XonywfYor2bOyfxmtnjguBEAiBEAiBEAiBEAiBQQhEgByEWs4ZCgEDSQPHm266qfnOd76zZVdhkYoGs4899tiWgbCNHEwHHWQwSQwxkPzxj3/cXH755c3jjz9eBEnCpEGjckRe+v/iiy8ua4tlMDm9TQJ7fhExd9lllxXhg3BVp8Py84MPPlh27yVa2XDC9Pmk2UXANSw6jLD/3e9+t3nhhRdKZDH/8pvoNOtIup5t3JFosdnlP7XhK34jsv3t3/7tls1kXIv6QZuviGo1td6NgGFHs6qHaFv9+XXXXVfan/ck4igh1aY02pr1KdV3oqn2T0RH3xna92uvvbalf1KOtu0Gmv+VZc3LpBAIgRAIgRAIgRAIgRCYTwQiQM4nb89xW633J3Lq+9///haxiaBRkyiXtWvXlpd25rWBTF2Trh4znmcCiHIuvfTSMlg1aDTArKnW43vf+16JtrOWWaIgK53peSZuiJy75pprigBNMKjioxL5hJ9+8pOfFEHYpiEeSbOHgGtIlNxtt93WXHXVVSXC2HIKndeWz2+44YYSMWa6qqm8MxUpN3tIze6aEO8IbVdccUXzyCOPlBsDnf0wH4oCtLbiQQcdVKIhh3kzQH/uptWNN95YxFHfEzXpNzxEKoq4JXp7TLTNuTmyadOm5uqrry7CLIG2s39Snkh9/ZNdsBcvXlymZNd65DkEQiAEQiAEQiAEQiAE5gOB2TdHcT5Qj40DETCQtHaXCCqDyM5Bb83Q4Ff0ovW3CFKDJDukiop56aWXtkQ+duajXHmrByFs0HI688z/YxMgVGEt8lRkUbfviVje89nTTz9d2snYOebTmSbAP0RkPuTLbvFRffjR9N7q605xcqbrm/J6E9APWwaDH/mw+1p0ln5YtLr1cwl8w0raD+GPYGqadY187KwPoVAfLnJTn98tHHYe2+9/+fpu8r2hnF5MvPf666+XyH0CZVIIhEAIhEAIhEAIhEAIzDcCESDnm8fnsL0GuwaKolV6DfCY5n3iJKFDVMogyWBSGQbR/Qaj8iaUGNyqV9L0EuBX/uB//uknTBE7ql+mt0bJfRACfFf908+Hri3XleP6HTNI2TlnagjUfngs/9Tr1c2cfn311NRm67nU6ER9Q6+6aGP6ed8Z+phB2px89U3EWd8//fJI/7R1f+WIEAiBEAiBEAiBEAiB0SUQAXJ0fTtyllnnz1Tn7bffvu8UOVPn7IhtR9NBN7BQjvW5PPdb21He6uJhTa+k6SXAD+PhzRf1uOmtUXIfhIBrk39Mz+2XXFuucdN2JzoVtl+eeX/qCNR+mB/7pdoPW+uwXx/a79ypfl97stnM1vppG4xpl4O0udo/abP49Eu1f9K+k0IgBEIgBEIgBEIgBEJgvhGIADnfPD6H7TWYtbnMknaX1X6DSYM/O45aO86AcpBksGr9QGs7Ekx6JQNVa4ZZzyubCfQiNLXv8SvW/L/LLrv0zJxwwHf77rtvOa7nQXlzaASINHxn/Tubk/QTeghbfO366nfM0IxIweXmjmuMH/v5x/VqM5eDDz64bx86EyjVz/fAoYceWurdr75ESutV7r333gPduPI9gcnSpUvL908v25TtO8xxixYt6nVI3guBEAiBEAiBEAiBEAiBkSYQAXKk3TtaxhH9CIvf+MY3ymCxW/gzCDTQvPDCC5sjjjhiYGHQINEGGN/85jdLOd3RKso1WPU5kaSfSDla9IdrDYGAeHXuueeWTS2Iw52JIO3zCy64oHxOwEqaXQQIMK6lE088sTnvvPOaJV03EnxOfDzllFOaM844o4g5/QSj2WXZ/KoNcVH/6lpbvnx58WknAf3hUUcdVa7VI488csxo187zput//fmpp57anHnmmc0BBxzwCdHUDSttTt9CQBykzXX3TwT2zlSjMM8///xSVgTITjr5PwRCIARCIARCIARCYL4QyNzR+eLpEbBTBBVhyWDSWlr33HNPWfjful0GvaLjjjvuuDLAs5NpvyjJraGQl3IImQQT5dg0wPp1ptgRHe2yfdppp5UdUw0uk6aXAFGAXwgafC/S0Q681ur0md3ODzzwwOacc85pVq5cWfw0vTVK7oMQcK0Qgc4+++wSaXb33XeXjTms0ydSTXQYoWjVqlUlWmwQMWiQeuWc8RPQDxPQ9MP6RP2jDWesfegaFRlJZD7ppJNKFOSw+0d1WtKK3fpzN4/Ut25kRZzUHgmQ+hb9yCAJE+UQZn0fWQLkwQcf/Fj/tGzZstI/uUnWffNskDJzTgiEQAiEQAiEQAiEQAjMNQIRIOeax+ZxfYkRBm6EJmKF6Bu7sRKhRE6JXjHlz2BTlM6gSTmExsMOO6yUI89nnnmmDCwJX8oRAUmInEw5g9Zvvp7HL0Tmk08+uTw/9NBDzaZNm4oAWad7ahtEBIJA0uwkIFKVUCPyzDVs13oCJNGGSCP6eK+99hpoKuzstHj0aqUf1i/ymb7QDtA2DnLDxjW4YsWKIlIS5YadCKC+L4499tjS5tTNDSUbx2iD2py+3v+T6c/1T6ZwE18XLlzY6J/seu19/ZO2jpX2n/5p2K0i5YdACIRACIRACIRACAyDQATIYVBPmQMTMHCrYiORQjScHUy9b/DrMZlBZK1YLacKjaJ7lCOqspYzaIRlLSPPEyeAuemNREaRjnWXcu9rF3w/nwf3dt/t3IGX+OExmxJBiAhDxFrS3iywq7I686FlFjzGiprrtHGm7ZupsmeqnO520Vmuz/rxdY3xH/GO2CYSkqBX+2E+HKt/7C5nuq9Zdrh5JPqQQKo/l/QXtT+fijqw2feS/omQjouylaN/IshORTml8vkTAiEQAiEQAiEQAiEQAnOMQATIOeawVPejQXEdxBEgTXkz4BW1OJZwMQg7+RksK8Og1aDbQHKqyxmkbvP1HOzroJ5vJK+1Cc/zOWmjb7zxRolGcz2IUPM82xI/EWtcT50+9P7WfMi+t99+u4jPItuImWOJXVNlOzFJuXXaP0FL+VNdtj7tzTffLGURrvjQVOGtcZmsnfyg7M2bN5dndokK1LfW/razDPVxLWKgT6xpPNfhO++8Uzhqr9onHypnOpP6qhs7le+59ue97Bu0LvLCxc0R5XitHL6cbh8OWuecFwIhEAIhEAIhEAIhEAIzQSAC5ExQThlbJVBFiK0d6DhT/R5++OHyMJXOIM/g1dpjok5ELQ66llctXzQPseGBBx5oHn300TJlr67tpRzTD0XgiZ4Za/BaB5zjta+Wn+exCYzFfOwzB/u0+nGws6f3LG21XhPWxXzuuefKNUEY0lZNOTXFtJ+QNL216587puMV8ol/r776allX7/HHHy//E3iIc6a2imyzfuR0TPnF1xIMptQ++eSTzcaNG8s1b1qt9QP1A5YGmKwQSfx74oknSjlPPfVU6X/YI6JOn2ZjF0LkeJnpc8bbbi1loEz93YYNG0p7UrboRm2Hnd0bP/Gs/D3Gcz3yF/H2/vvvbx577LEt60YSIJe2y1rgqBxiXb/UaQ/7JtKvWqdSX+67w//OJSIvaaNwLQmg/ejPJ5MsJWA6uraiLGK5OhNy999//7LOpAju8YqtE7FvMvXOuSEQAiEQAiEQAiEQAiEwEwQiQM4E5ZSxVQJ1ALu1AZfIIALE97///ebee+9t1q9fXyITRZfYOGb16tVlE4sTTjhh4Om46kB8tFnBT37yky2bLBBBRPrYgOGYY44pA0vCAFGgXyJeEAw6B879jh2F99lZBRIcPUbB9touu+3j32Em9SI+EnWuuOKK5q677ipiOTGLmEJA0lYlQuTWIunY1/lwXrXd/8NIyn/ppZeaO+64o/nxj39crn+CGfbEK1Nq7WBsIxEC1ljtTV7VPrZ4PZZ9rnkbllx33XXNzTffXISzGgHpJocbEcq1qzeBTj80SCJcEQCvvvrqUk5dc5aoSej84he/WOpJDLTBVj8bO+1xTH09lo3aD+Ea2zVr1jSvvPLKlj5VWfrSs846q6yhOJY4uDW7RVYSOL/73e8WIVk5+BLjrKdbyyG09uszqx3Vh5029iu/RiLefvvtzQ033FD6cyKyVMVPoqtdvQn2g4qQ6uaG2E033dRce+21hambY+pY1w4mSLKTvbWf7K539Vm1sfvzvA6BEAiBEAiBEAiBEAiBuUogAuRc9dyI1bsO3A3E+yWCg+guouDf/d3flSgoA1gDNoM1G9IQKgz6CIMG7oNERFmTToTMpZde2lx//fUloqWuU0coJQ6IcvH/H//xH5cpiFVA7ay7elXRkpDgGPUc5WRQzZdsN/D3PApJ22MPH2pTnvnWe8NMrhebuBDkr7rqqtI2O6+J2lYd9yd/8idFcOkVqVf9xRaf86G26v1h+1Dd7SjMxiuvvHLLuq/qxQ9VrFPnGgXZ6zrjQw/nVIGrvtfPRoIRUVd/U3c1do4kj3Xr1pWbIEv+KYpukMhr+REBiZw//OEPm7Vr1xYb1an2a8qRCIDErH79mrwql87rsNa5ZNL1R193yy23NN/5zndKn1r7OodhS1TTzm2wQsTuxbYry0+8VD4bLrvssuYHP/hB2TyqliM/nxEk+Vrfzc5eAh3b1MU5nT70Xj8fmuYtslT7Yady6nWrLfhOUb7vC4KkaNaJJmWrO5GTfcRqEfPsrnV148yNLWUoq9+Nq2oL+9RvEN4TrX+OD4EQCIEQCIEQCIEQCIGZIJCtYmeCcsoYk4ABlshCgzWDxX6JsChS55prrtkSpWOwVh/OJUKK4vEQLTlIEl0louzGG28sg2/51jIMMr0WMUOcNEAnHvRKBqUi0QwkDTpF+oz6YJLoIYIIJ0KY51FIfE5QYJu2ShggoHh/LHFnum0nkJnuqS1q++pY26pn9RMlTLgzJbTfNaGtiuxjS7eN7BxmEoEocu7uu+8uAk4VftmnfekXREMTl4hl/errfddqbaOEVnl4r5cP5V3ZEbCwlkflqx52OcYVfzc/Bkl8pN76GyJVtw/1Iaaf6/eIk3j0S/JSb7bpc2o7lUevxG7tR7Q3IbKeX210nvd9LgK1n8jXK+/O97Q75YhAFH2onFqGZ69NbyfgiQTFoFdiGxGPfa5DvvReza/XOcrGVp9OrO9sP/zpc2Wq29NPPz2QjfKpQq5y1FG9qo3K9B4xG0fl9UuYO5fIzM5R/87oxyHvh0AIhEAIhEAIhEAIjB6BCJCj59M5aZFNCAxuDQZ7iQGMMoAzyCO0GNA5rg6IPXsYuBqs14H8IDAIMcqoUxFr3vLyv3KJFqJmDGh7CZCOUUefEQKsAeZ51AeTRFZrDxpAE4YwGIXEjx6iz+qGGWyrot2wbHRNiOByXWj73W3Va+IMIU3UruurV3IcMU37rBvXED/k2U8M6pXPdLynXgR/wlu95tVX8uw9x7CPkKft9Uo4sF/79NBWnV+nAnefQ1QillmvkJ/l6/jOh/fkqb9RB4LTRFMV+ap/qo3yqWVpaxiwzw2Sfkld5Mc2UYT6HK97+V3e6q9tVOG2ll3L9VzrR5yrDPqV3+994q1yPHCt+Tve/8rVX+hPcVBmr+R9nImP7POsnWLCv91J3q5bIrHzOsuudeAzbZwAWqMwu/PZ2mv+cQ2ua78TtJnK0Xmd5ZiG7nodS6zGii3siwC5NfL5PARCIARCIARCIARCYC4RiAA5l7w1onUlepiSJlqnDr4M4LpTjZQxODOo65W8b5BpMDuIGCBPg2yDVvn0qodjvG/QauDZqxznGvTXgaS11AyW54MAaeAseof9BLK5nviaAKVNmJ5JhCTseJ9gor0MKylbG9MOx2qrjtFetcvuVK8Zwr2IMmsZioL0YLdrcphJnQlPvepe64UD+9jZiwMbfc4em4Boo0RI9hK8fNad5KPMsfoS+br+tXPHej3RpJzqn35tSb587LixOPChz7VR/iOWO8f7vZJ8fY5vv7p73+faf79jeuXd+R675KGsfnngWG3s5UP58ROhj12mMOtTXYv9bgQ5R15b849j2Kf8fvWTV7/kHLZ59POhc/mmHtcvL0I7O31nRIDsRynvh0AIhEAIhEAIhEAIzEUCESDnotdGrM5EOaKAAbOBogiSXqKeqB6DzrE20iBiysfgjbgwSFKOtdzkI79eycBQpFgV27qPMcg0UGYHMUAEJFFu1AVIXAg7+BtIjxWt1c1str7mSyIcYcEmJ/xOAOFPU/AJK8NK2qq6EGF6rZmnXtowoUY79Nyd2OW6I1Jpz9b6c+3IV8RWP/GqO5/pes0217zrsV9SX3VnYy8ObCQk8uWSdr1G+fGjh8g3n3ULT9qysl27/u+XfKa/wLZff9HvXO87Xz3UqV+fVfs1x6lTd1J34pYoSf/bOds5fMlmEY7d9snDMZgpu1/SZ7mm2diLbb/zOt/HRhnq3q8PrLy1u168iYQEZIKx7wssal/jPddoLxsx1R+5VvqVjYNy5ef/iSZc1MdDOf2SuuDQjzcbian6FDc7BuXdr/y8HwIhEAIhEAIhEAIhEALDJDDxX9rDrG3KHkkCBoUGtyKvDMCs82jQ3J0M7pYtW9YcfvjhfQfqBrg2ojjuuOP6DvK68+1+TXCw6+z+++9fBqTdn3utHDvSVjGj+xjCjTXP5GVga+DZb/Dbfe5cfs1Gg/iVK1eW6ZYEkbmeCALEDQIYf3smDvCtjUl6tdWZslnbshOznaAJcL0Sf2jPy5cvL9dZ9zEivyw5QIRjE3GHAGS3dyKyKaOuy2ElIpprUX36JZ8deuihpX8gDHcn/nNNEpf0IVix067H+hs3PbojC12zCxYsaI4//vjSl/S6fglEBLwvfelLW0S/7rK39lpfwj4+IpT1Smw65JBDyiYw6t2d1J2vTCEmbrFRfflc4l+iVqcffc7P2g5hvZ/wxkbtfqzdqbvr0/1au1IOG3DtlXBcunRp2YQGk+4kKpCf2KiP952h/cvX1O5ePmQjHnaeJsr2EjYdg++qVavG3J26uz6dr4mOfOi7qd8mNvhqT/pGvLsT37gWTRVXT/lFgOymlNchEAIhEAIhEAIhEAJzmcA2f9GmuWxA6j4aBAy0iAQGkQaTBuOEE4PDmgzgDMwIQI4jmBhU16gXg1GDyIsuuqg59dRTi8gwyADOOVUwVCePKjKpg+niBuPf+ta3miOPPLIIEJ31FG1lvTSbGhhwexiAz6eEoc0YcDQg58u5mm699dayZhs7jjnmmNIG+Vt0p01B7NpLPOklfE23zbWtui5qW63XhLZK1NdGf+/3fq859thjSzv0fmciEtu1V7TuEUccUYSPeszDDz9crjHCUPf12JnHdP7PRtc4gYYY7Fp0jfEBu4mP55xzTnPBBRcUMdZ7ndejutnERqQjoYgYxRb5ysvmNgQt4l+niFvzd+ND5J2HPqdGZ4vqIySdddZZzZe//OUiZg7SBrBWZ/VRBgGqRmSqg/K1sd/93d9tTjzxxBLV6NjOZLkDG5wQiwlyfK4urr917bqEoliJX/pIZdUkf8ewiUCrDWGLtTKId27m6FNPOeWU0s7ruRN5ZqOHsgiI7KvTndVBn8ovF198cenDe0UrsoPg77o744wzioDMRue7DtmmvXvuTNUOZeLLzio2O991fdpppzVf+9rX+oqfnfn1+l8dqg/ZxYd8Ur+bfGctXLiw2Hf22WcXH3W3FXWy2ZGHtuh61cbknRQCIRACIRACIRACIRACo0DgtyORUbAmNsxZAganRADi42233VaeiQSdgoBjREMZhBNZDLhF9ogaMbDdb7/9mtWrV5fPRcc4fpBkIGlAbKBo8KpeBvYGlupEjCF0nnTSSSUKp3uASCQxNVfEjggkg+L5lAy2Re8QXQkfNoDoFbU125kQBIgdIuSIBTV6i7/ZJnqOQEOk4+NhCHTaqrJPP/30glOdCDWENeKFa4JoSrDRpruFq7qmHnGO+EgkkSfhhDBDtNKef/7zn5cyeglD0+1H9SH0nXvuueU6J0K5AUE0w9zNCgKSiORuUYeQRnjiQ+Ka6DN9Cg6eiZfaqinKHhh19huOWbFiRfOVr3yliEKimolL2oA2rWz9kYjDXlF742EjL9eMPoXf9F02vuEbtuvz+EZ/pL7e60z6JaKe3ZVF+emf1KWznboO9avsU+9OG6vYpU+tfbA+tYpz7BMFqh6DJuVpW9qp60p70tcrU5simooiVU6te2dZ6oMJsRxz158+nx/VSxSwjV1sBqQcn9XEjipSy5uN2rQ27saBsk8++eQSQev1IAlrdVE3NmmXbCR4+oxPfRfwofbk2uxMVQC+8847C48lbcSpvsW5SSEQAiEQAiEQAiEQAiEwKgQ+PpIZFatix5wkUAfP99xzT5m+bADWPQ3NQN3g7Otf/3qJ8iEMEhYMLB1rcGlA3S20TASIQZ9yRB0Z6BJwiDqEDK+JOupgUNldDjGA2EHQIQY5jh3zKRFIcDLQFgV53333FV/xUTev2cqFOCGCSVsk7hCACBVVENA+CHSmXBIgCXWEnWH4moBDABP5dfTRRxfxW92JKdoqQYo/utmzkWjjGiKAEPCIOWz0EHnHh/Jas2ZNEVd83i3yzYQP63XIFkKUeovUcw2qo3p13qyodXI9iihzQ8DnBEjiFPs8E+QIbIQf12xlVc/HDMdT24hq/Yt8rO1KUCNqLWmvb+1gspFq8mODaEr2qItIPb6Vv7anrtjXNqiOfEgQJbw99dRTJVpRnarAyEbnEtwIlCIjcehkJU/tR/7as5s6hDNtnM2VSaeoV/lM5Jkopy76Z1GVBF9rj2pn3seTPzvtkz8RWRvldwItoVL9Hcc/rjk3nq666qpyLbpRgGVt747D0bVBnBRZyEb5qgv7PCbbPylHOyWi4qm+hF++0Dew0XectlL9U/nhIGr+3nvvLfY5v9a/HpPnEAiBEAiBEAiBEAiBEJjrBCJAznUPjlD9DXgJiAaIN910U4kiMUA0KK3JIM9A2EDPgFbkC/HEgM4g02B6KgZutRwDRuUTLgxYiWvK8OgeRPrcoNogUuTcN7/5zXLuVNSn2j9XnrHhR+KICEjTXE1bHzTCaKbtFqUlQuvSSy8tgpB21ll37UPbOLUVpkQ6sY8QQnyY6aQu2qVrpU7XdU1od9qp66K7raojcU5b5R8iu2uPCFOTc6yrKNqQuGOatkhDQtFMJ3VRN7a49vmH+MZu/Ybnbhtdj0S8H/3oR+VYwp6bAp3H8RkxjEiOAxHXdO7OhK+yiUJsV3btH/7/9s68Ocory9NHaEFCK0iAQEJI7GBWs5jFdlVX2a6uKne5JqKre/7q+RQ9X2eiIzpmpmaiqnuiXJsLvGFsg9nB7JtAAoFWtKANiTnPTV6cJCkpE2UKpfhdRyq3N++95zn3Tfz+8px7mA9j83y6DX/xXYO41ugiIj6k38iHvJ84DiIsEaFHjhwJP5ggciV+X+JXbMfXCK3YzPP4xhgz8Z3KOIhxrFOiBaN1iijH93q8b5gfPob3oUOHwjrkRyFshHvU6JPvZzgg4nHsb37zmxeiDPkM/mN8flCg4Ttep49EtlH/6dwzf/zHmuT7Af/QsI3XkvmQdYog+sknnwT78T0/aKiJgAiIgAiIgAiIgAiIwFwjoD0g55pHc9geLgC5IOQCDvGHdDvSELmATrzI59hIYOHCjovIZBew08XBBWU0TnShmmwcxByijP7whz+ElHCEG0QdhIvEi+rpzilXPg8n/EQ0FemfCByIH4nph7PNHkQD9gw8fPhwSKckbRQBEsE7vuFXhAvWB1FxCHVEkWEjr810Yz6cJ3BnrXLjeeL6Q9QhTfTgwYPBTub73nvvBWGGz8a3qD9eIxoUuzg+XoyNPz6bj1lL3OLtg38yGxF1iFZEjOJ7hPRmBHDEOfqIWtQfdhHpymfwM/bRd9Q4Do6Mzet850S+j+8vOv5l7+mLuTBO/PcaryWOgx9Zo/iF9otf/MIaXbzic/HH8lnmyvcq0bp8p/K9hGAd36KxOTZ+/fD5TDXGmGicZOuUCMLPPvssRHgiPCLwIyDGH0t/rAHmTLQuQiRsEJOxOWocx+c4NrKRe57zXqZaNE7iOmXsZOMw32+++Sb8eMVWCQizzD3ZsZmao/oRAREQAREQAREQAREQgVdBQALkq6CuMSckwMVgJNohCCDqESUTCQLxF8PRhR4XdhNd3E04UBpvTDUO+5Pd8hRtxIA7d+6ESCnER6JY4uebxpBz4lBsRxSgEeFDNBoNAStRzAtvvOI/iBYIyezzF6VeI1yRlso+i6yx+Ma6YL1iDymUrFdSg7GNNYy4MdNtqrXKuYRQSjQcUZvMlWgwBHPmy+fjGzbjQ+zBPm6Il5yP2J14fPxns/GY8aayEQGZtGv2iCUNlmg/0m+JfsNf8Y2+WKfYh++pJI2UiY7jAAA8b0lEQVQIyXPYxIvliWNHz+P7y8TjqexjnbIdBGIiadXYyxrlO4c5J1un+BafIeghlhOhzbH4MJ7JVGNnwj76mGocbORHKNYpNpKGjg/ZCzTZeUV/+IxG1DXfN9iFjYiQvE/jfqqxw4HT/JM4TvQ86hb7iOwkdR7xkfMK29gOgB8x4n0SfUb3IiACIiACIiACIiACIpDrBCRA5roH59j8uVDj4ouLMC6sEXQQERACuCGGzJaLMy4iEZ4QLBCsSG8kSofUYy4mZ8s8X9USwZdEYyEA4Dv2xkQcQCAhBZMIIR5z3KturDUiNfHll19+GQQB9k8kHZfIzYl8yfwjoYq1QDo2Ah32Iohg42ywD74IbAgdRFx97lscILwhsCLsYMNE88QGfIiABR8ErOhHAbjQz0SfnUm/Miei+xCuiLhFhMR3FK9BfIzE8GRzYp0ixtE4l+kHu7Cbz2HfbLAR0Qohn/0eie5EiCT9mArS+CdRfIxsxZboXMR/+JG9c4m0Q9DDjxN9NupjJu6JXI3WKQI51a2xmQhdiriksk7xI/9m8F1Df3zXYONs+a5hnfJdwb6WbGvAj1YIrBSo4Uer2fSdMRM+1xgiIAIiIAIiIAIiIAKvDwEJkK+Pr3PGUi70uWAk1Q4hh329EBS4gCQSjQvtV90QH7mQpMgK++MRNUckGYJVY2Nj0iidVz3nVzE+vkT44MIaIQdRCJEOYSDy72wQPhB1SLv+93//9yDMEFGGIICAhXgzWWP+iBxRei/iHlGGrGH2gUPcmQ3iFcITadcIV6zfjz76KBSeYe6TzY/3EEVggWBFVDLnI+muvJYYRTcZq2y+RyQy3xW/+93v7JZHJFNA5de//nUoPIIvprIRwRgfkpqMffSFMI14if2zYZ0SucgPHR9//HEQrihaQwEW/DDV/FjH+I/vUFixTqOIXeyeTKDNpt/i+47ER/btJPoRwZG9dPlhh8eT2Yh/sQFbOO8Q2rlxbrP3J+9NdS7HzyVbjxGNmdfvf//78H3IDwDR3qqz5bsiW7arXxEQAREQAREQAREQgdebQJ5fiD55vRHI+tlKAIGPKB3EBIpEsJcbYhbFIIgwpNJpFN0yUzZw8Yi4RNQKYhqpfkRJcYHM3l0IbcxxMrFjpuY6W8bhK4YbEUlU9yV1FHEHoQdfIhRRnRZfzpRAEEXLkXLLXEiFRIxB3KYaNNFWiBgIV6k07CNqjhRX7KOgCWsFkZW+iKbkMSLKTDUixzh/sAsbiQrjNc4bxHIq/6YjHmIjUaKcjwgo2InP2KOV9c89Ahdi3Uw0RGyiTfEh5yFRgcwNnxEVyI3IMoSnVM5H7IMPwirRuvyoQMQoNlL8BF6c3zxPpb9MMGCdso6YB9833PApc8CHrC0ExXTWKeIjYjQ28gMKY2AXqer4kP744WcysS8TttEHzBmf7wYiV6PvB8bmu4GtARr9Bx3E4VS/G+iPCEPWAz5kTbAmWaP8u4GgzDpljJnwI+uU6t38u8Fcou8a5sQPHfiQc1L/bmRqVakfERABERABERABERCB2UpAAuRs9YzmFQhw8YawQ7padOFGlAwXj1yEE+0SRWFxAcdFaiYvKhmf8bhoR3xB7CCihjnREHAQJrhYnk3RbmFys+wPwgDiDkIDAh0X5LAl6gcRF4EOn/IYASRVwSFVMyPBCl8i4jA+EWWIWIyF+IhAgSDKukpXSIsELPqMxGnWCnZjD6JHVKma54hGmbSR8YnYwx4EGEQdbqxbXmc8hKbIRoS5dEUmGCKIIWoiYCG4ci5wzmET5wB2Rj7MdEQXNrJmmANrCfvgjcDDHBCqiHaLRB18mM73Af1jI8wQbRGxsDHixxpBoMNGxGSYYmOmGuOzXqLvHNZPZGN0rjA+ohyiKHNIlzFjsEboG4GupaUlnA/YzZqgf27Yyncqr2XSRlhhCz5jneI/zkV8iu2MhUiIDxFEX0aYwxbOc2zj3w0E14gfzDgPsS9ap+me61P5m/ERs5lD5EP8yBxYj3zP8aMExa1YS+mu06nG1/siIAIiIAIiIAIiIAIiMBsJSICcjV7RnJ4jwAUzAgCCQ3RBSaQMF69crCICckGHABJdjPOZ6TYuFLkg5mI9Ejy4oGQMLmC5eOQimceR+DndMef657kwx5dwvOXRQIhY3CMI4j8EAW4ISXDORMOPrAfGRvRgbASmaP0gWCHmECGFGPAywlz8PBkHoSEqaEKkIAIIggQ2slYRQSJhJ1NrlX4YA0EQ2zhfWL+M1eiCFRGBRJoivExHcGGc6LyIIoE5HxElOQ/ifZgpYSUSERkb+zgf430YCav4kR8k4DwdcZdx8CHrEhsR6rhnXPwGQ7hib6bXKedH/HcOjxE68SHfOYhyCOS8FnGJX3+pPo7OBwRW/BeJkfSJbdF3anQuRudRqv1PdhxsOQ+jdcpcsAnxn6hH9gBmDtH3+WR9TfYe5wNjsG0A9rH3JUIg/fLvRvRdA8tMtug7ABtZQ6wbWvRdg5384DLd75pMzll9iYAIiIAIiIAIiIAIiEC2CUiAzDZh9Z8xAogCXJwjIkXCAJGRpGZHkVi8z3HTuTCPJhz1w8UpF6tcMCICIAAQ6cXFK+9NR+iIxnod7xEh8CURUIg7pNHiyygaKuKfSTYIRoiMpDziR6KQiPZC7MCX6UYETjY3RIhIEMQubIzWK+IZ9nNMJtZqNA+EFcQ3RDjEDmwkDZnnkeCZyfEisQx7sBEhiwhXfMhr2JfJxprAT/iQc5BIOc5JBCvO0Uyfj4wXfeeQBh2tU2wksg1xEDE2k0xZg/gKGxGMo3WKjZHgmel1ylpEJMOH/CCAnYh22JgNH7JO+f7kxxt8yHmIiBytU+zLFFN8GAnmiI/4ju8afsziOXbj40yNx3qnL2yMvms4F7GRNct3DcK8/t3I5DeD+hIBERABERABERABEcgFAhIgc8FLmuMzAlxMckHMBSORUESYIGIhBPBapi+WuZDkQpGLSUQBooG48ZjXeT+TF67PDH0NHkS+jEQ6fIlPEUPwJe9nskW+5OIfISfyZSQGZFLUiebNesSOKPIS+7hhH6JIJm2M1iJrFSEOIRIbsRUbMynqRPYxf27Yg42IOZEP8Wumz0fG5byLfBjZiL3YHTGI5peJe+zDDr5jsC36zsG+bK1TbMFG7Iu3MZs+jEQ67OOGvZyLkY8zwTLqAzuwD7+xRrExWqfZ8iF2YE/8uchz7OaWyRZ91+BH7Ip8qH83MklZfYmACIiACIiACIiACOQaAQmQueYxzfcZAUSBSOCJLpK5z3SLLoi558I5GyJApuecS/1Fvot8yT1tLvkSW5Kt10z7iTVKS1yr0euZHi++v2T2zUUfRr7kPhv2Rf57FT6MbIvOxWzZiG3RLfo+jZ7Hr6lMP47sSbQvG36M7OFe/25k2pPqTwREQAREQAREQAREIBcJSIDMRa9pziIgAiIgAiIgAiIgAiIgAiIgAiIgAiIgAiKQIwTm5cg8NU0REAEREAEREAEREAEREAEREAEREAEREAEREIEcJCABMgedpimLgAiIgAiIgAiIgAiIgAiIgAiIgAiIgAiIQK4QkACZK57SPEVABERABERABERABERABERABERABERABEQgBwlIgMxBp2nKIiACIiACIiACIiACIiACIiACIiACIiACIpArBCRA5oqnNE8REAEREAEREAEREAEREAEREAEREAEREAERyEECEiBz0GmasgiIgAiIgAiIgAiIgAiIgAiIgAiIgAiIgAjkCgEJkLniKc1TBERABERABERABERABERABERABERABERABHKQgATIHHSapiwCIiACIiACIiACIiACIiACIiACIiACIiACuUJAAmSueErzFAEREAEREAERmBMEnswJK2SECIiACIiACIiACIiACKROQAJk6qx0pAiIgAiIgAiIgAhMi8CTJ09sbGzc/E5NBERABERABERABERABF4bAgWvjaUyVAREQAREQAREQARmmMDj0REb6OuxB/darbm52ToeDtn8ijp7992dVlW+wPJneD4aTgREQAREQAREQAREQAReBQEJkK+CusYUAREQAREQARGY0wSG+nuso/2Btba22p07zdZyp8Wab9+2rr5RW1Cz1upWN9nGxvlWXiwJck4vBBknAiIgAiIgAiIgAiIQCEiA1EIQAREQgRkgMD4+buNjj22ctMu8eZafn2/58/JmYGQNIQIiMFMEnjwZtzEiHvv7rPX6BTt39qydPnfert68bd29gzYyOmpP8outvL/Amu/1WP3SahcgS2ZqehpHBERABERABERABERABF4ZAQmQrwy9BhYBEXidCIwMDljvw257NDJmBSUVVlFeZhUL5mcMAfvKRS0vT8JmxEL3IjCTBMYfD1tnW7MdO3zIvvjqO7vW3GrdfYM25r88PLE8Kyout6qFi61h5QorLfQfIvxVNREQAREQAREQAREQARF4HQhIgHwdvCwbRSBHCIyNjVlHR0dIUxwaHLRFC6ustrbWahYvmbYFCHQDjx7ZwMCAFRbkW2VFpeUXzMxX4MjIsJ07f86+/OIz63Exor5xje3Zvdu2bdlk89IUC7FjZGTEenv77F7bvbCnXG9Pj436a2P+Xp5HVxYUFFpdXa01NTba8ro6K57hCKuhoSF70N5u9+7e9WIbj92PC62xqdHmzy8O80vXmayLUY8c40YkaSS2IrTOmzfP+51vRUVF6XY7rePbfZ22td23nu4um+9jr1zZYNU1NYH9tDpO8mHsHfTzId72Al/DRUXzQyRtko+89EuMhW137tzxKL5+W7iw0pYtW2Y1Nemfg/QV76upJhUdj0+zJaIzBuvp2o2b1t3V6eef2ZKaaltevyKsz6nmONn7vX39duH8KTt65Es7ceKktXf12KPB4RDxXF5eYm9s2mwNq9ZZfUOjNTSsCOdmZenMrtvJ5q/3REAEREAEREAEREAERCCbBGbm6jubFqhvERCBOUMAgenmrVv210/+ZkOPBmzdmlW2a/euaQmQ/f0D1uMCXWdnp4sO163LRYf65ctt/759Vu4iJGJHthvCUVt7hx0/fc4Fq4c2PDxi69c0eTxU6g3RpLfPRce79+yWM7p//77ddYGv9W6rF7jos8ePSe/2aCoX5fLn5Vvt0sXW6ALk+g0bbNu2bS4kLbLCwsLUB5zGkX0uXJ0+e87Onj5lo8PDtn7dGlu8uNrHL3LBLDXe2NPz8KE99Bui9IMHD6zLfRiJVEwvEiBra5dafV29LfX7qqqFGRflkqG45Xv5HT9+wu64L8rLFtj7779nFRUVGRcg8fmdlha7fOmSPXIBfdzXQXHxfFu9qtHWrF1vlZVVyab30q+xVtmn8OChT63XxdVVTQ321lt70xYgh93vnV1dvu/hnbA2U50Q4zc2rvTxarIinNM/czt69Khdv37dFswvtM1vbLCF1TUvLUBybg48GrTjJ07YN0cO25lTJ6y17UH4caGqqsoaVjTYxo0b/LbRapcjVC/2KMgKK/TvnnnahiHVpaHjREAEREAEREAEREAEcpyABMgcd6CmLwJziQACZGvrXTvyzTc2OvjIHo8Ohsi5VG0cc3Hh8ehjjxAcdrFm0KPGHtnde/fs9u07Hil4y06fPu0CYLcLKrtty5bNVlZekWrX0zwuz4ZHx+zhwKD1uzg3MtRvT8ZGUo7yQlgkKu3K5St28tQpO+v7yrU/uB/6ghn7SSLGPcF+F0O4v+32Xrx40S5dvuyCy5BHXL4VIvQ4Ntut36NML/q433133IbdB0/GH9s7775tFZWIg1OPjqCDaHzi5ClrcfGt2UW+5tvN1ua+pEVRdTxGQF7ZEBN4Nm3aFMTWRYtc7MxyRCTr6vSZM3bNGVdVlnk06xZbt269ZXI3P3zJ+XDos8/s66++8hT+hzbmwuyiRVX2wfs/8ejg5VkRIO+5bd+6QNfrYv3gQK+Lnauh7rfUJXMija+5wPfpoUP2yB9P1cL69XWOQPjhL39uJcXFWREgWTvDHi189vx5O+f+owr1guIC271n31RTTPo+/Q0MPLILFy/ZoYOH/Nw8EyIrw48AHr29Yf1627Vzp+3dt9fXf2UQ4bMZ4Zl0knpRBERABERABERABERABGYBAQmQs8AJmoIIiECMAAVaxv0hF/WILwhRFHVItZG23dXVHdJHL3jE2MUL34cowd7eXhvxqCcin8bHx0JE1jyPEpypRmo0NpFujdASbgzur/mTSaeB7DPqourX3x61v33yiV27cjmkYNMfNwTF6upFVuDRhdiHwDk8xJ5zLnh6mvaFCxftbmuLp5xX2Y7SUisrK5t0vEy9ybzHxmKCKHMJtqbY+SP345Vr1+x//Nu/eRRedxBQWQuIU/EtYoDIevPWTTt67Kj913/+J3tr774gzsUfm+nH7sVgEuuUNTXOOsWfGWxE7170dXzw4EF76NGEiI+04uKisCZCxGsGx6MrGI+zX6HfHj92u57ax3mYl5f6OTM4NOzRuffsjAtyD7t7ApoplnqwhHNjz84dNrxuXYYti3WHh4J9fh9+sHAbWZ+spZdpo/751rY2+1+//W04N/t6HwZRHB/9wz98aPv27bcVK1ZYkUcf581AtPXL2KDPiIAIiIAIiIAIiIAIiMBMEJAAOROUNYYIiEDaBJDlEHlSbQgIzZ7u+cXnn9spj5wjdbXfb0T/ESUYEzMRGV5OaEh1Hukdx1wmt5F32bOydulST0VfbBe+P+/PCzy1er01NTXZkiVLrL6+PkSLkQba3NxsR74+ElJfBz1lF9t7XIi8dOm8LV9ea2VrsiPsxNuN3yLf/eDHye2M/3yxR78tqvZ9+TxVfnCg3/c6LLRlHk3W6Pay1yMiFWJre3unnfe9NQf8mCEXvDo6uuyQR9wtdVZLfN/QefnZ/ScOQS0mqsVsy9TKoh/ExqPHjtmRI0es3yMfUfCwO1q/LhE+exzPbrqPY73632e2vVyPnI8IfWMunrMGmftU2x3E7POoVk/Tn+rYl5vV85+CZuS/mAeffz+VZzdu3nCB+JDduHYlrEO2GFixos5++csPbffuPS6EL5P4mApIHSMCIiACIiACIiACIjDnCWT36mzO45OBIiAC2SAQEwMiSSC6n3okIu7ueTTSlatXLc8FEKL9ysvLXawa8b0EY1FYiHkIeCENcuouZ8URzJWiFW/u2BEEuRUuzK1bv84LzdSHtM6FXqyHCEgK0bB/3kKPiPzjx3+wG9dveEr6qEdMjob97jZv3mqrZ0CAjKDFxJ3Ys/jH0fsT3Rd4VGeNC5Bvv/22rVu9yvfmK3JRsdaWezEUCgchVAVhteehVVRV2hlPrSc9GxHy5s1mFyI7/f0Rm59lAXKi+U/3dcTHW75twClPt7969UrwK31GAl3oH6VwJhqnX+qn4LMZIUCyHQKRoURP1tc32A5fvwsWLHjejmefiD3AxnXrNlhpaXYjdYNJT/+8hHlhsn0eoXr16jU76Xs/kh7Pfo6rfb0eOLA/rN0a3+uRQkHP+S3BXj0VAREQAREQAREQAREQgdeFgATI18XTslMEcpAAolU64gCVrZctq7Mmj5Qr8EgkBKtiFzzavCDE6VMnQxQkKctUEA7FUNJRxabBL6Reh/TLmDXPBIk0xq/1SMddb+6whZUVvidfk+8DWG3zPVKQvp5Fi5WUBNF18ZKlHil5IVRppkI20XNUbH7oqeivpAWzU/ckNlW6cLzf980bcwGVoisLFpS+UESHQjVFzoD9Iu/fbwtC16PBIRcih4Lw6kW3Z6zhyjTcOeG8iNR9+LA3RD9eunTR8F/RfK/y7Sm87F2IoDyz7Ydo1nTGxTek0pPKzbnW1LTSPvrVr0Jk67P1OkGHpb5VwMxWNU99bcZPmRRzfuy440V7+PGDgkBbfS/QvW/t8x8E5vv2D/fCd070mQIXz8vK2Aah3Nf0DC7OaAK6FwEREAEREAEREAEREIFXSEAC5CuEr6FFQAQmJ5CXNy/l6CFEqyVLl9gHH7znkYLbXIDMDwJkXkGhff31t/a9py6PuzBF6urL7vc22Wzpc6J+EVyiQjH0EQRI1zxIUY1SahP75phw3NM3EC9ItUZUpb9YHy8KJxxXWV5mtX4cgkifC1iMMjg04lGBsT0EE8fKxvNnM/MHwRaPDuO/VBsVu5d4yjmfiOcQ/3mYbtiwLlS/znc/jz+OpfrGjkl9rPg+X+rxU1+lY99E41A86frNm/bJX//ihYRuh+hPOCyqrrEb/nq37wU5k42ovhj/1Hn6qWBDHnXc1dMd9nJlTZb7mqxZXBOqlE8lQE7k72zYjWgc5sODNBr7b168fMmu+V6lw/69QqurW2YrGxu9ANJ8O+xFgy5duGB9vg0EDZvKPSJ7y+Y3bMvWrdawcqWPGyseFQ7QHxEQAREQAREQAREQARGY4wQkQM5xB8s8EcglAlykx8sARFE9HkM0Q0KLfye5VUWFBVbnwtuSmppwwR+ixrz6NHsIBlFj6i6SdzzFq1T8vX//fih+k3goQw571NoVLyYyggDqwsW9e/e9IvdZt6ogCJPJhMvlyzzl2FOtSz1aKmrYMM9Ft2BL9GKSe94n7Zw0ZcjRCgvZVy9LAGJDPPc3miO2EdVHWnFs38LnDpv0CZGjU7VQ6MbtHPf+Ha6LumOTipZT9Zfq+0wtzM4BU6glFMmhEM00Gr5iC4HPPvvcOr3q+ZgLqvWNDbb/wD7r6OwJ7/WkwGQaUwhrK/IdFiJaY1u6Lfj9adEgfgwo8HT4/KfC+Q/9p9vr9I/HZ/Hj8yPAiEeWJjsHJxqNQj2P/Fy+6AJjs4vCsUJZT5zVmH115Gv79PMv7YH7cdAjQPkOixocLvhnvjt+wt5554Dt27/foyErnptPdKzuRUAEREAEREAEREAERGCuEZAAOdc8KntEYBYTIFW22dMVr3jV4sQLfkSBQb+ov3w5tucdF/V377WF6MWu7lgUUTLTVjU1+p5x63wvxKpQZZrUxvmeskqjz9Hx4WeiytRyVvhY2n8e+v5v37uwcPjLL4NdkW3ReFTbfdDe7gKkp6S6SNbplbpPnjptd1ruxqKvfMToMwzOvPfs3mUlnnocL0BG73E/UUMcoQJxd3eXPXJhNGoUsamqrIyeTuu+x+399ttvQ//xAkvUabdXPb7uexdSlRwB686dVvvjn/5iVQurg+AaHRfdl5Yu8GIdtbZtq0eueuRjqg3x8fr1my7WdTq/8cCyylPUF3gKbzr9JI4HwwsXL9rVK1eCgBTvG47FP+c9xb2j/UGooEza99Fjx62z+2HYuzDZ8Ys9+m/N6jVW7xWRJ2p37rTYcd9PkO0C8F119ULb9MZG27lzt33hEXWMm4IOP1H34XUi8ihUdNHtS5wnB1DVm8rbg48GAtP7D9rt62++9WjGXh9/XtK+m5oafVuAVSFKM3bAE4+AHArRmuPuowqPfqysqAjnZbAhaS+ZeZH1eP/BAy+6dMk6OzuDKB3fc+z8GLK2u3ftse+NOuDn45Wr1+3jjz8O3yHxx0aPS/w7Zfv2bbbYt0EoLi5xQXbcurp6fN21e9X5vmcc2/0cZ/9RBE0a30Xc+CGgr6/fP/fYuv07sM8/M+TfBfwwsnnLVvezR/riWzUREAEREAEREAEREAERmMMEJEDOYefKNBGYbQS4+D577pz96Y9/jF20+8V/1LgAJ9LqkVdufjwy7JFsLto96LCBR8ddDLocHfbcPZ/58Y/esaVLFj8nHjx/MU9q9HMfy/gTIp1aW1tdVDzle94lj4LDNsQRRB8Eq9teZKS19W7SuTD/Wrdp65bNSd+f7MUhrw599fp1e+B7IlIFO2pNTU222FN5M9EQXP/85z8HgSlEWcYBZu4xwSUmsuBH9sr75G8Hkxbk4PjqRQtt69YttmnjxpSEQxgiVhN1eswrRd/z/kmjLVlQYps2bfKU7FovVpO6kJnIBMH43Pnz9uc//SkUgEkU6phzf3+/Vz0eCOsUwRdBGfEc4fP549mjM8/Wr1tj872C90QCJH5DxD569KjdbW0JgtS6tWtD4Zb6FQ0+xbyn50zibNN7TnX4899/b//vP/8zYZ6xfpg7dg352sF3HZ1dIWLv4iXOwRdFMlj8yKP5qirKnwmQpCcjsHV5ujgsS3xv0gXum9CfR3YOcI67KMdn+bGAYlEUp8nEvo+svbtekOjzzz8P6dHJzkfm0eV2sb/oI48yveGFixCPSftPbMyx0oX76kWVVu42IkCOeIGjZj9/e726PNGvUev3ojRVVVXW4CIz59rChQt9PRSF77RWFzxv37rl+7A+9B8HeuzM2XO2oKTY+6wMaekF01iv0fi6FwEREAEREAEREAEREIHZTEAC5Gz2juYmAnOMAOIAwg2RSQgDzws1MWNDKqu/RyMai4t6qhsna4gDvV6wY8QFy1fZqMxMpFOZR94hbiRrwy4wYRs2s3dhiNR0QSqZNopdvM/eeek0xu7u7rZPP/vcRSyP8Hq6J2Khp6avWrXWRZEl6XQ34bFEeCHy9LkQGdkUfzA2RmIrr/MYsSYvrz/+sPAYW0mbRqzi3gG5zvW80EV/2MY9N9LL77S0eLrrV3bkq8Meidju0aLFtrx2qf3sgw9sVdOqpJGWLww+yQtUNb7nNjIfxkxs2E1aeWj+PsI5Psae+MZzbjWLqmIRqfSVcAwRdRQJopr3pYsXwscrKsps566dHhW63fJcXCWSkIIuz/ceP1Jqj6NzsOPpOZjsUyFd/qmwxtyCIOmCbzIBEuG3x6uRE+0aNXgR+YowHwTAwGfQfdZqV69dt2YX4np7e8L6XuyVote6ONvY2BjWZ6ELdlPtERmNk+yesRmXaOsOFzuTCZB8DhExljqd549HQ2RispR/fIevHw08cn/HxEb8fOHSBbchVtSJYzinF9dUB8F49+7dtmbNmiDIYk+/C7o33eb/+N3v7Lz/ANPZ1enrZdCOfPONR7i+YWvXrH3uB5Rkduk1ERABERABERABERABEch1Auld3ea6tZq/CIjAKyVAamxdXZ1t8UqxyYSBx36BjzjZ0nInXPRTuGKx7+dY7SLFRG1FQ4NHvpVO9PaMvL7UUzPff/99F4u2Jh2PqszfeqTeX/76iT3q67U1q1b6vn4HbPuOna5FJU9rramuthoXNNJppHkfP3HSjngqeFeniy8uxixcWOUpvNtt9erVXgikIp3uJjyWaLXt27fbQxd5klVlpvpxm0cn9jwVFSs9LXrFinqPcCtOKi5VVVW6QLraRRz/JylBYRt1ka/fo/ZI++5zwQchkxTh8x6hePt2c5hDuVfM3rRxg/3dj991QWeLR5VNz06EKCIV33zzzWBfMgES1gifAy6oIxTX19c560VJIzgRqNgqoNrXcmILgpmvjz9/8olHJp4PkYPFxUX2wfvveQTstiBM9Xr6bkzYflEITexvqucI28t8n1SqNSezC7ENcZKIXnyLqL7Eo3EX+XpMtlaxjYIqZfFry9cdIuYokcyeGt92v93+dvBT++7EqZCKPOzp2YyDq2FX6hGQDQ0rbIenOf/oRz+2yqqFSaMRp7KN9xECF3nkIQJgiGj0ucQ3bEYQp6AP6egFLqCy/pYtr3u2dUP88TxmfWF/of9gQKOPURfhg0/cfrZKaPK9On/1q1/b5s2bbaFXqIdzoduGeFxZUGEb1q+z//KP/2iPXUj/2oVzIieHh0d9C4FrdvPGddvm3wVqIiACIiACIiACIiACIjCXCUiAnMvelW0iMMsILPT0REQ6REW/in9hdkS2nfQosDbfw23cRYrly5ba7t17bOu2HS8cG71AheAqFyxeZUNsCJWKXfhI1kgXvuUpmwUeiYhgw56H9S7Ebtyw8YVouOjzCDMUrUi1Ifh9e/SYHTx40PemexCiR0s8xRNh52cf/OxpWnJmvvJJM/3Fz39uIx4JFhPGnp8l4txXvm/gOfflyPCgp6TW24cf/tKFwaqYyPj84S78FPn+lFVPBZ7nFch2j2I7efKknT1zxgXIPht2UYu99tp9b0LSfCnWs83F0N27dvl+eltcvEo+RsKQkz4lAm+LC0k1ixYltY8PHzt+wr777rsQbUcq7Vt79tgb/pnikgVJ+67w9N3apbUv+JuU6O99i4Fzbl+7r3siOVevarI9e97yIkR1LtB5WrCfKpwuSU6ZpGNN9iJ7MWIbIl2yhj+PO2/E8n5PF166pMb27t1rW7fvCGs32WfY37ImLro2JvKNhjRufmgY8VuHC+JswYAoCF/StInGRMjrdKG6xyN3qfDN7b33P7C6+no/Nib4JRtzotc4b+q8eNNPf/KTZxWo44/FvmEf83/+79/aoIt/pS4ekh7/7o9+4nuUJmfCnBtW+g8dnn5Now9+VEBEZLWWuCD/hqf+r9+w3n9gqX8mQnOu0ziPS/2YNf4jwAbfZoA9OFtdPMeh7e0dYT2HA/VHBERABERABERABERABOYwgcxcjc5hQDJNBEQgcwSInFvhkWWIb8kae8N1uhBBSnPecF4omrJmzWoXY/YkOzy8xkV+stTJCT+QhTeYAyIF4keyRlJ2QVSJ2x/Pm5cf9rsrduHqhZC/px1E4sXTpxPekabe5UVtjrkY9uXhL+2CR9ER4cV+eitdNNnj6aBbPJKOKNFU+5xwsKdvLPA9/Yigm6ixP96VG7cCkzFPdUXs2uZ7PFYvro0Jakk+GPzowlRiI6X8e9+z8EuP6hzyvTNR4xCvELb4TH5BfqiuTKrwoKe1jpaPBoFrOmm89MsaXe6RghMxe+BCGZGYvE8xESIc33xzh0cCTlzoJ3FOpP62eKTh5198bi1enAlBt3HlCtu/f59HrK71vsq9/0Qi03uOWF7v4h6RyMka66nD9ygsdFGYoRFOV69ZFc7BiVjwevx7/LSAOEcEZH6+RwD6PocVHgVLJOFSL4aEkDfia5S0+1uemhyERxcniZzt6uoI82NfyHhRM9lck71GBCQCecUEUbDYR/rzH//y11BRvsjtXLp0sW3bttVF+mXJugyvsY9nfAQoIiv/0TjvWeNlpWXPoiTDG3F/4FPuNq2oX+HRlsvt7p1m/3ReSN3v9+89NREQAREQAREQAREQARGY6wSSXy3PdatlnwiIwCshgKARhIoJIvv8mj6IS9HkuMjneESFXGjxIswL88W4Zy32OGhL01CYEFN6XCz67vhx+6MX9rnighjiI2Jobe2SIGS979GPVNKedG7P5pXag6l8EiLcXCCMGn4kaozX0/UlUXKIWSGKzCNHGTsWYecpvi5u3r7d4hFknXb16jXb+9YeO/D22y5grQhFTfzgaApp3zPXRMEwvhOXo57KT7FXEUURk1O1Dxu6EFe98Mxnhw6FCukV5aW23lN133vv/SCiTTZ+/FzSeQy/ydYC6ydsj/BsuXIOktrM51I7D+kfUQ4RkfTk9evW2VovqLOysTGkRrMVAEV3bt68ZYc++9RO+vq939YWogrv3vO9MM+ctuUukL6MAAkLxp/ID/iJ9O9nDTv9tfw01ib9Uzxnnn8v8XHSzXt6ukNEJwL5RD8q5LuIybYSRKEGqH7omO/rybmhJgIiIAIiIAIiIAIiIAJznYAEyLnuYdknAiIwJwkgc9z16s9Hvv7aPv74D0HAQTyaXzTf066X268++sj3ftzt+/ctCYJMrkJY5GnQuzy9mqg99sUkgm/AC4Lc8jTWEyeO2x2PHKQAzPUbN6y9o92LfdywX3/0a0/L3jGtStjZ5oWwevr0GTv85Vc27Knkru95FN42e/vtd3yvyCVB3Mr2HJL1z7qKIvuSvZ/Ka0Qkr161yv7bv/xLiCSlKjkRiUTlEi1KBDB+3LRpY9gigL0zD3/xRdgLkUjW899fsC1bt3ll9G0u1L0YFZvKHLJ5TExgdTvcThpFme613fMIzljlcOybrME4ak+7iJ7qXgREQAREQAREQAREQATmLAEJkHPWtTJMBERgLhIgco7ose9dpDnmhW2Oe+r1Pa94TTQg+1Bu2fyGvf3OAdu48Y0QQRb2EMxhENUuQLJnIVF0JZ76TWQb4t369evD66d8n0n2YrztgmRnZ5edO3veU6eXh/Tldet9j81Z2PDhZY/YPH3qtN24fi2kOjc1NQahdePGTS+k8iNSEQ2J8EUj+hIO0fPw4iz6w1wRvtk7sqys1MXGkmc2xc+Z/S6LPZKQfWHZF/GWF4ahMnV//4CLzP1hTRd64aLZ1gp9X85lvsaK55eEaNwQzXmrOexRSnTlZAIk74cIzHgVcrYZqPmIgAiIgAiIgAiIgAiIQBYISIDMAlR1KQIiIAKJBEJkGX9cRHL9KQgXicdM9RzhrbvnoYuP573gzFEvzHLW7ra2hJTrxsaVQcjZv29fKMpCMZSJ0lCnGmc2vc9+k9wS22IXW1d69eXFLnQNuyDb6xWyu7s6vaBJt129ds3WeMrvbBQgiVJ96HNFPL5w8YL1enXvgoJ5HuFZFwroDA4NhwrU8fZSAby/vy+k1xOdOOYpu0R9dnZ0+meLgrhHtXOEr3iBL76PmXzMHEq9ejZ7vtImmhOvc1tetzzsDVnoYuSIR4MSUYh9Qx5ROCsFSI/iZC/bkgW+Lv1kplr4A98G4P79Nq/Y3u9VsBclxT36OFZhnAJKkf5Y5tsKINKqiYAIiIAIiIAIiIAIiMBcJyABcq57WPaJQI4RIDps3KOgQlgYl+modXOgEbuG2MLeePO8MMdEokwyU2Ey6AVYHniK8aXLl+0/fv97u+3FOwYGBry//FBEY+/ePV6Jea8Lb+vCvnK8l9jYG5I02GwLk4hkzJkWPX5ZN07EideLiubZBo+EJB272VOxe7q7grDT7fticguFajwaLxsN+2I2xvakjD2eeq3ix2s3btpRF5Bb7tz2Ptj/z/eb9IhG9kR88KDjGbto3hRNaW1pcUFuMLyHQNfScjekcFdW3Qrpzex/WVzse2R6P9Ntz2xzxtFj/OdP02oT+S6xkwUulpd7ivYCFy0RIB8/jlXQHnR7J6npk9hNas+fuijsu/h0UQYbU/t0OKrQz+H6ZbG08gI/p8Z8viMjo3bt2lVramrygjuVL5xjjEe1b/YqveXnLmOy72StF+VZ5inqaiIgAiIgAiIgAiIgAiIw1wlIgJzrHpZ9IpBDBBBjiPIb9igw9ldjP7jnCkbkkC2JU0X4q/RKwAs8eiraDy/xmGTP0UhGRx/biVOn7PDhw562e9K6Ojps2EUoWpmLNjt3vGnLl9fbfY+sogJ1YouJSGPWsKIhFAGprlmceEhGnyO2IJLR8B8+ZQ7ZaFQnhmuVVyF+gkLmRT0Qrgb6e30OQ1bkabKpCmHpzG/UIxkfe0QbfWPr2JgXb0nBxn5PLT7nVb07PVqTz/EZ/HvkyLceFXkipFonzgOeQ0NDTzlaiA48cfKUnTt/wYWueV4xe5W9sXGdR8IWTXvvyNh8/Bz0qNJ5vv8iNo75DSk5W41zg3RsCrtEvkKWTYVn+nMignQs2EcRJxriYTpjIeATcbrWxf6WO3f81uyfN49KPmY1NTWenr3MFlX/cI5R+IY07S/9/L148XsbHOgL45aUFHuF8bXW2LQqPNcfERABERABERABERABEZjLBCRAzmXvyjYRyDECROg1NjTYT3/6E5vnF+1NK+vDXms5ZsYL0y12gWXnjh2hiMoTFz0qK8q9SrVHPaVQYANRtr2z046fOBHSdh96lB8pn4gaiDXsl3f8xEm7cOlyeI7Yl9gQV/LyntiePbs9zbfCi5z8II4kHpuJ54iimzZtsGKPzhwZHvSCJE2ejlsaBK1M9J/YR55HkoWK0W4nkbMwi1WlTjwyc89XeJXmPbt3WVN9nUceFlq9i7uF7uepWnl5ue1880079s3X1tXe4eLXcBC/EE0RGSdq+DASycZdZB0eHgk3BEg+O+5ifSYkQqLyGjy9+Mc/etceu2hWX1dry5Yv92mlGf44kSFJXh/w9PJujw7s81RzbERIZb2U+C3TjbWC0Llr55u2bMliK/M06rVrmnysWLp4KuNx3hUVFvhWB9u8EFSrtXkBmlEXkzs8Jf7wV0esz9Ow2cuzsmph6I5o3Bu+v+Wx745Zi0fqEuE936uD79r1pjV5sR5sVRMBERABERABERABERCBuU5AAuRc97DsE4EcIjDfBZxVTY32i7//+yBEVJaXGXv9TbdFacChH1dp4sWc6fadyueJmFruUVGkW9KQcoJgFp5N/oe5Iky1P3hg7e3tlh+Smr0Pov28EYnX0toaHkevhSdP/0SiFYc3NTWG6NL497PxGJFt25Yt1uRC1jiCq0colpaVu96aWjp08I9PLKoyPNUcQ2EP5xA1Cu8UuYiVn1+QNdlspQvl7E05+GjASMmt830Mi7wC+VSNQjprXXR69513XGxf6VGNsUjRyT5HtOs1T93t7PTIVxcFiRis9/GW19WHvRaXeTowe36muqYmGyvfbWlqbLTC994LvisrW/C0knpqvqPvH9ZcbI1ONh7vtbXdtwf374cUc54XuzhXWlrmRYdSFwX5XCoNRkRb7t2zx/o3bbIit7fKRXnSwNNpnGtU+t6+fbunw7fa1SuXgiBMGn1vb5+nWTd7pHNlEIUfPuy1u/fuup1tfv4NWamLnSsbG+yAVzyvr18R1mk6Y+tYERABERABERABERABEchFAhIgc9FrmrMIzFEC7I9IZODSOKEumaiWjvlEhdEHImDs9nxF4XT6ms6xCB8vIxAx9/nzi2yRF7ZAxJz3VIBMdy5of4sWVYdK0ul+Nt3jEebWNDW9IESl4kuCGPv6+z2KrC9USC4rKwuC20SfJX221wWe3r5e97PP1D9f6oU9EEFDBfDwYroWTH38Uo+eW7K45tmBzG+iOT47yB8QYUjhkZ+7yI6wHPYijD8g7nHoz/vt6emx3/6f/+tFh06HtO3S0hLbsWOb/fjvfurnSm1Y1+WVVRkRspjfUi/sQ0V1GvhidqUmJhKB+9AjGbmnEA03zrtkDeF4wIvNXLp8JYjo454aTauuXuQp9VUeUTq1oJus38leQ9Tmh46NGzaE9RlZlao4Ht93taf9U8G7z6OQKZhDESSiUe/ebbN7d+8FeDEx9kk49zn/qxctDMWT3vI9O3ft2u2p2tXxXeqxCIiACIiACIiACIiACMxZAhIg56xrZZgI5CaBVIWcVK3L9zTnIk/tpiJvvu8XOH9+oUfjlYViMKn28SqPg8ciFzo+eP8927L5DRv3SD9E1XQbxWrq6+tD1Fy6n32Z41/Wj1R4PnvuvH311WGrr11i+59GiRH1l9hIRW7zyNCLFy/azevXY0VnnFdVVWXYEzKmSCZ+KjPPX9a+aPSF7FmJ2ppCK/aUYdJ52aIAwSzfq12Xe3RwtYtXiPXM5WXE7YmGflnbEFPv+/6knx46aB3ul61btwSRrby84gUREtPD9gEnT9qnnx7yCMLLYTqMvdWjZ0kDz2Z7WRvj5+RTtYaGFfZLj/BtWFHvdh+yS5cuhnRyhHH2BaXhG9YvgvU+r1K/f/8B20j0pb+Wl8I2DPFj6rEIiIAIiIAIiIAIiIAI5CoBCZC56jnNWwREICUCRUUFtn3bFvvv//qvQRBgzzwKRZSWekowCsIsb8yRPetWeURhne/Fl6polWgW/ZDaWlxckvjWrHmOHEeBlq+/+caOeUGPcx75ee77i76f3gZbs3q1V0ku8/kXh6jBgYFHoarwsWPH7MKFC6Ei+DwX5ha5+Lht2zbb4BFus7mlKhgi1CFSxa9UthRA7MOnE0UXvgrbh110+/KLw/btt0ftge+LiF+Of3fC9wPdFITSIKC6GIdwTBGea9eu24kTxz2FucUL3Tz2gkGFVuMRghs3vREiO1+FDemOScRohUfbbt2y2Wo9KrbL97Ls9ojVTt8PcsgrehPVyZpd4u/VLKqxJS4YV9dUu/j4Q8GddMfU8SIgAiIgAiIgAiIgAiKQiwQkQOai1zRnERCBlAkgECx2wZEowki8Q/yZTcLNVMaEtF2P2iQdea430o07vehOd3endXr15faOdrt3755Hll3yvftKQqGXWFXo4ZCmff36tVD0g2rYVZ6mvvet3bZ585asF9qZKT/ENPK82Np9LmDyuSczNZ0Jx2E2RK+y1+EDj36kInt7e4c/brc7LjBy/nHOkeqMANnb2xuKt7T6/qWcl2wzUO8Ffd55+4CtWbvW13r5hGPNtjfYOmJhVZUXl6oIe7IOeRo2WwiMeBr6ExcgKarDPqjsM8mxL5PuPdts1nxEQAREQAREQAREQAREIF0CEiDTJabjRUAEco4AkWJc+KvNfgIIOSs8VfxBY6P19jy0hy5UNTc3h5srVc+ln+NX9vQjHXmxp7euWb3K3v/gfWtsWhXb/3H2m5vWDIMY6aGQ2B1uaX06uwcToYlQTkGcBq8ITskaolQRGs+fPx8Gj34AiGaCPWyPUOHC3bLltWE/xQ8//Affq7TGKIaTa40fNthfkhs2JTZ8piYCIiACIiACIiACIiACryuB3Ps//NfVU7JbBERABOY4AeSZbZ7Kuqx2adg/8LzvBfmtp2PfvdsaCrYgYMWLOAg+5RXlXol4mx04cMB273krVB6eq2IztiO4omONBzF2dkVBlniK/z//5p9s5/YddubMGTtz9oydPn3aBryoEAVn4v2HLaQh4+sD+/fb3n17bb2nzZeUlM6JVR6/TueEQTJCBERABERABERABERABKZJIM8vCGbXFcw0DdLHRUAEREAEcpsAFZQfeXXk/oEBu9/WFqoqUy2534Ws0ZGRIGRRwIO0ViLNFi9e4vt6VgfxMaT5otDNoTY8PGLXvMhOR3u7DQ8PhXRlIgbr6lZY6YLZJdjxfxSDXhEaXz3s7bP799uCL6kOPeg+fMxej+67BQtKvBp4Wcx/vj8iRXkWuC2p7o05h9wrU0RABERABERABERABETgtSAgAfK1cLOMFAEREIHcJDA8PGwIkiMuPA4NDT2LpCPKsaSkJBToQdCaq1GPeI3fCbEd8Y79LxHpCgsLQgThbBXsmHOYt/vv8VP/4UMiIfEVez4SAUlhGm6z1Y7cPGs0axEQAREQAREQAREQARGYfQQkQM4+n2hGIiACIiACSQjEB+wrxTUJoFn+UuQ/+W6WO0rTEwEREAEREAEREAEREIEsEJAAmQWo6lIEREAEREAEREAEREAEREAEREAEREAEREAERCBGgEKVaiIgAiIgAiIgAiIgAiIgAiIgAiIgAiIgAiIgAiKQFQISILOCVZ2KgAiIgAiIgAiIgAiIgAiIgAiIgAiIgAiIgAhAQAKk1oEIiIAIiIAIiIAIiIAIiIAIiIAIiIAIiIAIiEDWCEiAzBpadSwCIiACIiACIiACIiACIiACIiACIiACIiACIiABUmtABERABERABERABERABERABERABERABERABEQgawQkQGYNrToWAREQAREQAREQAREQAREQAREQAREQAREQARGQAKk1IAIiIAIiIAIiIAIiIAIiIAIiIAIiIAIiIAIikDUCEiCzhlYdi4AIiIAIiIAIiIAIiIAIiIAIiIAIiIAIiIAISIDUGhABERABERABERABERABERABERABERABERABEcgaAQmQWUOrjkVABERABERABERABERABERABERABERABERABCRAag2IgAiIgAiIgAiIgAiIgAiIgAiIgAiIgAiIgAhkjYAEyKyhVcciIAIiIAIiIAIiIAIiIAIiIAIiIAIiIAIiIAISILUGREAEREAEREAEREAEREAEREAEREAEREAEREAEskZAAmTW0KpjERABERABERABERABERABERABERABERABERABCZBaAyIgAiIgAiIgAiIgAiIgAiIgAiIgAiIgAiIgAlkjIAEya2jVsQiIgAiIgAiIgAiIgAiIgAiIgAiIgAiIgAiIgARIrQEREAEREAEREAEREAEREAEREAEREAEREAEREIGsEZAAmTW06lgEREAEREAEREAEREAEREAEREAEREAEREAEREACpNaACIiACIiACIiACIiACIiACIiACIiACIiACIhA1ghIgMwaWnUsAiIgAiIgAiIgAiIgAiIgAiIgAiIgAiIgAiIgAVJrQAREQAREQAREQAREQAREQAREQAREQAREQAREIGsEJEBmDa06FgEREAEREAEREAEREAEREAEREAEREAEREAERkACpNSACIiACIiACIiACIiACIiACIiACIiACIiACIpA1AhIgs4ZWHYuACIiACIiACIiACIiACIiACIiACIiACIiACEiA1BoQAREQAREQAREQAREQAREQAREQAREQAREQARHIGgEJkFlDq45FQAREQAREQAREQAREQAREQAREQAREQAREQAQkQGoNiIAIiIAIiIAIiIAIiIAIiIAIiIAIiIAIiIAIZI2ABMisoVXHIiACIiACIiACIiACIiACIiACIiACIiACIiACEiC1BkRABERABERABERABERABERABERABERABERABLJGQAJk1tCqYxEQAREQAREQAREQAREQAREQAREQAREQAREQAQmQWgMiIAIiIAIiIAIiIAIiIAIiIAIiIAIiIAIiIAJZIyABMmto1bEIiIAIiIAIiIAIiIAIiIAIiIAIiIAIiIAIiMD/Bwesd4qwz+H/AAAAAElFTkSuQmCC)"
      ],
      "metadata": {
        "id": "PghNUObBLrUX"
      }
    },
    {
      "cell_type": "code",
      "source": [
        "random_walk = [0]\n",
        "# walk is essentially the sequence of steps after each dice throw\n",
        "\n",
        "for x in range(100) :\n",
        "    step = random_walk[-1] # last step from random_walk\n",
        "    dice = np.random.randint(1,7) \n",
        "    if dice <= 2:\n",
        "        step = step - 1\n",
        "    elif dice <= 5:\n",
        "        step = step + 1\n",
        "    else:\n",
        "        step = step + np.random.randint(1,7)\n",
        "    random_walk.append(step)\n",
        "\n",
        "print(random_walk)\n",
        "print() \n",
        "\n",
        "plt.plot(random_walk) # visualizing the random walk\n",
        "plt.show()"
      ],
      "metadata": {
        "id": "9F6KIc5RCcNj",
        "colab": {
          "base_uri": "https://localhost:8080/",
          "height": 319
        },
        "outputId": "b6c0d8ed-dbaf-475e-a495-c888092f54b7"
      },
      "execution_count": 53,
      "outputs": [
        {
          "output_type": "stream",
          "name": "stdout",
          "text": [
            "[0, 1, 0, -1, -2, -1, 0, 1, 2, 8, 7, 8, 7, 8, 9, 10, 11, 10, 11, 12, 13, 17, 18, 20, 21, 20, 21, 20, 21, 22, 21, 20, 21, 27, 26, 27, 28, 30, 29, 30, 31, 32, 31, 30, 29, 35, 34, 38, 37, 36, 37, 36, 35, 36, 37, 38, 42, 43, 42, 43, 48, 49, 50, 49, 50, 51, 52, 53, 54, 55, 56, 55, 54, 53, 52, 53, 54, 55, 54, 55, 56, 57, 62, 63, 62, 61, 62, 61, 60, 66, 67, 68, 69, 70, 75, 74, 75, 76, 75, 76, 75]\n",
            "\n"
          ]
        },
        {
          "output_type": "display_data",
          "data": {
            "image/png": "[encoded data removed]",
            "text/plain": [
              "<Figure size 432x288 with 1 Axes>"
            ]
          },
          "metadata": {
            "needs_background": "light"
          }
        }
      ]
    },
    {
      "cell_type": "code",
      "source": [
        "# we are simulating 10 walks to see the example walks\n",
        "\n",
        "final_walk = []\n",
        "for i in range(10):\n",
        "    random_walk = [0]\n",
        "    for x in range(100):\n",
        "        step = random_walk[-1] # last step from random_walk\n",
        "        dice = np.random.randint(1,7) \n",
        "        if dice <= 2:\n",
        "            step = step - 1\n",
        "        elif dice <= 5:\n",
        "            step = step + 1\n",
        "        else:\n",
        "            step = step + np.random.randint(1,7)\n",
        "        random_walk.append(step)\n",
        "    final_walk.append(random_walk)\n",
        "\n",
        "print(final_walk, \"\\n\")\n",
        "\n",
        "plt.plot(final_walk) # visualizing the final walk\n",
        "plt.show()"
      ],
      "metadata": {
        "id": "uU1i7EgHKvy5",
        "colab": {
          "base_uri": "https://localhost:8080/",
          "height": 319
        },
        "outputId": "7b942523-9b95-4736-b62f-738349132873"
      },
      "execution_count": 54,
      "outputs": [
        {
          "output_type": "stream",
          "name": "stdout",
          "text": [
            "[[0, -1, 0, -1, 0, 1, 6, 5, 6, 12, 11, 12, 11, 10, 9, 8, 9, 10, 13, 12, 13, 14, 19, 20, 21, 24, 25, 27, 28, 29, 30, 29, 28, 27, 28, 29, 30, 29, 28, 27, 28, 27, 28, 29, 30, 29, 28, 29, 30, 29, 28, 29, 35, 36, 38, 39, 40, 39, 38, 40, 45, 46, 45, 46, 47, 48, 47, 50, 49, 50, 51, 52, 57, 56, 55, 57, 58, 59, 60, 59, 62, 64, 65, 66, 65, 64, 63, 64, 65, 66, 67, 66, 67, 68, 72, 73, 74, 80, 81, 82, 83], [0, -1, 2, 3, 2, 1, 3, 4, 5, 6, 5, 4, 7, 8, 7, 6, 5, 6, 7, 6, 5, 9, 8, 7, 10, 9, 12, 11, 12, 13, 12, 13, 19, 20, 21, 22, 23, 24, 27, 28, 30, 29, 30, 31, 34, 33, 32, 33, 32, 33, 32, 31, 30, 32, 31, 36, 37, 42, 43, 44, 45, 44, 45, 49, 50, 51, 50, 51, 54, 58, 59, 60, 61, 60, 59, 60, 61, 62, 63, 62, 63, 64, 66, 65, 64, 65, 66, 72, 73, 74, 75, 74, 73, 74, 75, 74, 80, 79, 78, 79, 78], [0, 1, 2, 3, 4, 3, 2, 1, 2, 3, 2, 1, 2, 1, 2, 6, 7, 8, 9, 8, 9, 8, 9, 10, 11, 12, 13, 14, 15, 19, 25, 24, 23, 24, 23, 24, 25, 24, 23, 24, 25, 31, 32, 33, 34, 35, 36, 35, 38, 39, 42, 41, 40, 41, 40, 41, 42, 43, 44, 43, 42, 41, 42, 41, 42, 41, 42, 43, 46, 47, 46, 45, 44, 46, 48, 47, 48, 49, 51, 52, 58, 57, 58, 57, 63, 67, 66, 67, 66, 67, 68, 69, 70, 71, 72, 71, 72, 73, 74, 75, 74], [0, 1, 0, 1, 0, 1, 2, 3, 2, 1, 2, 1, 2, 3, 4, 3, 2, 3, 6, 7, 13, 12, 11, 12, 18, 17, 16, 17, 18, 17, 20, 21, 20, 21, 20, 21, 20, 19, 18, 19, 20, 21, 22, 23, 22, 24, 23, 22, 21, 22, 23, 24, 23, 24, 25, 26, 31, 33, 34, 35, 36, 35, 37, 43, 44, 45, 46, 47, 46, 45, 48, 51, 50, 49, 48, 49, 50, 51, 52, 53, 54, 55, 54, 55, 54, 55, 54, 55, 56, 55, 54, 53, 52, 53, 54, 55, 56, 55, 56, 55, 54], [0, 1, 0, 1, 2, 3, 5, 4, 3, 4, 5, 4, 7, 8, 9, 13, 12, 17, 22, 23, 24, 23, 24, 25, 24, 25, 26, 27, 28, 27, 28, 27, 28, 29, 28, 30, 29, 30, 31, 30, 31, 32, 33, 34, 35, 36, 37, 36, 35, 36, 35, 36, 35, 36, 37, 38, 37, 36, 37, 38, 39, 40, 41, 42, 46, 51, 50, 49, 55, 56, 57, 56, 61, 62, 63, 62, 63, 62, 63, 64, 63, 64, 65, 64, 65, 64, 65, 66, 65, 64, 63, 62, 61, 62, 61, 62, 66, 67, 68, 69, 75], [0, 1, 2, 3, 4, 3, 4, 6, 7, 8, 9, 8, 9, 8, 12, 11, 14, 20, 19, 20, 21, 20, 21, 22, 25, 26, 25, 26, 27, 26, 32, 35, 36, 35, 34, 35, 34, 35, 34, 35, 36, 35, 36, 35, 36, 35, 38, 37, 38, 39, 38, 39, 38, 39, 38, 39, 38, 40, 46, 47, 52, 53, 52, 51, 52, 51, 52, 51, 52, 56, 57, 58, 59, 58, 57, 58, 57, 59, 60, 59, 58, 59, 58, 57, 58, 59, 58, 59, 60, 59, 60, 65, 70, 69, 68, 72, 73, 77, 78, 83, 84], [0, 1, 2, 3, 2, 5, 11, 12, 13, 14, 13, 12, 11, 12, 13, 12, 13, 12, 13, 12, 13, 14, 15, 16, 17, 18, 22, 23, 22, 26, 27, 26, 27, 28, 29, 30, 31, 32, 35, 39, 38, 37, 38, 37, 38, 39, 40, 39, 38, 42, 43, 44, 48, 49, 50, 49, 48, 49, 48, 47, 46, 47, 52, 51, 52, 53, 54, 55, 54, 53, 52, 53, 52, 54, 55, 56, 55, 57, 58, 59, 60, 61, 62, 63, 64, 65, 70, 73, 72, 71, 72, 71, 72, 73, 75, 76, 75, 76, 77, 78, 77], [0, 1, 0, 1, 0, 1, 2, 1, 3, 6, 5, 6, 7, 8, 7, 8, 9, 10, 9, 8, 7, 6, 5, 6, 7, 10, 11, 15, 14, 18, 17, 18, 24, 25, 26, 27, 26, 27, 28, 27, 26, 29, 30, 31, 32, 31, 32, 33, 34, 40, 41, 40, 41, 42, 44, 43, 44, 45, 44, 49, 50, 51, 52, 53, 54, 53, 52, 51, 52, 51, 50, 49, 52, 51, 52, 53, 52, 57, 61, 62, 61, 62, 63, 64, 63, 64, 65, 64, 65, 64, 65, 66, 65, 66, 72, 76, 77, 78, 79, 80, 81], [0, -1, 0, -1, 0, -1, -2, -3, -2, -1, 0, 1, 2, 3, 9, 10, 9, 8, 9, 13, 14, 15, 21, 22, 25, 26, 27, 28, 29, 30, 34, 33, 32, 33, 32, 31, 30, 31, 32, 33, 32, 33, 32, 31, 32, 31, 32, 33, 34, 36, 42, 44, 45, 46, 47, 46, 45, 46, 45, 46, 47, 46, 47, 48, 47, 46, 45, 44, 45, 44, 45, 46, 49, 50, 53, 52, 51, 50, 51, 50, 49, 48, 49, 50, 49, 50, 51, 50, 51, 57, 59, 60, 61, 60, 61, 66, 67, 69, 70, 69, 68], [0, 1, 2, 3, 7, 6, 7, 8, 7, 8, 7, 6, 7, 8, 7, 8, 7, 13, 14, 15, 16, 17, 18, 17, 18, 19, 20, 19, 20, 19, 18, 19, 20, 21, 20, 21, 20, 21, 22, 23, 22, 23, 24, 23, 24, 30, 31, 32, 33, 34, 33, 34, 37, 38, 37, 41, 42, 43, 44, 45, 46, 45, 46, 47, 46, 52, 56, 55, 56, 55, 56, 55, 56, 61, 60, 59, 60, 61, 62, 61, 62, 68, 67, 66, 67, 66, 67, 68, 67, 68, 67, 68, 69, 75, 76, 77, 78, 79, 80, 79, 80]] \n",
            "\n"
          ]
        },
        {
          "output_type": "display_data",
          "data": {
            "image/png": "[encoded data removed]",
            "text/plain": [
              "<Figure size 432x288 with 1 Axes>"
            ]
          },
          "metadata": {
            "needs_background": "light"
          }
        }
      ]
    },
    {
      "cell_type": "code",
      "source": [
        "# we need to consider probability of falling down by 0.1%\n",
        "# 0.1% == 0.001\n",
        "# we also need to consider that step cannot be below 0 \n",
        "# because there is no such thing as step -1 or below\n",
        "\n",
        "final_walk = []\n",
        "for i in range(100): \n",
        "    random_walk = [0]\n",
        "    for x in range(100):\n",
        "        step = random_walk[-1] # the last step from random_walk\n",
        "        dice = np.random.randint(1,7) \n",
        "        if dice <= 2:\n",
        "            step = step - 1\n",
        "            max(0, step) # if step goes negative then, take the step as 0\n",
        "        elif dice <= 5:\n",
        "            step = step + 1\n",
        "        else:\n",
        "            step = step + np.random.randint(1,7)\n",
        "\n",
        "        # probability of falling down by 0.1% chance\n",
        "        if np.random.rand() <= 0.001:\n",
        "            step = 0 # start from scratch\n",
        "\n",
        "        random_walk.append(step)\n",
        "    final_walk.append(random_walk[-1]) # final step from each random_walk \n",
        "\n",
        "plt.hist(final_walk) # visualizing the final steps of walks\n",
        "plt.show()"
      ],
      "metadata": {
        "id": "PSKZTy1rQvRZ",
        "colab": {
          "base_uri": "https://localhost:8080/",
          "height": 268
        },
        "outputId": "ef4a3285-56f8-4f75-eed4-326eae92f5f7"
      },
      "execution_count": 59,
      "outputs": [
        {
          "output_type": "display_data",
          "data": {
            "image/png": "[encoded data removed]",
            "text/plain": [
              "<Figure size 432x288 with 1 Axes>"
            ]
          },
          "metadata": {
            "needs_background": "light"
          }
        }
      ]
    },
    {
      "cell_type": "code",
      "source": [
        "# we should be simulating this many times in order to get accurate result\n",
        "# 10000 iterations will be enough to get reliable data for this example\n",
        "\n",
        "final_walk = []\n",
        "for i in range(10000): \n",
        "    random_walk = [0]\n",
        "    for x in range(100):\n",
        "        step = random_walk[-1] # the last step from random_walk\n",
        "        dice = np.random.randint(1,7) \n",
        "        if dice <= 2:\n",
        "            step = step - 1\n",
        "            max(0, step) # if step goes negative then, take the step as 0\n",
        "        elif dice <= 5:\n",
        "            step = step + 1\n",
        "        else:\n",
        "            step = step + np.random.randint(1,7)\n",
        "\n",
        "        # probability of falling down by 0.1% chance\n",
        "        if np.random.rand() <= 0.001:\n",
        "            step = 0 # start from scratch\n",
        "\n",
        "        random_walk.append(step)\n",
        "    final_walk.append(random_walk[-1]) # final step from each random_walk \n",
        "\n",
        "plt.hist(final_walk) # visualizing the final steps of walks\n",
        "plt.show()"
      ],
      "metadata": {
        "id": "gyK9rqFjNaCb",
        "colab": {
          "base_uri": "https://localhost:8080/",
          "height": 265
        },
        "outputId": "4dbd866c-0d96-4da9-d3cc-53e0dd174ef3"
      },
      "execution_count": 56,
      "outputs": [
        {
          "output_type": "display_data",
          "data": {
            "image/png": "[encoded data removed]",
            "text/plain": [
              "<Figure size 432x288 with 1 Axes>"
            ]
          },
          "metadata": {
            "needs_background": "light"
          }
        }
      ]
    },
    {
      "cell_type": "code",
      "source": [
        "# last step is to calculate the probability of step 60 or higher\n",
        "\n",
        "# final_walk -> contains all the final steps data\n",
        "sixty_or_higher = list(np.array(final_walk) >= 60).count(True)\n",
        "print(f\"\"\"\n",
        "Total Number of Walks: {len(final_walk)}\n",
        "Sixty of Higher: {sixty_or_higher} \n",
        "Probability: {sixty_or_higher / len(final_walk) * 100}%\n",
        "\"\"\")"
      ],
      "metadata": {
        "id": "HtVMZGgaOJUY",
        "colab": {
          "base_uri": "https://localhost:8080/"
        },
        "outputId": "00d91f05-603c-415e-b359-48575cc5354d"
      },
      "execution_count": 57,
      "outputs": [
        {
          "output_type": "stream",
          "name": "stdout",
          "text": [
            "\n",
            "Total Number of Walks: 10000\n",
            "Sixty of Higher: 7536 \n",
            "Probability: 75.36%\n",
            "\n"
          ]
        }
      ]
    },
    {
      "cell_type": "markdown",
      "source": [
        "## Mini Project\n"
      ],
      "metadata": {
        "id": "xmvJmZ2hf8Qb"
      }
    },
    {
      "cell_type": "code",
      "source": [
        "import pandas as pd\n",
        "import matplotlib.pyplot as plt\n",
        "\n",
        "# Read in the CSV as a DataFrame\n",
        "netflix_df = pd.read_csv(\"/content/netflix_data.csv\")\n",
        "\n",
        "# Print the first five rows of the DataFrame\n",
        "netflix_df[: 5]"
      ],
      "metadata": {
        "id": "zporqTkIPR-P",
        "colab": {
          "base_uri": "https://localhost:8080/",
          "height": 375
        },
        "outputId": "0be60f09-e02f-407f-f252-59558621b806"
      },
      "execution_count": 58,
      "outputs": [
        {
          "output_type": "error",
          "ename": "FileNotFoundError",
          "evalue": "ignored",
          "traceback": [
            "\u001b[0;31m---------------------------------------------------------------------------\u001b[0m",
            "\u001b[0;31mFileNotFoundError\u001b[0m                         Traceback (most recent call last)",
            "\u001b[0;32m<ipython-input-58-bbf63a237f15>\u001b[0m in \u001b[0;36m<module>\u001b[0;34m()\u001b[0m\n\u001b[1;32m      3\u001b[0m \u001b[0;34m\u001b[0m\u001b[0m\n\u001b[1;32m      4\u001b[0m \u001b[0;31m# Read in the CSV as a DataFrame\u001b[0m\u001b[0;34m\u001b[0m\u001b[0;34m\u001b[0m\u001b[0;34m\u001b[0m\u001b[0m\n\u001b[0;32m----> 5\u001b[0;31m \u001b[0mnetflix_df\u001b[0m \u001b[0;34m=\u001b[0m \u001b[0mpd\u001b[0m\u001b[0;34m.\u001b[0m\u001b[0mread_csv\u001b[0m\u001b[0;34m(\u001b[0m\u001b[0;34m\"/content/netflix_data.csv\"\u001b[0m\u001b[0;34m)\u001b[0m\u001b[0;34m\u001b[0m\u001b[0;34m\u001b[0m\u001b[0m\n\u001b[0m\u001b[1;32m      6\u001b[0m \u001b[0;34m\u001b[0m\u001b[0m\n\u001b[1;32m      7\u001b[0m \u001b[0;31m# Print the first five rows of the DataFrame\u001b[0m\u001b[0;34m\u001b[0m\u001b[0;34m\u001b[0m\u001b[0;34m\u001b[0m\u001b[0m\n",
            "\u001b[0;32m/usr/local/lib/python3.7/dist-packages/pandas/util/_decorators.py\u001b[0m in \u001b[0;36mwrapper\u001b[0;34m(*args, **kwargs)\u001b[0m\n\u001b[1;32m    309\u001b[0m                     \u001b[0mstacklevel\u001b[0m\u001b[0;34m=\u001b[0m\u001b[0mstacklevel\u001b[0m\u001b[0;34m,\u001b[0m\u001b[0;34m\u001b[0m\u001b[0;34m\u001b[0m\u001b[0m\n\u001b[1;32m    310\u001b[0m                 )\n\u001b[0;32m--> 311\u001b[0;31m             \u001b[0;32mreturn\u001b[0m \u001b[0mfunc\u001b[0m\u001b[0;34m(\u001b[0m\u001b[0;34m*\u001b[0m\u001b[0margs\u001b[0m\u001b[0;34m,\u001b[0m \u001b[0;34m**\u001b[0m\u001b[0mkwargs\u001b[0m\u001b[0;34m)\u001b[0m\u001b[0;34m\u001b[0m\u001b[0;34m\u001b[0m\u001b[0m\n\u001b[0m\u001b[1;32m    312\u001b[0m \u001b[0;34m\u001b[0m\u001b[0m\n\u001b[1;32m    313\u001b[0m         \u001b[0;32mreturn\u001b[0m \u001b[0mwrapper\u001b[0m\u001b[0;34m\u001b[0m\u001b[0;34m\u001b[0m\u001b[0m\n",
            "\u001b[0;32m/usr/local/lib/python3.7/dist-packages/pandas/io/parsers/readers.py\u001b[0m in \u001b[0;36mread_csv\u001b[0;34m(filepath_or_buffer, sep, delimiter, header, names, index_col, usecols, squeeze, prefix, mangle_dupe_cols, dtype, engine, converters, true_values, false_values, skipinitialspace, skiprows, skipfooter, nrows, na_values, keep_default_na, na_filter, verbose, skip_blank_lines, parse_dates, infer_datetime_format, keep_date_col, date_parser, dayfirst, cache_dates, iterator, chunksize, compression, thousands, decimal, lineterminator, quotechar, quoting, doublequote, escapechar, comment, encoding, encoding_errors, dialect, error_bad_lines, warn_bad_lines, on_bad_lines, delim_whitespace, low_memory, memory_map, float_precision, storage_options)\u001b[0m\n\u001b[1;32m    584\u001b[0m     \u001b[0mkwds\u001b[0m\u001b[0;34m.\u001b[0m\u001b[0mupdate\u001b[0m\u001b[0;34m(\u001b[0m\u001b[0mkwds_defaults\u001b[0m\u001b[0;34m)\u001b[0m\u001b[0;34m\u001b[0m\u001b[0;34m\u001b[0m\u001b[0m\n\u001b[1;32m    585\u001b[0m \u001b[0;34m\u001b[0m\u001b[0m\n\u001b[0;32m--> 586\u001b[0;31m     \u001b[0;32mreturn\u001b[0m \u001b[0m_read\u001b[0m\u001b[0;34m(\u001b[0m\u001b[0mfilepath_or_buffer\u001b[0m\u001b[0;34m,\u001b[0m \u001b[0mkwds\u001b[0m\u001b[0;34m)\u001b[0m\u001b[0;34m\u001b[0m\u001b[0;34m\u001b[0m\u001b[0m\n\u001b[0m\u001b[1;32m    587\u001b[0m \u001b[0;34m\u001b[0m\u001b[0m\n\u001b[1;32m    588\u001b[0m \u001b[0;34m\u001b[0m\u001b[0m\n",
            "\u001b[0;32m/usr/local/lib/python3.7/dist-packages/pandas/io/parsers/readers.py\u001b[0m in \u001b[0;36m_read\u001b[0;34m(filepath_or_buffer, kwds)\u001b[0m\n\u001b[1;32m    480\u001b[0m \u001b[0;34m\u001b[0m\u001b[0m\n\u001b[1;32m    481\u001b[0m     \u001b[0;31m# Create the parser.\u001b[0m\u001b[0;34m\u001b[0m\u001b[0;34m\u001b[0m\u001b[0;34m\u001b[0m\u001b[0m\n\u001b[0;32m--> 482\u001b[0;31m     \u001b[0mparser\u001b[0m \u001b[0;34m=\u001b[0m \u001b[0mTextFileReader\u001b[0m\u001b[0;34m(\u001b[0m\u001b[0mfilepath_or_buffer\u001b[0m\u001b[0;34m,\u001b[0m \u001b[0;34m**\u001b[0m\u001b[0mkwds\u001b[0m\u001b[0;34m)\u001b[0m\u001b[0;34m\u001b[0m\u001b[0;34m\u001b[0m\u001b[0m\n\u001b[0m\u001b[1;32m    483\u001b[0m \u001b[0;34m\u001b[0m\u001b[0m\n\u001b[1;32m    484\u001b[0m     \u001b[0;32mif\u001b[0m \u001b[0mchunksize\u001b[0m \u001b[0;32mor\u001b[0m \u001b[0miterator\u001b[0m\u001b[0;34m:\u001b[0m\u001b[0;34m\u001b[0m\u001b[0;34m\u001b[0m\u001b[0m\n",
            "\u001b[0;32m/usr/local/lib/python3.7/dist-packages/pandas/io/parsers/readers.py\u001b[0m in \u001b[0;36m__init__\u001b[0;34m(self, f, engine, **kwds)\u001b[0m\n\u001b[1;32m    809\u001b[0m             \u001b[0mself\u001b[0m\u001b[0;34m.\u001b[0m\u001b[0moptions\u001b[0m\u001b[0;34m[\u001b[0m\u001b[0;34m\"has_index_names\"\u001b[0m\u001b[0;34m]\u001b[0m \u001b[0;34m=\u001b[0m \u001b[0mkwds\u001b[0m\u001b[0;34m[\u001b[0m\u001b[0;34m\"has_index_names\"\u001b[0m\u001b[0;34m]\u001b[0m\u001b[0;34m\u001b[0m\u001b[0;34m\u001b[0m\u001b[0m\n\u001b[1;32m    810\u001b[0m \u001b[0;34m\u001b[0m\u001b[0m\n\u001b[0;32m--> 811\u001b[0;31m         \u001b[0mself\u001b[0m\u001b[0;34m.\u001b[0m\u001b[0m_engine\u001b[0m \u001b[0;34m=\u001b[0m \u001b[0mself\u001b[0m\u001b[0;34m.\u001b[0m\u001b[0m_make_engine\u001b[0m\u001b[0;34m(\u001b[0m\u001b[0mself\u001b[0m\u001b[0;34m.\u001b[0m\u001b[0mengine\u001b[0m\u001b[0;34m)\u001b[0m\u001b[0;34m\u001b[0m\u001b[0;34m\u001b[0m\u001b[0m\n\u001b[0m\u001b[1;32m    812\u001b[0m \u001b[0;34m\u001b[0m\u001b[0m\n\u001b[1;32m    813\u001b[0m     \u001b[0;32mdef\u001b[0m \u001b[0mclose\u001b[0m\u001b[0;34m(\u001b[0m\u001b[0mself\u001b[0m\u001b[0;34m)\u001b[0m\u001b[0;34m:\u001b[0m\u001b[0;34m\u001b[0m\u001b[0;34m\u001b[0m\u001b[0m\n",
            "\u001b[0;32m/usr/local/lib/python3.7/dist-packages/pandas/io/parsers/readers.py\u001b[0m in \u001b[0;36m_make_engine\u001b[0;34m(self, engine)\u001b[0m\n\u001b[1;32m   1038\u001b[0m             )\n\u001b[1;32m   1039\u001b[0m         \u001b[0;31m# error: Too many arguments for \"ParserBase\"\u001b[0m\u001b[0;34m\u001b[0m\u001b[0;34m\u001b[0m\u001b[0;34m\u001b[0m\u001b[0m\n\u001b[0;32m-> 1040\u001b[0;31m         \u001b[0;32mreturn\u001b[0m \u001b[0mmapping\u001b[0m\u001b[0;34m[\u001b[0m\u001b[0mengine\u001b[0m\u001b[0;34m]\u001b[0m\u001b[0;34m(\u001b[0m\u001b[0mself\u001b[0m\u001b[0;34m.\u001b[0m\u001b[0mf\u001b[0m\u001b[0;34m,\u001b[0m \u001b[0;34m**\u001b[0m\u001b[0mself\u001b[0m\u001b[0;34m.\u001b[0m\u001b[0moptions\u001b[0m\u001b[0;34m)\u001b[0m  \u001b[0;31m# type: ignore[call-arg]\u001b[0m\u001b[0;34m\u001b[0m\u001b[0;34m\u001b[0m\u001b[0m\n\u001b[0m\u001b[1;32m   1041\u001b[0m \u001b[0;34m\u001b[0m\u001b[0m\n\u001b[1;32m   1042\u001b[0m     \u001b[0;32mdef\u001b[0m \u001b[0m_failover_to_python\u001b[0m\u001b[0;34m(\u001b[0m\u001b[0mself\u001b[0m\u001b[0;34m)\u001b[0m\u001b[0;34m:\u001b[0m\u001b[0;34m\u001b[0m\u001b[0;34m\u001b[0m\u001b[0m\n",
            "\u001b[0;32m/usr/local/lib/python3.7/dist-packages/pandas/io/parsers/c_parser_wrapper.py\u001b[0m in \u001b[0;36m__init__\u001b[0;34m(self, src, **kwds)\u001b[0m\n\u001b[1;32m     49\u001b[0m \u001b[0;34m\u001b[0m\u001b[0m\n\u001b[1;32m     50\u001b[0m         \u001b[0;31m# open handles\u001b[0m\u001b[0;34m\u001b[0m\u001b[0;34m\u001b[0m\u001b[0;34m\u001b[0m\u001b[0m\n\u001b[0;32m---> 51\u001b[0;31m         \u001b[0mself\u001b[0m\u001b[0;34m.\u001b[0m\u001b[0m_open_handles\u001b[0m\u001b[0;34m(\u001b[0m\u001b[0msrc\u001b[0m\u001b[0;34m,\u001b[0m \u001b[0mkwds\u001b[0m\u001b[0;34m)\u001b[0m\u001b[0;34m\u001b[0m\u001b[0;34m\u001b[0m\u001b[0m\n\u001b[0m\u001b[1;32m     52\u001b[0m         \u001b[0;32massert\u001b[0m \u001b[0mself\u001b[0m\u001b[0;34m.\u001b[0m\u001b[0mhandles\u001b[0m \u001b[0;32mis\u001b[0m \u001b[0;32mnot\u001b[0m \u001b[0;32mNone\u001b[0m\u001b[0;34m\u001b[0m\u001b[0;34m\u001b[0m\u001b[0m\n\u001b[1;32m     53\u001b[0m \u001b[0;34m\u001b[0m\u001b[0m\n",
            "\u001b[0;32m/usr/local/lib/python3.7/dist-packages/pandas/io/parsers/base_parser.py\u001b[0m in \u001b[0;36m_open_handles\u001b[0;34m(self, src, kwds)\u001b[0m\n\u001b[1;32m    227\u001b[0m             \u001b[0mmemory_map\u001b[0m\u001b[0;34m=\u001b[0m\u001b[0mkwds\u001b[0m\u001b[0;34m.\u001b[0m\u001b[0mget\u001b[0m\u001b[0;34m(\u001b[0m\u001b[0;34m\"memory_map\"\u001b[0m\u001b[0;34m,\u001b[0m \u001b[0;32mFalse\u001b[0m\u001b[0;34m)\u001b[0m\u001b[0;34m,\u001b[0m\u001b[0;34m\u001b[0m\u001b[0;34m\u001b[0m\u001b[0m\n\u001b[1;32m    228\u001b[0m             \u001b[0mstorage_options\u001b[0m\u001b[0;34m=\u001b[0m\u001b[0mkwds\u001b[0m\u001b[0;34m.\u001b[0m\u001b[0mget\u001b[0m\u001b[0;34m(\u001b[0m\u001b[0;34m\"storage_options\"\u001b[0m\u001b[0;34m,\u001b[0m \u001b[0;32mNone\u001b[0m\u001b[0;34m)\u001b[0m\u001b[0;34m,\u001b[0m\u001b[0;34m\u001b[0m\u001b[0;34m\u001b[0m\u001b[0m\n\u001b[0;32m--> 229\u001b[0;31m             \u001b[0merrors\u001b[0m\u001b[0;34m=\u001b[0m\u001b[0mkwds\u001b[0m\u001b[0;34m.\u001b[0m\u001b[0mget\u001b[0m\u001b[0;34m(\u001b[0m\u001b[0;34m\"encoding_errors\"\u001b[0m\u001b[0;34m,\u001b[0m \u001b[0;34m\"strict\"\u001b[0m\u001b[0;34m)\u001b[0m\u001b[0;34m,\u001b[0m\u001b[0;34m\u001b[0m\u001b[0;34m\u001b[0m\u001b[0m\n\u001b[0m\u001b[1;32m    230\u001b[0m         )\n\u001b[1;32m    231\u001b[0m \u001b[0;34m\u001b[0m\u001b[0m\n",
            "\u001b[0;32m/usr/local/lib/python3.7/dist-packages/pandas/io/common.py\u001b[0m in \u001b[0;36mget_handle\u001b[0;34m(path_or_buf, mode, encoding, compression, memory_map, is_text, errors, storage_options)\u001b[0m\n\u001b[1;32m    705\u001b[0m                 \u001b[0mencoding\u001b[0m\u001b[0;34m=\u001b[0m\u001b[0mioargs\u001b[0m\u001b[0;34m.\u001b[0m\u001b[0mencoding\u001b[0m\u001b[0;34m,\u001b[0m\u001b[0;34m\u001b[0m\u001b[0;34m\u001b[0m\u001b[0m\n\u001b[1;32m    706\u001b[0m                 \u001b[0merrors\u001b[0m\u001b[0;34m=\u001b[0m\u001b[0merrors\u001b[0m\u001b[0;34m,\u001b[0m\u001b[0;34m\u001b[0m\u001b[0;34m\u001b[0m\u001b[0m\n\u001b[0;32m--> 707\u001b[0;31m                 \u001b[0mnewline\u001b[0m\u001b[0;34m=\u001b[0m\u001b[0;34m\"\"\u001b[0m\u001b[0;34m,\u001b[0m\u001b[0;34m\u001b[0m\u001b[0;34m\u001b[0m\u001b[0m\n\u001b[0m\u001b[1;32m    708\u001b[0m             )\n\u001b[1;32m    709\u001b[0m         \u001b[0;32melse\u001b[0m\u001b[0;34m:\u001b[0m\u001b[0;34m\u001b[0m\u001b[0;34m\u001b[0m\u001b[0m\n",
            "\u001b[0;31mFileNotFoundError\u001b[0m: [Errno 2] No such file or directory: '/content/netflix_data.csv'"
          ]
        }
      ]
    },
    {
      "cell_type": "code",
      "source": [
        "# Subset the DataFrame for type \"Movie\"\n",
        "netflix_df_movies_only = netflix_df[netflix_df.loc[:, \"type\"] == \"Movie\"]\n",
        "\n",
        "# Select only the columns of interest\n",
        "netflix_movies_col_subset = netflix_df_movies_only.loc[:, [\"title\", \"country\", \"genre\", \"release_year\", \"duration\"]]\n",
        "\n",
        "# Print the first five rows of the new DataFrame\n",
        "netflix_movies_col_subset[: 5]"
      ],
      "metadata": {
        "id": "W84EBSq-JuEg"
      },
      "execution_count": null,
      "outputs": []
    },
    {
      "cell_type": "code",
      "source": [
        "# Create a figure and increase the figure size\n",
        "fig = plt.figure(figsize=(12,8))\n",
        "\n",
        "# Create a scatter plot of duration versus year\n",
        "plt.scatter(netflix_movies_col_subset[\"release_year\"], netflix_movies_col_subset[\"duration\"])\n",
        "\n",
        "# Create a title\n",
        "plt.title(\"Movie Duration by Year of Release\")\n",
        "\n",
        "# Show the plot\n",
        "plt.show()"
      ],
      "metadata": {
        "id": "Q9xVJ2iVgcZ3"
      },
      "execution_count": null,
      "outputs": []
    },
    {
      "cell_type": "code",
      "source": [
        "# Filter for durations shorter than 60 minutes\n",
        "short_movies = netflix_movies_col_subset[netflix_movies_col_subset[\"duration\"] < 60]\n",
        "\n",
        "# Print the first 20 rows of short_movies\n",
        "short_movies[: 20]"
      ],
      "metadata": {
        "id": "othyIsJjmuQF"
      },
      "execution_count": null,
      "outputs": []
    },
    {
      "cell_type": "code",
      "source": [
        "# Define an empty list\n",
        "colors = []\n",
        "\n",
        "# Iterate over rows of netflix_movies_col_subset\n",
        "for lab, row in netflix_movies_col_subset.iterrows():\n",
        "    if row[\"genre\"] == \"Children\":\n",
        "        colors.append(\"red\")\n",
        "    elif row[\"genre\"] == \"Documentaries\":\n",
        "        colors.append(\"blue\")\n",
        "    elif row[\"genre\"] == \"Stand-Up\":\n",
        "        colors.append(\"green\")\n",
        "    else:\n",
        "        colors.append(\"black\")\n",
        "        \n",
        "# Inspect the first 10 values in your list        \n",
        "print(colors[:10])"
      ],
      "metadata": {
        "id": "XnHBlPfdmzsW"
      },
      "execution_count": null,
      "outputs": []
    },
    {
      "cell_type": "code",
      "source": [
        "# Set the figure style and initalize a new figure\n",
        "plt.style.use('fivethirtyeight')\n",
        "fig = plt.figure(figsize=(12,8))\n",
        "\n",
        "# Create a scatter plot of duration versus release_year\n",
        "plt.scatter(netflix_movies_col_subset[\"release_year\"], netflix_movies_col_subset[\"duration\"], c=colors)\n",
        "\n",
        "# Create a title and axis labels\n",
        "plt.xlabel(\"Release Year\")\n",
        "plt.ylabel(\"Duration (min)\")\n",
        "plt.title(\"Movie duration by year of release\")\n",
        "\n",
        "# Show the plot\n",
        "plt.show()"
      ],
      "metadata": {
        "id": "pLDNC62xm1Ms"
      },
      "execution_count": null,
      "outputs": []
    },
    {
      "cell_type": "markdown",
      "source": [
        "## Pandas Deep Dive "
      ],
      "metadata": {
        "id": "s1ZOVQnZnga5"
      }
    },
    {
      "cell_type": "code",
      "source": [
        "# head() method brings the first few rows of the dataframe\n",
        "netflix_df.head()"
      ],
      "metadata": {
        "id": "2AFAljXSnm6z"
      },
      "execution_count": null,
      "outputs": []
    },
    {
      "cell_type": "code",
      "source": [
        "# info() method shows information on each of the columns, such as the data type and number of missing values\n",
        "netflix_df.info()"
      ],
      "metadata": {
        "id": "BGmyH5-an91P"
      },
      "execution_count": null,
      "outputs": []
    },
    {
      "cell_type": "code",
      "source": [
        "# shape attribute returns the number of rows and columns of the DataFrame\n",
        "netflix_df.shape"
      ],
      "metadata": {
        "id": "Ym8XrIQWoKJc"
      },
      "execution_count": null,
      "outputs": []
    },
    {
      "cell_type": "code",
      "source": [
        "# describe method calculates a few summary statistics for each column\n",
        "netflix_df.describe()"
      ],
      "metadata": {
        "id": "cAGJd8aCoXOO"
      },
      "execution_count": null,
      "outputs": []
    },
    {
      "cell_type": "code",
      "source": [
        "# values attribute returns a two-dimensional NumPy array of values\n",
        "netflix_df.values"
      ],
      "metadata": {
        "id": "XY-WVjYIoiP2"
      },
      "execution_count": null,
      "outputs": []
    },
    {
      "cell_type": "code",
      "source": [
        "# columns attribute returns an index of columns: the column names\n",
        "netflix_df.columns"
      ],
      "metadata": {
        "id": "UsLRasTIpkkG"
      },
      "execution_count": null,
      "outputs": []
    },
    {
      "cell_type": "code",
      "source": [
        "# index attribute returns an index for the rows: either row numbers or row names\n",
        "netflix_df.index"
      ],
      "metadata": {
        "id": "SOy7sdbQprSe"
      },
      "execution_count": null,
      "outputs": []
    },
    {
      "cell_type": "code",
      "source": [
        "# sort_values() method lets you to sort rows by one or more specific column\n",
        "netflix_sorted_by_duration = netflix_df.sort_values(\"duration\")\n",
        "# also can be sorted by multiple columns\n",
        "# df.sorted_by([\"column1\", \"column2\"])\n",
        "\n",
        "netflix_sorted_by_duration[:2000][\"duration\"]"
      ],
      "metadata": {
        "id": "pDkunMpYpwSo"
      },
      "execution_count": null,
      "outputs": []
    },
    {
      "cell_type": "code",
      "source": [
        "# sorting can be selected as ascending or descending\n",
        "netflix_sorted_by_duration = netflix_df.sort_values(\"duration\", ascending=False)\n",
        "\n",
        "netflix_sorted_by_duration.head()[\"duration\"]"
      ],
      "metadata": {
        "id": "32AvfJ13r4vY"
      },
      "execution_count": null,
      "outputs": []
    },
    {
      "cell_type": "code",
      "source": [
        "# we can specify the one of sorting parameters ascending and other one as descending\n",
        "netflix_sorted_by_duration = netflix_df.sort_values([\"duration\", \"release_year\"], ascending=[True, False]) \n",
        "# in multiply parameter sorting, the order of the parameters matters\n",
        "# df.sort_values([\"c1\", \"c2\"]) means it will sort by c1 first, then c2 as second\n",
        "\n",
        "netflix_sorted_by_duration[3000:3020][[\"duration\", \"release_year\"]]"
      ],
      "metadata": {
        "id": "L6rBjHN1s-gk"
      },
      "execution_count": null,
      "outputs": []
    },
    {
      "cell_type": "code",
      "source": [
        "# we can gather a specific column \n",
        "netflix_df[\"release_year\"]"
      ],
      "metadata": {
        "id": "XMpJpdWovjT3"
      },
      "execution_count": null,
      "outputs": []
    },
    {
      "cell_type": "code",
      "source": [
        "# we can gather multiple specific columns\n",
        "netflix_df[[\"title\", \"release_year\"]]"
      ],
      "metadata": {
        "id": "XiRXOKewvmPN"
      },
      "execution_count": null,
      "outputs": []
    },
    {
      "cell_type": "code",
      "source": [
        "# we can filter rows by specific logical condition\n",
        "# lets assume a movie which is shorter than 60 minutes is a short movie\n",
        "short_movies = netflix_df[netflix_df[\"duration\"] < 60]\n",
        "\n",
        "short_movies.head()[[\"title\", \"duration\", \"release_year\"]]"
      ],
      "metadata": {
        "id": "u9xOzDU-vzjE"
      },
      "execution_count": null,
      "outputs": []
    },
    {
      "cell_type": "code",
      "source": [
        "# we also filter by string comparison\n",
        "only_movies = netflix_df[netflix_df[\"type\"] == \"Movie\"]\n",
        "\n",
        "only_movies.head()[[\"title\", \"type\", \"duration\"]]"
      ],
      "metadata": {
        "id": "EdKJHIQmwb8S"
      },
      "execution_count": null,
      "outputs": []
    },
    {
      "cell_type": "code",
      "source": [
        "# we can do multiple filtering\n",
        "only_short_movies = netflix_df[(netflix_df[\"type\"] == \"Movie\") & (netflix_df[\"duration\"] < 60)]\n",
        "\n",
        "only_short_movies.head()[[\"title\", \"type\", \"duration\"]]"
      ],
      "metadata": {
        "id": "IjUlQ66vw2ZZ"
      },
      "execution_count": null,
      "outputs": []
    },
    {
      "cell_type": "code",
      "source": [
        "# isin() method helps us to filter easier in some situations\n",
        "# we only want to gather documentaries and comedies\n",
        "doc_and_comedy = only_movies[only_movies[\"genre\"].isin([\"Documentaries\", \"Comedy\"])]\n",
        "\n",
        "doc_and_comedy.head()"
      ],
      "metadata": {
        "id": "E-bU8dnMxfTm"
      },
      "execution_count": null,
      "outputs": []
    },
    {
      "cell_type": "code",
      "source": [
        "# adding new column is called transforming or feature engineering\n",
        "netflix_df[\"random\"] = netflix_df[\"release_year\"] + netflix_df[\"duration\"]\n",
        "\n",
        "netflix_df.head()"
      ],
      "metadata": {
        "id": "cjiNvwMW1ark"
      },
      "execution_count": null,
      "outputs": []
    },
    {
      "cell_type": "code",
      "source": [
        "# adding a new column with random values \n",
        "random_data = [np.random.randint(1000) for n in range(len(cars.index))]\n",
        "cars[\"random\"] = random_data\n",
        "cars"
      ],
      "metadata": {
        "id": "zX5rKxUGC6HK"
      },
      "execution_count": null,
      "outputs": []
    },
    {
      "cell_type": "markdown",
      "source": [
        "## Summary Statistics in Pandas"
      ],
      "metadata": {
        "id": "aUFwDmga_Zv3"
      }
    },
    {
      "cell_type": "code",
      "source": [
        "# test data\n",
        "cars"
      ],
      "metadata": {
        "id": "9_fJ32s8ClLX"
      },
      "execution_count": null,
      "outputs": []
    },
    {
      "cell_type": "code",
      "source": [
        "# sum() method takes the sum of a column\n",
        "cars[\"cars_per_cap\"].sum()"
      ],
      "metadata": {
        "id": "mF6UYUS61s__"
      },
      "execution_count": null,
      "outputs": []
    },
    {
      "cell_type": "code",
      "source": [
        "# sum() method can also do operations on multiple columns\n",
        "cars[[\"cars_per_cap\", \"random\"]].sum()"
      ],
      "metadata": {
        "id": "xcEp-dhNEG0o"
      },
      "execution_count": null,
      "outputs": []
    },
    {
      "cell_type": "code",
      "source": [
        "# sum(axis=1) can sum multiple columns with each other\n",
        "cars[[\"cars_per_cap\", \"random\"]].sum(axis=1)"
      ],
      "metadata": {
        "id": "Gz3kGG_AEemy"
      },
      "execution_count": null,
      "outputs": []
    },
    {
      "cell_type": "code",
      "source": [
        "# max() method takes the max value of a specific column\n",
        "cars[\"cars_per_cap\"].max()"
      ],
      "metadata": {
        "id": "BpSDUYlcBxKO"
      },
      "execution_count": null,
      "outputs": []
    },
    {
      "cell_type": "code",
      "source": [
        "# min() method takes the min value of a specific column\n",
        "cars[\"cars_per_cap\"].min()"
      ],
      "metadata": {
        "id": "f8zPkimTf5CS"
      },
      "execution_count": null,
      "outputs": []
    },
    {
      "cell_type": "code",
      "source": [
        "# mean() method takes the mean of the column\n",
        "cars[\"cars_per_cap\"].mean()"
      ],
      "metadata": {
        "id": "KJcdniURCGKC"
      },
      "execution_count": null,
      "outputs": []
    },
    {
      "cell_type": "code",
      "source": [
        "# median() method takes the median of the column\n",
        "cars[\"cars_per_cap\"].median()"
      ],
      "metadata": {
        "id": "OK9YOY33CNCf"
      },
      "execution_count": null,
      "outputs": []
    },
    {
      "cell_type": "code",
      "source": [
        "# quantile() method takes a specific quantile of a column\n",
        "cars[\"cars_per_cap\"].quantile(0.4)"
      ],
      "metadata": {
        "id": "o30t04U9E7TW"
      },
      "execution_count": null,
      "outputs": []
    },
    {
      "cell_type": "code",
      "source": [
        "# cumsum() method takes the cumulative sum of the column\n",
        "# cumulative sum: \n",
        "# [1, 2, 3, 4, 5] -> [1, 1+2, 1+2+3, 1+2+3+4, 1+2+3+4+5]\n",
        "\n",
        "cars[\"cars_per_cap\"].cumsum()"
      ],
      "metadata": {
        "id": "_CBQ3UrfCQWb"
      },
      "execution_count": null,
      "outputs": []
    },
    {
      "cell_type": "code",
      "source": [
        "# cummax() takes the cumulative max of a column\n",
        "cars[\"random\"].cummax()"
      ],
      "metadata": {
        "id": "wTzS9Y5iHAoG"
      },
      "execution_count": null,
      "outputs": []
    },
    {
      "cell_type": "code",
      "source": [
        "# cummin() takes the cumulative min of a column\n",
        "cars[\"random\"].cummin()"
      ],
      "metadata": {
        "id": "i4fYUyLhgGOh"
      },
      "execution_count": null,
      "outputs": []
    },
    {
      "cell_type": "code",
      "source": [
        "# agg() method can let you use your own custom function on dataframe\n",
        "def iqr(column):\n",
        "    return column.quantile(0.75) - column.quantile(0.25)\n",
        "\n",
        "cars[\"cars_per_cap\"].agg(iqr)"
      ],
      "metadata": {
        "id": "jzYDZjPlChvF"
      },
      "execution_count": null,
      "outputs": []
    },
    {
      "cell_type": "code",
      "source": [
        "# agg() method can apply multiple functions to a dataframe\n",
        "cars[\"cars_per_cap\"].agg([np.median, iqr])"
      ],
      "metadata": {
        "id": "HMe5a0ODE5nZ"
      },
      "execution_count": null,
      "outputs": []
    },
    {
      "cell_type": "code",
      "source": [
        "# drop_duplicates() method removes the duplicate row according to columns given\n",
        "cars = cars.drop_duplicates(\"random\")\n",
        "cars"
      ],
      "metadata": {
        "id": "CXzi_uHsF0Q_"
      },
      "execution_count": null,
      "outputs": []
    },
    {
      "cell_type": "code",
      "source": [
        "# drop_duplicates() can remove duplicate pairs instead of single column duplicate\n",
        "cars = cars.drop_duplicates([\"cars_per_cap\", \"random\"])\n",
        "cars"
      ],
      "metadata": {
        "id": "AT0YknAXJcQt"
      },
      "execution_count": null,
      "outputs": []
    },
    {
      "cell_type": "code",
      "source": [
        "# value_counts() can count the values of a column\n",
        "netflix_df[\"release_year\"].value_counts()"
      ],
      "metadata": {
        "id": "GnPFCLmOJqlQ"
      },
      "execution_count": null,
      "outputs": []
    },
    {
      "cell_type": "code",
      "source": [
        "# value_counts() can also calculate proportion of each value\n",
        "# each value / total \n",
        "netflix_df[\"release_year\"].value_counts(normalize=True)"
      ],
      "metadata": {
        "id": "5CgooIgDO7I1"
      },
      "execution_count": null,
      "outputs": []
    },
    {
      "cell_type": "code",
      "source": [
        "# value_counts() can also sort the result\n",
        "# True -> descending | False -> ascending\n",
        "netflix_df[\"release_year\"].value_counts(sort=True)"
      ],
      "metadata": {
        "id": "X9x84PDqPRYh"
      },
      "execution_count": null,
      "outputs": []
    },
    {
      "cell_type": "code",
      "source": [
        "# groupby() groups specific column values\n",
        "cars.groupby(\"drives_right\")[\"cars_per_cap\"].mean()"
      ],
      "metadata": {
        "id": "Bi-brKTCPgW3"
      },
      "execution_count": null,
      "outputs": []
    },
    {
      "cell_type": "code",
      "source": [
        "# we can use agg() method with groupby()\n",
        "cars.groupby(\"drives_right\")[\"cars_per_cap\"].agg([min, max, sum])"
      ],
      "metadata": {
        "id": "OBYAKtR2ZUdk"
      },
      "execution_count": null,
      "outputs": []
    },
    {
      "cell_type": "code",
      "source": [
        "# we can group multiple columns at the same time\n",
        "cars.groupby([\"drives_right\", \"random\"])[\"cars_per_cap\"].agg([min, max, sum])"
      ],
      "metadata": {
        "id": "eMVJTmRmZh7_"
      },
      "execution_count": null,
      "outputs": []
    },
    {
      "cell_type": "code",
      "source": [
        "# we can group multiple rows and check multiple columns\n",
        "cars.groupby([\"drives_right\", \"random\"])[[\"cars_per_cap\", \"country\"]].agg([min, max, sum])"
      ],
      "metadata": {
        "id": "_LnhEAa4b4UT"
      },
      "execution_count": null,
      "outputs": []
    },
    {
      "cell_type": "code",
      "source": [
        "# pivot tables \n",
        "# print(cars.groupby(\"drives_right\")[\"cars_per_cap\"].mean())\n",
        "cars.pivot_table(values=\"cars_per_cap\", index=\"drives_right\")"
      ],
      "metadata": {
        "id": "jbVU6zGbcK__"
      },
      "execution_count": null,
      "outputs": []
    },
    {
      "cell_type": "code",
      "source": [
        "# we can use own custom functions with pivot tables\n",
        "cars.pivot_table(values=\"cars_per_cap\", index=\"drives_right\", aggfunc=np.median)"
      ],
      "metadata": {
        "id": "SEs30-DpcncY"
      },
      "execution_count": null,
      "outputs": []
    },
    {
      "cell_type": "code",
      "source": [
        "# we can use multiple custom functions with pivot tables\n",
        "cars.pivot_table(values=\"cars_per_cap\", index=\"drives_right\", aggfunc=[np.mean, np.median])"
      ],
      "metadata": {
        "id": "EGRoRE9hdXir"
      },
      "execution_count": null,
      "outputs": []
    },
    {
      "cell_type": "code",
      "source": [
        "# we can use two columns in pivot tables\n",
        "# print(cars.groupby([\"drives_right\", \"random\"])[\"cars_per_cap\"].mean())\n",
        "cars.pivot_table(values=\"cars_per_cap\", index=\"drives_right\", columns=\"random\")"
      ],
      "metadata": {
        "id": "pdM8rxK2dgGn"
      },
      "execution_count": null,
      "outputs": []
    },
    {
      "cell_type": "code",
      "source": [
        "# we can handle NaN values with fill_value attribute\n",
        "cars.pivot_table(values=\"cars_per_cap\", index=\"drives_right\", columns=\"random\", fill_value=0)"
      ],
      "metadata": {
        "id": "zdYuGltId6Hw"
      },
      "execution_count": null,
      "outputs": []
    },
    {
      "cell_type": "code",
      "source": [
        "# we can also get mean for each row, each column and whole data\n",
        "cars.pivot_table(values=\"cars_per_cap\", index=\"drives_right\", columns=\"random\", fill_value=0, margins=True)"
      ],
      "metadata": {
        "id": "x2DGUSQGeFwi"
      },
      "execution_count": null,
      "outputs": []
    },
    {
      "cell_type": "markdown",
      "source": [
        "## Explicit Indexing in Pandas"
      ],
      "metadata": {
        "id": "jgCUmaqfHi_h"
      }
    },
    {
      "cell_type": "code",
      "source": [
        "# test data\n",
        "netflix_df.head()"
      ],
      "metadata": {
        "id": "7TCzbDlJZP7i"
      },
      "execution_count": null,
      "outputs": []
    },
    {
      "cell_type": "code",
      "source": [
        "# we can change the index column by using set_index() \n",
        "netflix_df_updated = netflix_df.set_index(\"type\")\n",
        "\n",
        "netflix_df_updated"
      ],
      "metadata": {
        "id": "aJfqGa94Hm2a"
      },
      "execution_count": null,
      "outputs": []
    },
    {
      "cell_type": "code",
      "source": [
        "# we can undo(reset) the change in the index column by reset_index() \n",
        "netflix_df_updated = netflix_df_updated.reset_index()\n",
        "\n",
        "netflix_df_updated"
      ],
      "metadata": {
        "id": "s6HouBGpH14L"
      },
      "execution_count": null,
      "outputs": []
    },
    {
      "cell_type": "code",
      "source": [
        "# we can also remove the new index column from dataframe completely\n",
        "netflix_df_updated = netflix_df.set_index(\"type\")\n",
        "netflix_df_updated = netflix_df_updated.reset_index(drop=True)\n",
        "\n",
        "netflix_df_updated\n",
        "# now we removed the type column from dataframe and reset the index column"
      ],
      "metadata": {
        "id": "RCeF_KUQIGSE"
      },
      "execution_count": null,
      "outputs": []
    },
    {
      "cell_type": "code",
      "source": [
        "# multilevel indexing (hierarchical)\n",
        "netflix_df_multi_index = netflix_df.set_index([\"type\", \"genre\"])\n",
        "\n",
        "netflix_df_multi_index.loc[[(\"Movie\", \"Dramas\"), (\"TV Show\", \"International TV\")]]"
      ],
      "metadata": {
        "id": "ifgQDuQCIgOt"
      },
      "execution_count": null,
      "outputs": []
    },
    {
      "cell_type": "code",
      "source": [
        "# we can sort dataframe by the index column instead of columns with values\n",
        "netflix_df_updated = netflix_df.set_index(\"duration\")\n",
        "netflix_df_updated.sort_index()"
      ],
      "metadata": {
        "id": "02Tj5qlrKM_o"
      },
      "execution_count": null,
      "outputs": []
    },
    {
      "cell_type": "code",
      "source": [
        "# if we have multi-index dataframe, we can sort them by both index columns\n",
        "netflix_df_updated = netflix_df.set_index([\"release_year\", \"duration\"])\n",
        "netflix_df_updated.sort_index(level=[\"release_year\", \"duration\"], ascending=[True, True])"
      ],
      "metadata": {
        "id": "8rnleVmyLrQj"
      },
      "execution_count": null,
      "outputs": []
    },
    {
      "cell_type": "code",
      "source": [
        "# index slicing\n",
        "# in order to slice by index, we need to sort the indices first\n",
        "netflix_df_updated = netflix_df_updated.sort_index()\n",
        "\n",
        "netflix_df_updated.loc[1925: 1944]"
      ],
      "metadata": {
        "id": "OUHTKLpnMZG2"
      },
      "execution_count": null,
      "outputs": []
    },
    {
      "cell_type": "code",
      "source": [
        "# slicing multi-indexed dataframe\n",
        "netflix_df_updated.loc[(1930, 4): (1950, 40)]"
      ],
      "metadata": {
        "id": "cLYOLUUOPgb0"
      },
      "execution_count": null,
      "outputs": []
    },
    {
      "cell_type": "code",
      "source": [
        "# we can slice both rows and columns at the same time\n",
        "netflix_df_updated.loc[(1930, 4): (1950, 40), \"country\": \"description\"]"
      ],
      "metadata": {
        "id": "_vvJPcYMTVAI"
      },
      "execution_count": null,
      "outputs": []
    },
    {
      "cell_type": "code",
      "source": [
        "# indexing by row number (iloc)\n",
        "netflix_df.iloc[:5]"
      ],
      "metadata": {
        "id": "RwNUxS4YUTUM"
      },
      "execution_count": null,
      "outputs": []
    },
    {
      "cell_type": "code",
      "source": [
        "# indexing by column number (iloc)\n",
        "netflix_df.iloc[:, 2:4]"
      ],
      "metadata": {
        "id": "p2iihNRWXEJ8"
      },
      "execution_count": null,
      "outputs": []
    },
    {
      "cell_type": "code",
      "source": [
        "# indexing by both row and column number\n",
        "netflix_df.iloc[:5, 2:4]"
      ],
      "metadata": {
        "id": "8lAk0byGXNm_"
      },
      "execution_count": null,
      "outputs": []
    },
    {
      "cell_type": "code",
      "source": [
        "cars.pivot_table(values=\"cars_per_cap\", index=\"country\", columns=\"drives_right\", fill_value=0, margins=True)"
      ],
      "metadata": {
        "id": "L3mEg35HXZ_9"
      },
      "execution_count": null,
      "outputs": []
    },
    {
      "cell_type": "markdown",
      "source": [
        "## Creating and Visualizing Pandas"
      ],
      "metadata": {
        "id": "YnSeI-0lv54B"
      }
    },
    {
      "cell_type": "code",
      "source": [
        "# test data\n",
        "cars"
      ],
      "metadata": {
        "id": "eZj282tEYrAR"
      },
      "execution_count": null,
      "outputs": []
    },
    {
      "cell_type": "code",
      "source": [
        "# bar graphs good for comparison between numerical and categorical values\n",
        "\n",
        "cars_drives_total = cars.groupby(\"drives_right\")[\"cars_per_cap\"].sum()\n",
        "cars_drives_total.plot(kind=\"bar\")\n",
        "plt.show()"
      ],
      "metadata": {
        "id": "_yS2c1eMwPS6"
      },
      "execution_count": null,
      "outputs": []
    },
    {
      "cell_type": "code",
      "source": [
        "# line graphs good for comparison between numerical values where each data connected to next one\n",
        "\n",
        "cars_random_total = cars.groupby(\"random\")[\"cars_per_cap\"].sum()\n",
        "cars_random_total.plot()\n",
        "plt.show()"
      ],
      "metadata": {
        "id": "zUBdNkvNwRvv"
      },
      "execution_count": null,
      "outputs": []
    },
    {
      "cell_type": "code",
      "source": [
        "# scatter graphs good for comparison between numerical values\n",
        "cars.plot(x=\"cars_per_cap\", y=\"random\", title=\"cars_per_cap vs. random\", kind=\"scatter\")\n",
        "plt.show()"
      ],
      "metadata": {
        "id": "afbEAPboyIQT"
      },
      "execution_count": null,
      "outputs": []
    },
    {
      "cell_type": "code",
      "source": [
        "# multiple histograms for comparison\n",
        "# alpha used for transparency\n",
        "# legend is used for information box in the graph\n",
        "\n",
        "cars[cars[\"drives_right\"] == True][\"cars_per_cap\"].hist(alpha=0.5, bins=5)\n",
        "cars[cars[\"drives_right\"] == False][\"cars_per_cap\"].hist(alpha=0.5, bins=5)\n",
        "\n",
        "plt.legend([\"Right\", \"Left\"])\n",
        "plt.show()"
      ],
      "metadata": {
        "id": "syKnyurBzIss"
      },
      "execution_count": null,
      "outputs": []
    },
    {
      "cell_type": "code",
      "source": [
        "# checks all the dataframe for na values\n",
        "netflix_df.isna()"
      ],
      "metadata": {
        "id": "2JDp1Bd80dcO"
      },
      "execution_count": null,
      "outputs": []
    },
    {
      "cell_type": "code",
      "source": [
        "# checks columns for na values and gives brief info about them\n",
        "netflix_df.isna().any()"
      ],
      "metadata": {
        "id": "4FhqEZZE12Sp"
      },
      "execution_count": null,
      "outputs": []
    },
    {
      "cell_type": "code",
      "source": [
        "# we can obtain how many na values are there in each column\n",
        "netflix_df.isna().sum()"
      ],
      "metadata": {
        "id": "fpPIz2uO2C3T"
      },
      "execution_count": null,
      "outputs": []
    },
    {
      "cell_type": "code",
      "source": [
        "# we can also visualize the na values with bar plot\n",
        "netflix_df.isna().sum().plot(kind=\"bar\")\n",
        "plt.show()"
      ],
      "metadata": {
        "id": "f3Apcys72Jc2"
      },
      "execution_count": null,
      "outputs": []
    },
    {
      "cell_type": "code",
      "source": [
        "# we have many options to handle missing values\n",
        "# one of them is removing the rows with na values in it with dropna()\n",
        "netflix_df_non_na = netflix_df.dropna()\n",
        "netflix_df_non_na.isna().any()"
      ],
      "metadata": {
        "id": "Yqdxhq6q2WBd"
      },
      "execution_count": null,
      "outputs": []
    },
    {
      "cell_type": "code",
      "source": [
        "# other way of handling missing values is to fill them with a specific value\n",
        "netflix_df_filled = netflix_df.fillna(0)\n",
        "netflix_df_filled"
      ],
      "metadata": {
        "id": "lDZJuiqm2y2j"
      },
      "execution_count": null,
      "outputs": []
    },
    {
      "cell_type": "code",
      "source": [
        "# Create a list of dictionaries with new data\n",
        "avocados_list = [\n",
        "    {\"date\": \"2019-11-03\", \"small_sold\": 10376832, \"large_sold\": 7835071},\n",
        "    {\"date\": \"2019-11-10\", \"small_sold\": 10717154, \"large_sold\": 8561348},\n",
        "]\n",
        "\n",
        "# Convert list into DataFrame\n",
        "avocados_2019 = pd.DataFrame(avocados_list)\n",
        "\n",
        "# Print the new DataFrame\n",
        "avocados_2019"
      ],
      "metadata": {
        "id": "orDNzgTK6IDj"
      },
      "execution_count": null,
      "outputs": []
    },
    {
      "cell_type": "code",
      "source": [
        "# Create a dictionary of lists with new data\n",
        "avocados_dict = {\n",
        "  \"date\": [\"2019-11-17\", \"2019-12-01\"],\n",
        "  \"small_sold\": [10859987, 9291631],\n",
        "  \"large_sold\": [7674135, 6238096]\n",
        "}\n",
        "\n",
        "# Convert dictionary into DataFrame\n",
        "avocados_2019 = pd.DataFrame(avocados_dict)\n",
        "\n",
        "# Print the new DataFrame\n",
        "avocados_2019"
      ],
      "metadata": {
        "id": "TUKMBdvD7gmW"
      },
      "execution_count": null,
      "outputs": []
    },
    {
      "cell_type": "code",
      "source": [
        "# reading a csv file and convert it to a dataframe\n",
        "\n",
        "test_data = pd.read_csv(\"/content/netflix_data.csv\")\n",
        "test_data.head()"
      ],
      "metadata": {
        "id": "LUlYgcS27zkM"
      },
      "execution_count": null,
      "outputs": []
    },
    {
      "cell_type": "code",
      "source": [
        "test_data[\"random\"] = (test_data[\"release_year\"] + test_data[\"duration\"]) * 2\n",
        "test_data.to_csv(\"/content/netflix_updated.csv\")\n",
        "test_data.head()"
      ],
      "metadata": {
        "id": "GdVuB1-e8yY4"
      },
      "execution_count": null,
      "outputs": []
    }
  ]
}