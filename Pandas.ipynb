{
 "cells": [
  {
   "cell_type": "markdown",
   "metadata": {},
   "source": [
    "# Pandas "
   ]
  },
  {
   "cell_type": "code",
   "execution_count": 20,
   "metadata": {},
   "outputs": [],
   "source": [
    "import pandas as pd"
   ]
  },
  {
   "cell_type": "markdown",
   "metadata": {},
   "source": [
    "### Series"
   ]
  },
  {
   "cell_type": "code",
   "execution_count": 21,
   "metadata": {},
   "outputs": [
    {
     "name": "stdout",
     "output_type": "stream",
     "text": [
      "a    3\n",
      "b   -5\n",
      "c    7\n",
      "d    4\n",
      "dtype: int64\n"
     ]
    }
   ],
   "source": [
    "s = pd.Series([3, -5, 7, 4], index=['a', 'b', 'c', 'd'])\n",
    "print(s)"
   ]
  },
  {
   "cell_type": "markdown",
   "metadata": {},
   "source": [
    "### Dataframe"
   ]
  },
  {
   "cell_type": "code",
   "execution_count": 27,
   "metadata": {},
   "outputs": [
    {
     "name": "stdout",
     "output_type": "stream",
     "text": [
      "   Country    Capital  Population\n",
      "0  Belgium   Brussels    11190846\n",
      "1    India  New Delhi  1303171035\n",
      "2   Brazil   Brasilia   207847528\n"
     ]
    }
   ],
   "source": [
    "data = {'Country': ['Belgium', 'India', 'Brazil'],\n",
    "        'Capital': ['Brussels', 'New Delhi', 'Brasilia'],\n",
    "        'Population': [11190846, 1303171035, 207847528]}\n",
    "df = pd.DataFrame(data,\n",
    "                  columns=['Country', 'Capital', 'Population'])\n",
    "print(df)"
   ]
  },
  {
   "cell_type": "markdown",
   "metadata": {},
   "source": [
    "### Dropping"
   ]
  },
  {
   "cell_type": "code",
   "execution_count": 31,
   "metadata": {},
   "outputs": [
    {
     "name": "stdout",
     "output_type": "stream",
     "text": [
      "b   -5\n",
      "d    4\n",
      "dtype: int64\n"
     ]
    }
   ],
   "source": [
    "print(s.drop(['a', 'c']))  # Drop values from rows (axis=0)"
   ]
  },
  {
   "cell_type": "code",
   "execution_count": 38,
   "metadata": {},
   "outputs": [
    {
     "name": "stdout",
     "output_type": "stream",
     "text": [
      "     Capital  Population\n",
      "0   Brussels    11190846\n",
      "1  New Delhi  1303171035\n",
      "2   Brasilia   207847528\n"
     ]
    }
   ],
   "source": [
    "print(df.drop('Country', axis=1))  # Drop values from column (axis=1)"
   ]
  },
  {
   "cell_type": "markdown",
   "metadata": {},
   "source": [
    "### Help "
   ]
  },
  {
   "cell_type": "code",
   "execution_count": 33,
   "metadata": {},
   "outputs": [
    {
     "name": "stdout",
     "output_type": "stream",
     "text": [
      "Help on property:\n",
      "\n",
      "    Access a group of rows and columns by label(s) or a boolean array.\n",
      "    \n",
      "    ``.loc[]`` is primarily label based, but may also be used with a\n",
      "    boolean array.\n",
      "    \n",
      "    Allowed inputs are:\n",
      "    \n",
      "    - A single label, e.g. ``5`` or ``'a'``, (note that ``5`` is\n",
      "      interpreted as a *label* of the index, and **never** as an\n",
      "      integer position along the index).\n",
      "    - A list or array of labels, e.g. ``['a', 'b', 'c']``.\n",
      "    - A slice object with labels, e.g. ``'a':'f'``.\n",
      "    \n",
      "      .. warning:: Note that contrary to usual python slices, **both** the\n",
      "          start and the stop are included\n",
      "    \n",
      "    - A boolean array of the same length as the axis being sliced,\n",
      "      e.g. ``[True, False, True]``.\n",
      "    - An alignable boolean Series. The index of the key will be aligned before\n",
      "      masking.\n",
      "    - An alignable Index. The Index of the returned selection will be the input.\n",
      "    - A ``callable`` function with one argument (the calling Series or\n",
      "      DataFrame) and that returns valid output for indexing (one of the above)\n",
      "    \n",
      "    See more at :ref:`Selection by Label <indexing.label>`.\n",
      "    \n",
      "    Raises\n",
      "    ------\n",
      "    KeyError\n",
      "        If any items are not found.\n",
      "    IndexingError\n",
      "        If an indexed key is passed and its index is unalignable to the frame index.\n",
      "    \n",
      "    See Also\n",
      "    --------\n",
      "    DataFrame.at : Access a single value for a row/column label pair.\n",
      "    DataFrame.iloc : Access group of rows and columns by integer position(s).\n",
      "    DataFrame.xs : Returns a cross-section (row(s) or column(s)) from the\n",
      "        Series/DataFrame.\n",
      "    Series.loc : Access group of values using labels.\n",
      "    \n",
      "    Examples\n",
      "    --------\n",
      "    **Getting values**\n",
      "    \n",
      "    >>> df = pd.DataFrame([[1, 2], [4, 5], [7, 8]],\n",
      "    ...      index=['cobra', 'viper', 'sidewinder'],\n",
      "    ...      columns=['max_speed', 'shield'])\n",
      "    >>> df\n",
      "                max_speed  shield\n",
      "    cobra               1       2\n",
      "    viper               4       5\n",
      "    sidewinder          7       8\n",
      "    \n",
      "    Single label. Note this returns the row as a Series.\n",
      "    \n",
      "    >>> df.loc['viper']\n",
      "    max_speed    4\n",
      "    shield       5\n",
      "    Name: viper, dtype: int64\n",
      "    \n",
      "    List of labels. Note using ``[[]]`` returns a DataFrame.\n",
      "    \n",
      "    >>> df.loc[['viper', 'sidewinder']]\n",
      "                max_speed  shield\n",
      "    viper               4       5\n",
      "    sidewinder          7       8\n",
      "    \n",
      "    Single label for row and column\n",
      "    \n",
      "    >>> df.loc['cobra', 'shield']\n",
      "    2\n",
      "    \n",
      "    Slice with labels for row and single label for column. As mentioned\n",
      "    above, note that both the start and stop of the slice are included.\n",
      "    \n",
      "    >>> df.loc['cobra':'viper', 'max_speed']\n",
      "    cobra    1\n",
      "    viper    4\n",
      "    Name: max_speed, dtype: int64\n",
      "    \n",
      "    Boolean list with the same length as the row axis\n",
      "    \n",
      "    >>> df.loc[[False, False, True]]\n",
      "                max_speed  shield\n",
      "    sidewinder          7       8\n",
      "    \n",
      "    Alignable boolean Series:\n",
      "    \n",
      "    >>> df.loc[pd.Series([False, True, False],\n",
      "    ...        index=['viper', 'sidewinder', 'cobra'])]\n",
      "                max_speed  shield\n",
      "    sidewinder          7       8\n",
      "    \n",
      "    Index (same behavior as ``df.reindex``)\n",
      "    \n",
      "    >>> df.loc[pd.Index([\"cobra\", \"viper\"], name=\"foo\")]\n",
      "           max_speed  shield\n",
      "    foo\n",
      "    cobra          1       2\n",
      "    viper          4       5\n",
      "    \n",
      "    Conditional that returns a boolean Series\n",
      "    \n",
      "    >>> df.loc[df['shield'] > 6]\n",
      "                max_speed  shield\n",
      "    sidewinder          7       8\n",
      "    \n",
      "    Conditional that returns a boolean Series with column labels specified\n",
      "    \n",
      "    >>> df.loc[df['shield'] > 6, ['max_speed']]\n",
      "                max_speed\n",
      "    sidewinder          7\n",
      "    \n",
      "    Callable that returns a boolean Series\n",
      "    \n",
      "    >>> df.loc[lambda df: df['shield'] == 8]\n",
      "                max_speed  shield\n",
      "    sidewinder          7       8\n",
      "    \n",
      "    **Setting values**\n",
      "    \n",
      "    Set value for all items matching the list of labels\n",
      "    \n",
      "    >>> df.loc[['viper', 'sidewinder'], ['shield']] = 50\n",
      "    >>> df\n",
      "                max_speed  shield\n",
      "    cobra               1       2\n",
      "    viper               4      50\n",
      "    sidewinder          7      50\n",
      "    \n",
      "    Set value for an entire row\n",
      "    \n",
      "    >>> df.loc['cobra'] = 10\n",
      "    >>> df\n",
      "                max_speed  shield\n",
      "    cobra              10      10\n",
      "    viper               4      50\n",
      "    sidewinder          7      50\n",
      "    \n",
      "    Set value for an entire column\n",
      "    \n",
      "    >>> df.loc[:, 'max_speed'] = 30\n",
      "    >>> df\n",
      "                max_speed  shield\n",
      "    cobra              30      10\n",
      "    viper              30      50\n",
      "    sidewinder         30      50\n",
      "    \n",
      "    Set value for rows matching callable condition\n",
      "    \n",
      "    >>> df.loc[df['shield'] > 35] = 0\n",
      "    >>> df\n",
      "                max_speed  shield\n",
      "    cobra              30      10\n",
      "    viper               0       0\n",
      "    sidewinder          0       0\n",
      "    \n",
      "    **Getting values on a DataFrame with an index that has integer labels**\n",
      "    \n",
      "    Another example using integers for the index\n",
      "    \n",
      "    >>> df = pd.DataFrame([[1, 2], [4, 5], [7, 8]],\n",
      "    ...      index=[7, 8, 9], columns=['max_speed', 'shield'])\n",
      "    >>> df\n",
      "       max_speed  shield\n",
      "    7          1       2\n",
      "    8          4       5\n",
      "    9          7       8\n",
      "    \n",
      "    Slice with integer labels for rows. As mentioned above, note that both\n",
      "    the start and stop of the slice are included.\n",
      "    \n",
      "    >>> df.loc[7:9]\n",
      "       max_speed  shield\n",
      "    7          1       2\n",
      "    8          4       5\n",
      "    9          7       8\n",
      "    \n",
      "    **Getting values with a MultiIndex**\n",
      "    \n",
      "    A number of examples using a DataFrame with a MultiIndex\n",
      "    \n",
      "    >>> tuples = [\n",
      "    ...    ('cobra', 'mark i'), ('cobra', 'mark ii'),\n",
      "    ...    ('sidewinder', 'mark i'), ('sidewinder', 'mark ii'),\n",
      "    ...    ('viper', 'mark ii'), ('viper', 'mark iii')\n",
      "    ... ]\n",
      "    >>> index = pd.MultiIndex.from_tuples(tuples)\n",
      "    >>> values = [[12, 2], [0, 4], [10, 20],\n",
      "    ...         [1, 4], [7, 1], [16, 36]]\n",
      "    >>> df = pd.DataFrame(values, columns=['max_speed', 'shield'], index=index)\n",
      "    >>> df\n",
      "                         max_speed  shield\n",
      "    cobra      mark i           12       2\n",
      "               mark ii           0       4\n",
      "    sidewinder mark i           10      20\n",
      "               mark ii           1       4\n",
      "    viper      mark ii           7       1\n",
      "               mark iii         16      36\n",
      "    \n",
      "    Single label. Note this returns a DataFrame with a single index.\n",
      "    \n",
      "    >>> df.loc['cobra']\n",
      "             max_speed  shield\n",
      "    mark i          12       2\n",
      "    mark ii          0       4\n",
      "    \n",
      "    Single index tuple. Note this returns a Series.\n",
      "    \n",
      "    >>> df.loc[('cobra', 'mark ii')]\n",
      "    max_speed    0\n",
      "    shield       4\n",
      "    Name: (cobra, mark ii), dtype: int64\n",
      "    \n",
      "    Single label for row and column. Similar to passing in a tuple, this\n",
      "    returns a Series.\n",
      "    \n",
      "    >>> df.loc['cobra', 'mark i']\n",
      "    max_speed    12\n",
      "    shield        2\n",
      "    Name: (cobra, mark i), dtype: int64\n",
      "    \n",
      "    Single tuple. Note using ``[[]]`` returns a DataFrame.\n",
      "    \n",
      "    >>> df.loc[[('cobra', 'mark ii')]]\n",
      "                   max_speed  shield\n",
      "    cobra mark ii          0       4\n",
      "    \n",
      "    Single tuple for the index with a single label for the column\n",
      "    \n",
      "    >>> df.loc[('cobra', 'mark i'), 'shield']\n",
      "    2\n",
      "    \n",
      "    Slice from index tuple to single label\n",
      "    \n",
      "    >>> df.loc[('cobra', 'mark i'):'viper']\n",
      "                         max_speed  shield\n",
      "    cobra      mark i           12       2\n",
      "               mark ii           0       4\n",
      "    sidewinder mark i           10      20\n",
      "               mark ii           1       4\n",
      "    viper      mark ii           7       1\n",
      "               mark iii         16      36\n",
      "    \n",
      "    Slice from index tuple to index tuple\n",
      "    \n",
      "    >>> df.loc[('cobra', 'mark i'):('viper', 'mark ii')]\n",
      "                        max_speed  shield\n",
      "    cobra      mark i          12       2\n",
      "               mark ii          0       4\n",
      "    sidewinder mark i          10      20\n",
      "               mark ii          1       4\n",
      "    viper      mark ii          7       1\n",
      "\n"
     ]
    }
   ],
   "source": [
    "help(pd.Series.loc)"
   ]
  },
  {
   "cell_type": "markdown",
   "metadata": {},
   "source": [
    "### Sort & Rank"
   ]
  },
  {
   "cell_type": "code",
   "execution_count": 34,
   "metadata": {},
   "outputs": [
    {
     "name": "stdout",
     "output_type": "stream",
     "text": [
      "   Country    Capital  Population\n",
      "0  Belgium   Brussels    11190846\n",
      "1    India  New Delhi  1303171035\n",
      "2   Brazil   Brasilia   207847528\n"
     ]
    }
   ],
   "source": [
    "print(df.sort_index())  # sort by labels along an axis"
   ]
  },
  {
   "cell_type": "code",
   "execution_count": 35,
   "metadata": {},
   "outputs": [
    {
     "name": "stdout",
     "output_type": "stream",
     "text": [
      "   Country    Capital  Population\n",
      "0  Belgium   Brussels    11190846\n",
      "2   Brazil   Brasilia   207847528\n",
      "1    India  New Delhi  1303171035\n"
     ]
    }
   ],
   "source": [
    "print(df.sort_values(by='Country'))  # sort by the values along on axis"
   ]
  },
  {
   "cell_type": "code",
   "execution_count": 36,
   "metadata": {},
   "outputs": [
    {
     "name": "stdout",
     "output_type": "stream",
     "text": [
      "   Country  Capital  Population\n",
      "0      1.0      2.0         1.0\n",
      "1      3.0      3.0         3.0\n",
      "2      2.0      1.0         2.0\n"
     ]
    }
   ],
   "source": [
    "print(df.rank())  # assign ranks to entries"
   ]
  },
  {
   "cell_type": "markdown",
   "metadata": {},
   "source": [
    "### Getting"
   ]
  },
  {
   "cell_type": "code",
   "execution_count": 41,
   "metadata": {},
   "outputs": [
    {
     "name": "stdout",
     "output_type": "stream",
     "text": [
      "-5\n",
      "  Country    Capital  Population\n",
      "1   India  New Delhi  1303171035\n",
      "2  Brazil   Brasilia   207847528\n"
     ]
    }
   ],
   "source": [
    "print(s['b'])  # get one element \n",
    "print(df[1:])  # get subset of a Dataframe"
   ]
  },
  {
   "cell_type": "markdown",
   "metadata": {},
   "source": [
    "### Selecting, Boolean Indexing & Setting"
   ]
  },
  {
   "cell_type": "code",
   "execution_count": 48,
   "metadata": {},
   "outputs": [
    {
     "name": "stdout",
     "output_type": "stream",
     "text": [
      "Belgium\n",
      "Belgium\n"
     ]
    }
   ],
   "source": [
    "# by position\n",
    "print(df.iloc[0, 0])  # select single value by row & column\n",
    "print(df.iat[0, 0])  "
   ]
  },
  {
   "cell_type": "code",
   "execution_count": 50,
   "metadata": {},
   "outputs": [
    {
     "name": "stdout",
     "output_type": "stream",
     "text": [
      "Belgium\n",
      "Belgium\n"
     ]
    }
   ],
   "source": [
    "# by label\n",
    "print(df.loc[0, 'Country']) # select single value by row & column labels\n",
    "print(df.at[0, 'Country'])"
   ]
  },
  {
   "cell_type": "code",
   "execution_count": 57,
   "metadata": {},
   "outputs": [
    {
     "name": "stdout",
     "output_type": "stream",
     "text": [
      "b   -5\n",
      "dtype: int64\n",
      "a    3\n",
      "b   -5\n",
      "c    7\n",
      "d    4\n",
      "dtype: int64\n",
      "  Country    Capital  Population\n",
      "1   India  New Delhi  1303171035\n"
     ]
    }
   ],
   "source": [
    "# boolean indexing\n",
    "print(s[~(s > 1)])  # series s where value is not > 1\n",
    "print(s[(s < -1) | (s > 2)])  # s where value is < -1 or > 2\n",
    "print(df[df['Population'] > 1200000000])  # use filter to adjust Dataframe"
   ]
  },
  {
   "cell_type": "code",
   "execution_count": 58,
   "metadata": {},
   "outputs": [
    {
     "name": "stdout",
     "output_type": "stream",
     "text": [
      "a    6\n",
      "b   -5\n",
      "c    7\n",
      "d    4\n",
      "dtype: int64\n"
     ]
    }
   ],
   "source": [
    "# setting\n",
    "s['a'] = 6  # set index a of series s to 6\n",
    "print(s)"
   ]
  },
  {
   "cell_type": "markdown",
   "metadata": {},
   "source": [
    "### Retrieving Series/DataFrame Information"
   ]
  },
  {
   "cell_type": "code",
   "execution_count": 65,
   "metadata": {},
   "outputs": [
    {
     "name": "stdout",
     "output_type": "stream",
     "text": [
      "(3, 3)\n",
      "RangeIndex(start=0, stop=3, step=1)\n",
      "Index(['Country', 'Capital', 'Population'], dtype='object') \n",
      "\n",
      "<class 'pandas.core.frame.DataFrame'>\n",
      "RangeIndex: 3 entries, 0 to 2\n",
      "Data columns (total 3 columns):\n",
      " #   Column      Non-Null Count  Dtype \n",
      "---  ------      --------------  ----- \n",
      " 0   Country     3 non-null      object\n",
      " 1   Capital     3 non-null      object\n",
      " 2   Population  3 non-null      int64 \n",
      "dtypes: int64(1), object(2)\n",
      "memory usage: 200.0+ bytes\n",
      "None \n",
      "\n",
      "Country       3\n",
      "Capital       3\n",
      "Population    3\n",
      "dtype: int64\n"
     ]
    }
   ],
   "source": [
    "# basic information\n",
    "print(df.shape)  # (rows, colums)\n",
    "print(df.index)  # describe index\n",
    "print(df.columns, \"\\n\")  # describe DataFrame columns\n",
    "print(df.info(), \"\\n\")  # info on DataFrame\n",
    "print(df.count())  # number of non-NA values"
   ]
  },
  {
   "cell_type": "code",
   "execution_count": 71,
   "metadata": {},
   "outputs": [
    {
     "name": "stdout",
     "output_type": "stream",
     "text": [
      "Country              BelgiumIndiaBrazil\n",
      "Capital       BrusselsNew DelhiBrasilia\n",
      "Population                   1522209409\n",
      "dtype: object \n",
      "\n",
      "              Country                    Capital  Population\n",
      "0             Belgium                   Brussels    11190846\n",
      "1        BelgiumIndia          BrusselsNew Delhi  1314361881\n",
      "2  BelgiumIndiaBrazil  BrusselsNew DelhiBrasilia  1522209409 \n",
      "\n",
      "Country        Belgium\n",
      "Capital       Brasilia\n",
      "Population    11190846\n",
      "dtype: object \n",
      "\n",
      "Country            India\n",
      "Capital        New Delhi\n",
      "Population    1303171035\n",
      "dtype: object \n",
      "\n"
     ]
    }
   ],
   "source": [
    "# summary\n",
    "print(df.sum(), \"\\n\")  # sum of values\n",
    "print(df.cumsum(), \"\\n\")  # cummulative sum of values\n",
    "print(df.min(), \"\\n\")  # minimum values\n",
    "print(df.max(), \"\\n\")  # maximum values"
   ]
  },
  {
   "cell_type": "code",
   "execution_count": 73,
   "metadata": {},
   "outputs": [
    {
     "name": "stdout",
     "output_type": "stream",
     "text": [
      "         Population\n",
      "count  3.000000e+00\n",
      "mean   5.074031e+08\n",
      "std    6.961346e+08\n",
      "min    1.119085e+07\n",
      "25%    1.095192e+08\n",
      "50%    2.078475e+08\n",
      "75%    7.555093e+08\n",
      "max    1.303171e+09 \n",
      "\n",
      "Population    5.074031e+08\n",
      "dtype: float64 \n",
      "\n",
      "Population    207847528.0\n",
      "dtype: float64 \n",
      "\n"
     ]
    }
   ],
   "source": [
    "# summary\n",
    "print(df.describe(), \"\\n\")  # summary statistics\n",
    "print(df.mean(), \"\\n\")  # mean of values\n",
    "print(df.median(), \"\\n\")  # median of values"
   ]
  },
  {
   "cell_type": "markdown",
   "metadata": {},
   "source": [
    "### Applying Functions"
   ]
  },
  {
   "cell_type": "code",
   "execution_count": 75,
   "metadata": {},
   "outputs": [
    {
     "name": "stdout",
     "output_type": "stream",
     "text": [
      "          Country             Capital  Population\n",
      "0  BelgiumBelgium    BrusselsBrussels    22381692\n",
      "1      IndiaIndia  New DelhiNew Delhi  2606342070\n",
      "2    BrazilBrazil    BrasiliaBrasilia   415695056 \n",
      "\n",
      "          Country             Capital  Population\n",
      "0  BelgiumBelgium    BrusselsBrussels    22381692\n",
      "1      IndiaIndia  New DelhiNew Delhi  2606342070\n",
      "2    BrazilBrazil    BrasiliaBrasilia   415695056\n"
     ]
    }
   ],
   "source": [
    "f = lambda x: x * 2\n",
    "print(df.apply(f), \"\\n\")  # apply function\n",
    "print(df.applymap(f))  # apply function element-wise"
   ]
  },
  {
   "cell_type": "markdown",
   "metadata": {},
   "source": [
    "### Data Alignment"
   ]
  },
  {
   "cell_type": "code",
   "execution_count": 77,
   "metadata": {},
   "outputs": [
    {
     "name": "stdout",
     "output_type": "stream",
     "text": [
      "a    6\n",
      "b   -5\n",
      "c    7\n",
      "d    4\n",
      "dtype: int64 \n",
      "\n",
      "a    7\n",
      "c   -2\n",
      "d    3\n",
      "dtype: int64 \n",
      "\n",
      "a    13.0\n",
      "b     NaN\n",
      "c     5.0\n",
      "d     7.0\n",
      "dtype: float64\n"
     ]
    }
   ],
   "source": [
    "# NA values are introduced in the indices that don't overlap:\n",
    "s3 = pd.Series([7, -2, 3], index=['a', 'c', 'd'])\n",
    "print(s, \"\\n\")  # 4 columns\n",
    "print(s3, \"\\n\")  # 3 columns\n",
    "print(s + s3)"
   ]
  },
  {
   "cell_type": "code",
   "execution_count": 79,
   "metadata": {},
   "outputs": [
    {
     "name": "stdout",
     "output_type": "stream",
     "text": [
      "a    13.0\n",
      "b    -5.0\n",
      "c     5.0\n",
      "d     7.0\n",
      "dtype: float64\n"
     ]
    }
   ],
   "source": [
    "# internal data alignment with fill methods:\n",
    "print(s.add(s3, fill_value=0))  # fill NA values with 0"
   ]
  },
  {
   "cell_type": "code",
   "execution_count": 80,
   "metadata": {},
   "outputs": [
    {
     "name": "stdout",
     "output_type": "stream",
     "text": [
      "a   -1.0\n",
      "b   -7.0\n",
      "c    9.0\n",
      "d    1.0\n",
      "dtype: float64\n"
     ]
    }
   ],
   "source": [
    "print(s.sub(s3, fill_value=2))  # fill NA values with 2"
   ]
  },
  {
   "cell_type": "code",
   "execution_count": 81,
   "metadata": {},
   "outputs": [
    {
     "name": "stdout",
     "output_type": "stream",
     "text": [
      "a    0.857143\n",
      "b   -1.250000\n",
      "c   -3.500000\n",
      "d    1.333333\n",
      "dtype: float64\n"
     ]
    }
   ],
   "source": [
    "print(s.div(s3, fill_value=4))  # fill NA values with 4"
   ]
  },
  {
   "cell_type": "code",
   "execution_count": 82,
   "metadata": {},
   "outputs": [
    {
     "name": "stdout",
     "output_type": "stream",
     "text": [
      "a    42.0\n",
      "b   -15.0\n",
      "c   -14.0\n",
      "d    12.0\n",
      "dtype: float64\n"
     ]
    }
   ],
   "source": [
    "print(s.mul(s3, fill_value=3)) # fill NA values with 3"
   ]
  }
 ],
 "metadata": {
  "interpreter": {
   "hash": "ce2992c9525dd35592564a9e7bb9781d8ccdc378c35974f6e19d424c1f2c0def"
  },
  "kernelspec": {
   "display_name": "Python 3.9.5 64-bit ('tensorflow': conda)",
   "language": "python",
   "name": "python3"
  },
  "language_info": {
   "codemirror_mode": {
    "name": "ipython",
    "version": 3
   },
   "file_extension": ".py",
   "mimetype": "text/x-python",
   "name": "python",
   "nbconvert_exporter": "python",
   "pygments_lexer": "ipython3",
   "version": "3.9.5"
  },
  "orig_nbformat": 4
 },
 "nbformat": 4,
 "nbformat_minor": 2
}
